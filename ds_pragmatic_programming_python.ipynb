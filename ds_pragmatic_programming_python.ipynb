{
 "cells": [
  {
   "cell_type": "markdown",
   "metadata": {
    "ExecuteTime": {
     "end_time": "2018-09-11T18:09:18.303884Z",
     "start_time": "2018-09-11T18:09:18.300979Z"
    }
   },
   "source": [
    "# Data Science Pragmatic programming in Python\n",
    "\n",
    "\n",
    "refs:\n",
    "* https://pandas.pydata.org/Pandas_Cheat_Sheet.pdf\n",
    "* https://tomaugspurger.github.io/modern-5-tidy.html\n",
    "\n",
    "Code snippets for quick consult (copy n paste)"
   ]
  },
  {
   "cell_type": "code",
   "execution_count": 1,
   "metadata": {
    "ExecuteTime": {
     "end_time": "2019-10-21T00:42:52.066285Z",
     "start_time": "2019-10-21T00:42:49.806327Z"
    }
   },
   "outputs": [],
   "source": [
    "import os\n",
    "import numpy as np\n",
    "import pandas as pd\n",
    "\n",
    "from scipy import stats\n",
    "\n",
    "import matplotlib\n",
    "import matplotlib.pyplot as plt\n",
    "%matplotlib inline \n",
    "\n",
    "import IPython\n",
    "from IPython.core.interactiveshell import InteractiveShell\n",
    "InteractiveShell.ast_node_interactivity = \"all\"\n"
   ]
  },
  {
   "cell_type": "code",
   "execution_count": 11,
   "metadata": {
    "ExecuteTime": {
     "end_time": "2019-09-26T23:05:49.950384Z",
     "start_time": "2019-09-26T23:05:49.831303Z"
    }
   },
   "outputs": [
    {
     "name": "stdout",
     "output_type": "stream",
     "text": [
      "/home/leandroohf/leandro/ds_pragmatic_programming\r\n"
     ]
    }
   ],
   "source": [
    "!pwd"
   ]
  },
  {
   "cell_type": "markdown",
   "metadata": {
    "heading_collapsed": true
   },
   "source": [
    "## Bash"
   ]
  },
  {
   "cell_type": "markdown",
   "metadata": {
    "heading_collapsed": true,
    "hidden": true
   },
   "source": [
    "### Random sample"
   ]
  },
  {
   "cell_type": "code",
   "execution_count": null,
   "metadata": {
    "ExecuteTime": {
     "end_time": "2019-04-01T21:25:13.342795Z",
     "start_time": "2019-04-01T21:25:13.320892Z"
    },
    "hidden": true
   },
   "outputs": [],
   "source": [
    "%%bash \n",
    "# take random sample of lines in file (log analysys was useful)\n",
    "\n",
    "shuf data/FremontBridge.csv | head -n 3 \n",
    "\n",
    "# option\n",
    "shuf -n 3 data/FremontBridge.csv  "
   ]
  },
  {
   "cell_type": "markdown",
   "metadata": {
    "heading_collapsed": true,
    "hidden": true
   },
   "source": [
    "### Filter with grep"
   ]
  },
  {
   "cell_type": "code",
   "execution_count": 4,
   "metadata": {
    "ExecuteTime": {
     "end_time": "2019-04-01T21:27:20.017282Z",
     "start_time": "2019-04-01T21:27:20.000616Z"
    },
    "hidden": true
   },
   "outputs": [
    {
     "name": "stdout",
     "output_type": "stream",
     "text": [
      "Date,Fremont Bridge East Sidewalk,Fremont Bridge West Sidewalk\n",
      "02/28/2019 11:00:00 PM,5,6\n",
      "02/28/2019 10:00:00 PM,4,27\n",
      "02/28/2019 09:00:00 PM,16,32\n",
      "02/28/2019 08:00:00 PM,16,50\n",
      "\n",
      "12/31/2013 11:00:00 PM,17,5\n",
      "12/31/2013 10:00:00 PM,10,4\n",
      "12/31/2013 09:00:00 PM,5,6\n",
      "12/31/2013 08:00:00 PM,13,23\n",
      "12/31/2013 07:00:00 PM,21,17\n",
      "\n",
      "12/31/2018 11:00:00 PM,7,6\n",
      "12/31/2018 10:00:00 PM,3,4\n",
      "12/31/2018 09:00:00 PM,7,7\n",
      "12/31/2018 08:00:00 PM,12,14\n",
      "12/31/2018 07:00:00 PM,9,5\n"
     ]
    }
   ],
   "source": [
    "%%bash \n",
    "\n",
    "# Use grep to filter out pattern\n",
    "cat data/FremontBridge.csv | grep -v 2013 | head -n 5\n",
    "\n",
    "echo\n",
    "# keep only 2013 and ignore case sensitive\n",
    "cat data/FremontBridge.csv | grep -i 2013 | head -n 5\n",
    "\n",
    "# Using regular expression (start with 12)\n",
    "echo\n",
    "cat data/FremontBridge.csv | grep -E \"^12\" | head -n 5"
   ]
  },
  {
   "cell_type": "markdown",
   "metadata": {
    "heading_collapsed": true,
    "hidden": true
   },
   "source": [
    "### run process in parallel\n",
    "\n",
    "Use pararlels to speedup bash\n"
   ]
  },
  {
   "cell_type": "code",
   "execution_count": null,
   "metadata": {
    "ExecuteTime": {
     "end_time": "2019-05-15T19:27:20.071236Z",
     "start_time": "2019-05-15T19:27:19.743042Z"
    },
    "hidden": true
   },
   "outputs": [],
   "source": [
    "# Creating scripts\n",
    "\n",
    "bash_str = \"\"\"\\\n",
    "ffmpeg -y -i data/audio0_hH79HnEdo.wav data/audio0_hH79HnEdo.flac\n",
    "ffmpeg -y -i data/audio0KCVgexi4yU.wav data/audio0KCVgexi4yU.flac\n",
    "ffmpeg -y -i data/audio0Q1JLNfm8oU.wav data/audio0Q1JLNfm8oU.flac\n",
    "ffmpeg -y -i data/audio0vm7UpkSOnk.wav data/audio0vm7UpkSOnk.flac\n",
    "ffmpeg -y -i data/audio2M9GSksX_ho.wav data/audio2M9GSksX_ho.flac\n",
    "\"\"\"\n",
    "\n",
    "!echo \"{bash_str}\"   > convert.sh \n",
    "!chmod u+x convert.sh\n",
    "\n",
    "!cat convert.sh"
   ]
  },
  {
   "cell_type": "code",
   "execution_count": null,
   "metadata": {
    "ExecuteTime": {
     "end_time": "2019-05-15T19:29:38.571698Z",
     "start_time": "2019-05-15T19:29:38.031925Z"
    },
    "hidden": true
   },
   "outputs": [],
   "source": [
    "# serial\n",
    "!time ./convert.sh"
   ]
  },
  {
   "cell_type": "code",
   "execution_count": null,
   "metadata": {
    "ExecuteTime": {
     "end_time": "2019-05-15T19:29:44.882312Z",
     "start_time": "2019-05-15T19:29:44.526899Z"
    },
    "hidden": true
   },
   "outputs": [],
   "source": [
    "# parallel will run every line as a separate command in parallel\n",
    "!/usr/bin//parallel -a ./convert.sh"
   ]
  },
  {
   "cell_type": "code",
   "execution_count": null,
   "metadata": {
    "ExecuteTime": {
     "end_time": "2019-05-15T19:31:53.445648Z",
     "start_time": "2019-05-15T19:31:53.118739Z"
    },
    "hidden": true
   },
   "outputs": [],
   "source": [
    "# piping version\n",
    "!ls data/*.wav | parallel ffmpeg -i {} {.}.flac"
   ]
  },
  {
   "cell_type": "markdown",
   "metadata": {
    "ExecuteTime": {
     "end_time": "2019-03-07T20:56:53.499721Z",
     "start_time": "2019-03-07T20:56:53.490921Z"
    }
   },
   "source": [
    "## Notebooks tricks \n"
   ]
  },
  {
   "cell_type": "markdown",
   "metadata": {},
   "source": [
    "### List of useful magick commands"
   ]
  },
  {
   "cell_type": "markdown",
   "metadata": {},
   "source": [
    "```python\n",
    "\n",
    "# laod/write code from file to cell/cell code to file \n",
    "%load exmply.py\n",
    "%%writefile example.py\n",
    "\n",
    "# run files or notebook\n",
    "%run hello.py\n",
    "\n",
    "%%time\n",
    "```"
   ]
  },
  {
   "cell_type": "markdown",
   "metadata": {
    "heading_collapsed": true
   },
   "source": [
    "### List of useful extensions\n",
    "\n",
    "\n",
    "For installation: https://jupyter-contrib-nbextensions.readthedocs.io/en/latest/install.html\n",
    "```sh\n",
    "# install py package\n",
    "pip install jupyter_contrib_nbextensions\n",
    "\n",
    "# install javascripts and css\n",
    "jupyter contrib nbextension install --user\n",
    "\n",
    "# enabling and disabling extension  (You can do in the UI)\n",
    "jupyter nbextension enable codefolding/main\n",
    "\n",
    "```\n",
    "\n",
    "nbextensions:\n",
    "1. Table of contents\n",
    "1. Autopep8\n",
    "1. code prettify\n",
    "1. highlither (ds meetings progress report)\n",
    "1. Collapsable Headings\n",
    "1. Variable inspector\n",
    "1. Toggle al line numbers\n",
    "1. Rise for small presentations\n",
    "1. jupyter_resource_usage\n",
    "\n",
    "    ```sh\n",
    "    pip install jupyter-resource-usage\n",
    "    ```\n",
    "\n",
    "1. watermark (print sys info, python versions n installed packages versions)\n",
    "\n",
    "    ```sh\n",
    "    pip install watermark\n",
    "    ```\n"
   ]
  },
  {
   "cell_type": "markdown",
   "metadata": {},
   "source": [
    "### For orgmode tables"
   ]
  },
  {
   "cell_type": "code",
   "execution_count": 8,
   "metadata": {},
   "outputs": [
    {
     "name": "stdout",
     "output_type": "stream",
     "text": [
      "pip 21.3.1 from /home/leandroohf/.local/lib/python3.6/site-packages/pip (python 3.6)\n",
      "Defaulting to user installation because normal site-packages is not writeable\n",
      "Requirement already satisfied: tabulate in /home/leandroohf/.local/lib/python3.6/site-packages (0.8.9)\n",
      "Python 3.6.15\n"
     ]
    },
    {
     "data": {
      "text/plain": [
       "'3.7.12 (default, Jan 15 2022, 18:42:10) \\n[GCC 9.3.0]'"
      ]
     },
     "execution_count": 8,
     "metadata": {},
     "output_type": "execute_result"
    }
   ],
   "source": [
    "!pip --version\n",
    "!pip install tabulate\n",
    "\n",
    "!python --version\n",
    "\n",
    "import sys\n",
    "\n",
    "sys.version"
   ]
  },
  {
   "cell_type": "code",
   "execution_count": 5,
   "metadata": {},
   "outputs": [
    {
     "name": "stdout",
     "output_type": "stream",
     "text": [
      "  Planet    R (km)    mass (x 10^29 kg)\n",
      "--------  --------  -------------------\n",
      "       0         1                4.123\n",
      "       1         2                5.345\n",
      "       2         3                6.333\n",
      "\n",
      "orgmode format\n",
      "|    |   a |     b |\n",
      "|----+-----+-------|\n",
      "|  0 |   1 | 4.123 |\n",
      "|  1 |   2 | 5.345 |\n",
      "|  2 |   3 | 6.333 |\n",
      "\n",
      "Markdown Github: controling index and format\n",
      "|    a |    b |\n",
      "|------|------|\n",
      "| 1.00 | 4.12 |\n",
      "| 2.00 | 5.34 |\n",
      "| 3.00 | 6.33 |\n"
     ]
    }
   ],
   "source": [
    "from tabulate import tabulate\n",
    "import pandas as pd\n",
    "\n",
    "table = pd.DataFrame({\n",
    "           \"a\": [1,2,3],\n",
    "           \"b\": [4.123,5.345,6.333]\n",
    "       })\n",
    "\n",
    "print(tabulate(table, headers=[\"Planet\",\"R (km)\", \"mass (x 10^29 kg)\"]))\n",
    "print()\n",
    "\n",
    "print(\"orgmode format\")\n",
    "\n",
    "print(tabulate(table, headers=table.columns, tablefmt=\"orgtbl\"))\n",
    "\n",
    "print()\n",
    "print(\"Markdown Github: controling index and format\")\n",
    "print(tabulate(table, headers=table.columns, floatfmt=\".2f\", showindex=False, tablefmt=\"github\"))"
   ]
  },
  {
   "cell_type": "markdown",
   "metadata": {},
   "source": [
    "* **HTML**\n",
    "\n",
    "<table>\n",
    "<thead>\n",
    "<tr><th style=\"text-align: right;\">  Planet</th><th style=\"text-align: right;\">  R (km)</th><th style=\"text-align: right;\">  mass (x 10^29 kg)</th></tr>\n",
    "</thead>\n",
    "<tbody>\n",
    "<tr><td style=\"text-align: right;\">       0</td><td style=\"text-align: right;\">       1</td><td style=\"text-align: right;\">                  4</td></tr>\n",
    "<tr><td style=\"text-align: right;\">       1</td><td style=\"text-align: right;\">       2</td><td style=\"text-align: right;\">                  5</td></tr>\n",
    "<tr><td style=\"text-align: right;\">       2</td><td style=\"text-align: right;\">       3</td><td style=\"text-align: right;\">                  6</td></tr>\n",
    "</tbody>\n",
    "</table>\n",
    " \n",
    " \n",
    "* Jupyter notebook and Github markdown\n",
    "\n",
    "|    |   a |   b |\n",
    "|----|-----|-----|\n",
    "|  0 |   1 |   4 |\n",
    "|  1 |   2 |   5 |\n",
    "|  2 |   3 |   6 |\n",
    "\n",
    "* Orgmode \n",
    "\n",
    "```text\n",
    "orgmode format\n",
    "|    |   a |   b |\n",
    "|----+-----+-----|\n",
    "|  0 |   1 |   4 |\n",
    "|  1 |   2 |   5 |\n",
    "|  2 |   3 |   6 |\n",
    "```"
   ]
  },
  {
   "cell_type": "markdown",
   "metadata": {
    "heading_collapsed": true
   },
   "source": [
    "### How to install kernels "
   ]
  },
  {
   "cell_type": "markdown",
   "metadata": {
    "hidden": true
   },
   "source": [
    "* *Install conda enviroment in jupyter notebook*\n",
    "\n",
    "\n",
    "```sh\n",
    "# activate the env\n",
    "source activate myenv\n",
    "\n",
    "# install ipiykernel in the environment\n",
    "conda install ipykernel\n",
    "\n",
    "# with pip (pip is lees problematic than conda)\n",
    "pip install --user ipykernel\n",
    "\n",
    "# jupyter will auto-detect all environments\n",
    "# In case it fails you can un\n",
    "python -m ipykernel install --user --name myenv\n",
    "\n",
    "```"
   ]
  },
  {
   "cell_type": "markdown",
   "metadata": {
    "hidden": true
   },
   "source": [
    "* Set jupyter notebook to save a copy as Rmd\n",
    "\n",
    "refs: https://towardsdatascience.com/version-control-with-jupyter-notebooks-f096f4d7035a\n",
    "\n",
    "Why?  \n",
    "\n",
    "* R-Markdown is the same as markdown format with added advantage that you can make publishing worthy pdf/word-doc \n",
    "* git diff renders well is human readable (Cons duplicated the numner of files)\n"
   ]
  },
  {
   "cell_type": "markdown",
   "metadata": {
    "hidden": true
   },
   "source": [
    "\n",
    "Install pytext (requirment to save as Rmd)\n",
    "```sh\n",
    "pip install jupytext --upgrade\n",
    "```\n",
    "\n",
    "Edit jupyter conf file: jupyter/jupyter_notebook_config.py\n",
    "\n",
    "```txt\n",
    "c.NotebookApp.contents_manager_class=\"jupytext.TextFileContentsManager\"\n",
    "c.ContentsManager.default_jupytext_formats = \".ipynb,.Rmd\"\n",
    "```\n",
    "\n",
    "\n",
    "Add this magic command in the first cell\n",
    "\n",
    "\n",
    "```python\n",
    "%autosave 0\n",
    "```\n"
   ]
  },
  {
   "cell_type": "markdown",
   "metadata": {
    "hidden": true
   },
   "source": [
    "* *Install kernel enviroment in jupyter notebook *"
   ]
  },
  {
   "cell_type": "markdown",
   "metadata": {
    "heading_collapsed": true
   },
   "source": [
    "### Run notebook in remote jupyter server"
   ]
  },
  {
   "cell_type": "markdown",
   "metadata": {
    "ExecuteTime": {
     "end_time": "2019-04-05T18:58:25.531398Z",
     "start_time": "2019-04-05T18:58:25.523618Z"
    },
    "hidden": true
   },
   "source": [
    "\n",
    "```sh\n",
    "# run in thew remote machine\n",
    "jupyter notebook --no-browser --port 8889\n",
    "\n",
    "# run local machine\n",
    "ssh -N -f -L localhost:8888:localhost:8889 datalab@172.21.1.4\n",
    "\n",
    "# Copy token from the remote machine shell\n",
    "# access jupyter notebook\n",
    "http://localhost:8888/?token=054a85cc962d8c7ee5ba99517bfc5303020c7e2736f4b268\n",
    "\n",
    "```"
   ]
  },
  {
   "cell_type": "markdown",
   "metadata": {
    "ExecuteTime": {
     "end_time": "2019-03-07T20:57:43.950467Z",
     "start_time": "2019-03-07T20:57:43.942384Z"
    },
    "heading_collapsed": true
   },
   "source": [
    "### Share variables between python and bash cell\n",
    "\n",
    "This can help with interacting with shell\n"
   ]
  },
  {
   "cell_type": "code",
   "execution_count": null,
   "metadata": {
    "ExecuteTime": {
     "end_time": "2019-09-26T23:05:53.495314Z",
     "start_time": "2019-09-26T23:05:53.382429Z"
    },
    "hidden": true
   },
   "outputs": [],
   "source": [
    "python_var = 'test1'\n",
    "var_test2 = 10.3\n",
    "\n",
    "# Option 1\n",
    "data =  './mydata'\n",
    "\n",
    "!mkdir -p {data}"
   ]
  },
  {
   "cell_type": "code",
   "execution_count": null,
   "metadata": {
    "ExecuteTime": {
     "end_time": "2019-09-26T23:05:54.197567Z",
     "start_time": "2019-09-26T23:05:54.183281Z"
    },
    "hidden": true
   },
   "outputs": [],
   "source": [
    "%%bash -s \"$python_var\" \"$var_test2\" \"position_3\"\n",
    "\n",
    "echo $1\n",
    "echo $2\n",
    "echo $3\n",
    "echo $data ## will not work"
   ]
  },
  {
   "cell_type": "markdown",
   "metadata": {
    "hidden": true
   },
   "source": [
    "* define enviroment variable shared between bash cells"
   ]
  },
  {
   "cell_type": "code",
   "execution_count": 3,
   "metadata": {
    "ExecuteTime": {
     "end_time": "2019-03-07T21:00:39.525129Z",
     "start_time": "2019-03-07T21:00:39.520079Z"
    },
    "hidden": true
   },
   "outputs": [
    {
     "name": "stdout",
     "output_type": "stream",
     "text": [
      "env: MY_VAR=env_test_var\n",
      "env: v1=$python_var\n"
     ]
    }
   ],
   "source": [
    "%env MY_VAR=env_test_var\n",
    "%env  v1=$python_var"
   ]
  },
  {
   "cell_type": "code",
   "execution_count": 4,
   "metadata": {
    "ExecuteTime": {
     "end_time": "2019-03-07T21:00:40.608121Z",
     "start_time": "2019-03-07T21:00:40.600269Z"
    },
    "hidden": true
   },
   "outputs": [
    {
     "name": "stdout",
     "output_type": "stream",
     "text": [
      "env_test_var\n",
      "$python_var\n"
     ]
    }
   ],
   "source": [
    "%%bash \n",
    "\n",
    "echo $MY_VAR\n",
    "echo $v1"
   ]
  },
  {
   "cell_type": "markdown",
   "metadata": {
    "heading_collapsed": true
   },
   "source": [
    "### Share variables between notebooks"
   ]
  },
  {
   "cell_type": "code",
   "execution_count": null,
   "metadata": {
    "ExecuteTime": {
     "end_time": "2019-10-21T00:32:18.300352Z",
     "start_time": "2019-10-21T00:32:18.293721Z"
    },
    "hidden": true
   },
   "outputs": [],
   "source": [
    "# Notebook 1 (Should be ran first)\n",
    "# Define the var\n",
    "share = 'This is shared variable'\n",
    "\n",
    "\n",
    "# Make the varaible Global between notebooks\n",
    "%store share \n",
    "\n",
    "# Notebook 2 \n",
    "# Read global variable\n",
    "%store -r share"
   ]
  },
  {
   "cell_type": "markdown",
   "metadata": {
    "heading_collapsed": true
   },
   "source": [
    "### Refactor and inspect files inside notebook\n",
    "\n",
    "This magick commands should be useful for refactor and inspecting code inside notebook"
   ]
  },
  {
   "cell_type": "code",
   "execution_count": 6,
   "metadata": {
    "hidden": true
   },
   "outputs": [
    {
     "name": "stdout",
     "output_type": "stream",
     "text": [
      "Writing example.py\n"
     ]
    }
   ],
   "source": [
    "%%writefile example.py\n",
    "\n",
    "import pandas as pd\n",
    "\n",
    "print(\"hello word from py\")"
   ]
  },
  {
   "cell_type": "code",
   "execution_count": 7,
   "metadata": {
    "hidden": true
   },
   "outputs": [
    {
     "name": "stdout",
     "output_type": "stream",
     "text": [
      "\r\n",
      "import pandas as pd\r\n",
      "\r\n",
      "print(\"hello word from py\")\r\n"
     ]
    }
   ],
   "source": [
    "!cat example.py"
   ]
  },
  {
   "cell_type": "markdown",
   "metadata": {
    "hidden": true
   },
   "source": [
    "For run load you need:\n",
    "\n",
    "1. put in the first line of the cell: ```%load example.py```\n",
    "1. Enter "
   ]
  },
  {
   "cell_type": "code",
   "execution_count": null,
   "metadata": {
    "hidden": true
   },
   "outputs": [],
   "source": [
    "# %load example.py\n",
    "\n",
    "import pandas as pd\n",
    "\n",
    "print(\"hello word from py\")\n"
   ]
  },
  {
   "cell_type": "markdown",
   "metadata": {
    "heading_collapsed": true
   },
   "source": [
    "### **Run R code in cell**"
   ]
  },
  {
   "cell_type": "code",
   "execution_count": null,
   "metadata": {
    "ExecuteTime": {
     "end_time": "2019-05-07T21:14:23.345159Z",
     "start_time": "2019-05-07T21:14:22.886530Z"
    },
    "hidden": true
   },
   "outputs": [],
   "source": [
    "# enables the %%R magic, not necessary if you've already done this\n",
    "%load_ext rpy2.ipython\n",
    "\n",
    "import pandas as pd\n",
    "df = pd.DataFrame({\n",
    "    'cups_of_coffee': [0, 1, 2, 3, 4, 5, 6, 7, 8, 9],\n",
    "    'productivity': [2, 5, 6, 8, 9, 8, 0, 1, 0, -1]\n",
    "})"
   ]
  },
  {
   "cell_type": "code",
   "execution_count": null,
   "metadata": {
    "ExecuteTime": {
     "end_time": "2019-05-07T21:14:25.873300Z",
     "start_time": "2019-05-07T21:14:23.541877Z"
    },
    "hidden": true
   },
   "outputs": [],
   "source": [
    "%%R -i df -w 3 -h 2 --units in -r 200\n",
    "# import df from global environment\n",
    "# make default figure size 3 by 3 inches with 200 dpi resolution\n",
    "\n",
    "install.packages(\"ggplot2\", repos='http://cran.us.r-project.org', quiet=TRUE)\n",
    "library(ggplot2)\n",
    "ggplot(df, aes(x=cups_of_coffee, y=productivity)) + geom_line()"
   ]
  },
  {
   "cell_type": "markdown",
   "metadata": {},
   "source": [
    "### Using debugers"
   ]
  },
  {
   "cell_type": "markdown",
   "metadata": {},
   "source": [
    "You can use the python debugger pdb to step through code.\n",
    "\n",
    "* add pdb.set_trace() to set a breakpoint\n",
    "* %debug magic to trace an error. Pop up debug in the point of the error in last cell ran\n",
    "\n",
    "\n",
    "Commands you need to know:\n",
    "\n",
    "1. s (step i func or method) / n (next) / c (continue)\n",
    "1. u (step out or upper context) / d\n",
    "1. p (print var) but you can type the varname in the debug shell\n",
    "1. l (centralize and print line code context)\n",
    "5. q (quit)"
   ]
  },
  {
   "cell_type": "code",
   "execution_count": 2,
   "metadata": {},
   "outputs": [
    {
     "name": "stdout",
     "output_type": "stream",
     "text": [
      "> <ipython-input-2-5e03f986ef68>(4)do_magick()\n",
      "-> res = k + x\n",
      "(Pdb) n\n",
      "> <ipython-input-2-5e03f986ef68>(6)do_magick()\n",
      "-> return res\n",
      "(Pdb) k\n",
      "1\n",
      "(Pdb) x\n",
      "0\n",
      "(Pdb) i\n",
      "1\n",
      "(Pdb) res\n",
      "1\n",
      "(Pdb) c\n",
      "> <ipython-input-2-5e03f986ef68>(4)do_magick()\n",
      "-> res = k + x\n",
      "(Pdb) n\n",
      "> <ipython-input-2-5e03f986ef68>(6)do_magick()\n",
      "-> return res\n",
      "(Pdb) res\n",
      "3\n",
      "(Pdb) c\n",
      "> <ipython-input-2-5e03f986ef68>(4)do_magick()\n",
      "-> res = k + x\n",
      "(Pdb) c\n",
      "> <ipython-input-2-5e03f986ef68>(4)do_magick()\n",
      "-> res = k + x\n",
      "(Pdb) c\n",
      "> <ipython-input-2-5e03f986ef68>(4)do_magick()\n",
      "-> res = k + x\n",
      "(Pdb) c\n"
     ]
    }
   ],
   "source": [
    "def do_magick(k,x):\n",
    "    \n",
    "    import pdb; pdb.set_trace()  # <=== breakpoint\n",
    "    res = k + x\n",
    "    \n",
    "    return res\n",
    "\n",
    "for k, x in enumerate(range(5)):\n",
    "    \n",
    "    \n",
    "    i = k + 1\n",
    "    res = do_magick(i,x)\n"
   ]
  },
  {
   "cell_type": "code",
   "execution_count": 3,
   "metadata": {},
   "outputs": [
    {
     "ename": "IndexError",
     "evalue": "list index out of range",
     "output_type": "error",
     "traceback": [
      "\u001b[0;31m---------------------------------------------------------------------------\u001b[0m",
      "\u001b[0;31mIndexError\u001b[0m                                Traceback (most recent call last)",
      "\u001b[0;32m<ipython-input-3-e7dc8ea899e4>\u001b[0m in \u001b[0;36m<module>\u001b[0;34m\u001b[0m\n\u001b[1;32m      3\u001b[0m \u001b[0;32mfor\u001b[0m \u001b[0mk\u001b[0m \u001b[0;32min\u001b[0m \u001b[0mrange\u001b[0m\u001b[0;34m(\u001b[0m\u001b[0;36m7\u001b[0m\u001b[0;34m)\u001b[0m\u001b[0;34m:\u001b[0m\u001b[0;34m\u001b[0m\u001b[0;34m\u001b[0m\u001b[0m\n\u001b[1;32m      4\u001b[0m \u001b[0;34m\u001b[0m\u001b[0m\n\u001b[0;32m----> 5\u001b[0;31m     \u001b[0mx\u001b[0m \u001b[0;34m=\u001b[0m \u001b[0ms\u001b[0m\u001b[0;34m[\u001b[0m\u001b[0mk\u001b[0m\u001b[0;34m*\u001b[0m\u001b[0;36m10\u001b[0m\u001b[0;34m]\u001b[0m\u001b[0;34m\u001b[0m\u001b[0;34m\u001b[0m\u001b[0m\n\u001b[0m",
      "\u001b[0;31mIndexError\u001b[0m: list index out of range"
     ]
    }
   ],
   "source": [
    "s = [k for k in range(7)]\n",
    "\n",
    "for k in range(7):\n",
    "    \n",
    "    x = s[k*10]"
   ]
  },
  {
   "cell_type": "code",
   "execution_count": 4,
   "metadata": {},
   "outputs": [
    {
     "name": "stdout",
     "output_type": "stream",
     "text": [
      "> \u001b[0;32m<ipython-input-3-e7dc8ea899e4>\u001b[0m(5)\u001b[0;36m<module>\u001b[0;34m()\u001b[0m\n",
      "\u001b[0;32m      1 \u001b[0;31m\u001b[0ms\u001b[0m \u001b[0;34m=\u001b[0m \u001b[0;34m[\u001b[0m\u001b[0mk\u001b[0m \u001b[0;32mfor\u001b[0m \u001b[0mk\u001b[0m \u001b[0;32min\u001b[0m \u001b[0mrange\u001b[0m\u001b[0;34m(\u001b[0m\u001b[0;36m7\u001b[0m\u001b[0;34m)\u001b[0m\u001b[0;34m]\u001b[0m\u001b[0;34m\u001b[0m\u001b[0;34m\u001b[0m\u001b[0m\n",
      "\u001b[0m\u001b[0;32m      2 \u001b[0;31m\u001b[0;34m\u001b[0m\u001b[0m\n",
      "\u001b[0m\u001b[0;32m      3 \u001b[0;31m\u001b[0;32mfor\u001b[0m \u001b[0mk\u001b[0m \u001b[0;32min\u001b[0m \u001b[0mrange\u001b[0m\u001b[0;34m(\u001b[0m\u001b[0;36m7\u001b[0m\u001b[0;34m)\u001b[0m\u001b[0;34m:\u001b[0m\u001b[0;34m\u001b[0m\u001b[0;34m\u001b[0m\u001b[0m\n",
      "\u001b[0m\u001b[0;32m      4 \u001b[0;31m\u001b[0;34m\u001b[0m\u001b[0m\n",
      "\u001b[0m\u001b[0;32m----> 5 \u001b[0;31m    \u001b[0mx\u001b[0m \u001b[0;34m=\u001b[0m \u001b[0ms\u001b[0m\u001b[0;34m[\u001b[0m\u001b[0mk\u001b[0m\u001b[0;34m*\u001b[0m\u001b[0;36m10\u001b[0m\u001b[0;34m]\u001b[0m\u001b[0;34m\u001b[0m\u001b[0;34m\u001b[0m\u001b[0m\n",
      "\u001b[0m\n",
      "ipdb> l\n",
      "\u001b[1;32m      1 \u001b[0m\u001b[0ms\u001b[0m \u001b[0;34m=\u001b[0m \u001b[0;34m[\u001b[0m\u001b[0mk\u001b[0m \u001b[0;32mfor\u001b[0m \u001b[0mk\u001b[0m \u001b[0;32min\u001b[0m \u001b[0mrange\u001b[0m\u001b[0;34m(\u001b[0m\u001b[0;36m7\u001b[0m\u001b[0;34m)\u001b[0m\u001b[0;34m]\u001b[0m\u001b[0;34m\u001b[0m\u001b[0;34m\u001b[0m\u001b[0m\n",
      "\u001b[1;32m      2 \u001b[0m\u001b[0;34m\u001b[0m\u001b[0m\n",
      "\u001b[1;32m      3 \u001b[0m\u001b[0;32mfor\u001b[0m \u001b[0mk\u001b[0m \u001b[0;32min\u001b[0m \u001b[0mrange\u001b[0m\u001b[0;34m(\u001b[0m\u001b[0;36m7\u001b[0m\u001b[0;34m)\u001b[0m\u001b[0;34m:\u001b[0m\u001b[0;34m\u001b[0m\u001b[0;34m\u001b[0m\u001b[0m\n",
      "\u001b[1;32m      4 \u001b[0m\u001b[0;34m\u001b[0m\u001b[0m\n",
      "\u001b[0;32m----> 5 \u001b[0;31m    \u001b[0mx\u001b[0m \u001b[0;34m=\u001b[0m \u001b[0ms\u001b[0m\u001b[0;34m[\u001b[0m\u001b[0mk\u001b[0m\u001b[0;34m*\u001b[0m\u001b[0;36m10\u001b[0m\u001b[0;34m]\u001b[0m\u001b[0;34m\u001b[0m\u001b[0;34m\u001b[0m\u001b[0m\n",
      "\u001b[0m\n",
      "ipdb> len(s)\n",
      "7\n",
      "ipdb> k\n",
      "1\n",
      "ipdb> k*10\n",
      "10\n",
      "ipdb> c\n"
     ]
    }
   ],
   "source": [
    "%debug"
   ]
  },
  {
   "cell_type": "markdown",
   "metadata": {
    "heading_collapsed": true
   },
   "source": [
    "### Embbeding image, URls, PDFs, link to sections and videos"
   ]
  },
  {
   "cell_type": "markdown",
   "metadata": {
    "hidden": true
   },
   "source": [
    "```HTML\n",
    "<img src=\"images/data_frame.png\" width=\"800\" align=\"left\"/>\n",
    "```"
   ]
  },
  {
   "cell_type": "code",
   "execution_count": 27,
   "metadata": {
    "collapsed": true,
    "hidden": true
   },
   "outputs": [
    {
     "data": {
      "text/html": [
       "\n",
       "        <iframe\n",
       "            width=\"900\"\n",
       "            height=\"400\"\n",
       "            src=\"https://en.wikipedia.org/wiki/HTTPS\"\n",
       "            frameborder=\"0\"\n",
       "            allowfullscreen\n",
       "        ></iframe>\n",
       "        "
      ],
      "text/plain": [
       "<IPython.lib.display.IFrame at 0x7f6934aa4280>"
      ]
     },
     "execution_count": 27,
     "metadata": {},
     "output_type": "execute_result"
    }
   ],
   "source": [
    "#Note that http urls will not be displayed. Only https are allowed inside the Iframe\n",
    "from IPython.display import IFrame\n",
    "IFrame('https://en.wikipedia.org/wiki/HTTPS', width=900, height=400)\n"
   ]
  },
  {
   "cell_type": "code",
   "execution_count": 29,
   "metadata": {
    "collapsed": true,
    "hidden": true
   },
   "outputs": [
    {
     "data": {
      "text/html": [
       "\n",
       "        <iframe\n",
       "            width=\"800\"\n",
       "            height=\"450\"\n",
       "            src=\"https://arxiv.org/pdf/1406.2661.pdf\"\n",
       "            frameborder=\"0\"\n",
       "            allowfullscreen\n",
       "        ></iframe>\n",
       "        "
      ],
      "text/plain": [
       "<IPython.lib.display.IFrame at 0x7f6934a811f0>"
      ]
     },
     "execution_count": 29,
     "metadata": {},
     "output_type": "execute_result"
    }
   ],
   "source": [
    "IFrame('https://arxiv.org/pdf/1406.2661.pdf', width=800, height=450)"
   ]
  },
  {
   "cell_type": "code",
   "execution_count": 66,
   "metadata": {
    "hidden": true
   },
   "outputs": [
    {
     "data": {
      "image/jpeg": "[encoded data removed]",
      "text/html": [
       "\n",
       "        <iframe\n",
       "            width=\"800\"\n",
       "            height=\"300\"\n",
       "            src=\"https://www.youtube.com/embed/mJeNghZXtMo\"\n",
       "            frameborder=\"0\"\n",
       "            allowfullscreen\n",
       "        ></iframe>\n",
       "        "
      ],
      "text/plain": [
       "<IPython.lib.display.YouTubeVideo at 0x7f6933a5eb50>"
      ]
     },
     "execution_count": 66,
     "metadata": {},
     "output_type": "execute_result"
    }
   ],
   "source": [
    "from IPython.display import YouTubeVideo\n",
    "YouTubeVideo('mJeNghZXtMo', width=800, height=300)"
   ]
  },
  {
   "cell_type": "markdown",
   "metadata": {
    "heading_collapsed": true
   },
   "source": [
    "### Markdown tricks"
   ]
  },
  {
   "cell_type": "markdown",
   "metadata": {
    "hidden": true
   },
   "source": [
    "* How to reference a section: https://stackoverflow.com/questions/28080066/how-to-reference-a-ipython-notebook-cell-in-markdown\n",
    "\n",
    "    * tag the section: ```<a id='another_cell'></a>``` <= this will become invisible  <a id='another_cell'></a>\n",
    "    * make a reference to the tagged cell: [Another Cell](#another_cell)\n",
    "    \n",
    "* Help creates table: \n",
    "    * online: https://www.tablesgenerator.com/markdown_tables\n",
    "    * convert from org-mode replace(\"-+-\",\"-|-\")\n",
    "    \n",
    "* Latex: $x \\sim N(\\mu, \\sigma^ 2)$"
   ]
  },
  {
   "cell_type": "markdown",
   "metadata": {
    "heading_collapsed": true
   },
   "source": [
    "### Presentations with RISE\n",
    "\n",
    "https://rise.readthedocs.io/en/stable/\n"
   ]
  },
  {
   "cell_type": "markdown",
   "metadata": {
    "hidden": true
   },
   "source": [
    "\n",
    "* RISE allows you to edit\n",
    "* Select the cells to show and hide\n",
    "* Create slides and sub slides\n",
    "\n",
    "\n",
    "Install preferable conda\n",
    "\n",
    "```sh\n",
    "conda install -c conda-forge rise\n",
    "\n",
    "# install the JS and CSS in the proper places\n",
    "jupyter-nbextension install rise --py --sys-prefix\n",
    "\n",
    "#enable the nbextension:\n",
    "jupyter-nbextension enable rise --py --sys-prefix\n",
    "\n",
    "```"
   ]
  },
  {
   "cell_type": "markdown",
   "metadata": {},
   "source": [
    "### How to get help, inspecting python files and objects\n"
   ]
  },
  {
   "cell_type": "code",
   "execution_count": 4,
   "metadata": {},
   "outputs": [],
   "source": [
    "import xgboost as xg\n",
    "\n",
    "\n",
    "params= {\"n_estimators\": 2000, \"subsample\" : 0.9, \"colsample_bytree\" : 0.5,  \"max_depth\":9, \"min_child_weight\":  1,\"gamma\":2,\"learning_rate\": 0.05,  \"random_state\":1,\"n_jobs\":45 }\n",
    "regressor = xg.XGBRegressor(**params)\n",
    "\n",
    "#help(regressor) or ?regressor or ??regressor"
   ]
  },
  {
   "cell_type": "code",
   "execution_count": null,
   "metadata": {},
   "outputs": [],
   "source": [
    "\n",
    "print(\"Get list of all methods\")\n",
    "dir(regressor)"
   ]
  },
  {
   "cell_type": "code",
   "execution_count": 10,
   "metadata": {},
   "outputs": [
    {
     "data": {
      "text/plain": [
       "'XGBRegressor(colsample_bytree=0.5, gamma=2, learning_rate=0.05, max_depth=9,\\n             n_estimators=2000, n_jobs=45, random_state=1, subsample=0.9)'"
      ]
     },
     "execution_count": 10,
     "metadata": {},
     "output_type": "execute_result"
    }
   ],
   "source": [
    "str(regressor)"
   ]
  },
  {
   "cell_type": "code",
   "execution_count": 8,
   "metadata": {},
   "outputs": [
    {
     "name": "stdout",
     "output_type": "stream",
     "text": [
      "def foo(x):\n",
      "    \n",
      "    print(f\"foo: {x}\")\n",
      "    \n",
      "    return x**2\n",
      "\n"
     ]
    }
   ],
   "source": [
    "import inspect\n",
    "\n",
    "def foo(x):\n",
    "    \n",
    "    print(f\"foo: {x}\")\n",
    "    \n",
    "    return x**2\n",
    "\n",
    "print(inspect.getsource(foo))"
   ]
  },
  {
   "cell_type": "markdown",
   "metadata": {},
   "source": [
    "```python \n",
    "# Get documentation\n",
    "help(len)\n",
    "len?\n",
    "\n",
    "# inspect source code\n",
    "len??\n",
    "\n",
    "\n",
    "# object. <TAB> to inspect objects\n",
    "# Do not know all the time. But for imported packages does work\n",
    "pd.<TAB> # should work\n",
    "\n",
    "# <TAB> also works when import modules\n",
    "from itertools import co<TAB>\n",
    "\n",
    "\n",
    "# wildcards\n",
    "*Warning?  # List every obj in namespace that ends with Warning\n",
    "str.*find*?  # look for string method that contains the string find in the middle\n",
    "```"
   ]
  },
  {
   "cell_type": "code",
   "execution_count": 2,
   "metadata": {},
   "outputs": [],
   "source": [
    "str.*find*?"
   ]
  },
  {
   "cell_type": "code",
   "execution_count": 1,
   "metadata": {},
   "outputs": [
    {
     "name": "stdout",
     "output_type": "stream",
     "text": [
      "# * *************************************************************************\r\n",
      "#   Programmer[s]: Leandro Fernandes\r\n",
      "#   email: leandroohf@gmail.com\r\n",
      "#   Program: utils\r\n",
      "#   Commentary: My utils to help with processing data\r\n",
      "#   Reference: https://www.thoughtworks.com/insights/blog/coding-habits-data-scientists\r\n",
      "#   Date: February 6, 2020\r\n",
      "#\r\n",
      "#   The author believes that share code and knowledge is awesome.\r\n",
      "#   Feel free to share and modify this piece of code. But don't be\r\n",
      "#   impolite and remember to cite the author and give him his credits.\r\n",
      "# * *************************************************************************\r\n",
      "\r\n",
      "import functools\r\n",
      "import zipfile\r\n",
      "import pandas as pd\r\n",
      "import numpy as np\r\n",
      "\r\n",
      "# Shameless inspired from the comments of\r\n",
      "# https://www.thoughtworks.com/insights/blog/coding-habits-data-scientists\r\n",
      "def compose(*functions):\r\n",
      "    \"\"\"Ex: prepare_data = compose(functools.partial(encode_column, col_name='item'),\r\n",
      "                       add_categorical_column,\r\n",
      "                       convert_to_minutes\r\n",
      "                      )\r\n",
      "    \"\"\"\r\n",
      "    return functools.reduce(lambda f, g: lambda x: f(g(x)), functions, lambda x: x)\r\n",
      "\r\n",
      "def function_with_args(function, *args, **kargs):\r\n",
      "\r\n",
      "    return functools.partial(function, *args, **kargs)\r\n",
      "\r\n",
      "def load_zipped_data(data_file_name: str,csv_basename: str ):\r\n",
      "\r\n",
      "    zf = zipfile.ZipFile(data_file_name)\r\n",
      "    data = pd.read_csv(zf.open(csv_basename), index_col=False, encoding='latin1')\r\n",
      "\r\n",
      "    return data\r\n",
      "\r\n",
      "def print_7_number(data):\r\n",
      "\r\n",
      "    # calculate quartiles\r\n",
      "    quartiles = np.percentile(data, [25, 50, 75])\r\n",
      "    # calculate min/max\r\n",
      "    data_min, data_max = data.min(), data.max()\r\n",
      "\r\n",
      "    _five_numbers = {'min': data_min,\r\n",
      "                     'q1': quartiles[0],\r\n",
      "                     'mean': np.mean(data),\r\n",
      "                     'median': quartiles[1],\r\n",
      "                     'q3': quartiles[2],\r\n",
      "                     'max': data_max,\r\n",
      "                     'std': np.std(data)\r\n",
      "    }\r\n",
      "\r\n",
      "\r\n",
      "    return _five_numbers\r\n"
     ]
    }
   ],
   "source": [
    "!cat utils.py\n",
    "\n",
    "%pycat utils.py"
   ]
  },
  {
   "cell_type": "markdown",
   "metadata": {},
   "source": [
    "### Execute notebook or python file"
   ]
  },
  {
   "cell_type": "code",
   "execution_count": 43,
   "metadata": {},
   "outputs": [
    {
     "name": "stdout",
     "output_type": "stream",
     "text": [
      "Helo word\n"
     ]
    }
   ],
   "source": [
    "!echo \"print('Helo word')\" > hello.py\n",
    "%run hello.py"
   ]
  },
  {
   "cell_type": "markdown",
   "metadata": {},
   "source": [
    "### Notebook diff\n",
    "\n",
    "https://nbdime.readthedocs.io/en/latest/"
   ]
  },
  {
   "cell_type": "markdown",
   "metadata": {},
   "source": [
    "* nbdime\n",
    "\n",
    "Show code, markdown, output and graph different betwee versions\n",
    "\n",
    "Install nbdime\n",
    "\n",
    "```sh\n",
    "pip install nbdime\n",
    "```\n",
    "\n",
    "To get the diff in the web browser\n",
    "```sh\n",
    "nbdiff-web intro_gradient_algos.ipynb\n",
    "```\n",
    "\n",
    "***Troubleshooting**\n",
    "\n",
    "If buttom git nbdiff is not clickable, most likely nbdiff is not in the path. You might need todo source ~/.zshrc"
   ]
  },
  {
   "cell_type": "markdown",
   "metadata": {
    "heading_collapsed": true
   },
   "source": [
    "## Python common tricks"
   ]
  },
  {
   "cell_type": "code",
   "execution_count": 38,
   "metadata": {
    "hidden": true
   },
   "outputs": [
    {
     "name": "stdout",
     "output_type": "stream",
     "text": [
      "0.227963\n"
     ]
    }
   ],
   "source": [
    "#get the size of object\n",
    "import sys\n",
    "print(sys.getsizeof(data)/1e3/1e3) # in bytes"
   ]
  },
  {
   "cell_type": "code",
   "execution_count": 4,
   "metadata": {
    "hidden": true
   },
   "outputs": [
    {
     "data": {
      "text/plain": [
       "2"
      ]
     },
     "execution_count": 4,
     "metadata": {},
     "output_type": "execute_result"
    },
    {
     "data": {
      "text/plain": [
       "2"
      ]
     },
     "execution_count": 4,
     "metadata": {},
     "output_type": "execute_result"
    }
   ],
   "source": [
    "a = 0\n",
    "b = 2\n",
    "\n",
    "x = a or b\n",
    "x\n",
    "\n",
    "x = a if a else b\n",
    "x"
   ]
  },
  {
   "cell_type": "markdown",
   "metadata": {
    "hidden": true
   },
   "source": [
    "* List and dict comprehension"
   ]
  },
  {
   "cell_type": "code",
   "execution_count": 44,
   "metadata": {
    "hidden": true
   },
   "outputs": [
    {
     "data": {
      "text/plain": [
       "[0, -1, 2, -1, 4]"
      ]
     },
     "execution_count": 44,
     "metadata": {},
     "output_type": "execute_result"
    },
    {
     "data": {
      "text/plain": [
       "[[1, 0, 0], [0, 1, 0]]"
      ]
     },
     "execution_count": 44,
     "metadata": {},
     "output_type": "execute_result"
    },
    {
     "data": {
      "text/plain": [
       "[[1, 1, 1], [1, 1, 1]]"
      ]
     },
     "execution_count": 44,
     "metadata": {},
     "output_type": "execute_result"
    },
    {
     "data": {
      "text/plain": [
       "[2, 3, 4, 5, 6, 7, 8, 9, 10]"
      ]
     },
     "execution_count": 44,
     "metadata": {},
     "output_type": "execute_result"
    },
    {
     "data": {
      "text/plain": [
       "[[2, 3, 4], [5, 6, 7], [8, 9, 10]]"
      ]
     },
     "execution_count": 44,
     "metadata": {},
     "output_type": "execute_result"
    },
    {
     "name": "stdout",
     "output_type": "stream",
     "text": [
      "Dictionaries\n"
     ]
    },
    {
     "data": {
      "text/plain": [
       "{'a': 2, 'b': 4, 'c': 6, 'd': 8, 'e': 10}"
      ]
     },
     "execution_count": 44,
     "metadata": {},
     "output_type": "execute_result"
    }
   ],
   "source": [
    "x = [k if k % 2. == 0 else -1 for k in range(5)]\n",
    "x\n",
    "\n",
    "# idendity\n",
    "X = [[1 if r == c else 0 for r in range(3)] for c in range(2)]\n",
    "X\n",
    "\n",
    "[[1]*3 for c in range(2)]\n",
    "\n",
    "\n",
    "# list of list \n",
    "x = [[1,2,3],[4,5,6],[7,8,9]]\n",
    "y = [k+1 for group in x for k in group]\n",
    "y\n",
    "\n",
    "y = [[number+1 for number in group] for group in x]\n",
    "y\n",
    "\n",
    "print(\"Dictionaries\")\n",
    "\n",
    "dict1 = {'a': 1, 'b': 2, 'c': 3, 'd': 4, 'e': 5}\n",
    "\n",
    "# Double each value in the dictionary\n",
    "{k:v*2 for (k,v) in dict1.items()}"
   ]
  },
  {
   "cell_type": "markdown",
   "metadata": {
    "hidden": true
   },
   "source": [
    "* sorted and collections counter\n",
    "    * https://docs.python.org/3/library/collections.html#collections.Counter"
   ]
  },
  {
   "cell_type": "code",
   "execution_count": 17,
   "metadata": {
    "hidden": true
   },
   "outputs": [
    {
     "data": {
      "text/plain": [
       "Counter({'red': 2, 'blue': 3, 'green': 1})"
      ]
     },
     "execution_count": 17,
     "metadata": {},
     "output_type": "execute_result"
    },
    {
     "data": {
      "text/plain": [
       "Counter({'g': 1, 'a': 3, 'l': 2, 'h': 1, 'd': 1})"
      ]
     },
     "execution_count": 17,
     "metadata": {},
     "output_type": "execute_result"
    },
    {
     "data": {
      "text/plain": [
       "0"
      ]
     },
     "execution_count": 17,
     "metadata": {},
     "output_type": "execute_result"
    },
    {
     "data": {
      "text/plain": [
       "Counter({'g': 1, 'a': 3, 'l': 2, 'h': 1, 'd': 1, 'c': 1})"
      ]
     },
     "execution_count": 17,
     "metadata": {},
     "output_type": "execute_result"
    },
    {
     "data": {
      "text/plain": [
       "Counter({'g': 1, 'a': 3, 'l': 2, 'h': 1, 'd': 1})"
      ]
     },
     "execution_count": 17,
     "metadata": {},
     "output_type": "execute_result"
    },
    {
     "data": {
      "text/plain": [
       "Counter({'red': 4, 'blue': 2})"
      ]
     },
     "execution_count": 17,
     "metadata": {},
     "output_type": "execute_result"
    },
    {
     "data": {
      "text/plain": [
       "Counter({'cats': 4, 'dogs': 8})"
      ]
     },
     "execution_count": 17,
     "metadata": {},
     "output_type": "execute_result"
    },
    {
     "data": {
      "text/plain": [
       "['a', 'a', 'a', 'a', 'b', 'b']"
      ]
     },
     "execution_count": 17,
     "metadata": {},
     "output_type": "execute_result"
    },
    {
     "data": {
      "text/plain": [
       "Counter({'a': 3, 'b': 2, 'c': 0, 'd': -2})"
      ]
     },
     "execution_count": 17,
     "metadata": {},
     "output_type": "execute_result"
    },
    {
     "data": {
      "text/plain": [
       "[('a', 5), ('b', 2), ('r', 2)]"
      ]
     },
     "execution_count": 17,
     "metadata": {},
     "output_type": "execute_result"
    }
   ],
   "source": [
    "from collections import Counter\n",
    "\n",
    "cnt = Counter()\n",
    "for word in ['red', 'blue', 'red', 'green', 'blue', 'blue']:\n",
    "    cnt[word] += 1\n",
    "\n",
    "cnt\n",
    "\n",
    "c = Counter('gallahad')\n",
    "c \n",
    "c['b']\n",
    "c['c'] = 1\n",
    "c\n",
    "del c['c']\n",
    "c\n",
    "\n",
    "Counter({'red': 4, 'blue': 2})\n",
    "Counter(cats=4, dogs=8) \n",
    "    \n",
    "# sorting\n",
    "c = Counter(a=4, b=2, c=0, d=-2)\n",
    "sorted(c.elements())\n",
    "\n",
    "\n",
    "# subtract\n",
    "c.subtract('a')\n",
    "c\n",
    "    \n",
    "Counter('abracadabra').most_common(3)"
   ]
  },
  {
   "cell_type": "code",
   "execution_count": 20,
   "metadata": {
    "hidden": true
   },
   "outputs": [
    {
     "data": {
      "text/plain": [
       "(11, 22, -1, 1)"
      ]
     },
     "execution_count": 20,
     "metadata": {},
     "output_type": "execute_result"
    },
    {
     "data": {
      "text/plain": [
       "11"
      ]
     },
     "execution_count": 20,
     "metadata": {},
     "output_type": "execute_result"
    },
    {
     "data": {
      "text/plain": [
       "22"
      ]
     },
     "execution_count": 20,
     "metadata": {},
     "output_type": "execute_result"
    }
   ],
   "source": [
    "from collections import namedtuple\n",
    "\n",
    "\n",
    "Point = namedtuple('Point', ['x', 'y'])\n",
    "p1 = Point(x=11, y=22)\n",
    "p2 = Point(-1,1)\n",
    "\n",
    "p1 + p2   # <=== not what you normally want\n",
    "\n",
    "p1.x\n",
    "p1.y\n"
   ]
  },
  {
   "cell_type": "code",
   "execution_count": 29,
   "metadata": {
    "hidden": true
   },
   "outputs": [
    {
     "data": {
      "text/plain": [
       "deque([0, 1, 2, 3, 4])"
      ]
     },
     "execution_count": 29,
     "metadata": {},
     "output_type": "execute_result"
    },
    {
     "data": {
      "text/plain": [
       "4"
      ]
     },
     "execution_count": 29,
     "metadata": {},
     "output_type": "execute_result"
    },
    {
     "data": {
      "text/plain": [
       "deque([0, 1, 2, 3])"
      ]
     },
     "execution_count": 29,
     "metadata": {},
     "output_type": "execute_result"
    },
    {
     "data": {
      "text/plain": [
       "0"
      ]
     },
     "execution_count": 29,
     "metadata": {},
     "output_type": "execute_result"
    },
    {
     "data": {
      "text/plain": [
       "deque([1, 2, 3])"
      ]
     },
     "execution_count": 29,
     "metadata": {},
     "output_type": "execute_result"
    }
   ],
   "source": [
    "from collections import deque\n",
    "\n",
    "# queue that can pop from both sides\n",
    "de = deque([1,2,3])\n",
    "\n",
    "de.append(4)\n",
    "de.appendleft(0)\n",
    "de\n",
    "\n",
    "\n",
    "de.pop()\n",
    "de\n",
    "\n",
    "\n",
    "de.popleft()\n",
    "de"
   ]
  },
  {
   "cell_type": "markdown",
   "metadata": {
    "hidden": true
   },
   "source": [
    "* dictionary"
   ]
  },
  {
   "cell_type": "code",
   "execution_count": 51,
   "metadata": {
    "hidden": true
   },
   "outputs": [
    {
     "data": {
      "text/plain": [
       "dict_items([('a', 1), ('e', 4), ('i', 3), ('o', 1), ('u', 0)])"
      ]
     },
     "execution_count": 51,
     "metadata": {},
     "output_type": "execute_result"
    },
    {
     "data": {
      "text/plain": [
       "dict_keys(['a', 'e', 'i', 'o', 'u'])"
      ]
     },
     "execution_count": 51,
     "metadata": {},
     "output_type": "execute_result"
    },
    {
     "data": {
      "text/plain": [
       "dict_values([1, 4, 3, 1, 0])"
      ]
     },
     "execution_count": 51,
     "metadata": {},
     "output_type": "execute_result"
    },
    {
     "data": {
      "text/plain": [
       "1"
      ]
     },
     "execution_count": 51,
     "metadata": {},
     "output_type": "execute_result"
    },
    {
     "data": {
      "text/plain": [
       "-1"
      ]
     },
     "execution_count": 51,
     "metadata": {},
     "output_type": "execute_result"
    },
    {
     "name": "stdout",
     "output_type": "stream",
     "text": [
      "sorting\n"
     ]
    },
    {
     "data": {
      "text/plain": [
       "[('e', 4), ('i', 3), ('a', 1), ('o', 1), ('u', 0)]"
      ]
     },
     "execution_count": 51,
     "metadata": {},
     "output_type": "execute_result"
    },
    {
     "data": {
      "text/plain": [
       "[4, 3, 1, 1, 0]"
      ]
     },
     "execution_count": 51,
     "metadata": {},
     "output_type": "execute_result"
    },
    {
     "data": {
      "text/plain": [
       "[('u', 0), ('o', 1), ('i', 3), ('e', 4), ('a', 1)]"
      ]
     },
     "execution_count": 51,
     "metadata": {},
     "output_type": "execute_result"
    },
    {
     "data": {
      "text/plain": [
       "['e', 'i', 'a', 'o', 'u']"
      ]
     },
     "execution_count": 51,
     "metadata": {},
     "output_type": "execute_result"
    }
   ],
   "source": [
    "# get items, values and keys\n",
    "x = {'a': 1, 'e': 4, 'i': 3, 'o': 1, 'u': 0}\n",
    "x.items()  # iterator\n",
    "x.keys()   # iterator\n",
    "x.values() # iterator\n",
    "\n",
    "# get with defaults if not found\n",
    "x.get('a',-1)\n",
    "x.get('v',-1)\n",
    "\n",
    "print(\"sorting\")\n",
    "# sorting dictionary by values\n",
    "x = {'a': 1, 'e': 4, 'i': 3, 'o': 1, 'u': 0}\n",
    "sorted(x.items(), key=lambda item: item[1], reverse=True)\n",
    "sorted(x.values(),reverse=True)  # only values\n",
    "\n",
    "\n",
    "# sorting dictionary by keys\n",
    "x = {'a': 1, 'e': 4, 'i': 3, 'o': 1, 'u': 0}\n",
    "sorted(x.items(), key=lambda item: item[0], reverse=True)\n",
    "sorted(x, key=x.get, reverse=True)  # return only the leys\n"
   ]
  },
  {
   "cell_type": "markdown",
   "metadata": {
    "hidden": true
   },
   "source": [
    "* map (functional programming): **Processing Iterables Without a Loop**"
   ]
  },
  {
   "cell_type": "code",
   "execution_count": 42,
   "metadata": {
    "hidden": true
   },
   "outputs": [
    {
     "data": {
      "text/plain": [
       "[1, 4, 9, 16, 25]"
      ]
     },
     "execution_count": 42,
     "metadata": {},
     "output_type": "execute_result"
    },
    {
     "data": {
      "text/plain": [
       "['Processing', 'strings', 'With', 'Map']"
      ]
     },
     "execution_count": 42,
     "metadata": {},
     "output_type": "execute_result"
    },
    {
     "data": {
      "text/plain": [
       "[1, 4, 5]"
      ]
     },
     "execution_count": 42,
     "metadata": {},
     "output_type": "execute_result"
    },
    {
     "data": {
      "text/plain": [
       "24"
      ]
     },
     "execution_count": 42,
     "metadata": {},
     "output_type": "execute_result"
    },
    {
     "data": {
      "text/plain": [
       "10"
      ]
     },
     "execution_count": 42,
     "metadata": {},
     "output_type": "execute_result"
    }
   ],
   "source": [
    "from functools import reduce\n",
    "\n",
    "# map \n",
    "numbers = [1, -2, -3, 4, 5]\n",
    "list(map(lambda x: x*x, numbers))\n",
    "\n",
    "string_it = [\"processing  \", \"  strings\", \"with\", \"map\"]\n",
    "list(map(str.strip,map(str.capitalize, string_it)))\n",
    "\n",
    "# filter\n",
    "list(filter(lambda x: x > 0, numbers))\n",
    "\n",
    "# reduce \n",
    "reduce((lambda x, y: x * y), [1, 2, 3, 4])\n",
    "reduce((lambda x, y: x + y), [1, 2, 3, 4])"
   ]
  },
  {
   "cell_type": "markdown",
   "metadata": {
    "hidden": true
   },
   "source": [
    "* Use `any()` or `all()`:  clearly shows the intentions of the code"
   ]
  },
  {
   "cell_type": "code",
   "execution_count": 6,
   "metadata": {
    "hidden": true
   },
   "outputs": [
    {
     "data": {
      "text/plain": [
       "True"
      ]
     },
     "execution_count": 6,
     "metadata": {},
     "output_type": "execute_result"
    },
    {
     "data": {
      "text/plain": [
       "True"
      ]
     },
     "execution_count": 6,
     "metadata": {},
     "output_type": "execute_result"
    }
   ],
   "source": [
    "l = [1,2,3,4]\n",
    "\n",
    "found = any(e == 3 for e in l)\n",
    "found\n",
    "\n",
    "# error checks: check if all is less than 0.5\n",
    "errors = [0.1, 0.02, 0.3, 0.25]\n",
    "\n",
    "check = all(e < 0.5 for e in errors)\n",
    "check"
   ]
  },
  {
   "cell_type": "markdown",
   "metadata": {
    "hidden": true
   },
   "source": [
    "* see the contents of a pickle file\n",
    "\n",
    "```python\n",
    "import pickle\n",
    "\n",
    "# dumb object to disk (serialize object)\n",
    "with open('cookies.pck', \"wb\") as f:\n",
    "\n",
    "    pickle.dump(imdb_cookies, f)\n",
    "    f.flush()\n",
    "\n",
    "# read object form disk (deserialize object)\n",
    "with open(self.cookie_file, \"rb\") as f:\n",
    "    imdb_cookies_as_dict= pickle.load(f)\n",
    "   \n",
    "```\n",
    "\n",
    "Shell: View object\n",
    "```shell\n",
    "python -mpickle cookies.pck\n",
    "```"
   ]
  },
  {
   "cell_type": "markdown",
   "metadata": {
    "heading_collapsed": true
   },
   "source": [
    "## Generate data \n",
    "\n",
    "* random numbers generation\n",
    "* generate data\n",
    "* load data sets (toy)\n",
    "\n",
    "http://scikit-learn.org/stable/datasets/index.html"
   ]
  },
  {
   "cell_type": "markdown",
   "metadata": {
    "heading_collapsed": true,
    "hidden": true
   },
   "source": [
    "### Gen random numbers\n",
    "\n",
    "* uniform\n",
    "* normal\n",
    "* multivariate\n",
    "* bolean\n",
    "* integer"
   ]
  },
  {
   "cell_type": "code",
   "execution_count": null,
   "metadata": {
    "ExecuteTime": {
     "end_time": "2018-09-12T00:53:28.393935Z",
     "start_time": "2018-09-12T00:53:28.346725Z"
    },
    "hidden": true
   },
   "outputs": [],
   "source": [
    "## random numbers\n",
    "np.random.seed(seed=2018)\n",
    "\n",
    "n = 3\n",
    "a = np.random.rand(n,n)\n",
    "\n",
    "# random boolean\n",
    "b = np.random.uniform(size=3) > .5\n",
    "b\n",
    "\n",
    "# uniform\n",
    "u = np.random.uniform(size=3)\n",
    "u\n",
    "\n",
    "# random int\n",
    "i = np.random.randint(0,9,size=3)\n",
    "i\n",
    "\n",
    "# random choice\n",
    "c = np.random.choice(['a','b','c','e'],size=7)\n",
    "c\n",
    "\n",
    "# normal\n",
    "n = np.random.normal(size=5)\n",
    "n\n",
    "\n",
    "# multivariated normal 2d;\n",
    "_mean = (1, 2)\n",
    "_cov = [[1, 0], [0, 1]]\n",
    "m = np.random.multivariate_normal(_mean, _cov, 3 )\n",
    "m.shape\n",
    "m"
   ]
  },
  {
   "cell_type": "markdown",
   "metadata": {
    "heading_collapsed": true,
    "hidden": true
   },
   "source": [
    "### Create dataframes"
   ]
  },
  {
   "cell_type": "code",
   "execution_count": null,
   "metadata": {
    "ExecuteTime": {
     "end_time": "2019-03-27T03:55:37.789517Z",
     "start_time": "2019-03-27T03:55:37.757067Z"
    },
    "hidden": true
   },
   "outputs": [],
   "source": [
    "data = {'col_1': [3, 2, 1, 0], 'col_2': ['a', 'b', 'c', 'd']}\n",
    "\n",
    "pd.DataFrame.from_dict(data)\n",
    "\n",
    "\n",
    "data = {'row_1': [3, 2, 1, 0], 'row_2': ['a', 'b', 'c', 'd']}\n",
    "pd.DataFrame.from_dict(data, orient='index')\n",
    "\n",
    "\n",
    "\n",
    "# HOW to fixe: If using all scalar values, you must pass an index\n",
    "# pd.DataFrame.from_dict({'col1': 1, 'col2': 3}) # <= RUN THIS LINE TO SEE THE ERROR\n",
    "#pd.DataFrame({'A': 1, 'B': 2}) # # <= RUN THIS LINE TO SEE THE ERROR\n",
    "pd.DataFrame({'A': 1, 'B': 2}, index=[0])\n",
    "\n",
    "# OR\n",
    "pd.DataFrame({'A': [1], 'B': [2]})"
   ]
  },
  {
   "cell_type": "markdown",
   "metadata": {
    "heading_collapsed": true,
    "hidden": true
   },
   "source": [
    "### Gen data for classifications and clustering\n",
    "\n",
    "Shameless stolen from:\n",
    "http://scikit-learn.org/stable/auto_examples/datasets/plot_random_dataset.html#sphx-glr-auto-examples-datasets-plot-random-dataset-py\n"
   ]
  },
  {
   "cell_type": "markdown",
   "metadata": {
    "hidden": true
   },
   "source": [
    "* **make_classification** create multiclass datasets by allocating each class one or more **normally-distributed** clusters of points\n",
    "\n",
    "   make_classification introducing noise by way of: correlated, redundant and uninformative features; multiple Gaussian clusters per class; and linear transformations of the feature space."
   ]
  },
  {
   "cell_type": "code",
   "execution_count": null,
   "metadata": {
    "ExecuteTime": {
     "end_time": "2018-12-03T07:41:12.482847Z",
     "start_time": "2018-12-03T07:41:11.864863Z"
    },
    "code_folding": [],
    "hidden": true
   },
   "outputs": [],
   "source": [
    "## classification (normal distributed)\n",
    "from sklearn.datasets import make_classification\n",
    "\n",
    "plt.figure(figsize=(10, 15));\n",
    "\n",
    "plt.subplots_adjust(bottom=.05, top=.9, left=.05, right=.95);\n",
    "\n",
    "X1, Y1 = make_classification(n_features=2, n_redundant=0, n_informative=1,\n",
    "                             n_clusters_per_class=1)\n",
    "\n",
    "plt.subplot(321);\n",
    "plt.title(\"One informative feature, one cluster per class\", fontsize='small');\n",
    "plt.scatter(X1[:, 0], X1[:, 1], marker='o', c=Y1,\n",
    "            s=25, edgecolor='k')\n",
    "\n",
    "X1, Y1 = make_classification(n_features=2, n_redundant=0, n_informative=2,\n",
    "                             n_clusters_per_class=1)\n",
    "\n",
    "plt.subplot(322);\n",
    "plt.title(\"Two informative features, one cluster per class\", fontsize='small');\n",
    "\n",
    "plt.scatter(X1[:, 0], X1[:, 1], marker='o', c=Y1,\n",
    "            s=25, edgecolor='k');\n",
    "\n",
    "\n",
    "X2, Y2 = make_classification(n_features=2, n_redundant=0, n_informative=2)\n",
    "\n",
    "plt.subplot(323);\n",
    "plt.title(\"Two informative features, two clusters per class\",\n",
    "          fontsize='small');\n",
    "\n",
    "plt.scatter(X2[:, 0], X2[:, 1], marker='o', c=Y2,\n",
    "            s=25, edgecolor='k')\n",
    "\n",
    "\n",
    "X1, Y1 = make_classification(n_features=2, n_redundant=0, n_informative=2,\n",
    "                             n_clusters_per_class=1, n_classes=3)\n",
    "\n",
    "plt.subplot(324);\n",
    "plt.title(\"Multi-class, two informative features, one cluster\",\n",
    "          fontsize='small');\n",
    "\n",
    "plt.scatter(X1[:, 0], X1[:, 1], marker='o', c=Y1,\n",
    "            s=25, edgecolor='k');\n",
    "\n",
    "plt.show();"
   ]
  },
  {
   "cell_type": "markdown",
   "metadata": {
    "ExecuteTime": {
     "end_time": "2018-09-11T18:37:11.959944Z",
     "start_time": "2018-09-11T18:37:11.956913Z"
    },
    "hidden": true
   },
   "source": [
    "* **make_blobs**: Generate isotropic (uniformity in all orientations) Gaussian blobs for clustering. \n",
    "\n",
    "* **make_gaussian_quantiles**: Generate isotropic Gaussian and label samples by quantile"
   ]
  },
  {
   "cell_type": "code",
   "execution_count": null,
   "metadata": {
    "ExecuteTime": {
     "end_time": "2018-09-12T00:53:37.806512Z",
     "start_time": "2018-09-12T00:53:37.536558Z"
    },
    "code_folding": [],
    "hidden": true
   },
   "outputs": [],
   "source": [
    "## Blobs n gaussian qunatiles\n",
    "from sklearn.datasets import make_blobs\n",
    "from sklearn.datasets import make_gaussian_quantiles\n",
    "\n",
    "X1, Y1 = make_blobs(n_features=2, centers=3, random_state=2018)\n",
    "\n",
    "plt.figure(figsize=(11,5));\n",
    "\n",
    "ax1 = plt.subplot(121);\n",
    "plt.title(\"Three blobs\", fontsize='small');\n",
    "plt.scatter(X1[:, 0], X1[:, 1], marker='o', c=Y1,\n",
    "            s=25, edgecolor='k');\n",
    "\n",
    "X1, Y1 = make_gaussian_quantiles(n_features=2, n_classes=3,n_samples=256,random_state=2018)\n",
    "\n",
    "ax2 = plt.subplot(122);\n",
    "plt.title(\"Gaussian divided into three quantiles\", fontsize='small');\n",
    "\n",
    "plt.scatter(X1[:, 0], X1[:, 1], marker='o', c=Y1,\n",
    "            s=25, edgecolor='k');\n",
    "\n",
    "ax2.set_xlim(-4,4);\n",
    "ax2.set_ylim(-4,4);\n",
    "\n",
    "plt.show()"
   ]
  },
  {
   "cell_type": "markdown",
   "metadata": {
    "hidden": true
   },
   "source": [
    "* **make_circles**: Make a large circle containing a smaller circle in 2d.\n",
    "\n",
    "* **make_moons**: Make two interleaving half circles"
   ]
  },
  {
   "cell_type": "code",
   "execution_count": null,
   "metadata": {
    "ExecuteTime": {
     "end_time": "2018-09-12T00:53:41.025344Z",
     "start_time": "2018-09-12T00:53:40.817521Z"
    },
    "hidden": true
   },
   "outputs": [],
   "source": [
    "## Clustering\n",
    "from sklearn.datasets import make_moons, make_circles\n",
    "\n",
    "X, y = make_circles(n_samples=400, factor=.3, noise=.05, random_state=2018)\n",
    "\n",
    "# scatter plot of original and reduced data\n",
    "fig = plt.figure(figsize=(9, 8));\n",
    "\n",
    "ax1 = plt.subplot(121,aspect='equal');\n",
    "ax1.scatter(X[:, 0], X[:, 1], c=y, s=50, edgecolor='k');\n",
    "ax1.set_title(\"Circle Data (2d)\");\n",
    "ax1.set_xticks(());\n",
    "ax1.set_yticks(());\n",
    "\n",
    "\n",
    "X, y = make_moons(n_samples=400, noise=.05,random_state=2018)\n",
    "\n",
    "ax2 = plt.subplot(122,aspect='equal');\n",
    "ax2.scatter(X[:, 0], X[:, 1], c=y, s=50, edgecolor='k');\n",
    "ax2.set_title(\"Moons Data (2d)\");\n",
    "ax2.set_xticks(());\n",
    "ax2.set_yticks(());\n",
    "\n",
    "plt.tight_layout();\n",
    "plt.show;\n"
   ]
  },
  {
   "cell_type": "markdown",
   "metadata": {
    "heading_collapsed": true,
    "hidden": true
   },
   "source": [
    "### Load data sets\n"
   ]
  },
  {
   "cell_type": "markdown",
   "metadata": {
    "hidden": true
   },
   "source": [
    "* **load_iris** Load and return the iris dataset (classification).\n",
    "\n",
    "<img src=\"images/iris_petal_sepal.png\" width=\"250\" align=\"left\"/>\n"
   ]
  },
  {
   "cell_type": "code",
   "execution_count": null,
   "metadata": {
    "ExecuteTime": {
     "end_time": "2018-09-12T00:53:47.632419Z",
     "start_time": "2018-09-12T00:53:47.487355Z"
    },
    "code_folding": [],
    "hidden": true
   },
   "outputs": [],
   "source": [
    "## datasets\n",
    "\n",
    "from sklearn.datasets import load_iris\n",
    "\n",
    "# Load the Iris flower dataset:\n",
    "iris = load_iris()\n",
    "X_iris = iris.data\n",
    "Y_iris = iris.target\n",
    "\n",
    "print('data size: {}'.format(X_iris.shape))\n",
    "print('features: {}'.format(iris.feature_names))\n",
    "print('labels: {}'.format(iris.target_names))\n",
    "\n",
    "print()\n",
    "\n",
    "plt.figure(2, figsize=(4, 3));\n",
    "plt.clf();\n",
    "\n",
    "# Plot \n",
    "plt.scatter(X_iris[:, 0], X_iris[:, 1], c=Y_iris, cmap=plt.cm.Set1,\n",
    "            edgecolor='k');\n",
    "plt.xlabel('Sepal length');\n",
    "plt.ylabel('Sepal width');"
   ]
  },
  {
   "cell_type": "markdown",
   "metadata": {
    "hidden": true
   },
   "source": [
    "* **load_boston**: Load and return the boston house-prices dataset (regression)."
   ]
  },
  {
   "cell_type": "code",
   "execution_count": null,
   "metadata": {
    "ExecuteTime": {
     "end_time": "2018-10-26T18:34:37.108941Z",
     "start_time": "2018-10-26T18:34:37.071503Z"
    },
    "hidden": true
   },
   "outputs": [],
   "source": [
    "# Boston house pricing\n",
    "\n",
    "from sklearn.datasets import load_boston\n",
    "\n",
    "boston = load_boston()\n",
    "\n",
    "print('data size: {}'.format(boston.data.shape))\n",
    "print('features: {}'.format(boston.feature_names))\n",
    "\n",
    "# convert to data frame (but may times is not necessary)\n",
    "boston_df = pd.DataFrame(boston.data)\n",
    "boston_df.columns = boston.feature_names\n",
    "\n",
    "boston_df['target'] = boston.target\n",
    "\n",
    "boston_df.head(4)"
   ]
  },
  {
   "cell_type": "code",
   "execution_count": null,
   "metadata": {
    "ExecuteTime": {
     "end_time": "2018-10-26T18:26:47.338288Z",
     "start_time": "2018-10-26T18:26:47.041497Z"
    },
    "hidden": true
   },
   "outputs": [],
   "source": [
    "data = pd.read_csv('data/phone_data.csv')\n",
    "\n",
    "data.shape\n",
    "data.head(5)"
   ]
  },
  {
   "cell_type": "markdown",
   "metadata": {
    "heading_collapsed": true
   },
   "source": [
    "## Read, write and explore  data\n",
    "\n",
    "* pandas\n",
    "* dict\n",
    "* file handle\n"
   ]
  },
  {
   "cell_type": "markdown",
   "metadata": {
    "ExecuteTime": {
     "end_time": "2018-11-15T23:24:46.074944Z",
     "start_time": "2018-11-15T23:24:46.071949Z"
    },
    "heading_collapsed": true,
    "hidden": true
   },
   "source": [
    "### Pandas\n",
    "\n",
    "* **read from compressed csv**"
   ]
  },
  {
   "cell_type": "code",
   "execution_count": null,
   "metadata": {
    "ExecuteTime": {
     "end_time": "2019-06-25T21:26:50.585962Z",
     "start_time": "2019-06-25T21:26:50.158036Z"
    },
    "hidden": true
   },
   "outputs": [],
   "source": [
    "# See the first rows\n",
    "pd.read_csv('data/phone_data.csv', nrows=2).head()\n",
    "pd.read_csv('data/phone_data.csv', sep=',',header=None, index_col=False).head()\n",
    "\n",
    "## load\n",
    "creditcard_df = pd.read_csv('data/creditcard_downsampled.csv.tar.bz2', compression='bz2', \n",
    "                            sep=',', quotechar='\"', index_col=False)\n",
    "\n",
    "creditcard_df.head(3)"
   ]
  },
  {
   "cell_type": "markdown",
   "metadata": {
    "hidden": true
   },
   "source": [
    "* **read from sql db**"
   ]
  },
  {
   "cell_type": "code",
   "execution_count": 9,
   "metadata": {
    "ExecuteTime": {
     "end_time": "2018-11-15T23:23:36.850539Z",
     "start_time": "2018-11-15T23:23:36.702654Z"
    },
    "hidden": true
   },
   "outputs": [
    {
     "data": {
      "text/html": [
       "<div>\n",
       "<style scoped>\n",
       "    .dataframe tbody tr th:only-of-type {\n",
       "        vertical-align: middle;\n",
       "    }\n",
       "\n",
       "    .dataframe tbody tr th {\n",
       "        vertical-align: top;\n",
       "    }\n",
       "\n",
       "    .dataframe thead th {\n",
       "        text-align: right;\n",
       "    }\n",
       "</style>\n",
       "<table border=\"1\" class=\"dataframe\">\n",
       "  <thead>\n",
       "    <tr style=\"text-align: right;\">\n",
       "      <th></th>\n",
       "      <th>index</th>\n",
       "      <th>id</th>\n",
       "      <th>name</th>\n",
       "      <th>alias</th>\n",
       "      <th>iata</th>\n",
       "      <th>icao</th>\n",
       "      <th>callsign</th>\n",
       "      <th>country</th>\n",
       "      <th>active</th>\n",
       "    </tr>\n",
       "  </thead>\n",
       "  <tbody>\n",
       "    <tr>\n",
       "      <th>0</th>\n",
       "      <td>0</td>\n",
       "      <td>1</td>\n",
       "      <td>Private flight</td>\n",
       "      <td>\\N</td>\n",
       "      <td>-</td>\n",
       "      <td>None</td>\n",
       "      <td>None</td>\n",
       "      <td>None</td>\n",
       "      <td>Y</td>\n",
       "    </tr>\n",
       "    <tr>\n",
       "      <th>1</th>\n",
       "      <td>1</td>\n",
       "      <td>2</td>\n",
       "      <td>135 Airways</td>\n",
       "      <td>\\N</td>\n",
       "      <td>None</td>\n",
       "      <td>GNL</td>\n",
       "      <td>GENERAL</td>\n",
       "      <td>United States</td>\n",
       "      <td>N</td>\n",
       "    </tr>\n",
       "    <tr>\n",
       "      <th>2</th>\n",
       "      <td>2</td>\n",
       "      <td>3</td>\n",
       "      <td>1Time Airline</td>\n",
       "      <td>\\N</td>\n",
       "      <td>1T</td>\n",
       "      <td>RNX</td>\n",
       "      <td>NEXTIME</td>\n",
       "      <td>South Africa</td>\n",
       "      <td>Y</td>\n",
       "    </tr>\n",
       "  </tbody>\n",
       "</table>\n",
       "</div>"
      ],
      "text/plain": [
       "   index id            name alias  iata  icao callsign        country active\n",
       "0      0  1  Private flight    \\N     -  None     None           None      Y\n",
       "1      1  2     135 Airways    \\N  None   GNL  GENERAL  United States      N\n",
       "2      2  3   1Time Airline    \\N    1T   RNX  NEXTIME   South Africa      Y"
      ]
     },
     "execution_count": 9,
     "metadata": {},
     "output_type": "execute_result"
    }
   ],
   "source": [
    "# reads from database\n",
    "import pandas as pd\n",
    "import sqlite3\n",
    "\n",
    "#conn = sqlite3.connect(\"data/flights.db\")\n",
    "with sqlite3.connect(\"data/flights.db\") as conn:\n",
    "    df = pd.read_sql_query(\"select * from airlines limit 11;\", conn)\n",
    "    \n",
    "df.head(3)"
   ]
  },
  {
   "cell_type": "code",
   "execution_count": 10,
   "metadata": {
    "ExecuteTime": {
     "end_time": "2019-05-09T22:26:26.639702Z",
     "start_time": "2019-05-09T22:26:26.613274Z"
    },
    "hidden": true
   },
   "outputs": [
    {
     "data": {
      "text/plain": [
       "Index(['index', 'date', 'duration', 'item', 'month', 'network',\n",
       "       'network_type'],\n",
       "      dtype='object')"
      ]
     },
     "execution_count": 10,
     "metadata": {},
     "output_type": "execute_result"
    },
    {
     "data": {
      "text/html": [
       "<div>\n",
       "<style scoped>\n",
       "    .dataframe tbody tr th:only-of-type {\n",
       "        vertical-align: middle;\n",
       "    }\n",
       "\n",
       "    .dataframe tbody tr th {\n",
       "        vertical-align: top;\n",
       "    }\n",
       "\n",
       "    .dataframe thead th {\n",
       "        text-align: right;\n",
       "    }\n",
       "</style>\n",
       "<table border=\"1\" class=\"dataframe\">\n",
       "  <thead>\n",
       "    <tr style=\"text-align: right;\">\n",
       "      <th></th>\n",
       "      <th>date</th>\n",
       "      <th>duration</th>\n",
       "      <th>item</th>\n",
       "      <th>month</th>\n",
       "      <th>network</th>\n",
       "      <th>network_type</th>\n",
       "    </tr>\n",
       "  </thead>\n",
       "  <tbody>\n",
       "    <tr>\n",
       "      <th>0</th>\n",
       "      <td>15/10/14 06:58</td>\n",
       "      <td>34.429</td>\n",
       "      <td>data</td>\n",
       "      <td>2014-11</td>\n",
       "      <td>data</td>\n",
       "      <td>data</td>\n",
       "    </tr>\n",
       "    <tr>\n",
       "      <th>1</th>\n",
       "      <td>15/10/14 06:58</td>\n",
       "      <td>13.000</td>\n",
       "      <td>call</td>\n",
       "      <td>2014-11</td>\n",
       "      <td>Vodafone</td>\n",
       "      <td>mobile</td>\n",
       "    </tr>\n",
       "    <tr>\n",
       "      <th>2</th>\n",
       "      <td>15/10/14 14:46</td>\n",
       "      <td>23.000</td>\n",
       "      <td>call</td>\n",
       "      <td>2014-11</td>\n",
       "      <td>Meteor</td>\n",
       "      <td>mobile</td>\n",
       "    </tr>\n",
       "  </tbody>\n",
       "</table>\n",
       "</div>"
      ],
      "text/plain": [
       "             date  duration  item    month   network network_type\n",
       "0  15/10/14 06:58    34.429  data  2014-11      data         data\n",
       "1  15/10/14 06:58    13.000  call  2014-11  Vodafone       mobile\n",
       "2  15/10/14 14:46    23.000  call  2014-11    Meteor       mobile"
      ]
     },
     "execution_count": 10,
     "metadata": {},
     "output_type": "execute_result"
    }
   ],
   "source": [
    "df = pd.read_csv('data/phone_data.csv', index_col=False)\n",
    "\n",
    "df.columns\n",
    "df.drop('index',axis=1,inplace=True)\n",
    "\n",
    "df.head(3)"
   ]
  },
  {
   "cell_type": "code",
   "execution_count": 11,
   "metadata": {
    "ExecuteTime": {
     "end_time": "2019-05-09T22:26:53.499544Z",
     "start_time": "2019-05-09T22:26:53.375557Z"
    },
    "hidden": true
   },
   "outputs": [
    {
     "name": "stdout",
     "output_type": "stream",
     "text": [
      "date,duration,item,month,network,network_type\r\n",
      "15/10/14 06:58,34.429,data,2014-11,data,data\r\n",
      "15/10/14 06:58,13.0,call,2014-11,Vodafone,mobile\r\n",
      "15/10/14 14:46,23.0,call,2014-11,Meteor,mobile\r\n",
      "15/10/14 14:48,4.0,call,2014-11,Tesco,mobile\r\n",
      "15/10/14 17:27,4.0,call,2014-11,Tesco,mobile\r\n",
      "15/10/14 18:55,4.0,call,2014-11,Tesco,mobile\r\n",
      "16/10/14 06:58,34.429,data,2014-11,data,data\r\n",
      "16/10/14 15:01,602.0,call,2014-11,Three,mobile\r\n",
      "16/10/14 15:12,1050.0,call,2014-11,Three,mobile\r\n"
     ]
    }
   ],
   "source": [
    "df.to_csv('tmp.csv',index=False)\n",
    "\n",
    "!head tmp.csv"
   ]
  },
  {
   "cell_type": "markdown",
   "metadata": {
    "heading_collapsed": true,
    "hidden": true
   },
   "source": [
    "### Explore data in pandas: Better dataframe view\n",
    "\n",
    "* Filters. \n",
    "* **Filter date using calendars**\n",
    "* Sort \n",
    "* **Scroll rows and columns**\n",
    "* Full screen toggle"
   ]
  },
  {
   "cell_type": "code",
   "execution_count": 17,
   "metadata": {
    "hidden": true
   },
   "outputs": [
    {
     "data": {
      "application/vnd.jupyter.widget-view+json": {
       "model_id": "e83e4331edb942249b2e093b557b5d0e",
       "version_major": 2,
       "version_minor": 0
      },
      "text/plain": [
       "QgridWidget(grid_options={'fullWidthRows': True, 'syncColumnCellResize': True, 'forceFitColumns': True, 'defau…"
      ]
     },
     "metadata": {},
     "output_type": "display_data"
    }
   ],
   "source": [
    "import qgrid\n",
    "\n",
    "df.date = pd.to_datetime(df.date)\n",
    "\n",
    "qgrid.show_grid(df, show_toolbar=True)"
   ]
  },
  {
   "cell_type": "markdown",
   "metadata": {
    "heading_collapsed": true,
    "hidden": true
   },
   "source": [
    "### Basic and dict IO"
   ]
  },
  {
   "cell_type": "markdown",
   "metadata": {
    "hidden": true
   },
   "source": [
    "\n",
    "\n",
    "* **process all files in folder**"
   ]
  },
  {
   "cell_type": "code",
   "execution_count": 14,
   "metadata": {
    "hidden": true
   },
   "outputs": [
    {
     "data": {
      "text/plain": [
       "['ds_pragmatic_programming_modelling.ipynb',\n",
       " 'ds_pragmatic_programming_NLP.ipynb',\n",
       " 'ds_pragmatic_programming_code_best_practices.ipynb',\n",
       " 'ds_pragmatic_programming_python.ipynb',\n",
       " 'ds_pragmatic_programming_python_time_series.ipynb',\n",
       " 'ds_pragmatic_programming_python_visualization.ipynb',\n",
       " 'ds_pragamatic_mongo_db.ipynb',\n",
       " 'ds_pragmatic_programming_SQL.ipynb',\n",
       " 'ds_pragmatic_programming_deeplearning.ipynb',\n",
       " 'ds_pragmatic_programming_geodata.ipynb',\n",
       " 'ds_pragmatic_programming_graph_data.ipynb',\n",
       " 'ds_pragmatic_programming_spark.ipynb']"
      ]
     },
     "execution_count": 14,
     "metadata": {},
     "output_type": "execute_result"
    },
    {
     "name": "stdout",
     "output_type": "stream",
     "text": [
      "resampling.png\n",
      "minibatch_learning_rate.png\n",
      "pivot-table-datasheet.png\n",
      "neuron_ANN.png\n",
      "data_frame.png\n",
      "iris_petal_sepal.png\n",
      "tomek.png\n",
      "non-linear_and_linear_decision_edge.png\n",
      "learning_rate2.png\n",
      "smote.png\n",
      "no_data_pipeline.png\n",
      "pathlib_cheatsheet_p1.png\n",
      "with_data_pipeline.png\n",
      "refactor_notebooks.png\n",
      "biasvariance.png\n",
      "hig_bias_low_variance.png\n",
      "learning_rate.png\n",
      "loss_learning_rate.png\n",
      "split-apply-combine.png\n",
      "low_high_var.png\n",
      "irr_error.png\n",
      "onehot.png\n",
      "notebook_vs_code.png\n",
      "add_data.png\n",
      "\n",
      "tensorflow_requirements.txt\n",
      "ds_pragmatic_programming_modelling.ipynb\n",
      "data\n",
      "ds_pragmatic_programming_NLP.ipynb\n",
      ".git\n",
      "ds_pragmatic_programming_code_best_practices.ipynb\n",
      ".ipynb_checkpoints\n",
      "ds_pragmatic_programming_python.ipynb\n",
      "ds_pragmatic_programming_python_time_series.ipynb\n",
      "requirements.txt\n",
      "postBuild\n",
      "ds_pragmatic_programming_python_visualization.ipynb\n",
      "ds_pragamatic_mongo_db.ipynb\n",
      "ds_pragmatic_programming_SQL.ipynb\n",
      "tensorflow_cpu.yml\n",
      "ds_pragmatic_programming_deeplearning.ipynb\n",
      "README.md\n",
      "Dockerfile-spark\n",
      "ds_pragmatic_programming_geodata.ipynb\n",
      "Dockerfile\n",
      "ds_pragmatic_programming_graph_data.ipynb\n",
      "ds_pragmatic_programming_spark.ipynb\n",
      "images\n"
     ]
    }
   ],
   "source": [
    "import glob\n",
    "\n",
    "\n",
    "notebooks = [x for x in glob.glob('*.ipynb')]\n",
    "\n",
    "notebooks\n",
    "\n",
    "for name in glob.glob('images/*.png'):\n",
    "    print(os.path.basename(name))\n",
    "\n",
    "    \n",
    "print()\n",
    "\n",
    "directory = './'\n",
    "\n",
    "for filename in os.listdir(directory):\n",
    "    \n",
    "    print(filename)"
   ]
  },
  {
   "cell_type": "markdown",
   "metadata": {
    "hidden": true
   },
   "source": [
    "* **dump dict to json file**"
   ]
  },
  {
   "cell_type": "code",
   "execution_count": null,
   "metadata": {
    "ExecuteTime": {
     "end_time": "2019-05-08T19:05:25.027121Z",
     "start_time": "2019-05-08T19:05:24.900128Z"
    },
    "hidden": true
   },
   "outputs": [],
   "source": [
    "import json\n",
    "\n",
    "data = {}  \n",
    "data['people'] = []  \n",
    "data['people'].append({  \n",
    "    'name': 'Scott',\n",
    "    'website': 'stackabuse.com',\n",
    "    'from': 'Nebraska'\n",
    "})\n",
    "\n",
    "with open('data.json', 'w') as outfile:  \n",
    "    json.dump(data, outfile)\n",
    "    \n",
    "!cat data.json\n",
    "\n",
    "with open('data.json', 'r') as f:\n",
    "    datastore = json.load(f)\n",
    "    \n",
    "datastore"
   ]
  },
  {
   "cell_type": "code",
   "execution_count": null,
   "metadata": {
    "hidden": true
   },
   "outputs": [],
   "source": [
    "!rm -v data/output.tsv"
   ]
  },
  {
   "cell_type": "markdown",
   "metadata": {
    "hidden": true
   },
   "source": [
    "* **Write txt file line by line**"
   ]
  },
  {
   "cell_type": "code",
   "execution_count": null,
   "metadata": {
    "hidden": true
   },
   "outputs": [],
   "source": [
    "# lazzy way\n",
    "for k in range(0,3):\n",
    "    \n",
    "    if k % 2 == 0:\n",
    "        print('Processing: {}'.format(k))\n",
    "\n",
    "    score =  np.random.normal(size=1)[0]\n",
    "    print(\"{k:d}\\t{score:.2f}\".format(k=k, score=score), file=open(\"data/output.tsv\", \"a\"))\n",
    "\n",
    "# better way\n",
    "with open('data/output.txt', 'a') as f:\n",
    "    for k in range(0,3):\n",
    "    \n",
    "        if k % 2 == 0:\n",
    "            print('Processing: {}'.format(k))\n",
    "\n",
    "        score =  np.random.normal(size=1)[0]\n",
    "        print(\"{k:d}\\t{score:.2f}\".format(k=k, score=score), file=f)\n"
   ]
  },
  {
   "cell_type": "code",
   "execution_count": null,
   "metadata": {
    "hidden": true
   },
   "outputs": [],
   "source": [
    "!cat data/output.tsv"
   ]
  },
  {
   "cell_type": "code",
   "execution_count": null,
   "metadata": {
    "hidden": true
   },
   "outputs": [],
   "source": [
    "import csv\n",
    "\n",
    "my_dict = {'key1': 'value_a', 'key2': 1, 'key3': 2.0}\n",
    "\n",
    "# write\n",
    "with open('data/dict.csv', 'w') as f:\n",
    "    [f.write('{0},{1}\\n'.format(key, value)) for key, value in my_dict.items()];\n",
    "\n",
    "\n",
    "# read\n",
    "with open('data/dict.csv', 'r') as csv_file:\n",
    "    \n",
    "    reader = csv.reader(csv_file)\n",
    "    my_dict2 = dict(reader)\n",
    "    \n",
    "my_dict2"
   ]
  },
  {
   "cell_type": "code",
   "execution_count": null,
   "metadata": {
    "hidden": true
   },
   "outputs": [],
   "source": [
    "!cat data/dict.csv"
   ]
  },
  {
   "cell_type": "code",
   "execution_count": null,
   "metadata": {
    "hidden": true
   },
   "outputs": [],
   "source": [
    "dict_list = [ {'key1': 1, 'key2': 'a'}, {'key1': 2, 'key2': 'b'}]\n",
    "\n",
    "fieldnames = dict_list[0].keys()\n",
    "\n",
    "# write\n",
    "with open('data/people.csv', 'w') as output_file:\n",
    "    dict_writer = csv.DictWriter(output_file, fieldnames=fieldnames)\n",
    "    dict_writer.writeheader()\n",
    "    dict_writer.writerows(dict_list)\n",
    "    \n",
    "# read\n",
    "with open('data/people.csv', mode='r') as infile:\n",
    "    \n",
    "    reader = csv.reader(infile)\n",
    "    _ = next(reader, None)  # skip the headers\n",
    "    mydict = [{'key1': rows[0], 'key2': rows[1]} for rows in reader]\n",
    "    \n",
    "mydict"
   ]
  },
  {
   "cell_type": "code",
   "execution_count": null,
   "metadata": {
    "hidden": true
   },
   "outputs": [],
   "source": [
    "!cat data/people.csv"
   ]
  },
  {
   "cell_type": "markdown",
   "metadata": {
    "heading_collapsed": true
   },
   "source": [
    "## Get data from internet "
   ]
  },
  {
   "cell_type": "code",
   "execution_count": null,
   "metadata": {
    "ExecuteTime": {
     "end_time": "2019-03-08T05:01:30.751603Z",
     "start_time": "2019-03-08T05:01:27.275688Z"
    },
    "hidden": true
   },
   "outputs": [],
   "source": [
    "!curl -o data/FremontBridge.csv https://data.seattle.gov/api/views/65db-xm6k/rows.csv?accessType=DOWNLOAD"
   ]
  },
  {
   "cell_type": "code",
   "execution_count": null,
   "metadata": {
    "ExecuteTime": {
     "end_time": "2019-10-21T00:43:13.233739Z",
     "start_time": "2019-10-21T00:43:02.056521Z"
    },
    "hidden": true
   },
   "outputs": [],
   "source": [
    "bikes = pd.read_csv('data/FremontBridge.csv', index_col='Date', parse_dates=True)\n",
    "bikes.head()"
   ]
  },
  {
   "cell_type": "markdown",
   "metadata": {},
   "source": [
    "## Data wrangler (Remember, 80% of the project time is spent here)\n"
   ]
  },
  {
   "cell_type": "markdown",
   "metadata": {
    "heading_collapsed": true
   },
   "source": [
    "### Get a list of files and Iterate over folders\n",
    "\n",
    "ref:\n",
    "* https://towardsdatascience.com/bringing-the-best-out-of-jupyter-notebooks-for-data-science-f0871519ca29\n",
    "* https://www.newbedev.com/python/howto/how-to-iterate-over-files-in-a-given-directory/"
   ]
  },
  {
   "cell_type": "markdown",
   "metadata": {
    "hidden": true
   },
   "source": [
    "* **Get a list of all notebooks**"
   ]
  },
  {
   "cell_type": "code",
   "execution_count": 6,
   "metadata": {
    "hidden": true
   },
   "outputs": [
    {
     "name": "stdout",
     "output_type": "stream",
     "text": [
      "['ds_pragamatic_mongo_db.ipynb', 'ds_pragmatic_computer_vision.ipynb', 'ds_pragmatic_numpy_vectorization.ipynb', 'ds_pragmatic_programming_code_best_practices.ipynb', 'ds_pragmatic_programming_geodata.ipynb', 'ds_pragmatic_programming_graph_data.ipynb', 'ds_pragmatic_programming_modelling.ipynb', 'ds_pragmatic_programming_NLP.ipynb', 'ds_pragmatic_programming_python.ipynb', 'ds_pragmatic_programming_python_time_series.ipynb', 'ds_pragmatic_programming_python_visualization.ipynb', 'ds_pragmatic_programming_spark.ipynb', 'ds_pragmatic_programming_SQL.ipynb', 'ds_pragmatic_programming_tensorflow.ipynb', 'Untitled.ipynb']\n"
     ]
    }
   ],
   "source": [
    "files= !ls *.ipynb\n",
    "print(files)"
   ]
  },
  {
   "cell_type": "markdown",
   "metadata": {
    "hidden": true
   },
   "source": [
    "* **Iterate over all images in the folder images**"
   ]
  },
  {
   "cell_type": "code",
   "execution_count": 42,
   "metadata": {
    "hidden": true
   },
   "outputs": [
    {
     "name": "stdout",
     "output_type": "stream",
     "text": [
      "add_data.png\t\t     no_data_pipeline.png\n",
      "biasvariance.png\t     non-linear_and_linear_decision_edge.png\n",
      "data_frame.png\t\t     notebook_vs_code.png\n",
      "hig_bias_low_variance.png    onehot.png\n",
      "iris_petal_sepal.png\t     pathlib_cheatsheet_p1.png\n",
      "irr_error.png\t\t     pivot-table-datasheet.png\n",
      "layers.jpeg\t\t     refactor_notebooks.png\n",
      "learning_rate2.png\t     resampling.png\n",
      "learning_rate.png\t     smote.png\n",
      "loss_learning_rate.png\t     split-apply-combine.png\n",
      "low_high_var.png\t     tomek.png\n",
      "minibatch_learning_rate.png  with_data_pipeline.png\n",
      "neuron_ANN.png\n"
     ]
    }
   ],
   "source": [
    "!ls images"
   ]
  },
  {
   "cell_type": "code",
   "execution_count": 37,
   "metadata": {
    "collapsed": true,
    "hidden": true,
    "jupyter": {
     "outputs_hidden": true
    }
   },
   "outputs": [
    {
     "name": "stdout",
     "output_type": "stream",
     "text": [
      "subdir: .\n",
      "dir: ['data', '__pycache__', '.git', '.ipynb_checkpoints', 'images']\n",
      "files: ['tensorflow_requirements.txt', 'ds_pragmatic_programming_modelling.ipynb', 'ds_pragmatic_programming_NLP.ipynb', 'text_utils.py', 'ds_pragmatic_programming_code_best_practices.ipynb', 'ds_pragmatic_programming_python.ipynb', 'ds_pragmatic_programming_python_time_series.ipynb', 'requirements.txt', 'postBuild', 'utils.py', 'ds_pragmatic_programming_python_visualization.ipynb', 'ds_pragamatic_mongo_db.ipynb', 'ds_pragmatic_programming_SQL.ipynb', 'tensorflow_cpu.yml', 'ds_pragmatic_programming_deeplearning.ipynb', 'README.md', 'Dockerfile-spark', 'ds_pragmatic_programming_geodata.ipynb', 'Dockerfile', 'ds_pragmatic_programming_graph_data.ipynb', 'ds_pragmatic_programming_spark.ipynb']\n",
      "file_path: ./tensorflow_requirements.txt\n",
      "file_path: ./ds_pragmatic_programming_modelling.ipynb\n",
      "file_path: ./ds_pragmatic_programming_NLP.ipynb\n",
      "file_path: ./text_utils.py\n",
      "file_path: ./ds_pragmatic_programming_code_best_practices.ipynb\n",
      "file_path: ./ds_pragmatic_programming_python.ipynb\n",
      "file_path: ./ds_pragmatic_programming_python_time_series.ipynb\n",
      "file_path: ./requirements.txt\n",
      "file_path: ./postBuild\n",
      "file_path: ./utils.py\n",
      "file_path: ./ds_pragmatic_programming_python_visualization.ipynb\n",
      "file_path: ./ds_pragamatic_mongo_db.ipynb\n",
      "file_path: ./ds_pragmatic_programming_SQL.ipynb\n",
      "file_path: ./tensorflow_cpu.yml\n",
      "file_path: ./ds_pragmatic_programming_deeplearning.ipynb\n",
      "file_path: ./README.md\n",
      "file_path: ./Dockerfile-spark\n",
      "file_path: ./ds_pragmatic_programming_geodata.ipynb\n",
      "file_path: ./Dockerfile\n",
      "file_path: ./ds_pragmatic_programming_graph_data.ipynb\n",
      "file_path: ./ds_pragmatic_programming_spark.ipynb\n",
      "subdir: ./data\n",
      "dir: ['Weather']\n",
      "files: ['logs.log', 'audio2M9GSksX_ho.wav', 'users.parquet', 'ontology.json', 'audio0vm7UpkSOnk.wav', 'creditcard_downsampled.csv.tar.bz2', 'audio0_hH79HnEdo.wav', 'train_signs.h5', 'flights.db', 'people.json', 'FremontBridge.csv', 'phone_data.csv', 'Moby-Dick.txt', 'audio0Q1JLNfm8oU.wav', 'audio0KCVgexi4yU.wav', 'test_signs.h5']\n",
      "file_path: ./data/logs.log\n",
      "file_path: ./data/audio2M9GSksX_ho.wav\n",
      "file_path: ./data/users.parquet\n",
      "file_path: ./data/ontology.json\n",
      "file_path: ./data/audio0vm7UpkSOnk.wav\n",
      "file_path: ./data/creditcard_downsampled.csv.tar.bz2\n",
      "file_path: ./data/audio0_hH79HnEdo.wav\n",
      "file_path: ./data/train_signs.h5\n",
      "file_path: ./data/flights.db\n",
      "file_path: ./data/people.json\n",
      "file_path: ./data/FremontBridge.csv\n",
      "file_path: ./data/phone_data.csv\n",
      "file_path: ./data/Moby-Dick.txt\n",
      "file_path: ./data/audio0Q1JLNfm8oU.wav\n",
      "file_path: ./data/audio0KCVgexi4yU.wav\n",
      "file_path: ./data/test_signs.h5\n",
      "subdir: ./data/Weather\n",
      "dir: []\n",
      "files: ['NY.tgz']\n",
      "file_path: ./data/Weather/NY.tgz\n",
      "subdir: ./__pycache__\n",
      "dir: []\n",
      "files: ['text_utils.cpython-37.pyc', 'utils.cpython-37.pyc']\n",
      "file_path: ./__pycache__/text_utils.cpython-37.pyc\n",
      "file_path: ./__pycache__/utils.cpython-37.pyc\n",
      "subdir: ./.git\n",
      "dir: ['objects', 'hooks', 'refs', 'info', 'logs', 'branches']\n",
      "files: ['config', 'COMMIT_EDITMSG', 'HEAD', 'ORIG_HEAD', 'description', 'packed-refs', 'index']\n",
      "file_path: ./.git/config\n",
      "file_path: ./.git/COMMIT_EDITMSG\n",
      "file_path: ./.git/HEAD\n",
      "file_path: ./.git/ORIG_HEAD\n",
      "file_path: ./.git/description\n",
      "file_path: ./.git/packed-refs\n",
      "file_path: ./.git/index\n",
      "subdir: ./.git/objects\n",
      "dir: ['0c', 'c0', '0d', 'ea', '07', '41', '7b', '17', 'a0', '7c', '5e', '5b', 'd9', 'ef', '48', 'df', '69', '72', '4a', 'b5', 'c5', '31', '63', 'a8', '01', '64', '82', 'd7', '7e', 'pack', '2f', '58', 'bb', '0e', 'be', 'f7', 'fc', '24', 'd2', '66', '18', '92', '34', '38', '61', 'fe', 'ac', 'e6', 'f4', '8a', 'a2', 'de', 'info', '12', '29', '70', '8f', 'd8', '7a', 'da', '3b', 'e9', 'b3', 'bc', '40', 'd6', '27', '2d', '4b', '53', '87']\n",
      "files: []\n",
      "subdir: ./.git/objects/0c\n",
      "dir: []\n",
      "files: ['10d77e5114489f410f903367b8bbb40f7647ad']\n",
      "file_path: ./.git/objects/0c/10d77e5114489f410f903367b8bbb40f7647ad\n",
      "subdir: ./.git/objects/c0\n",
      "dir: []\n",
      "files: ['11231f8ff8e4325b13fc368201690d1bfff959']\n",
      "file_path: ./.git/objects/c0/11231f8ff8e4325b13fc368201690d1bfff959\n",
      "subdir: ./.git/objects/0d\n",
      "dir: []\n",
      "files: ['3343e86548a72cf704afa158bba8ebf8da40ea']\n",
      "file_path: ./.git/objects/0d/3343e86548a72cf704afa158bba8ebf8da40ea\n",
      "subdir: ./.git/objects/ea\n",
      "dir: []\n",
      "files: ['fed443793f4b79a630ff75866274576bdd4e08']\n",
      "file_path: ./.git/objects/ea/fed443793f4b79a630ff75866274576bdd4e08\n",
      "subdir: ./.git/objects/07\n",
      "dir: []\n",
      "files: ['9e78f74ad9c3f0d088d5126e9d2cbfcff574b1']\n",
      "file_path: ./.git/objects/07/9e78f74ad9c3f0d088d5126e9d2cbfcff574b1\n",
      "subdir: ./.git/objects/41\n",
      "dir: []\n",
      "files: ['5baf47a67dc9c5c7dfd1261ff45e0cdd6fcd30']\n",
      "file_path: ./.git/objects/41/5baf47a67dc9c5c7dfd1261ff45e0cdd6fcd30\n",
      "subdir: ./.git/objects/7b\n",
      "dir: []\n",
      "files: ['010b9e600867153f8dfff756d9e35f3b987d6f']\n",
      "file_path: ./.git/objects/7b/010b9e600867153f8dfff756d9e35f3b987d6f\n",
      "subdir: ./.git/objects/17\n",
      "dir: []\n",
      "files: ['25ddaa0cc24ce139b8ea2297d466ad80fdc1c8']\n",
      "file_path: ./.git/objects/17/25ddaa0cc24ce139b8ea2297d466ad80fdc1c8\n",
      "subdir: ./.git/objects/a0\n",
      "dir: []\n",
      "files: ['6c831054a5c8ccc88bff580acf32381297b109']\n",
      "file_path: ./.git/objects/a0/6c831054a5c8ccc88bff580acf32381297b109\n",
      "subdir: ./.git/objects/7c\n",
      "dir: []\n",
      "files: ['82671950c150e6d3a9cca02d77672d3ec78780']\n",
      "file_path: ./.git/objects/7c/82671950c150e6d3a9cca02d77672d3ec78780\n",
      "subdir: ./.git/objects/5e\n",
      "dir: []\n",
      "files: ['7769ccc20abcc76dab96db39d542118fb78d54', '5134f0739da4b3df25c1649ef3216fb0df7e80']\n",
      "file_path: ./.git/objects/5e/7769ccc20abcc76dab96db39d542118fb78d54\n",
      "file_path: ./.git/objects/5e/5134f0739da4b3df25c1649ef3216fb0df7e80\n",
      "subdir: ./.git/objects/5b\n",
      "dir: []\n",
      "files: ['5a40de8a867ad402254da8db41a1441cefa0d9']\n",
      "file_path: ./.git/objects/5b/5a40de8a867ad402254da8db41a1441cefa0d9\n",
      "subdir: ./.git/objects/d9\n",
      "dir: []\n",
      "files: ['e029571d41c40340689503fbda0851893879df']\n",
      "file_path: ./.git/objects/d9/e029571d41c40340689503fbda0851893879df\n",
      "subdir: ./.git/objects/ef\n",
      "dir: []\n",
      "files: ['cf2f6a80551fb7107347059ed41091f97b499f']\n",
      "file_path: ./.git/objects/ef/cf2f6a80551fb7107347059ed41091f97b499f\n",
      "subdir: ./.git/objects/48\n",
      "dir: []\n",
      "files: ['92e84fa77a8a5d3b13dcd5444a3c995dfe8641']\n",
      "file_path: ./.git/objects/48/92e84fa77a8a5d3b13dcd5444a3c995dfe8641\n",
      "subdir: ./.git/objects/df\n",
      "dir: []\n",
      "files: ['594e099c625bbd0729b388f1190e5627f7f2ef']\n",
      "file_path: ./.git/objects/df/594e099c625bbd0729b388f1190e5627f7f2ef\n",
      "subdir: ./.git/objects/69\n",
      "dir: []\n",
      "files: ['1d4a68793d326622e3876757098c2cc331d0ad']\n",
      "file_path: ./.git/objects/69/1d4a68793d326622e3876757098c2cc331d0ad\n",
      "subdir: ./.git/objects/72\n",
      "dir: []\n",
      "files: ['af3bf5163ecc4733b77802e7f8a3d85338bafa']\n",
      "file_path: ./.git/objects/72/af3bf5163ecc4733b77802e7f8a3d85338bafa\n",
      "subdir: ./.git/objects/4a\n",
      "dir: []\n",
      "files: ['8ac88412cbdb711504f82b161beab14c3df7b2']\n",
      "file_path: ./.git/objects/4a/8ac88412cbdb711504f82b161beab14c3df7b2\n",
      "subdir: ./.git/objects/b5\n",
      "dir: []\n",
      "files: ['7dacb343b339ec58108c2a4be0c05f90034da0']\n",
      "file_path: ./.git/objects/b5/7dacb343b339ec58108c2a4be0c05f90034da0\n",
      "subdir: ./.git/objects/c5\n",
      "dir: []\n",
      "files: ['ed03894ad03029b41c0c4bb8d46055719e784b', '8597b719c346818d4c72da67ee65c999120c3b']\n",
      "file_path: ./.git/objects/c5/ed03894ad03029b41c0c4bb8d46055719e784b\n",
      "file_path: ./.git/objects/c5/8597b719c346818d4c72da67ee65c999120c3b\n",
      "subdir: ./.git/objects/31\n",
      "dir: []\n",
      "files: ['74a0001686b83ff5b3c1d0e72012b80014aab0']\n",
      "file_path: ./.git/objects/31/74a0001686b83ff5b3c1d0e72012b80014aab0\n",
      "subdir: ./.git/objects/63\n",
      "dir: []\n",
      "files: ['c1e4dde2e6cd140865276b3c4bb49a3b14f1cf']\n",
      "file_path: ./.git/objects/63/c1e4dde2e6cd140865276b3c4bb49a3b14f1cf\n",
      "subdir: ./.git/objects/a8\n",
      "dir: []\n",
      "files: ['36309a1e79f253a55115f7c14f9950fcc01203']\n",
      "file_path: ./.git/objects/a8/36309a1e79f253a55115f7c14f9950fcc01203\n",
      "subdir: ./.git/objects/01\n",
      "dir: []\n",
      "files: ['18779f5dc5c0d06936f9cd121aabaf32794eb2']\n",
      "file_path: ./.git/objects/01/18779f5dc5c0d06936f9cd121aabaf32794eb2\n",
      "subdir: ./.git/objects/64\n",
      "dir: []\n",
      "files: ['10b52547f25d0315129eede980a18d1efb3860']\n",
      "file_path: ./.git/objects/64/10b52547f25d0315129eede980a18d1efb3860\n",
      "subdir: ./.git/objects/82\n",
      "dir: []\n",
      "files: ['50607fc25e58e0ba161f3514fe5e63519a1d29']\n",
      "file_path: ./.git/objects/82/50607fc25e58e0ba161f3514fe5e63519a1d29\n",
      "subdir: ./.git/objects/d7\n",
      "dir: []\n",
      "files: ['cff4be2d9e3e870dc2df90002e8f7630a843f0']\n",
      "file_path: ./.git/objects/d7/cff4be2d9e3e870dc2df90002e8f7630a843f0\n",
      "subdir: ./.git/objects/7e\n",
      "dir: []\n",
      "files: ['a59e7a48238b1b6dc261c7748577ee7a6d4ef7']\n",
      "file_path: ./.git/objects/7e/a59e7a48238b1b6dc261c7748577ee7a6d4ef7\n",
      "subdir: ./.git/objects/pack\n",
      "dir: []\n",
      "files: ['pack-5c7e554057ab7fa514cbaa318bd3b6be08fb764c.idx', 'pack-5c7e554057ab7fa514cbaa318bd3b6be08fb764c.pack']\n",
      "file_path: ./.git/objects/pack/pack-5c7e554057ab7fa514cbaa318bd3b6be08fb764c.idx\n",
      "file_path: ./.git/objects/pack/pack-5c7e554057ab7fa514cbaa318bd3b6be08fb764c.pack\n",
      "subdir: ./.git/objects/2f\n",
      "dir: []\n",
      "files: ['6fd668d71e67b4d338b79df6e980df6b96e2b9']\n",
      "file_path: ./.git/objects/2f/6fd668d71e67b4d338b79df6e980df6b96e2b9\n",
      "subdir: ./.git/objects/58\n",
      "dir: []\n",
      "files: ['aebc28558c17ebe8b0dcbd1d000191791ef8c3', '7393bb460c30335c9a1af147c85594b031e65c']\n",
      "file_path: ./.git/objects/58/aebc28558c17ebe8b0dcbd1d000191791ef8c3\n",
      "file_path: ./.git/objects/58/7393bb460c30335c9a1af147c85594b031e65c\n",
      "subdir: ./.git/objects/bb\n",
      "dir: []\n",
      "files: ['a5623a64d9bebf797c3c18554c14f9b3b47098']\n",
      "file_path: ./.git/objects/bb/a5623a64d9bebf797c3c18554c14f9b3b47098\n",
      "subdir: ./.git/objects/0e\n",
      "dir: []\n",
      "files: ['1a4f679ecdc9a8a62d9bf8f8749752ed0f1754']\n",
      "file_path: ./.git/objects/0e/1a4f679ecdc9a8a62d9bf8f8749752ed0f1754\n",
      "subdir: ./.git/objects/be\n",
      "dir: []\n",
      "files: ['44a4f64b3182296ffba708f087feef68a0b656']\n",
      "file_path: ./.git/objects/be/44a4f64b3182296ffba708f087feef68a0b656\n",
      "subdir: ./.git/objects/f7\n",
      "dir: []\n",
      "files: ['d7057391db3b5e7ecd8f6d3e31217345ee5eca', 'a888dd515f6d94916f6c83851098ba1a534a77']\n",
      "file_path: ./.git/objects/f7/d7057391db3b5e7ecd8f6d3e31217345ee5eca\n",
      "file_path: ./.git/objects/f7/a888dd515f6d94916f6c83851098ba1a534a77\n",
      "subdir: ./.git/objects/fc\n",
      "dir: []\n",
      "files: ['7a91d9dd552a0680f05f01ba9887a9800c8853']\n",
      "file_path: ./.git/objects/fc/7a91d9dd552a0680f05f01ba9887a9800c8853\n",
      "subdir: ./.git/objects/24\n",
      "dir: []\n",
      "files: ['6f4beb24b6f9e08717d40a5a0ba6304ddb7479']\n",
      "file_path: ./.git/objects/24/6f4beb24b6f9e08717d40a5a0ba6304ddb7479\n",
      "subdir: ./.git/objects/d2\n",
      "dir: []\n",
      "files: ['3f2ca0b4db2efcc5834780542f978274020c1e']\n",
      "file_path: ./.git/objects/d2/3f2ca0b4db2efcc5834780542f978274020c1e\n",
      "subdir: ./.git/objects/66\n",
      "dir: []\n",
      "files: ['141c72d3a451be0b01270094795c16d4075ed3']\n",
      "file_path: ./.git/objects/66/141c72d3a451be0b01270094795c16d4075ed3\n",
      "subdir: ./.git/objects/18\n",
      "dir: []\n",
      "files: ['36c610166f0a1de1efbd28fa08ad84d6035acd']\n",
      "file_path: ./.git/objects/18/36c610166f0a1de1efbd28fa08ad84d6035acd\n",
      "subdir: ./.git/objects/92\n",
      "dir: []\n",
      "files: ['b4cb1b3a380be279bd1e05e193c705af9e5112', 'd1624e344f98dd49c8e0ea2f98439425e3feba']\n",
      "file_path: ./.git/objects/92/b4cb1b3a380be279bd1e05e193c705af9e5112\n",
      "file_path: ./.git/objects/92/d1624e344f98dd49c8e0ea2f98439425e3feba\n",
      "subdir: ./.git/objects/34\n",
      "dir: []\n",
      "files: ['a33cf0e15a32d80503897f7b5971d9f9fe3fb9']\n",
      "file_path: ./.git/objects/34/a33cf0e15a32d80503897f7b5971d9f9fe3fb9\n",
      "subdir: ./.git/objects/38\n",
      "dir: []\n",
      "files: ['619f93049e3d3474ae337678cca1ae24d78b15']\n",
      "file_path: ./.git/objects/38/619f93049e3d3474ae337678cca1ae24d78b15\n",
      "subdir: ./.git/objects/61\n",
      "dir: []\n",
      "files: ['94df750fcaea718dc25f3b80478a70278d9a82']\n",
      "file_path: ./.git/objects/61/94df750fcaea718dc25f3b80478a70278d9a82\n",
      "subdir: ./.git/objects/fe\n",
      "dir: []\n",
      "files: ['7fda1de6526634665282eadc659a4c838b4c19']\n",
      "file_path: ./.git/objects/fe/7fda1de6526634665282eadc659a4c838b4c19\n",
      "subdir: ./.git/objects/ac\n",
      "dir: []\n",
      "files: ['5a0d17dc7a2d319dd07da987cca3e2a95ebd3c']\n",
      "file_path: ./.git/objects/ac/5a0d17dc7a2d319dd07da987cca3e2a95ebd3c\n",
      "subdir: ./.git/objects/e6\n",
      "dir: []\n",
      "files: ['d63957ac9f3a4c21eec502265611c738e95201', 'fba567f55423af6b72c9d23f3181e6271e6682']\n",
      "file_path: ./.git/objects/e6/d63957ac9f3a4c21eec502265611c738e95201\n",
      "file_path: ./.git/objects/e6/fba567f55423af6b72c9d23f3181e6271e6682\n",
      "subdir: ./.git/objects/f4\n",
      "dir: []\n",
      "files: ['2c5bceaf528dc6ad93a6985eb3379a32077579']\n",
      "file_path: ./.git/objects/f4/2c5bceaf528dc6ad93a6985eb3379a32077579\n",
      "subdir: ./.git/objects/8a\n",
      "dir: []\n",
      "files: ['3564ad3f7f306debdb3d4d7ce578f335692d9d']\n",
      "file_path: ./.git/objects/8a/3564ad3f7f306debdb3d4d7ce578f335692d9d\n",
      "subdir: ./.git/objects/a2\n",
      "dir: []\n",
      "files: ['7237cb4dda78a7276f25b62c2c09c63172faaf']\n",
      "file_path: ./.git/objects/a2/7237cb4dda78a7276f25b62c2c09c63172faaf\n",
      "subdir: ./.git/objects/de\n",
      "dir: []\n",
      "files: ['fd3557da9610cf93c24ed0b82e88d07c1845e2', '3d2460a44b5cdfe56239f11a5527a6eed4a1c9']\n",
      "file_path: ./.git/objects/de/fd3557da9610cf93c24ed0b82e88d07c1845e2\n",
      "file_path: ./.git/objects/de/3d2460a44b5cdfe56239f11a5527a6eed4a1c9\n",
      "subdir: ./.git/objects/info\n",
      "dir: []\n",
      "files: []\n",
      "subdir: ./.git/objects/12\n",
      "dir: []\n",
      "files: ['6c181cd718bd3e50a6f9c6a001d89ce4520460']\n",
      "file_path: ./.git/objects/12/6c181cd718bd3e50a6f9c6a001d89ce4520460\n",
      "subdir: ./.git/objects/29\n",
      "dir: []\n",
      "files: ['3156cba32b13c8b02f2a6f7cae3a198316bc74']\n",
      "file_path: ./.git/objects/29/3156cba32b13c8b02f2a6f7cae3a198316bc74\n",
      "subdir: ./.git/objects/70\n",
      "dir: []\n",
      "files: ['a65fda11dc2e02ab9ce8e426e8d6deb47ed6d6']\n",
      "file_path: ./.git/objects/70/a65fda11dc2e02ab9ce8e426e8d6deb47ed6d6\n",
      "subdir: ./.git/objects/8f\n",
      "dir: []\n",
      "files: ['596265a15b1b00e7b13b1e5da53367cf3b4378']\n",
      "file_path: ./.git/objects/8f/596265a15b1b00e7b13b1e5da53367cf3b4378\n",
      "subdir: ./.git/objects/d8\n",
      "dir: []\n",
      "files: ['ed25ee5469b0889dd11bfc0498db6daaba50ba']\n",
      "file_path: ./.git/objects/d8/ed25ee5469b0889dd11bfc0498db6daaba50ba\n",
      "subdir: ./.git/objects/7a\n",
      "dir: []\n",
      "files: ['82866bf4b6bf63ebca3dd0392b37b977862ad2']\n",
      "file_path: ./.git/objects/7a/82866bf4b6bf63ebca3dd0392b37b977862ad2\n",
      "subdir: ./.git/objects/da\n",
      "dir: []\n",
      "files: ['55df10da00b09e7577cc2354f30e54f85ff025']\n",
      "file_path: ./.git/objects/da/55df10da00b09e7577cc2354f30e54f85ff025\n",
      "subdir: ./.git/objects/3b\n",
      "dir: []\n",
      "files: ['1d999768cd819a1714f4353cdb1167f5e603c8']\n",
      "file_path: ./.git/objects/3b/1d999768cd819a1714f4353cdb1167f5e603c8\n",
      "subdir: ./.git/objects/e9\n",
      "dir: []\n",
      "files: ['6220e2e2288f0d3fc932c7e18a5eded061c3fe', '75ff79c3425da34229de2f67a6c7012fa87bc9']\n",
      "file_path: ./.git/objects/e9/6220e2e2288f0d3fc932c7e18a5eded061c3fe\n",
      "file_path: ./.git/objects/e9/75ff79c3425da34229de2f67a6c7012fa87bc9\n",
      "subdir: ./.git/objects/b3\n",
      "dir: []\n",
      "files: ['acc900333ae948c3c57aaa69a8d04ff9cf1f31']\n",
      "file_path: ./.git/objects/b3/acc900333ae948c3c57aaa69a8d04ff9cf1f31\n",
      "subdir: ./.git/objects/bc\n",
      "dir: []\n",
      "files: ['e870ecd03ec8166d067067203ad58c9c942fea']\n",
      "file_path: ./.git/objects/bc/e870ecd03ec8166d067067203ad58c9c942fea\n",
      "subdir: ./.git/objects/40\n",
      "dir: []\n",
      "files: ['c3e41de07a93414a7186c694d8384dac793fc4']\n",
      "file_path: ./.git/objects/40/c3e41de07a93414a7186c694d8384dac793fc4\n",
      "subdir: ./.git/objects/d6\n",
      "dir: []\n",
      "files: ['84e8881772f6d083cfdf544c3d0f5d9ade5fad']\n",
      "file_path: ./.git/objects/d6/84e8881772f6d083cfdf544c3d0f5d9ade5fad\n",
      "subdir: ./.git/objects/27\n",
      "dir: []\n",
      "files: ['088afce00d29baa184393a76cac9198f309775']\n",
      "file_path: ./.git/objects/27/088afce00d29baa184393a76cac9198f309775\n",
      "subdir: ./.git/objects/2d\n",
      "dir: []\n",
      "files: ['19cda348201c11cd22ba26d40801ac77da15bd', '91466eca25f959f01f59cb47b6801905cb0cdb']\n",
      "file_path: ./.git/objects/2d/19cda348201c11cd22ba26d40801ac77da15bd\n",
      "file_path: ./.git/objects/2d/91466eca25f959f01f59cb47b6801905cb0cdb\n",
      "subdir: ./.git/objects/4b\n",
      "dir: []\n",
      "files: ['d4790ef3bd5c3d2f09e9b61d1a25a43cc5e215']\n",
      "file_path: ./.git/objects/4b/d4790ef3bd5c3d2f09e9b61d1a25a43cc5e215\n",
      "subdir: ./.git/objects/53\n",
      "dir: []\n",
      "files: ['128ee1046d70cd68aa59c63f1d0cf5086a71de']\n",
      "file_path: ./.git/objects/53/128ee1046d70cd68aa59c63f1d0cf5086a71de\n",
      "subdir: ./.git/objects/87\n",
      "dir: []\n",
      "files: ['00e346f6d3eb1a8d821648bd87841ff0e639c5']\n",
      "file_path: ./.git/objects/87/00e346f6d3eb1a8d821648bd87841ff0e639c5\n",
      "subdir: ./.git/hooks\n",
      "dir: []\n",
      "files: ['pre-commit.sample', 'pre-receive.sample', 'pre-applypatch.sample', 'update.sample', 'pre-rebase.sample', 'commit-msg.sample', 'post-update.sample', 'applypatch-msg.sample', 'fsmonitor-watchman.sample', 'pre-push.sample', 'prepare-commit-msg.sample']\n",
      "file_path: ./.git/hooks/pre-commit.sample\n",
      "file_path: ./.git/hooks/pre-receive.sample\n",
      "file_path: ./.git/hooks/pre-applypatch.sample\n",
      "file_path: ./.git/hooks/update.sample\n",
      "file_path: ./.git/hooks/pre-rebase.sample\n",
      "file_path: ./.git/hooks/commit-msg.sample\n",
      "file_path: ./.git/hooks/post-update.sample\n",
      "file_path: ./.git/hooks/applypatch-msg.sample\n",
      "file_path: ./.git/hooks/fsmonitor-watchman.sample\n",
      "file_path: ./.git/hooks/pre-push.sample\n",
      "file_path: ./.git/hooks/prepare-commit-msg.sample\n",
      "subdir: ./.git/refs\n",
      "dir: ['remotes', 'heads', 'tags']\n",
      "files: []\n",
      "subdir: ./.git/refs/remotes\n",
      "dir: ['origin']\n",
      "files: []\n",
      "subdir: ./.git/refs/remotes/origin\n",
      "dir: []\n",
      "files: ['HEAD', 'master']\n",
      "file_path: ./.git/refs/remotes/origin/HEAD\n",
      "file_path: ./.git/refs/remotes/origin/master\n",
      "subdir: ./.git/refs/heads\n",
      "dir: []\n",
      "files: ['master']\n",
      "file_path: ./.git/refs/heads/master\n",
      "subdir: ./.git/refs/tags\n",
      "dir: []\n",
      "files: []\n",
      "subdir: ./.git/info\n",
      "dir: []\n",
      "files: ['exclude']\n",
      "file_path: ./.git/info/exclude\n",
      "subdir: ./.git/logs\n",
      "dir: ['refs']\n",
      "files: ['HEAD']\n",
      "file_path: ./.git/logs/HEAD\n",
      "subdir: ./.git/logs/refs\n",
      "dir: ['remotes', 'heads']\n",
      "files: []\n",
      "subdir: ./.git/logs/refs/remotes\n",
      "dir: ['origin']\n",
      "files: []\n",
      "subdir: ./.git/logs/refs/remotes/origin\n",
      "dir: []\n",
      "files: ['HEAD', 'master']\n",
      "file_path: ./.git/logs/refs/remotes/origin/HEAD\n",
      "file_path: ./.git/logs/refs/remotes/origin/master\n",
      "subdir: ./.git/logs/refs/heads\n",
      "dir: []\n",
      "files: ['master']\n",
      "file_path: ./.git/logs/refs/heads/master\n",
      "subdir: ./.git/branches\n",
      "dir: []\n",
      "files: []\n",
      "subdir: ./.ipynb_checkpoints\n",
      "dir: []\n",
      "files: ['ds_pragmatic_programming_python_time_series-checkpoint.ipynb', 'ds_pragmatic_programming_python-checkpoint.ipynb', 'ds_pragmatic_programming_NLP-checkpoint.ipynb', 'ds_pragmatic_programming_modelling-checkpoint.ipynb', 'ds_pragamatic_mongo_db-checkpoint.ipynb', 'ds_pragmatic_programming_python_visualization-checkpoint.ipynb', 'ds_pragmatic_programming_SQL-checkpoint.ipynb', 'ds_pragmatic_programming_deeplearning-checkpoint.ipynb', 'ds_pragmatic_programming_code_best_practices-checkpoint.ipynb', 'ds_pragmatic_programming_geodata-checkpoint.ipynb', 'ds_pragmatic_programming_spark-checkpoint.ipynb']\n",
      "file_path: ./.ipynb_checkpoints/ds_pragmatic_programming_python_time_series-checkpoint.ipynb\n",
      "file_path: ./.ipynb_checkpoints/ds_pragmatic_programming_python-checkpoint.ipynb\n",
      "file_path: ./.ipynb_checkpoints/ds_pragmatic_programming_NLP-checkpoint.ipynb\n",
      "file_path: ./.ipynb_checkpoints/ds_pragmatic_programming_modelling-checkpoint.ipynb\n",
      "file_path: ./.ipynb_checkpoints/ds_pragamatic_mongo_db-checkpoint.ipynb\n",
      "file_path: ./.ipynb_checkpoints/ds_pragmatic_programming_python_visualization-checkpoint.ipynb\n",
      "file_path: ./.ipynb_checkpoints/ds_pragmatic_programming_SQL-checkpoint.ipynb\n",
      "file_path: ./.ipynb_checkpoints/ds_pragmatic_programming_deeplearning-checkpoint.ipynb\n",
      "file_path: ./.ipynb_checkpoints/ds_pragmatic_programming_code_best_practices-checkpoint.ipynb\n",
      "file_path: ./.ipynb_checkpoints/ds_pragmatic_programming_geodata-checkpoint.ipynb\n",
      "file_path: ./.ipynb_checkpoints/ds_pragmatic_programming_spark-checkpoint.ipynb\n",
      "subdir: ./images\n",
      "dir: []\n",
      "files: ['resampling.png', 'minibatch_learning_rate.png', 'pivot-table-datasheet.png', 'neuron_ANN.png', 'data_frame.png', 'iris_petal_sepal.png', 'tomek.png', 'non-linear_and_linear_decision_edge.png', 'learning_rate2.png', 'smote.png', 'no_data_pipeline.png', 'pathlib_cheatsheet_p1.png', 'with_data_pipeline.png', 'refactor_notebooks.png', 'biasvariance.png', 'hig_bias_low_variance.png', 'learning_rate.png', 'loss_learning_rate.png', 'split-apply-combine.png', 'layers.jpeg', 'low_high_var.png', 'irr_error.png', 'onehot.png', 'notebook_vs_code.png', 'add_data.png']\n",
      "file_path: ./images/resampling.png\n",
      "file_path: ./images/minibatch_learning_rate.png\n",
      "file_path: ./images/pivot-table-datasheet.png\n",
      "file_path: ./images/neuron_ANN.png\n",
      "file_path: ./images/data_frame.png\n",
      "file_path: ./images/iris_petal_sepal.png\n",
      "file_path: ./images/tomek.png\n",
      "file_path: ./images/non-linear_and_linear_decision_edge.png\n",
      "file_path: ./images/learning_rate2.png\n",
      "file_path: ./images/smote.png\n",
      "file_path: ./images/no_data_pipeline.png\n",
      "file_path: ./images/pathlib_cheatsheet_p1.png\n",
      "file_path: ./images/with_data_pipeline.png\n",
      "file_path: ./images/refactor_notebooks.png\n",
      "file_path: ./images/biasvariance.png\n",
      "file_path: ./images/hig_bias_low_variance.png\n",
      "file_path: ./images/learning_rate.png\n",
      "file_path: ./images/loss_learning_rate.png\n",
      "file_path: ./images/split-apply-combine.png\n",
      "file_path: ./images/layers.jpeg\n",
      "file_path: ./images/low_high_var.png\n",
      "file_path: ./images/irr_error.png\n",
      "file_path: ./images/onehot.png\n",
      "file_path: ./images/notebook_vs_code.png\n",
      "file_path: ./images/add_data.png\n"
     ]
    }
   ],
   "source": [
    "root_folder = r'.'\n",
    "\n",
    "for subdir, dirs, files in os.walk(root_folder):\n",
    "    \n",
    "    print('subdir: {}'.format(subdir))\n",
    "    print('dir: {}'.format(dirs))\n",
    "    print('files: {}'.format(files))\n",
    "    \n",
    "    \n",
    "    for file_name in files:\n",
    "        \n",
    "        file_path = os.path.join(subdir, file_name)\n",
    "        print('file_path: {}'.format(file_path))"
   ]
  },
  {
   "cell_type": "code",
   "execution_count": 47,
   "metadata": {
    "hidden": true,
    "jupyter": {
     "outputs_hidden": true
    }
   },
   "outputs": [
    {
     "name": "stdout",
     "output_type": "stream",
     "text": [
      "./images/resampling.png\n",
      "./images/minibatch_learning_rate.png\n",
      "./images/pivot-table-datasheet.png\n",
      "./images/neuron_ANN.png\n",
      "./images/data_frame.png\n",
      "./images/iris_petal_sepal.png\n",
      "./images/tomek.png\n",
      "./images/non-linear_and_linear_decision_edge.png\n",
      "./images/learning_rate2.png\n",
      "./images/smote.png\n",
      "./images/no_data_pipeline.png\n",
      "./images/pathlib_cheatsheet_p1.png\n",
      "./images/with_data_pipeline.png\n",
      "./images/refactor_notebooks.png\n",
      "./images/biasvariance.png\n",
      "./images/hig_bias_low_variance.png\n",
      "./images/learning_rate.png\n",
      "./images/loss_learning_rate.png\n",
      "./images/split-apply-combine.png\n",
      "./images/low_high_var.png\n",
      "./images/irr_error.png\n",
      "./images/onehot.png\n",
      "./images/notebook_vs_code.png\n",
      "./images/add_data.png\n",
      "\n",
      "./images/layers.jpeg\n"
     ]
    }
   ],
   "source": [
    "import glob\n",
    "\n",
    "# Print png images \n",
    "for file_path in glob.iglob(r'./*/*.png'):\n",
    "    print(file_path)\n",
    "    \n",
    "print()\n",
    "# Print jpeg images \n",
    "for file_path in glob.iglob(r'./images/*.jpeg'):\n",
    "    print(file_path)"
   ]
  },
  {
   "cell_type": "markdown",
   "metadata": {
    "heading_collapsed": true
   },
   "source": [
    "### Data manipulations\n",
    "\n",
    "* cut: segment and sort data values into bins.\n",
    "* qcut: quantile cut discretize in segments based on the quantiles\n",
    "* clip\n"
   ]
  },
  {
   "cell_type": "code",
   "execution_count": 4,
   "metadata": {
    "hidden": true
   },
   "outputs": [
    {
     "data": {
      "text/plain": [
       "[(0.994, 3.0], (5.0, 7.0], (3.0, 5.0], (3.0, 5.0], (5.0, 7.0], (0.994, 3.0]]\n",
       "Categories (3, interval[float64]): [(0.994, 3.0] < (3.0, 5.0] < (5.0, 7.0]]"
      ]
     },
     "execution_count": 4,
     "metadata": {},
     "output_type": "execute_result"
    },
    {
     "data": {
      "text/plain": [
       "([(0.994, 3.0], (5.0, 7.0], (3.0, 5.0], (3.0, 5.0], (5.0, 7.0], (0.994, 3.0]]\n",
       " Categories (3, interval[float64]): [(0.994, 3.0] < (3.0, 5.0] < (5.0, 7.0]],\n",
       " array([0.994, 3.   , 5.   , 7.   ]))"
      ]
     },
     "execution_count": 4,
     "metadata": {},
     "output_type": "execute_result"
    },
    {
     "data": {
      "text/plain": [
       "[bad, good, medium, medium, good, bad]\n",
       "Categories (3, object): [bad < medium < good]"
      ]
     },
     "execution_count": 4,
     "metadata": {},
     "output_type": "execute_result"
    },
    {
     "data": {
      "text/plain": [
       "array([0, 1, 1, 3])"
      ]
     },
     "execution_count": 4,
     "metadata": {},
     "output_type": "execute_result"
    }
   ],
   "source": [
    "# cut\n",
    "pd.cut(np.array([1, 7, 5, 4, 6, 3]),3)\n",
    "\n",
    "# with want list instead of tuples\n",
    "pd.cut(np.array([1, 7, 5, 4, 6, 3]), 3, retbins=True)\n",
    "\n",
    "# returns labels as well\n",
    "pd.cut(np.array([1, 7, 5, 4, 6, 3]), 3, labels=[\"bad\", \"medium\", \"good\"]) \n",
    "\n",
    "# if you only wants the bins numbers\n",
    "pd.cut([0, 1, 1, 2], bins=4, labels=False)\n",
    "\n",
    "# passing pd.Series return pd.Series"
   ]
  },
  {
   "cell_type": "code",
   "execution_count": 19,
   "metadata": {
    "hidden": true
   },
   "outputs": [
    {
     "name": "stdout",
     "output_type": "stream",
     "text": [
      "1q: -0.759; 2q: -0.041; 3q: 0.666\n"
     ]
    },
    {
     "data": {
      "text/plain": [
       "[(-0.759, -0.0414], (-0.759, -0.0414], (-0.759, -0.0414], (-0.0414, 0.666], (-0.759, -0.0414]]\n",
       "Categories (4, interval[float64]): [(-3.034, -0.759] < (-0.759, -0.0414] < (-0.0414, 0.666] < (0.666, 2.94]]"
      ]
     },
     "execution_count": 19,
     "metadata": {},
     "output_type": "execute_result"
    },
    {
     "data": {
      "text/plain": [
       "Interval(-0.759, -0.0414, closed='right')"
      ]
     },
     "execution_count": 19,
     "metadata": {},
     "output_type": "execute_result"
    }
   ],
   "source": [
    "## qcut\n",
    "\n",
    "prices = np.random.normal(size=100)\n",
    "\n",
    "print(f\"1q: {np.percentile(prices,25):.3f}; 2q: {np.percentile(prices,50):.3f}; 3q: {np.percentile(prices,75):.3f}\")\n",
    "\n",
    "# discretize price in four percentiles\n",
    "p_qcut = pd.qcut(prices,4)\n",
    "\n",
    "p_qcut[0:5]\n",
    "p_qcut[1]\n"
   ]
  },
  {
   "cell_type": "code",
   "execution_count": 23,
   "metadata": {
    "hidden": true
   },
   "outputs": [
    {
     "data": {
      "text/plain": [
       "<matplotlib.axes._subplots.AxesSubplot at 0x7ff49613c250>"
      ]
     },
     "execution_count": 23,
     "metadata": {},
     "output_type": "execute_result"
    },
    {
     "data": {
      "image/png": "[encoded data removed]",
      "text/plain": [
       "<Figure size 432x288 with 1 Axes>"
      ]
     },
     "metadata": {
      "needs_background": "light"
     },
     "output_type": "display_data"
    }
   ],
   "source": [
    "# clip\n",
    "data_df = pd.DataFrame({'prices': np.linspace(0,100,100)})\n",
    "\n",
    "data_df['p_clip'] = data_df.prices.clip(25,75)\n",
    "\n",
    "data_df.plot()"
   ]
  },
  {
   "cell_type": "markdown",
   "metadata": {
    "heading_collapsed": true
   },
   "source": [
    "### operating with list (very sueful)\n",
    "\n",
    "http://book.pythontips.com/en/latest/map_filter.html\n",
    "\n",
    "* map\n",
    "* filter\n",
    "* reduce\n"
   ]
  },
  {
   "cell_type": "code",
   "execution_count": null,
   "metadata": {
    "ExecuteTime": {
     "end_time": "2019-10-21T00:43:22.488964Z",
     "start_time": "2019-10-21T00:43:22.472761Z"
    },
    "hidden": true
   },
   "outputs": [],
   "source": [
    "items = [1, 2, 3, 4, 5]\n",
    "squared = list(map(lambda x: x**2, items))\n",
    "squared\n",
    "\n",
    "all_rows = [(1,1,'segid1', 3.0),(1,1,'segid2', 1.0),(2,2,'segid3', 4.0)]\n",
    "list(filter(lambda t: t[1] == 1, all_rows))\n",
    "\n",
    "from functools import reduce\n",
    "product = reduce((lambda x, y: x * y), [1, 2, 3, 4])\n",
    "product"
   ]
  },
  {
   "cell_type": "markdown",
   "metadata": {
    "heading_collapsed": true
   },
   "source": [
    "### Slicing or selection\n",
    "\n",
    "pandas terminology are the indexers that do selections or subsetting: \"[]\", .loc and .iloc"
   ]
  },
  {
   "cell_type": "markdown",
   "metadata": {
    "hidden": true
   },
   "source": [
    "refs:\n",
    "\n",
    "[pandas cheat sheet](http://pandas.pydata.org/Pandas_Cheat_Sheet.pdf)\n",
    "\n",
    "\n",
    "https://medium.com/dunder-data/selecting-subsets-of-data-in-pandas-6fcd0170be9c  \n",
    "\n",
    "https://github.com/tdpetrou/Learn-Pandas\n",
    "\n",
    "<img src=\"images/data_frame.png\" width=\"800\" align=\"left\"/>"
   ]
  },
  {
   "cell_type": "code",
   "execution_count": 38,
   "metadata": {
    "ExecuteTime": {
     "end_time": "2019-10-21T00:43:45.671413Z",
     "start_time": "2019-10-21T00:43:45.642397Z"
    },
    "hidden": true
   },
   "outputs": [
    {
     "data": {
      "text/html": [
       "<div>\n",
       "<style scoped>\n",
       "    .dataframe tbody tr th:only-of-type {\n",
       "        vertical-align: middle;\n",
       "    }\n",
       "\n",
       "    .dataframe tbody tr th {\n",
       "        vertical-align: top;\n",
       "    }\n",
       "\n",
       "    .dataframe thead th {\n",
       "        text-align: right;\n",
       "    }\n",
       "</style>\n",
       "<table border=\"1\" class=\"dataframe\">\n",
       "  <thead>\n",
       "    <tr style=\"text-align: right;\">\n",
       "      <th></th>\n",
       "      <th>state</th>\n",
       "      <th>color</th>\n",
       "      <th>food</th>\n",
       "      <th>age</th>\n",
       "      <th>height</th>\n",
       "      <th>score</th>\n",
       "    </tr>\n",
       "  </thead>\n",
       "  <tbody>\n",
       "    <tr>\n",
       "      <th>Jane</th>\n",
       "      <td>NY</td>\n",
       "      <td>blue</td>\n",
       "      <td>Steak</td>\n",
       "      <td>30</td>\n",
       "      <td>165</td>\n",
       "      <td>4.6</td>\n",
       "    </tr>\n",
       "    <tr>\n",
       "      <th>Niko</th>\n",
       "      <td>TX</td>\n",
       "      <td>green</td>\n",
       "      <td>Lamb</td>\n",
       "      <td>2</td>\n",
       "      <td>70</td>\n",
       "      <td>8.3</td>\n",
       "    </tr>\n",
       "    <tr>\n",
       "      <th>Aaron</th>\n",
       "      <td>FL</td>\n",
       "      <td>red</td>\n",
       "      <td>Mango</td>\n",
       "      <td>12</td>\n",
       "      <td>120</td>\n",
       "      <td>9.0</td>\n",
       "    </tr>\n",
       "    <tr>\n",
       "      <th>Penelope</th>\n",
       "      <td>AL</td>\n",
       "      <td>white</td>\n",
       "      <td>Apple</td>\n",
       "      <td>4</td>\n",
       "      <td>80</td>\n",
       "      <td>3.3</td>\n",
       "    </tr>\n",
       "    <tr>\n",
       "      <th>Dean</th>\n",
       "      <td>AK</td>\n",
       "      <td>gray</td>\n",
       "      <td>Cheese</td>\n",
       "      <td>32</td>\n",
       "      <td>180</td>\n",
       "      <td>1.8</td>\n",
       "    </tr>\n",
       "    <tr>\n",
       "      <th>Christina</th>\n",
       "      <td>TX</td>\n",
       "      <td>black</td>\n",
       "      <td>Melon</td>\n",
       "      <td>33</td>\n",
       "      <td>172</td>\n",
       "      <td>9.5</td>\n",
       "    </tr>\n",
       "    <tr>\n",
       "      <th>Cornelia</th>\n",
       "      <td>TX</td>\n",
       "      <td>red</td>\n",
       "      <td>Beans</td>\n",
       "      <td>69</td>\n",
       "      <td>150</td>\n",
       "      <td>2.2</td>\n",
       "    </tr>\n",
       "  </tbody>\n",
       "</table>\n",
       "</div>"
      ],
      "text/plain": [
       "          state  color    food  age  height  score\n",
       "Jane         NY   blue   Steak   30     165    4.6\n",
       "Niko         TX  green    Lamb    2      70    8.3\n",
       "Aaron        FL    red   Mango   12     120    9.0\n",
       "Penelope     AL  white   Apple    4      80    3.3\n",
       "Dean         AK   gray  Cheese   32     180    1.8\n",
       "Christina    TX  black   Melon   33     172    9.5\n",
       "Cornelia     TX    red   Beans   69     150    2.2"
      ]
     },
     "execution_count": 38,
     "metadata": {},
     "output_type": "execute_result"
    },
    {
     "data": {
      "text/plain": [
       "Index(['state', 'color', 'food', 'age', 'height', 'score'], dtype='object')"
      ]
     },
     "execution_count": 38,
     "metadata": {},
     "output_type": "execute_result"
    },
    {
     "data": {
      "text/plain": [
       "array([['NY', 'blue', 'Steak', 30, 165, 4.6],\n",
       "       ['TX', 'green', 'Lamb', 2, 70, 8.3],\n",
       "       ['FL', 'red', 'Mango', 12, 120, 9.0],\n",
       "       ['AL', 'white', 'Apple', 4, 80, 3.3],\n",
       "       ['AK', 'gray', 'Cheese', 32, 180, 1.8],\n",
       "       ['TX', 'black', 'Melon', 33, 172, 9.5],\n",
       "       ['TX', 'red', 'Beans', 69, 150, 2.2]], dtype=object)"
      ]
     },
     "execution_count": 38,
     "metadata": {},
     "output_type": "execute_result"
    }
   ],
   "source": [
    "data = {\n",
    "'state': ['NY','TX','FL','AL','AK','TX','TX' ],\n",
    "'color': ['blue','green','red','white','gray','black','red'],\n",
    "'food': [ 'Steak', 'Lamb', 'Mango', 'Apple', 'Cheese', 'Melon', 'Beans' ],\n",
    "'age': [ 30, 2, 12, 4, 32, 33, 69 ],\n",
    "'height': [ 165, 70, 120, 80, 180, 172, 150 ],\n",
    "'score': [ 4.6, 8.3, 9.0, 3.3, 1.8, 9.5, 2.2 ]\n",
    "}\n",
    "\n",
    "df = pd.DataFrame.from_dict(data, )\n",
    "df.index = ['Jane', 'Niko', 'Aaron', 'Penelope', 'Dean', 'Christina', 'Cornelia' ]\n",
    "\n",
    "values = df.values\n",
    "df\n",
    "\n",
    "df.columns\n",
    "values"
   ]
  },
  {
   "cell_type": "markdown",
   "metadata": {
    "hidden": true
   },
   "source": [
    "* *indexing operator: []**"
   ]
  },
  {
   "cell_type": "code",
   "execution_count": 39,
   "metadata": {
    "ExecuteTime": {
     "end_time": "2019-10-21T00:43:49.949151Z",
     "start_time": "2019-10-21T00:43:49.914888Z"
    },
    "hidden": true
   },
   "outputs": [
    {
     "data": {
      "text/plain": [
       "Jane          Steak\n",
       "Niko           Lamb\n",
       "Aaron         Mango\n",
       "Penelope      Apple\n",
       "Dean         Cheese\n",
       "Christina     Melon\n",
       "Cornelia      Beans\n",
       "Name: food, dtype: object"
      ]
     },
     "execution_count": 39,
     "metadata": {},
     "output_type": "execute_result"
    },
    {
     "data": {
      "text/html": [
       "<div>\n",
       "<style scoped>\n",
       "    .dataframe tbody tr th:only-of-type {\n",
       "        vertical-align: middle;\n",
       "    }\n",
       "\n",
       "    .dataframe tbody tr th {\n",
       "        vertical-align: top;\n",
       "    }\n",
       "\n",
       "    .dataframe thead th {\n",
       "        text-align: right;\n",
       "    }\n",
       "</style>\n",
       "<table border=\"1\" class=\"dataframe\">\n",
       "  <thead>\n",
       "    <tr style=\"text-align: right;\">\n",
       "      <th></th>\n",
       "      <th>color</th>\n",
       "      <th>food</th>\n",
       "      <th>score</th>\n",
       "    </tr>\n",
       "  </thead>\n",
       "  <tbody>\n",
       "    <tr>\n",
       "      <th>Jane</th>\n",
       "      <td>blue</td>\n",
       "      <td>Steak</td>\n",
       "      <td>4.6</td>\n",
       "    </tr>\n",
       "    <tr>\n",
       "      <th>Niko</th>\n",
       "      <td>green</td>\n",
       "      <td>Lamb</td>\n",
       "      <td>8.3</td>\n",
       "    </tr>\n",
       "    <tr>\n",
       "      <th>Aaron</th>\n",
       "      <td>red</td>\n",
       "      <td>Mango</td>\n",
       "      <td>9.0</td>\n",
       "    </tr>\n",
       "    <tr>\n",
       "      <th>Penelope</th>\n",
       "      <td>white</td>\n",
       "      <td>Apple</td>\n",
       "      <td>3.3</td>\n",
       "    </tr>\n",
       "    <tr>\n",
       "      <th>Dean</th>\n",
       "      <td>gray</td>\n",
       "      <td>Cheese</td>\n",
       "      <td>1.8</td>\n",
       "    </tr>\n",
       "    <tr>\n",
       "      <th>Christina</th>\n",
       "      <td>black</td>\n",
       "      <td>Melon</td>\n",
       "      <td>9.5</td>\n",
       "    </tr>\n",
       "    <tr>\n",
       "      <th>Cornelia</th>\n",
       "      <td>red</td>\n",
       "      <td>Beans</td>\n",
       "      <td>2.2</td>\n",
       "    </tr>\n",
       "  </tbody>\n",
       "</table>\n",
       "</div>"
      ],
      "text/plain": [
       "           color    food  score\n",
       "Jane        blue   Steak    4.6\n",
       "Niko       green    Lamb    8.3\n",
       "Aaron        red   Mango    9.0\n",
       "Penelope   white   Apple    3.3\n",
       "Dean        gray  Cheese    1.8\n",
       "Christina  black   Melon    9.5\n",
       "Cornelia     red   Beans    2.2"
      ]
     },
     "execution_count": 39,
     "metadata": {},
     "output_type": "execute_result"
    }
   ],
   "source": [
    "# returns a series\n",
    "# A Series is a one-dimensional sequence of labeled data. \n",
    "df['food']\n",
    "    \n",
    "# Select multiple columns as a DataFrame by passing a list to it\n",
    "# return dataframe\n",
    "# the order of the column does not matter for selecting\n",
    "df[['color', 'food', 'score']]"
   ]
  },
  {
   "cell_type": "markdown",
   "metadata": {
    "hidden": true
   },
   "source": [
    "* **.loc** subset rows and columns\n",
    "\n",
    "only selects data by the LABEL of the rows and columns.\n"
   ]
  },
  {
   "cell_type": "code",
   "execution_count": 40,
   "metadata": {
    "ExecuteTime": {
     "end_time": "2019-10-21T00:43:53.890488Z",
     "start_time": "2019-10-21T00:43:53.795834Z"
    },
    "hidden": true
   },
   "outputs": [
    {
     "data": {
      "text/plain": [
       "state        TX\n",
       "color     green\n",
       "food       Lamb\n",
       "age           2\n",
       "height       70\n",
       "score       8.3\n",
       "Name: Niko, dtype: object"
      ]
     },
     "execution_count": 40,
     "metadata": {},
     "output_type": "execute_result"
    },
    {
     "data": {
      "text/html": [
       "<div>\n",
       "<style scoped>\n",
       "    .dataframe tbody tr th:only-of-type {\n",
       "        vertical-align: middle;\n",
       "    }\n",
       "\n",
       "    .dataframe tbody tr th {\n",
       "        vertical-align: top;\n",
       "    }\n",
       "\n",
       "    .dataframe thead th {\n",
       "        text-align: right;\n",
       "    }\n",
       "</style>\n",
       "<table border=\"1\" class=\"dataframe\">\n",
       "  <thead>\n",
       "    <tr style=\"text-align: right;\">\n",
       "      <th></th>\n",
       "      <th>state</th>\n",
       "      <th>color</th>\n",
       "      <th>food</th>\n",
       "      <th>age</th>\n",
       "      <th>height</th>\n",
       "      <th>score</th>\n",
       "    </tr>\n",
       "  </thead>\n",
       "  <tbody>\n",
       "    <tr>\n",
       "      <th>Niko</th>\n",
       "      <td>TX</td>\n",
       "      <td>green</td>\n",
       "      <td>Lamb</td>\n",
       "      <td>2</td>\n",
       "      <td>70</td>\n",
       "      <td>8.3</td>\n",
       "    </tr>\n",
       "    <tr>\n",
       "      <th>Penelope</th>\n",
       "      <td>AL</td>\n",
       "      <td>white</td>\n",
       "      <td>Apple</td>\n",
       "      <td>4</td>\n",
       "      <td>80</td>\n",
       "      <td>3.3</td>\n",
       "    </tr>\n",
       "  </tbody>\n",
       "</table>\n",
       "</div>"
      ],
      "text/plain": [
       "         state  color   food  age  height  score\n",
       "Niko        TX  green   Lamb    2      70    8.3\n",
       "Penelope    AL  white  Apple    4      80    3.3"
      ]
     },
     "execution_count": 40,
     "metadata": {},
     "output_type": "execute_result"
    },
    {
     "data": {
      "text/html": [
       "<div>\n",
       "<style scoped>\n",
       "    .dataframe tbody tr th:only-of-type {\n",
       "        vertical-align: middle;\n",
       "    }\n",
       "\n",
       "    .dataframe tbody tr th {\n",
       "        vertical-align: top;\n",
       "    }\n",
       "\n",
       "    .dataframe thead th {\n",
       "        text-align: right;\n",
       "    }\n",
       "</style>\n",
       "<table border=\"1\" class=\"dataframe\">\n",
       "  <thead>\n",
       "    <tr style=\"text-align: right;\">\n",
       "      <th></th>\n",
       "      <th>state</th>\n",
       "      <th>color</th>\n",
       "      <th>food</th>\n",
       "      <th>age</th>\n",
       "      <th>height</th>\n",
       "      <th>score</th>\n",
       "    </tr>\n",
       "  </thead>\n",
       "  <tbody>\n",
       "    <tr>\n",
       "      <th>Niko</th>\n",
       "      <td>TX</td>\n",
       "      <td>green</td>\n",
       "      <td>Lamb</td>\n",
       "      <td>2</td>\n",
       "      <td>70</td>\n",
       "      <td>8.3</td>\n",
       "    </tr>\n",
       "    <tr>\n",
       "      <th>Aaron</th>\n",
       "      <td>FL</td>\n",
       "      <td>red</td>\n",
       "      <td>Mango</td>\n",
       "      <td>12</td>\n",
       "      <td>120</td>\n",
       "      <td>9.0</td>\n",
       "    </tr>\n",
       "    <tr>\n",
       "      <th>Penelope</th>\n",
       "      <td>AL</td>\n",
       "      <td>white</td>\n",
       "      <td>Apple</td>\n",
       "      <td>4</td>\n",
       "      <td>80</td>\n",
       "      <td>3.3</td>\n",
       "    </tr>\n",
       "    <tr>\n",
       "      <th>Dean</th>\n",
       "      <td>AK</td>\n",
       "      <td>gray</td>\n",
       "      <td>Cheese</td>\n",
       "      <td>32</td>\n",
       "      <td>180</td>\n",
       "      <td>1.8</td>\n",
       "    </tr>\n",
       "  </tbody>\n",
       "</table>\n",
       "</div>"
      ],
      "text/plain": [
       "         state  color    food  age  height  score\n",
       "Niko        TX  green    Lamb    2      70    8.3\n",
       "Aaron       FL    red   Mango   12     120    9.0\n",
       "Penelope    AL  white   Apple    4      80    3.3\n",
       "Dean        AK   gray  Cheese   32     180    1.8"
      ]
     },
     "execution_count": 40,
     "metadata": {},
     "output_type": "execute_result"
    },
    {
     "data": {
      "text/html": [
       "<div>\n",
       "<style scoped>\n",
       "    .dataframe tbody tr th:only-of-type {\n",
       "        vertical-align: middle;\n",
       "    }\n",
       "\n",
       "    .dataframe tbody tr th {\n",
       "        vertical-align: top;\n",
       "    }\n",
       "\n",
       "    .dataframe thead th {\n",
       "        text-align: right;\n",
       "    }\n",
       "</style>\n",
       "<table border=\"1\" class=\"dataframe\">\n",
       "  <thead>\n",
       "    <tr style=\"text-align: right;\">\n",
       "      <th></th>\n",
       "      <th>state</th>\n",
       "      <th>color</th>\n",
       "      <th>food</th>\n",
       "      <th>age</th>\n",
       "      <th>height</th>\n",
       "      <th>score</th>\n",
       "    </tr>\n",
       "  </thead>\n",
       "  <tbody>\n",
       "    <tr>\n",
       "      <th>Jane</th>\n",
       "      <td>NY</td>\n",
       "      <td>blue</td>\n",
       "      <td>Steak</td>\n",
       "      <td>30</td>\n",
       "      <td>165</td>\n",
       "      <td>4.6</td>\n",
       "    </tr>\n",
       "    <tr>\n",
       "      <th>Niko</th>\n",
       "      <td>TX</td>\n",
       "      <td>green</td>\n",
       "      <td>Lamb</td>\n",
       "      <td>2</td>\n",
       "      <td>70</td>\n",
       "      <td>8.3</td>\n",
       "    </tr>\n",
       "    <tr>\n",
       "      <th>Aaron</th>\n",
       "      <td>FL</td>\n",
       "      <td>red</td>\n",
       "      <td>Mango</td>\n",
       "      <td>12</td>\n",
       "      <td>120</td>\n",
       "      <td>9.0</td>\n",
       "    </tr>\n",
       "  </tbody>\n",
       "</table>\n",
       "</div>"
      ],
      "text/plain": [
       "      state  color   food  age  height  score\n",
       "Jane     NY   blue  Steak   30     165    4.6\n",
       "Niko     TX  green   Lamb    2      70    8.3\n",
       "Aaron    FL    red  Mango   12     120    9.0"
      ]
     },
     "execution_count": 40,
     "metadata": {},
     "output_type": "execute_result"
    },
    {
     "data": {
      "text/html": [
       "<div>\n",
       "<style scoped>\n",
       "    .dataframe tbody tr th:only-of-type {\n",
       "        vertical-align: middle;\n",
       "    }\n",
       "\n",
       "    .dataframe tbody tr th {\n",
       "        vertical-align: top;\n",
       "    }\n",
       "\n",
       "    .dataframe thead th {\n",
       "        text-align: right;\n",
       "    }\n",
       "</style>\n",
       "<table border=\"1\" class=\"dataframe\">\n",
       "  <thead>\n",
       "    <tr style=\"text-align: right;\">\n",
       "      <th></th>\n",
       "      <th>state</th>\n",
       "      <th>color</th>\n",
       "      <th>food</th>\n",
       "      <th>age</th>\n",
       "      <th>height</th>\n",
       "      <th>score</th>\n",
       "    </tr>\n",
       "  </thead>\n",
       "  <tbody>\n",
       "    <tr>\n",
       "      <th>Dean</th>\n",
       "      <td>AK</td>\n",
       "      <td>gray</td>\n",
       "      <td>Cheese</td>\n",
       "      <td>32</td>\n",
       "      <td>180</td>\n",
       "      <td>1.8</td>\n",
       "    </tr>\n",
       "    <tr>\n",
       "      <th>Christina</th>\n",
       "      <td>TX</td>\n",
       "      <td>black</td>\n",
       "      <td>Melon</td>\n",
       "      <td>33</td>\n",
       "      <td>172</td>\n",
       "      <td>9.5</td>\n",
       "    </tr>\n",
       "    <tr>\n",
       "      <th>Cornelia</th>\n",
       "      <td>TX</td>\n",
       "      <td>red</td>\n",
       "      <td>Beans</td>\n",
       "      <td>69</td>\n",
       "      <td>150</td>\n",
       "      <td>2.2</td>\n",
       "    </tr>\n",
       "  </tbody>\n",
       "</table>\n",
       "</div>"
      ],
      "text/plain": [
       "          state  color    food  age  height  score\n",
       "Dean         AK   gray  Cheese   32     180    1.8\n",
       "Christina    TX  black   Melon   33     172    9.5\n",
       "Cornelia     TX    red   Beans   69     150    2.2"
      ]
     },
     "execution_count": 40,
     "metadata": {},
     "output_type": "execute_result"
    },
    {
     "data": {
      "text/html": [
       "<div>\n",
       "<style scoped>\n",
       "    .dataframe tbody tr th:only-of-type {\n",
       "        vertical-align: middle;\n",
       "    }\n",
       "\n",
       "    .dataframe tbody tr th {\n",
       "        vertical-align: top;\n",
       "    }\n",
       "\n",
       "    .dataframe thead th {\n",
       "        text-align: right;\n",
       "    }\n",
       "</style>\n",
       "<table border=\"1\" class=\"dataframe\">\n",
       "  <thead>\n",
       "    <tr style=\"text-align: right;\">\n",
       "      <th></th>\n",
       "      <th>state</th>\n",
       "      <th>color</th>\n",
       "      <th>food</th>\n",
       "      <th>age</th>\n",
       "      <th>height</th>\n",
       "      <th>score</th>\n",
       "    </tr>\n",
       "  </thead>\n",
       "  <tbody>\n",
       "    <tr>\n",
       "      <th>Niko</th>\n",
       "      <td>TX</td>\n",
       "      <td>green</td>\n",
       "      <td>Lamb</td>\n",
       "      <td>2</td>\n",
       "      <td>70</td>\n",
       "      <td>8.3</td>\n",
       "    </tr>\n",
       "    <tr>\n",
       "      <th>Penelope</th>\n",
       "      <td>AL</td>\n",
       "      <td>white</td>\n",
       "      <td>Apple</td>\n",
       "      <td>4</td>\n",
       "      <td>80</td>\n",
       "      <td>3.3</td>\n",
       "    </tr>\n",
       "    <tr>\n",
       "      <th>Christina</th>\n",
       "      <td>TX</td>\n",
       "      <td>black</td>\n",
       "      <td>Melon</td>\n",
       "      <td>33</td>\n",
       "      <td>172</td>\n",
       "      <td>9.5</td>\n",
       "    </tr>\n",
       "  </tbody>\n",
       "</table>\n",
       "</div>"
      ],
      "text/plain": [
       "          state  color   food  age  height  score\n",
       "Niko         TX  green   Lamb    2      70    8.3\n",
       "Penelope     AL  white  Apple    4      80    3.3\n",
       "Christina    TX  black  Melon   33     172    9.5"
      ]
     },
     "execution_count": 40,
     "metadata": {},
     "output_type": "execute_result"
    },
    {
     "data": {
      "text/html": [
       "<div>\n",
       "<style scoped>\n",
       "    .dataframe tbody tr th:only-of-type {\n",
       "        vertical-align: middle;\n",
       "    }\n",
       "\n",
       "    .dataframe tbody tr th {\n",
       "        vertical-align: top;\n",
       "    }\n",
       "\n",
       "    .dataframe thead th {\n",
       "        text-align: right;\n",
       "    }\n",
       "</style>\n",
       "<table border=\"1\" class=\"dataframe\">\n",
       "  <thead>\n",
       "    <tr style=\"text-align: right;\">\n",
       "      <th></th>\n",
       "      <th>age</th>\n",
       "      <th>state</th>\n",
       "      <th>score</th>\n",
       "    </tr>\n",
       "  </thead>\n",
       "  <tbody>\n",
       "    <tr>\n",
       "      <th>Dean</th>\n",
       "      <td>32</td>\n",
       "      <td>AK</td>\n",
       "      <td>1.8</td>\n",
       "    </tr>\n",
       "    <tr>\n",
       "      <th>Cornelia</th>\n",
       "      <td>69</td>\n",
       "      <td>TX</td>\n",
       "      <td>2.2</td>\n",
       "    </tr>\n",
       "  </tbody>\n",
       "</table>\n",
       "</div>"
      ],
      "text/plain": [
       "          age state  score\n",
       "Dean       32    AK    1.8\n",
       "Cornelia   69    TX    2.2"
      ]
     },
     "execution_count": 40,
     "metadata": {},
     "output_type": "execute_result"
    },
    {
     "data": {
      "text/html": [
       "<div>\n",
       "<style scoped>\n",
       "    .dataframe tbody tr th:only-of-type {\n",
       "        vertical-align: middle;\n",
       "    }\n",
       "\n",
       "    .dataframe tbody tr th {\n",
       "        vertical-align: top;\n",
       "    }\n",
       "\n",
       "    .dataframe thead th {\n",
       "        text-align: right;\n",
       "    }\n",
       "</style>\n",
       "<table border=\"1\" class=\"dataframe\">\n",
       "  <thead>\n",
       "    <tr style=\"text-align: right;\">\n",
       "      <th></th>\n",
       "      <th>age</th>\n",
       "      <th>state</th>\n",
       "      <th>score</th>\n",
       "    </tr>\n",
       "  </thead>\n",
       "  <tbody>\n",
       "    <tr>\n",
       "      <th>Aaron</th>\n",
       "      <td>12</td>\n",
       "      <td>FL</td>\n",
       "      <td>9.0</td>\n",
       "    </tr>\n",
       "    <tr>\n",
       "      <th>Cornelia</th>\n",
       "      <td>69</td>\n",
       "      <td>TX</td>\n",
       "      <td>2.2</td>\n",
       "    </tr>\n",
       "  </tbody>\n",
       "</table>\n",
       "</div>"
      ],
      "text/plain": [
       "          age state  score\n",
       "Aaron      12    FL    9.0\n",
       "Cornelia   69    TX    2.2"
      ]
     },
     "execution_count": 40,
     "metadata": {},
     "output_type": "execute_result"
    }
   ],
   "source": [
    "# Select rows  n returns serries\n",
    "df.loc['Niko']\n",
    "\n",
    "# select mutliple rows n return data frames\n",
    "df.loc[['Niko', 'Penelope']]\n",
    "\n",
    "\n",
    "# Slicing between range of rows\n",
    "df.loc['Niko':'Dean']\n",
    "\n",
    "# from begin to Aaron\n",
    "df.loc[:'Aaron']\n",
    "\n",
    "# from Dean to end\n",
    "df.loc['Dean':]\n",
    "\n",
    "# controling the step\n",
    "df.loc['Niko':'Christina':2]\n",
    "\n",
    "# selecting rows n columns\n",
    "# df.loc[row_selection, column_selection]\n",
    "df.loc[['Dean', 'Cornelia'], ['age', 'state', 'score']]\n",
    "\n",
    "# select by criteria and column\n",
    "df.loc[ df.color == \"red\", ['age', 'state', 'score']]"
   ]
  },
  {
   "cell_type": "markdown",
   "metadata": {
    "hidden": true
   },
   "source": [
    "* **.iloc**\n",
    "\n",
    "only uses integer locations to make its selections."
   ]
  },
  {
   "cell_type": "code",
   "execution_count": 30,
   "metadata": {
    "ExecuteTime": {
     "end_time": "2019-10-21T00:43:58.341828Z",
     "start_time": "2019-10-21T00:43:58.282025Z"
    },
    "hidden": true
   },
   "outputs": [
    {
     "data": {
      "text/html": [
       "<div>\n",
       "<style scoped>\n",
       "    .dataframe tbody tr th:only-of-type {\n",
       "        vertical-align: middle;\n",
       "    }\n",
       "\n",
       "    .dataframe tbody tr th {\n",
       "        vertical-align: top;\n",
       "    }\n",
       "\n",
       "    .dataframe thead th {\n",
       "        text-align: right;\n",
       "    }\n",
       "</style>\n",
       "<table border=\"1\" class=\"dataframe\">\n",
       "  <thead>\n",
       "    <tr style=\"text-align: right;\">\n",
       "      <th></th>\n",
       "      <th>state</th>\n",
       "      <th>color</th>\n",
       "      <th>food</th>\n",
       "      <th>age</th>\n",
       "      <th>height</th>\n",
       "      <th>score</th>\n",
       "    </tr>\n",
       "  </thead>\n",
       "  <tbody>\n",
       "    <tr>\n",
       "      <th>Christina</th>\n",
       "      <td>TX</td>\n",
       "      <td>black</td>\n",
       "      <td>Melon</td>\n",
       "      <td>33</td>\n",
       "      <td>172</td>\n",
       "      <td>9.5</td>\n",
       "    </tr>\n",
       "    <tr>\n",
       "      <th>Aaron</th>\n",
       "      <td>FL</td>\n",
       "      <td>red</td>\n",
       "      <td>Mango</td>\n",
       "      <td>12</td>\n",
       "      <td>120</td>\n",
       "      <td>9.0</td>\n",
       "    </tr>\n",
       "    <tr>\n",
       "      <th>Dean</th>\n",
       "      <td>AK</td>\n",
       "      <td>gray</td>\n",
       "      <td>Cheese</td>\n",
       "      <td>32</td>\n",
       "      <td>180</td>\n",
       "      <td>1.8</td>\n",
       "    </tr>\n",
       "  </tbody>\n",
       "</table>\n",
       "</div>"
      ],
      "text/plain": [
       "          state  color    food  age  height  score\n",
       "Christina    TX  black   Melon   33     172    9.5\n",
       "Aaron        FL    red   Mango   12     120    9.0\n",
       "Dean         AK   gray  Cheese   32     180    1.8"
      ]
     },
     "execution_count": 30,
     "metadata": {},
     "output_type": "execute_result"
    },
    {
     "data": {
      "text/html": [
       "<div>\n",
       "<style scoped>\n",
       "    .dataframe tbody tr th:only-of-type {\n",
       "        vertical-align: middle;\n",
       "    }\n",
       "\n",
       "    .dataframe tbody tr th {\n",
       "        vertical-align: top;\n",
       "    }\n",
       "\n",
       "    .dataframe thead th {\n",
       "        text-align: right;\n",
       "    }\n",
       "</style>\n",
       "<table border=\"1\" class=\"dataframe\">\n",
       "  <thead>\n",
       "    <tr style=\"text-align: right;\">\n",
       "      <th></th>\n",
       "      <th>state</th>\n",
       "      <th>color</th>\n",
       "      <th>food</th>\n",
       "      <th>age</th>\n",
       "      <th>height</th>\n",
       "      <th>score</th>\n",
       "    </tr>\n",
       "  </thead>\n",
       "  <tbody>\n",
       "    <tr>\n",
       "      <th>Penelope</th>\n",
       "      <td>AL</td>\n",
       "      <td>white</td>\n",
       "      <td>Apple</td>\n",
       "      <td>4</td>\n",
       "      <td>80</td>\n",
       "      <td>3.3</td>\n",
       "    </tr>\n",
       "    <tr>\n",
       "      <th>Dean</th>\n",
       "      <td>AK</td>\n",
       "      <td>gray</td>\n",
       "      <td>Cheese</td>\n",
       "      <td>32</td>\n",
       "      <td>180</td>\n",
       "      <td>1.8</td>\n",
       "    </tr>\n",
       "  </tbody>\n",
       "</table>\n",
       "</div>"
      ],
      "text/plain": [
       "         state  color    food  age  height  score\n",
       "Penelope    AL  white   Apple    4      80    3.3\n",
       "Dean        AK   gray  Cheese   32     180    1.8"
      ]
     },
     "execution_count": 30,
     "metadata": {},
     "output_type": "execute_result"
    },
    {
     "data": {
      "text/html": [
       "<div>\n",
       "<style scoped>\n",
       "    .dataframe tbody tr th:only-of-type {\n",
       "        vertical-align: middle;\n",
       "    }\n",
       "\n",
       "    .dataframe tbody tr th {\n",
       "        vertical-align: top;\n",
       "    }\n",
       "\n",
       "    .dataframe thead th {\n",
       "        text-align: right;\n",
       "    }\n",
       "</style>\n",
       "<table border=\"1\" class=\"dataframe\">\n",
       "  <thead>\n",
       "    <tr style=\"text-align: right;\">\n",
       "      <th></th>\n",
       "      <th>state</th>\n",
       "      <th>color</th>\n",
       "      <th>food</th>\n",
       "      <th>age</th>\n",
       "      <th>height</th>\n",
       "      <th>score</th>\n",
       "    </tr>\n",
       "  </thead>\n",
       "  <tbody>\n",
       "    <tr>\n",
       "      <th>Penelope</th>\n",
       "      <td>AL</td>\n",
       "      <td>white</td>\n",
       "      <td>Apple</td>\n",
       "      <td>4</td>\n",
       "      <td>80</td>\n",
       "      <td>3.3</td>\n",
       "    </tr>\n",
       "    <tr>\n",
       "      <th>Christina</th>\n",
       "      <td>TX</td>\n",
       "      <td>black</td>\n",
       "      <td>Melon</td>\n",
       "      <td>33</td>\n",
       "      <td>172</td>\n",
       "      <td>9.5</td>\n",
       "    </tr>\n",
       "  </tbody>\n",
       "</table>\n",
       "</div>"
      ],
      "text/plain": [
       "          state  color   food  age  height  score\n",
       "Penelope     AL  white  Apple    4      80    3.3\n",
       "Christina    TX  black  Melon   33     172    9.5"
      ]
     },
     "execution_count": 30,
     "metadata": {},
     "output_type": "execute_result"
    },
    {
     "data": {
      "text/html": [
       "<div>\n",
       "<style scoped>\n",
       "    .dataframe tbody tr th:only-of-type {\n",
       "        vertical-align: middle;\n",
       "    }\n",
       "\n",
       "    .dataframe tbody tr th {\n",
       "        vertical-align: top;\n",
       "    }\n",
       "\n",
       "    .dataframe thead th {\n",
       "        text-align: right;\n",
       "    }\n",
       "</style>\n",
       "<table border=\"1\" class=\"dataframe\">\n",
       "  <thead>\n",
       "    <tr style=\"text-align: right;\">\n",
       "      <th></th>\n",
       "      <th>state</th>\n",
       "      <th>height</th>\n",
       "    </tr>\n",
       "  </thead>\n",
       "  <tbody>\n",
       "    <tr>\n",
       "      <th>Aaron</th>\n",
       "      <td>FL</td>\n",
       "      <td>120</td>\n",
       "    </tr>\n",
       "    <tr>\n",
       "      <th>Penelope</th>\n",
       "      <td>AL</td>\n",
       "      <td>80</td>\n",
       "    </tr>\n",
       "  </tbody>\n",
       "</table>\n",
       "</div>"
      ],
      "text/plain": [
       "         state  height\n",
       "Aaron       FL     120\n",
       "Penelope    AL      80"
      ]
     },
     "execution_count": 30,
     "metadata": {},
     "output_type": "execute_result"
    },
    {
     "data": {
      "text/html": [
       "<div>\n",
       "<style scoped>\n",
       "    .dataframe tbody tr th:only-of-type {\n",
       "        vertical-align: middle;\n",
       "    }\n",
       "\n",
       "    .dataframe tbody tr th {\n",
       "        vertical-align: top;\n",
       "    }\n",
       "\n",
       "    .dataframe thead th {\n",
       "        text-align: right;\n",
       "    }\n",
       "</style>\n",
       "<table border=\"1\" class=\"dataframe\">\n",
       "  <thead>\n",
       "    <tr style=\"text-align: right;\">\n",
       "      <th></th>\n",
       "      <th>food</th>\n",
       "      <th>age</th>\n",
       "      <th>height</th>\n",
       "    </tr>\n",
       "  </thead>\n",
       "  <tbody>\n",
       "    <tr>\n",
       "      <th>Aaron</th>\n",
       "      <td>Mango</td>\n",
       "      <td>12</td>\n",
       "      <td>120</td>\n",
       "    </tr>\n",
       "    <tr>\n",
       "      <th>Penelope</th>\n",
       "      <td>Apple</td>\n",
       "      <td>4</td>\n",
       "      <td>80</td>\n",
       "    </tr>\n",
       "    <tr>\n",
       "      <th>Dean</th>\n",
       "      <td>Cheese</td>\n",
       "      <td>32</td>\n",
       "      <td>180</td>\n",
       "    </tr>\n",
       "  </tbody>\n",
       "</table>\n",
       "</div>"
      ],
      "text/plain": [
       "            food  age  height\n",
       "Aaron      Mango   12     120\n",
       "Penelope   Apple    4      80\n",
       "Dean      Cheese   32     180"
      ]
     },
     "execution_count": 30,
     "metadata": {},
     "output_type": "execute_result"
    },
    {
     "data": {
      "text/html": [
       "<div>\n",
       "<style scoped>\n",
       "    .dataframe tbody tr th:only-of-type {\n",
       "        vertical-align: middle;\n",
       "    }\n",
       "\n",
       "    .dataframe tbody tr th {\n",
       "        vertical-align: top;\n",
       "    }\n",
       "\n",
       "    .dataframe thead th {\n",
       "        text-align: right;\n",
       "    }\n",
       "</style>\n",
       "<table border=\"1\" class=\"dataframe\">\n",
       "  <thead>\n",
       "    <tr style=\"text-align: right;\">\n",
       "      <th></th>\n",
       "      <th>food</th>\n",
       "      <th>age</th>\n",
       "      <th>height</th>\n",
       "    </tr>\n",
       "  </thead>\n",
       "  <tbody>\n",
       "    <tr>\n",
       "      <th>Jane</th>\n",
       "      <td>Steak</td>\n",
       "      <td>30</td>\n",
       "      <td>165</td>\n",
       "    </tr>\n",
       "    <tr>\n",
       "      <th>Niko</th>\n",
       "      <td>Lamb</td>\n",
       "      <td>2</td>\n",
       "      <td>70</td>\n",
       "    </tr>\n",
       "    <tr>\n",
       "      <th>Aaron</th>\n",
       "      <td>Mango</td>\n",
       "      <td>12</td>\n",
       "      <td>120</td>\n",
       "    </tr>\n",
       "    <tr>\n",
       "      <th>Penelope</th>\n",
       "      <td>Apple</td>\n",
       "      <td>4</td>\n",
       "      <td>80</td>\n",
       "    </tr>\n",
       "    <tr>\n",
       "      <th>Dean</th>\n",
       "      <td>Cheese</td>\n",
       "      <td>32</td>\n",
       "      <td>180</td>\n",
       "    </tr>\n",
       "    <tr>\n",
       "      <th>Christina</th>\n",
       "      <td>Melon</td>\n",
       "      <td>33</td>\n",
       "      <td>172</td>\n",
       "    </tr>\n",
       "    <tr>\n",
       "      <th>Cornelia</th>\n",
       "      <td>Beans</td>\n",
       "      <td>69</td>\n",
       "      <td>150</td>\n",
       "    </tr>\n",
       "  </tbody>\n",
       "</table>\n",
       "</div>"
      ],
      "text/plain": [
       "             food  age  height\n",
       "Jane        Steak   30     165\n",
       "Niko         Lamb    2      70\n",
       "Aaron       Mango   12     120\n",
       "Penelope    Apple    4      80\n",
       "Dean       Cheese   32     180\n",
       "Christina   Melon   33     172\n",
       "Cornelia    Beans   69     150"
      ]
     },
     "execution_count": 30,
     "metadata": {},
     "output_type": "execute_result"
    }
   ],
   "source": [
    "df.iloc[[5, 2, 4]]\n",
    "\n",
    "df.iloc[3:5]\n",
    "\n",
    "# Select 3rd position to end by 2:\n",
    "df.iloc[3::2]\n",
    "\n",
    "# Select two rows and two columns:\n",
    "df.iloc[[2,3], [0, 4]]\n",
    "\n",
    "# slices for both axes\n",
    "df.iloc[2:5, 2:5]\n",
    "\n",
    "df.iloc[:,2:5]"
   ]
  },
  {
   "cell_type": "markdown",
   "metadata": {
    "hidden": true
   },
   "source": [
    "* Selecting hierarchical columns like the ones returned by grouby\n",
    "\n",
    "**TODO**: How to select multiple rows? \n",
    "\n",
    "```python \n",
    "# Example (EXAMPLE NOT IMPLEMENTED YET)\n",
    "df[('loading_time','median')]\n",
    "\n",
    "```\n"
   ]
  },
  {
   "cell_type": "markdown",
   "metadata": {
    "heading_collapsed": true
   },
   "source": [
    "### Delete colum or row,  reset index,  convert to a type, concat dataframes and sort\n"
   ]
  },
  {
   "cell_type": "markdown",
   "metadata": {
    "hidden": true
   },
   "source": [
    "\n",
    "\n",
    "| Pandas dtype  | Python type | NumPy type                                                     | Usage        |\n",
    "|-------------- | ----------- | -------------------------------------------------------------- | -------------|\n",
    "| object        | str         | string_, unicode_                                              | Text         |\n",
    "| int64         | int         | int_, int8, int16, int32, int64, uint8, uint16, uint32, uint64 | Int,numbers  |\n",
    "| float64       | float       | float_, float16, float32, float64                              | Floa, numbers|\n",
    "| bool          | bool        | bool_                                                          | True/False   |\n",
    "| datetime64    | NA          | datetime64[ns]                                                 | Date n time  |\n",
    "| timedelta[ns] | NA          | NA                                                             | Dif btw times|\n",
    "| category      | NA          | NA                                                             | factors      |\n"
   ]
  },
  {
   "cell_type": "code",
   "execution_count": 44,
   "metadata": {
    "ExecuteTime": {
     "end_time": "2019-10-21T00:45:06.650047Z",
     "start_time": "2019-10-21T00:45:06.618537Z"
    },
    "hidden": true
   },
   "outputs": [
    {
     "name": "stdout",
     "output_type": "stream",
     "text": [
      "<class 'pandas.core.frame.DataFrame'>\n",
      "RangeIndex: 7 entries, 0 to 6\n",
      "Data columns (total 7 columns):\n",
      " #   Column  Non-Null Count  Dtype  \n",
      "---  ------  --------------  -----  \n",
      " 0   index   7 non-null      object \n",
      " 1   state   7 non-null      object \n",
      " 2   color   7 non-null      object \n",
      " 3   food    7 non-null      object \n",
      " 4   age     7 non-null      int64  \n",
      " 5   height  7 non-null      int64  \n",
      " 6   score   7 non-null      float64\n",
      "dtypes: float64(1), int64(2), object(4)\n",
      "memory usage: 520.0+ bytes\n"
     ]
    },
    {
     "data": {
      "text/html": [
       "<div>\n",
       "<style scoped>\n",
       "    .dataframe tbody tr th:only-of-type {\n",
       "        vertical-align: middle;\n",
       "    }\n",
       "\n",
       "    .dataframe tbody tr th {\n",
       "        vertical-align: top;\n",
       "    }\n",
       "\n",
       "    .dataframe thead th {\n",
       "        text-align: right;\n",
       "    }\n",
       "</style>\n",
       "<table border=\"1\" class=\"dataframe\">\n",
       "  <thead>\n",
       "    <tr style=\"text-align: right;\">\n",
       "      <th></th>\n",
       "      <th>index</th>\n",
       "      <th>state</th>\n",
       "      <th>color</th>\n",
       "      <th>food</th>\n",
       "      <th>age</th>\n",
       "      <th>height</th>\n",
       "      <th>score</th>\n",
       "    </tr>\n",
       "  </thead>\n",
       "  <tbody>\n",
       "    <tr>\n",
       "      <th>0</th>\n",
       "      <td>Jane</td>\n",
       "      <td>NY</td>\n",
       "      <td>blue</td>\n",
       "      <td>Steak</td>\n",
       "      <td>30</td>\n",
       "      <td>165</td>\n",
       "      <td>4.6</td>\n",
       "    </tr>\n",
       "    <tr>\n",
       "      <th>1</th>\n",
       "      <td>Niko</td>\n",
       "      <td>TX</td>\n",
       "      <td>green</td>\n",
       "      <td>Lamb</td>\n",
       "      <td>2</td>\n",
       "      <td>70</td>\n",
       "      <td>8.3</td>\n",
       "    </tr>\n",
       "    <tr>\n",
       "      <th>2</th>\n",
       "      <td>Aaron</td>\n",
       "      <td>FL</td>\n",
       "      <td>red</td>\n",
       "      <td>Mango</td>\n",
       "      <td>12</td>\n",
       "      <td>120</td>\n",
       "      <td>9.0</td>\n",
       "    </tr>\n",
       "    <tr>\n",
       "      <th>3</th>\n",
       "      <td>Penelope</td>\n",
       "      <td>AL</td>\n",
       "      <td>white</td>\n",
       "      <td>Apple</td>\n",
       "      <td>4</td>\n",
       "      <td>80</td>\n",
       "      <td>3.3</td>\n",
       "    </tr>\n",
       "    <tr>\n",
       "      <th>4</th>\n",
       "      <td>Dean</td>\n",
       "      <td>AK</td>\n",
       "      <td>gray</td>\n",
       "      <td>Cheese</td>\n",
       "      <td>32</td>\n",
       "      <td>180</td>\n",
       "      <td>1.8</td>\n",
       "    </tr>\n",
       "  </tbody>\n",
       "</table>\n",
       "</div>"
      ],
      "text/plain": [
       "      index state  color    food  age  height  score\n",
       "0      Jane    NY   blue   Steak   30     165    4.6\n",
       "1      Niko    TX  green    Lamb    2      70    8.3\n",
       "2     Aaron    FL    red   Mango   12     120    9.0\n",
       "3  Penelope    AL  white   Apple    4      80    3.3\n",
       "4      Dean    AK   gray  Cheese   32     180    1.8"
      ]
     },
     "execution_count": 44,
     "metadata": {},
     "output_type": "execute_result"
    },
    {
     "data": {
      "text/plain": [
       "(7, 7)"
      ]
     },
     "execution_count": 44,
     "metadata": {},
     "output_type": "execute_result"
    },
    {
     "data": {
      "text/plain": [
       "level_0      int64\n",
       "index       object\n",
       "state       object\n",
       "color       object\n",
       "food        object\n",
       "age          int64\n",
       "height       int64\n",
       "score      float64\n",
       "dtype: object"
      ]
     },
     "execution_count": 44,
     "metadata": {},
     "output_type": "execute_result"
    }
   ],
   "source": [
    "# see more info <= BETTER THAN dtypes for inspection\n",
    "# SHOWS THE AMOUNT OF MEMMORY USED BY DATAFRAME\n",
    "df.info()\n",
    "\n",
    "# drop columns\n",
    "df['B'] = df.food\n",
    "df['C'] = df.age\n",
    "\n",
    "df = df.drop(columns=['B', 'C'])\n",
    "\n",
    "#drop rows by index\n",
    "df.head()\n",
    "#df = df.drop([0, 1])\n",
    "df.shape\n",
    "\n",
    "# reset index\n",
    "df = df.reset_index()\n",
    "\n",
    "# see the types\n",
    "df.dtypes\n",
    "\n",
    "# convert to a type\n",
    "df['Customer Number'] = df['score'].astype('int')"
   ]
  },
  {
   "cell_type": "code",
   "execution_count": null,
   "metadata": {
    "ExecuteTime": {
     "end_time": "2019-10-21T00:45:13.328789Z",
     "start_time": "2019-10-21T00:45:13.317658Z"
    },
    "hidden": true
   },
   "outputs": [],
   "source": [
    "# Ex: using concat (Ex not implemented yet)\n",
    "pages_view = pd.concat(pages, ignore_index= True)\n"
   ]
  },
  {
   "cell_type": "code",
   "execution_count": 31,
   "metadata": {
    "hidden": true
   },
   "outputs": [
    {
     "data": {
      "text/plain": [
       "(830, 7)"
      ]
     },
     "execution_count": 31,
     "metadata": {},
     "output_type": "execute_result"
    },
    {
     "data": {
      "text/html": [
       "<div>\n",
       "<style scoped>\n",
       "    .dataframe tbody tr th:only-of-type {\n",
       "        vertical-align: middle;\n",
       "    }\n",
       "\n",
       "    .dataframe tbody tr th {\n",
       "        vertical-align: top;\n",
       "    }\n",
       "\n",
       "    .dataframe thead th {\n",
       "        text-align: right;\n",
       "    }\n",
       "</style>\n",
       "<table border=\"1\" class=\"dataframe\">\n",
       "  <thead>\n",
       "    <tr style=\"text-align: right;\">\n",
       "      <th></th>\n",
       "      <th>index</th>\n",
       "      <th>date</th>\n",
       "      <th>duration</th>\n",
       "      <th>item</th>\n",
       "      <th>month</th>\n",
       "      <th>network</th>\n",
       "      <th>network_type</th>\n",
       "    </tr>\n",
       "  </thead>\n",
       "  <tbody>\n",
       "    <tr>\n",
       "      <td>0</td>\n",
       "      <td>0</td>\n",
       "      <td>15/10/14 06:58</td>\n",
       "      <td>34.429</td>\n",
       "      <td>data</td>\n",
       "      <td>2014-11</td>\n",
       "      <td>data</td>\n",
       "      <td>data</td>\n",
       "    </tr>\n",
       "    <tr>\n",
       "      <td>1</td>\n",
       "      <td>1</td>\n",
       "      <td>15/10/14 06:58</td>\n",
       "      <td>13.000</td>\n",
       "      <td>call</td>\n",
       "      <td>2014-11</td>\n",
       "      <td>Vodafone</td>\n",
       "      <td>mobile</td>\n",
       "    </tr>\n",
       "    <tr>\n",
       "      <td>2</td>\n",
       "      <td>2</td>\n",
       "      <td>15/10/14 14:46</td>\n",
       "      <td>23.000</td>\n",
       "      <td>call</td>\n",
       "      <td>2014-11</td>\n",
       "      <td>Meteor</td>\n",
       "      <td>mobile</td>\n",
       "    </tr>\n",
       "  </tbody>\n",
       "</table>\n",
       "</div>"
      ],
      "text/plain": [
       "   index            date  duration  item    month   network network_type\n",
       "0      0  15/10/14 06:58    34.429  data  2014-11      data         data\n",
       "1      1  15/10/14 06:58    13.000  call  2014-11  Vodafone       mobile\n",
       "2      2  15/10/14 14:46    23.000  call  2014-11    Meteor       mobile"
      ]
     },
     "execution_count": 31,
     "metadata": {},
     "output_type": "execute_result"
    },
    {
     "name": "stdout",
     "output_type": "stream",
     "text": [
      "idx; 0\n",
      "idx; 100\n",
      "idx; 200\n",
      "idx; 300\n",
      "idx; 400\n",
      "idx; 500\n",
      "idx; 600\n",
      "idx; 700\n",
      "idx; 800\n"
     ]
    },
    {
     "data": {
      "text/html": [
       "<div>\n",
       "<style scoped>\n",
       "    .dataframe tbody tr th:only-of-type {\n",
       "        vertical-align: middle;\n",
       "    }\n",
       "\n",
       "    .dataframe tbody tr th {\n",
       "        vertical-align: top;\n",
       "    }\n",
       "\n",
       "    .dataframe thead th {\n",
       "        text-align: right;\n",
       "    }\n",
       "</style>\n",
       "<table border=\"1\" class=\"dataframe\">\n",
       "  <thead>\n",
       "    <tr style=\"text-align: right;\">\n",
       "      <th></th>\n",
       "      <th>idx</th>\n",
       "      <th>date</th>\n",
       "      <th>network</th>\n",
       "    </tr>\n",
       "  </thead>\n",
       "  <tbody>\n",
       "    <tr>\n",
       "      <td>0</td>\n",
       "      <td>0</td>\n",
       "      <td>15/10/14 06:58</td>\n",
       "      <td>data</td>\n",
       "    </tr>\n",
       "    <tr>\n",
       "      <td>1</td>\n",
       "      <td>1</td>\n",
       "      <td>15/10/14 06:58</td>\n",
       "      <td>Vodafone</td>\n",
       "    </tr>\n",
       "    <tr>\n",
       "      <td>2</td>\n",
       "      <td>2</td>\n",
       "      <td>15/10/14 14:46</td>\n",
       "      <td>Meteor</td>\n",
       "    </tr>\n",
       "  </tbody>\n",
       "</table>\n",
       "</div>"
      ],
      "text/plain": [
       "   idx            date   network\n",
       "0    0  15/10/14 06:58      data\n",
       "1    1  15/10/14 06:58  Vodafone\n",
       "2    2  15/10/14 14:46    Meteor"
      ]
     },
     "execution_count": 31,
     "metadata": {},
     "output_type": "execute_result"
    }
   ],
   "source": [
    "data = pd.read_csv('./data/phone_data.csv')\n",
    "data.shape\n",
    "data.head(3)\n",
    "\n",
    "## Very useful for small datasets\n",
    "## iterate over dataframes \n",
    "list_of_df = list()\n",
    "for idx, row in data.iterrows():\n",
    "\n",
    "    if idx % 100 == 0:\n",
    "    \n",
    "        print('idx; {}'.format(idx))\n",
    "                \n",
    "    df = pd.DataFrame({'idx': idx, 'date': row['date'], 'network': row['network']}, index=[0])\n",
    "    list_of_df.append(df)\n",
    "\n",
    "        \n",
    "new_data = pd.concat(list_of_df, ignore_index=True)\n",
    "\n",
    "new_data.head(3)"
   ]
  },
  {
   "cell_type": "code",
   "execution_count": null,
   "metadata": {
    "hidden": true
   },
   "outputs": [],
   "source": [
    "# Ex: sort\n",
    "df.sort_values(['a', 'b'], ascending=[True, False])"
   ]
  },
  {
   "cell_type": "markdown",
   "metadata": {
    "heading_collapsed": true
   },
   "source": [
    "### Work with category (factors) data\n",
    "\n",
    "https://pbpython.com/categorical-encoding.html\n",
    "\n",
    "* How to convert to category\n",
    "* Label encoding\n",
    "* One hot encode\n",
    "* to_category()\n",
    "\n",
    "\n",
    "Only if I see values\n",
    "See this article http://www.willmcginnis.com/2015/11/29/beyond-one-hot-an-exploration-of-categorical-variables/\n",
    "and the package is here http://contrib.scikit-learn.org/categorical-encoding/\n",
    "    \n",
    "    "
   ]
  },
  {
   "cell_type": "code",
   "execution_count": 25,
   "metadata": {
    "hidden": true
   },
   "outputs": [
    {
     "data": {
      "text/plain": [
       "(array([0, 1, 2, 3]),\n",
       " array(['dowtown', 'false creek', 'west end', 'north van'], dtype=object))"
      ]
     },
     "execution_count": 25,
     "metadata": {},
     "output_type": "execute_result"
    },
    {
     "data": {
      "text/html": [
       "<div>\n",
       "<style scoped>\n",
       "    .dataframe tbody tr th:only-of-type {\n",
       "        vertical-align: middle;\n",
       "    }\n",
       "\n",
       "    .dataframe tbody tr th {\n",
       "        vertical-align: top;\n",
       "    }\n",
       "\n",
       "    .dataframe thead th {\n",
       "        text-align: right;\n",
       "    }\n",
       "</style>\n",
       "<table border=\"1\" class=\"dataframe\">\n",
       "  <thead>\n",
       "    <tr style=\"text-align: right;\">\n",
       "      <th></th>\n",
       "      <th>dowtown</th>\n",
       "      <th>false creek</th>\n",
       "      <th>north van</th>\n",
       "      <th>west end</th>\n",
       "    </tr>\n",
       "  </thead>\n",
       "  <tbody>\n",
       "    <tr>\n",
       "      <th>0</th>\n",
       "      <td>1</td>\n",
       "      <td>0</td>\n",
       "      <td>0</td>\n",
       "      <td>0</td>\n",
       "    </tr>\n",
       "    <tr>\n",
       "      <th>1</th>\n",
       "      <td>0</td>\n",
       "      <td>1</td>\n",
       "      <td>0</td>\n",
       "      <td>0</td>\n",
       "    </tr>\n",
       "    <tr>\n",
       "      <th>2</th>\n",
       "      <td>0</td>\n",
       "      <td>0</td>\n",
       "      <td>0</td>\n",
       "      <td>1</td>\n",
       "    </tr>\n",
       "    <tr>\n",
       "      <th>3</th>\n",
       "      <td>0</td>\n",
       "      <td>0</td>\n",
       "      <td>1</td>\n",
       "      <td>0</td>\n",
       "    </tr>\n",
       "  </tbody>\n",
       "</table>\n",
       "</div>"
      ],
      "text/plain": [
       "   dowtown  false creek  north van  west end\n",
       "0        1            0          0         0\n",
       "1        0            1          0         0\n",
       "2        0            0          0         1\n",
       "3        0            0          1         0"
      ]
     },
     "execution_count": 25,
     "metadata": {},
     "output_type": "execute_result"
    }
   ],
   "source": [
    "## factorize: convert to numerical \n",
    "neighbourhood = [\"dowtown\",\"false creek\", \"west end\", \"north van\"]\n",
    "\n",
    "pd.factorize(neighbourhood)\n",
    "\n",
    "\n",
    "# One hot encode to dummy\n",
    "pd.get_dummies(neighbourhood)\n"
   ]
  },
  {
   "cell_type": "markdown",
   "metadata": {
    "heading_collapsed": true
   },
   "source": [
    "### Missings\n",
    "\n",
    "refs:\n",
    "* https://pandas.pydata.org/pandas-docs/stable/user_guide/missing_data.html\n",
    "\n",
    "\n",
    "Calculating with missings\n",
    "\n",
    "* When summing data, NA (missing) values will be treated as zero.\n",
    "* If the data are all NA, the result will be 0\n",
    "* Cumulative methods like cumsum() and cumprod() ignore NA values by default, but preserve them in the resulting arrays.\n",
    "\n",
    "* NA groups in GroupBy are automatically excluded. This behavior is consistent with R, \n"
   ]
  },
  {
   "cell_type": "code",
   "execution_count": 6,
   "metadata": {
    "hidden": true
   },
   "outputs": [
    {
     "data": {
      "text/plain": [
       "True"
      ]
     },
     "execution_count": 6,
     "metadata": {},
     "output_type": "execute_result"
    },
    {
     "data": {
      "text/plain": [
       "False"
      ]
     },
     "execution_count": 6,
     "metadata": {},
     "output_type": "execute_result"
    }
   ],
   "source": [
    "## XXX: Becarefull\n",
    "\n",
    "None == None\n",
    "\n",
    "np.nan == np.nan"
   ]
  },
  {
   "cell_type": "code",
   "execution_count": 14,
   "metadata": {
    "ExecuteTime": {
     "end_time": "2019-03-08T04:46:54.534947Z",
     "start_time": "2019-03-08T04:46:44.034255Z"
    },
    "hidden": true
   },
   "outputs": [
    {
     "data": {
      "text/plain": [
       "(56160, 2)"
      ]
     },
     "execution_count": 14,
     "metadata": {},
     "output_type": "execute_result"
    },
    {
     "data": {
      "text/html": [
       "<div>\n",
       "<style scoped>\n",
       "    .dataframe tbody tr th:only-of-type {\n",
       "        vertical-align: middle;\n",
       "    }\n",
       "\n",
       "    .dataframe tbody tr th {\n",
       "        vertical-align: top;\n",
       "    }\n",
       "\n",
       "    .dataframe thead th {\n",
       "        text-align: right;\n",
       "    }\n",
       "</style>\n",
       "<table border=\"1\" class=\"dataframe\">\n",
       "  <thead>\n",
       "    <tr style=\"text-align: right;\">\n",
       "      <th></th>\n",
       "      <th>West</th>\n",
       "      <th>East</th>\n",
       "    </tr>\n",
       "    <tr>\n",
       "      <th>Date</th>\n",
       "      <th></th>\n",
       "      <th></th>\n",
       "    </tr>\n",
       "  </thead>\n",
       "  <tbody>\n",
       "    <tr>\n",
       "      <th>2018-03-11 02:00:00</th>\n",
       "      <td>NaN</td>\n",
       "      <td>NaN</td>\n",
       "    </tr>\n",
       "    <tr>\n",
       "      <th>2017-03-12 02:00:00</th>\n",
       "      <td>NaN</td>\n",
       "      <td>NaN</td>\n",
       "    </tr>\n",
       "    <tr>\n",
       "      <th>2016-03-13 02:00:00</th>\n",
       "      <td>NaN</td>\n",
       "      <td>NaN</td>\n",
       "    </tr>\n",
       "    <tr>\n",
       "      <th>2015-04-21 12:00:00</th>\n",
       "      <td>NaN</td>\n",
       "      <td>NaN</td>\n",
       "    </tr>\n",
       "    <tr>\n",
       "      <th>2015-04-21 11:00:00</th>\n",
       "      <td>NaN</td>\n",
       "      <td>NaN</td>\n",
       "    </tr>\n",
       "  </tbody>\n",
       "</table>\n",
       "</div>"
      ],
      "text/plain": [
       "                     West  East\n",
       "Date                           \n",
       "2018-03-11 02:00:00   NaN   NaN\n",
       "2017-03-12 02:00:00   NaN   NaN\n",
       "2016-03-13 02:00:00   NaN   NaN\n",
       "2015-04-21 12:00:00   NaN   NaN\n",
       "2015-04-21 11:00:00   NaN   NaN"
      ]
     },
     "execution_count": 14,
     "metadata": {},
     "output_type": "execute_result"
    },
    {
     "data": {
      "text/plain": [
       "(56151, 2)"
      ]
     },
     "execution_count": 14,
     "metadata": {},
     "output_type": "execute_result"
    },
    {
     "data": {
      "text/html": [
       "<div>\n",
       "<style scoped>\n",
       "    .dataframe tbody tr th:only-of-type {\n",
       "        vertical-align: middle;\n",
       "    }\n",
       "\n",
       "    .dataframe tbody tr th {\n",
       "        vertical-align: top;\n",
       "    }\n",
       "\n",
       "    .dataframe thead th {\n",
       "        text-align: right;\n",
       "    }\n",
       "</style>\n",
       "<table border=\"1\" class=\"dataframe\">\n",
       "  <thead>\n",
       "    <tr style=\"text-align: right;\">\n",
       "      <th></th>\n",
       "      <th>West</th>\n",
       "      <th>East</th>\n",
       "    </tr>\n",
       "    <tr>\n",
       "      <th>Date</th>\n",
       "      <th></th>\n",
       "      <th></th>\n",
       "    </tr>\n",
       "  </thead>\n",
       "  <tbody>\n",
       "    <tr>\n",
       "      <th>2019-02-28 23:00:00</th>\n",
       "      <td>5.0</td>\n",
       "      <td>6.0</td>\n",
       "    </tr>\n",
       "    <tr>\n",
       "      <th>2019-02-28 22:00:00</th>\n",
       "      <td>4.0</td>\n",
       "      <td>27.0</td>\n",
       "    </tr>\n",
       "    <tr>\n",
       "      <th>2019-02-28 21:00:00</th>\n",
       "      <td>16.0</td>\n",
       "      <td>32.0</td>\n",
       "    </tr>\n",
       "    <tr>\n",
       "      <th>2019-02-28 20:00:00</th>\n",
       "      <td>16.0</td>\n",
       "      <td>50.0</td>\n",
       "    </tr>\n",
       "    <tr>\n",
       "      <th>2019-02-28 19:00:00</th>\n",
       "      <td>39.0</td>\n",
       "      <td>59.0</td>\n",
       "    </tr>\n",
       "  </tbody>\n",
       "</table>\n",
       "</div>"
      ],
      "text/plain": [
       "                     West  East\n",
       "Date                           \n",
       "2019-02-28 23:00:00   5.0   6.0\n",
       "2019-02-28 22:00:00   4.0  27.0\n",
       "2019-02-28 21:00:00  16.0  32.0\n",
       "2019-02-28 20:00:00  16.0  50.0\n",
       "2019-02-28 19:00:00  39.0  59.0"
      ]
     },
     "execution_count": 14,
     "metadata": {},
     "output_type": "execute_result"
    }
   ],
   "source": [
    "bikes = pd.read_csv('data/FremontBridge.csv', index_col='Date', parse_dates=True)\n",
    "\n",
    "bikes.columns = ['West', 'East']\n",
    "\n",
    "bikes.shape\n",
    "\n",
    "\n",
    "# visualizing missing at least one column is missing\n",
    "bikes[bikes.isnull().any(axis=1)].head()\n",
    "\n",
    "\n",
    "# removing\n",
    "bikes = bikes.dropna()\n",
    "bikes.shape\n",
    "\n",
    "bikes.head()"
   ]
  },
  {
   "cell_type": "markdown",
   "metadata": {
    "heading_collapsed": true
   },
   "source": [
    "### Interpolation"
   ]
  },
  {
   "cell_type": "code",
   "execution_count": 7,
   "metadata": {
    "hidden": true
   },
   "outputs": [
    {
     "data": {
      "text/html": [
       "<div>\n",
       "<style scoped>\n",
       "    .dataframe tbody tr th:only-of-type {\n",
       "        vertical-align: middle;\n",
       "    }\n",
       "\n",
       "    .dataframe tbody tr th {\n",
       "        vertical-align: top;\n",
       "    }\n",
       "\n",
       "    .dataframe thead th {\n",
       "        text-align: right;\n",
       "    }\n",
       "</style>\n",
       "<table border=\"1\" class=\"dataframe\">\n",
       "  <thead>\n",
       "    <tr style=\"text-align: right;\">\n",
       "      <th></th>\n",
       "      <th>values</th>\n",
       "    </tr>\n",
       "  </thead>\n",
       "  <tbody>\n",
       "    <tr>\n",
       "      <th>2020-02-01</th>\n",
       "      <td>1.0</td>\n",
       "    </tr>\n",
       "    <tr>\n",
       "      <th>2020-02-02</th>\n",
       "      <td>2.0</td>\n",
       "    </tr>\n",
       "    <tr>\n",
       "      <th>2020-02-03</th>\n",
       "      <td>3.0</td>\n",
       "    </tr>\n",
       "    <tr>\n",
       "      <th>2020-02-04</th>\n",
       "      <td>NaN</td>\n",
       "    </tr>\n",
       "    <tr>\n",
       "      <th>2020-02-05</th>\n",
       "      <td>NaN</td>\n",
       "    </tr>\n",
       "    <tr>\n",
       "      <th>2020-02-06</th>\n",
       "      <td>6.0</td>\n",
       "    </tr>\n",
       "    <tr>\n",
       "      <th>2020-02-07</th>\n",
       "      <td>7.0</td>\n",
       "    </tr>\n",
       "    <tr>\n",
       "      <th>2020-02-08</th>\n",
       "      <td>8.0</td>\n",
       "    </tr>\n",
       "  </tbody>\n",
       "</table>\n",
       "</div>"
      ],
      "text/plain": [
       "            values\n",
       "2020-02-01     1.0\n",
       "2020-02-02     2.0\n",
       "2020-02-03     3.0\n",
       "2020-02-04     NaN\n",
       "2020-02-05     NaN\n",
       "2020-02-06     6.0\n",
       "2020-02-07     7.0\n",
       "2020-02-08     8.0"
      ]
     },
     "execution_count": 7,
     "metadata": {},
     "output_type": "execute_result"
    },
    {
     "data": {
      "text/html": [
       "<div>\n",
       "<style scoped>\n",
       "    .dataframe tbody tr th:only-of-type {\n",
       "        vertical-align: middle;\n",
       "    }\n",
       "\n",
       "    .dataframe tbody tr th {\n",
       "        vertical-align: top;\n",
       "    }\n",
       "\n",
       "    .dataframe thead th {\n",
       "        text-align: right;\n",
       "    }\n",
       "</style>\n",
       "<table border=\"1\" class=\"dataframe\">\n",
       "  <thead>\n",
       "    <tr style=\"text-align: right;\">\n",
       "      <th></th>\n",
       "      <th>values</th>\n",
       "    </tr>\n",
       "  </thead>\n",
       "  <tbody>\n",
       "    <tr>\n",
       "      <th>2020-02-01</th>\n",
       "      <td>1.0</td>\n",
       "    </tr>\n",
       "    <tr>\n",
       "      <th>2020-02-02</th>\n",
       "      <td>2.0</td>\n",
       "    </tr>\n",
       "    <tr>\n",
       "      <th>2020-02-03</th>\n",
       "      <td>3.0</td>\n",
       "    </tr>\n",
       "    <tr>\n",
       "      <th>2020-02-04</th>\n",
       "      <td>4.0</td>\n",
       "    </tr>\n",
       "    <tr>\n",
       "      <th>2020-02-05</th>\n",
       "      <td>5.0</td>\n",
       "    </tr>\n",
       "    <tr>\n",
       "      <th>2020-02-06</th>\n",
       "      <td>6.0</td>\n",
       "    </tr>\n",
       "    <tr>\n",
       "      <th>2020-02-07</th>\n",
       "      <td>7.0</td>\n",
       "    </tr>\n",
       "    <tr>\n",
       "      <th>2020-02-08</th>\n",
       "      <td>8.0</td>\n",
       "    </tr>\n",
       "  </tbody>\n",
       "</table>\n",
       "</div>"
      ],
      "text/plain": [
       "            values\n",
       "2020-02-01     1.0\n",
       "2020-02-02     2.0\n",
       "2020-02-03     3.0\n",
       "2020-02-04     4.0\n",
       "2020-02-05     5.0\n",
       "2020-02-06     6.0\n",
       "2020-02-07     7.0\n",
       "2020-02-08     8.0"
      ]
     },
     "execution_count": 7,
     "metadata": {},
     "output_type": "execute_result"
    }
   ],
   "source": [
    "ts = pd.DataFrame({'values': [1, 2, 3, np.nan, np.nan, 6,7,8]},\n",
    "                  index=['2020-02-01','2020-02-02','2020-02-03','2020-02-04','2020-02-05','2020-02-06','2020-02-07','2020-02-08'])\n",
    "\n",
    "ts\n",
    "\n",
    "ts.interpolate()"
   ]
  },
  {
   "cell_type": "markdown",
   "metadata": {
    "heading_collapsed": true
   },
   "source": [
    "### duplicates"
   ]
  },
  {
   "cell_type": "code",
   "execution_count": null,
   "metadata": {
    "ExecuteTime": {
     "end_time": "2019-04-08T22:55:55.100277Z",
     "start_time": "2019-04-08T22:55:55.053383Z"
    },
    "hidden": true
   },
   "outputs": [],
   "source": [
    "data = {'col_1': [3, 2, 3, 0], 'col_2': ['a', 'b', 'a', 'd']}\n",
    "\n",
    "df = pd.DataFrame.from_dict(data)\n",
    "df.head()\n",
    "\n",
    "# last or first <= default or False = drop all cases\n",
    "# subset to ignore olther columns while considering duplicated\n",
    "df = df.drop_duplicates(keep='last',subset=['col_1','col_2'])\n",
    "\n",
    "df.head()"
   ]
  },
  {
   "cell_type": "markdown",
   "metadata": {
    "hidden": true
   },
   "source": [
    "* **Find duplicated for expecting what is happening**  \n",
    "\n",
    "https://pandas.pydata.org/pandas-docs/stable/reference/api/pandas.DataFrame.duplicated.html"
   ]
  },
  {
   "cell_type": "code",
   "execution_count": 71,
   "metadata": {
    "hidden": true
   },
   "outputs": [
    {
     "data": {
      "text/html": [
       "<div>\n",
       "<style scoped>\n",
       "    .dataframe tbody tr th:only-of-type {\n",
       "        vertical-align: middle;\n",
       "    }\n",
       "\n",
       "    .dataframe tbody tr th {\n",
       "        vertical-align: top;\n",
       "    }\n",
       "\n",
       "    .dataframe thead th {\n",
       "        text-align: right;\n",
       "    }\n",
       "</style>\n",
       "<table border=\"1\" class=\"dataframe\">\n",
       "  <thead>\n",
       "    <tr style=\"text-align: right;\">\n",
       "      <th></th>\n",
       "      <th>brand</th>\n",
       "      <th>style</th>\n",
       "      <th>rating</th>\n",
       "    </tr>\n",
       "  </thead>\n",
       "  <tbody>\n",
       "    <tr>\n",
       "      <th>0</th>\n",
       "      <td>Yum Yum</td>\n",
       "      <td>cup</td>\n",
       "      <td>4.0</td>\n",
       "    </tr>\n",
       "    <tr>\n",
       "      <th>1</th>\n",
       "      <td>Yum Yum</td>\n",
       "      <td>cup</td>\n",
       "      <td>4.0</td>\n",
       "    </tr>\n",
       "    <tr>\n",
       "      <th>2</th>\n",
       "      <td>Indomie</td>\n",
       "      <td>cup</td>\n",
       "      <td>3.5</td>\n",
       "    </tr>\n",
       "    <tr>\n",
       "      <th>3</th>\n",
       "      <td>Indomie</td>\n",
       "      <td>pack</td>\n",
       "      <td>15.0</td>\n",
       "    </tr>\n",
       "    <tr>\n",
       "      <th>4</th>\n",
       "      <td>Indomie</td>\n",
       "      <td>pack</td>\n",
       "      <td>5.0</td>\n",
       "    </tr>\n",
       "  </tbody>\n",
       "</table>\n",
       "</div>"
      ],
      "text/plain": [
       "     brand style  rating\n",
       "0  Yum Yum   cup     4.0\n",
       "1  Yum Yum   cup     4.0\n",
       "2  Indomie   cup     3.5\n",
       "3  Indomie  pack    15.0\n",
       "4  Indomie  pack     5.0"
      ]
     },
     "execution_count": 71,
     "metadata": {},
     "output_type": "execute_result"
    },
    {
     "name": "stdout",
     "output_type": "stream",
     "text": [
      "Default only the 2nd  occurency is labeled as duplicated\n"
     ]
    },
    {
     "data": {
      "text/plain": [
       "0    False\n",
       "1     True\n",
       "2    False\n",
       "3    False\n",
       "4    False\n",
       "dtype: bool"
      ]
     },
     "execution_count": 71,
     "metadata": {},
     "output_type": "execute_result"
    },
    {
     "name": "stdout",
     "output_type": "stream",
     "text": [
      "Suing last change the behavior\n"
     ]
    },
    {
     "data": {
      "text/plain": [
       "0     True\n",
       "1    False\n",
       "2    False\n",
       "3    False\n",
       "4    False\n",
       "dtype: bool"
      ]
     },
     "execution_count": 71,
     "metadata": {},
     "output_type": "execute_result"
    },
    {
     "name": "stdout",
     "output_type": "stream",
     "text": [
      "keep label all occurrency as duplicated \n"
     ]
    },
    {
     "data": {
      "text/plain": [
       "0     True\n",
       "1     True\n",
       "2    False\n",
       "3    False\n",
       "4    False\n",
       "dtype: bool"
      ]
     },
     "execution_count": 71,
     "metadata": {},
     "output_type": "execute_result"
    },
    {
     "name": "stdout",
     "output_type": "stream",
     "text": [
      "You can consider only a list of columns\n"
     ]
    },
    {
     "data": {
      "text/plain": [
       "0    False\n",
       "1     True\n",
       "2    False\n",
       "3     True\n",
       "4     True\n",
       "dtype: bool"
      ]
     },
     "execution_count": 71,
     "metadata": {},
     "output_type": "execute_result"
    }
   ],
   "source": [
    "df = pd.DataFrame({\n",
    "    'brand': ['Yum Yum', 'Yum Yum', 'Indomie', 'Indomie', 'Indomie'],\n",
    "    'style': ['cup', 'cup', 'cup', 'pack', 'pack'],\n",
    "    'rating': [4, 4, 3.5, 15, 5]\n",
    "})\n",
    "    \n",
    "df\n",
    "  \n",
    "print('Default only the 2nd  occurency is labeled as duplicated')\n",
    "df.duplicated()\n",
    "\n",
    "print('Suing last change the behavior')\n",
    "df.duplicated(keep='last')\n",
    "\n",
    "print('keep label all occurrency as duplicated ')\n",
    "df.duplicated(keep=False)\n",
    "\n",
    "\n",
    "print('You can consider only a list of columns')\n",
    "df.duplicated(subset=['brand'])"
   ]
  },
  {
   "cell_type": "markdown",
   "metadata": {
    "ExecuteTime": {
     "end_time": "2018-12-03T07:31:05.742891Z",
     "start_time": "2018-12-03T07:31:05.736887Z"
    }
   },
   "source": [
    "### Path manipulations\n",
    "\n",
    "http://pbpython.com/pathlib-intro.html\n"
   ]
  },
  {
   "cell_type": "markdown",
   "metadata": {},
   "source": [
    "<img src=\"images/pathlib_cheatsheet_p1.png\" width=\"650\" align=\"left\"/>"
   ]
  },
  {
   "cell_type": "code",
   "execution_count": 1,
   "metadata": {
    "ExecuteTime": {
     "end_time": "2019-07-19T04:08:42.655092Z",
     "start_time": "2019-07-19T04:08:42.626829Z"
    }
   },
   "outputs": [
    {
     "name": "stdout",
     "output_type": "stream",
     "text": [
      "file: /mnt/sdb1/leandro/ds_pragmatic_programming.txt/in/input.xlsx\n",
      "basename : input.xlsx\n",
      "stem : input\n",
      ".ext : .xlsx\n",
      "dirname : /mnt/sdb1/leandro/ds_pragmatic_programming.txt/in\n",
      "up : in\n",
      "logical checks: is a dir , is a file?\n",
      "Get parts (split)\n",
      "paths, parents ...\n"
     ]
    },
    {
     "data": {
      "text/plain": [
       "<function print>"
      ]
     },
     "execution_count": 1,
     "metadata": {},
     "output_type": "execute_result"
    }
   ],
   "source": [
    "from pathlib import Path\n",
    "\n",
    "in_file_1 = Path.cwd() / \"in\" / \"input.xlsx\"\n",
    "\n",
    "print('file: {}'.format(in_file_1))\n",
    "print('basename : {}'.format(in_file_1.name))\n",
    "print('stem : {}'.format(in_file_1.stem))\n",
    "print('.ext : {}'.format(in_file_1.suffix))\n",
    "print('dirname : {}'.format(in_file_1.parent))\n",
    "print('up : {}'.format(in_file_1.parent.stem))\n",
    "\n",
    "\n",
    "p = Path.cwd()\n",
    "\n",
    "print('logical checks: is a dir , is a file?')\n",
    "p.is_dir()\n",
    "\n",
    "p.is_file()\n",
    "\n",
    "\n",
    "print('Get parts (split)')\n",
    "p.parts\n",
    "\n",
    "\n",
    "print('paths, parents ...')\n",
    "p.absolute()\n",
    "\n",
    "p.parent\n",
    "\n",
    "p.as_uri()\n"
   ]
  },
  {
   "cell_type": "markdown",
   "metadata": {},
   "source": [
    "### String manipulation \n",
    "\n",
    "ref: \n",
    "* https://www.regular-expressions.info/named.html\n",
    "* https://howchoo.com/g/ymfhmtrhyjg/python-regexes-match-objects <= **TODO**\n",
    "\n",
    "* better way to work with regex\n",
    "* basic string manipulation\n",
    "* vectorized string manipulation\n",
    "  (take notes of the pros n crons)\n",
    "    \n",
    "    https://jakevdp.github.io/PythonDataScienceHandbook/03.10-working-with-strings.html\n",
    "\n",
    "    "
   ]
  },
  {
   "cell_type": "code",
   "execution_count": 1,
   "metadata": {},
   "outputs": [
    {
     "data": {
      "text/plain": [
       "'95014'"
      ]
     },
     "execution_count": 1,
     "metadata": {},
     "output_type": "execute_result"
    }
   ],
   "source": [
    "import re\n",
    "\n",
    "address = 'Hello, Tanagara da Serra 95014'\n",
    "\n",
    "# named capturing groups: (?P<city>.+?)\n",
    "city_zip_code_regex = r'.*,\\s*(?P<city>.+?)\\s*(?P<zip_code>\\d{5})?$'\n",
    "matches = re.match(city_zip_code_regex, address)\n",
    "\n",
    "matches['city'] \n",
    "matches['zip_code']\n"
   ]
  },
  {
   "cell_type": "markdown",
   "metadata": {},
   "source": [
    "* **f-string**"
   ]
  },
  {
   "cell_type": "code",
   "execution_count": 1,
   "metadata": {},
   "outputs": [
    {
     "name": "stdout",
     "output_type": "stream",
     "text": [
      "12.30\n",
      "12.30000\n"
     ]
    }
   ],
   "source": [
    "val = 12.3\n",
    "\n",
    "print(f'{val:.2f}')\n",
    "print(f'{val:.5f}')"
   ]
  },
  {
   "cell_type": "markdown",
   "metadata": {},
   "source": [
    "* **pandas series**"
   ]
  },
  {
   "cell_type": "code",
   "execution_count": 11,
   "metadata": {},
   "outputs": [
    {
     "data": {
      "text/plain": [
       "0    False\n",
       "1    False\n",
       "2    False\n",
       "3    False\n",
       "4     True\n",
       "5    False\n",
       "6      NaN\n",
       "dtype: object"
      ]
     },
     "execution_count": 11,
     "metadata": {},
     "output_type": "execute_result"
    },
    {
     "data": {
      "text/plain": [
       "0    False\n",
       "1    False\n",
       "2    False\n",
       "3    False\n",
       "4    False\n",
       "5     True\n",
       "6      NaN\n",
       "dtype: object"
      ]
     },
     "execution_count": 11,
     "metadata": {},
     "output_type": "execute_result"
    },
    {
     "data": {
      "text/plain": [
       "0    False\n",
       "1    False\n",
       "2    False\n",
       "3     True\n",
       "4     True\n",
       "5    False\n",
       "6    False\n",
       "dtype: bool"
      ]
     },
     "execution_count": 11,
     "metadata": {},
     "output_type": "execute_result"
    },
    {
     "data": {
      "text/plain": [
       "0     True\n",
       "1     True\n",
       "2    False\n",
       "3    False\n",
       "4    False\n",
       "5    False\n",
       "6      NaN\n",
       "dtype: object"
      ]
     },
     "execution_count": 11,
     "metadata": {},
     "output_type": "execute_result"
    },
    {
     "data": {
      "text/plain": [
       "0    False\n",
       "1     True\n",
       "2    False\n",
       "3    False\n",
       "4     True\n",
       "5    False\n",
       "6      NaN\n",
       "dtype: object"
      ]
     },
     "execution_count": 11,
     "metadata": {},
     "output_type": "execute_result"
    }
   ],
   "source": [
    "import re\n",
    "\n",
    "s1 = pd.Series(['bear', 'bat','Mouse', 'dog', 'house and parrot', '23', np.NaN])\n",
    "\n",
    "# ignore case\n",
    "s1.str.contains('PARROT', flags=re.IGNORECASE, regex=True)\n",
    "\n",
    "# any digit\n",
    "s1.str.contains('\\\\d', regex=True)\n",
    "\n",
    "# or dog or cat and na  False\n",
    "s1.str.contains('house|dog',na=False, regex=True)\n",
    "\n",
    "# start or end with\n",
    "s1.str.startswith('b')\n",
    "s1.str.endswith('t')\n"
   ]
  },
  {
   "cell_type": "markdown",
   "metadata": {
    "heading_collapsed": true
   },
   "source": [
    "### apply, map and lambda function \n"
   ]
  },
  {
   "cell_type": "code",
   "execution_count": null,
   "metadata": {
    "hidden": true
   },
   "outputs": [],
   "source": [
    "data = pd.read_csv('./data/phone_data.csv', index_col=False)\n",
    "data.shape\n",
    "\n",
    "data.head(5)"
   ]
  },
  {
   "cell_type": "code",
   "execution_count": null,
   "metadata": {
    "hidden": true
   },
   "outputs": [],
   "source": [
    "data['dur_min'] = data.duration.map(lambda d: d/60.00)\n",
    "\n",
    "data['concat'] = data.apply(lambda r: r['network'] + '-' + r['item'], axis=1)\n",
    "\n",
    "# apply with args\n",
    "def _foo(row,const_str):\n",
    "    net = row['network']\n",
    "    return net + '-' +  const_str\n",
    "    \n",
    "data['concat'] = data.apply(_foo, args=('const',), axis=1)\n",
    "\n",
    "\n",
    "data.head(5)"
   ]
  },
  {
   "cell_type": "markdown",
   "metadata": {},
   "source": [
    "## Data summarizations and merge data"
   ]
  },
  {
   "cell_type": "markdown",
   "metadata": {},
   "source": [
    "### Summarize data\n",
    "\n",
    "\n",
    "* descriptive (tables)\n",
    "* groupby\n",
    "* count frequency \n"
   ]
  },
  {
   "cell_type": "code",
   "execution_count": 32,
   "metadata": {
    "ExecuteTime": {
     "end_time": "2019-09-20T17:49:20.133229Z",
     "start_time": "2019-09-20T17:49:19.780490Z"
    }
   },
   "outputs": [
    {
     "data": {
      "text/plain": [
       "(830, 7)"
      ]
     },
     "execution_count": 32,
     "metadata": {},
     "output_type": "execute_result"
    },
    {
     "name": "stdout",
     "output_type": "stream",
     "text": [
      "<class 'pandas.core.frame.DataFrame'>\n",
      "RangeIndex: 830 entries, 0 to 829\n",
      "Data columns (total 7 columns):\n",
      "index           830 non-null int64\n",
      "date            830 non-null datetime64[ns]\n",
      "duration        830 non-null float64\n",
      "item            830 non-null object\n",
      "month           830 non-null object\n",
      "network         830 non-null object\n",
      "network_type    830 non-null object\n",
      "dtypes: datetime64[ns](1), float64(1), int64(1), object(4)\n",
      "memory usage: 45.5+ KB\n"
     ]
    },
    {
     "data": {
      "text/html": [
       "<div>\n",
       "<style scoped>\n",
       "    .dataframe tbody tr th:only-of-type {\n",
       "        vertical-align: middle;\n",
       "    }\n",
       "\n",
       "    .dataframe tbody tr th {\n",
       "        vertical-align: top;\n",
       "    }\n",
       "\n",
       "    .dataframe thead th {\n",
       "        text-align: right;\n",
       "    }\n",
       "</style>\n",
       "<table border=\"1\" class=\"dataframe\">\n",
       "  <thead>\n",
       "    <tr style=\"text-align: right;\">\n",
       "      <th></th>\n",
       "      <th>index</th>\n",
       "      <th>date</th>\n",
       "      <th>duration</th>\n",
       "      <th>item</th>\n",
       "      <th>month</th>\n",
       "      <th>network</th>\n",
       "      <th>network_type</th>\n",
       "    </tr>\n",
       "  </thead>\n",
       "  <tbody>\n",
       "    <tr>\n",
       "      <th>0</th>\n",
       "      <td>0</td>\n",
       "      <td>2014-10-15 06:58:00</td>\n",
       "      <td>34.429</td>\n",
       "      <td>data</td>\n",
       "      <td>2014-11</td>\n",
       "      <td>data</td>\n",
       "      <td>data</td>\n",
       "    </tr>\n",
       "    <tr>\n",
       "      <th>1</th>\n",
       "      <td>1</td>\n",
       "      <td>2014-10-15 06:58:00</td>\n",
       "      <td>13.000</td>\n",
       "      <td>call</td>\n",
       "      <td>2014-11</td>\n",
       "      <td>Vodafone</td>\n",
       "      <td>mobile</td>\n",
       "    </tr>\n",
       "    <tr>\n",
       "      <th>2</th>\n",
       "      <td>2</td>\n",
       "      <td>2014-10-15 14:46:00</td>\n",
       "      <td>23.000</td>\n",
       "      <td>call</td>\n",
       "      <td>2014-11</td>\n",
       "      <td>Meteor</td>\n",
       "      <td>mobile</td>\n",
       "    </tr>\n",
       "    <tr>\n",
       "      <th>3</th>\n",
       "      <td>3</td>\n",
       "      <td>2014-10-15 14:48:00</td>\n",
       "      <td>4.000</td>\n",
       "      <td>call</td>\n",
       "      <td>2014-11</td>\n",
       "      <td>Tesco</td>\n",
       "      <td>mobile</td>\n",
       "    </tr>\n",
       "    <tr>\n",
       "      <th>4</th>\n",
       "      <td>4</td>\n",
       "      <td>2014-10-15 17:27:00</td>\n",
       "      <td>4.000</td>\n",
       "      <td>call</td>\n",
       "      <td>2014-11</td>\n",
       "      <td>Tesco</td>\n",
       "      <td>mobile</td>\n",
       "    </tr>\n",
       "  </tbody>\n",
       "</table>\n",
       "</div>"
      ],
      "text/plain": [
       "   index                date  duration  item    month   network network_type\n",
       "0      0 2014-10-15 06:58:00    34.429  data  2014-11      data         data\n",
       "1      1 2014-10-15 06:58:00    13.000  call  2014-11  Vodafone       mobile\n",
       "2      2 2014-10-15 14:46:00    23.000  call  2014-11    Meteor       mobile\n",
       "3      3 2014-10-15 14:48:00     4.000  call  2014-11     Tesco       mobile\n",
       "4      4 2014-10-15 17:27:00     4.000  call  2014-11     Tesco       mobile"
      ]
     },
     "execution_count": 32,
     "metadata": {},
     "output_type": "execute_result"
    }
   ],
   "source": [
    "data = pd.read_csv('./data/phone_data.csv')\n",
    "data.date = pd.to_datetime(data.date)\n",
    "\n",
    "data.shape\n",
    "data.info()\n",
    "data.head(5)"
   ]
  },
  {
   "cell_type": "markdown",
   "metadata": {
    "heading_collapsed": true
   },
   "source": [
    "#### Count frequency"
   ]
  },
  {
   "cell_type": "code",
   "execution_count": 13,
   "metadata": {
    "ExecuteTime": {
     "end_time": "2019-09-20T17:49:22.463871Z",
     "start_time": "2019-09-20T17:49:22.450868Z"
    },
    "hidden": true
   },
   "outputs": [
    {
     "data": {
      "text/plain": [
       "array(['data', 'call', 'sms'], dtype=object)"
      ]
     },
     "execution_count": 13,
     "metadata": {},
     "output_type": "execute_result"
    },
    {
     "name": "stdout",
     "output_type": "stream",
     "text": [
      "\n"
     ]
    },
    {
     "data": {
      "text/plain": [
       "call    388\n",
       "sms     292\n",
       "data    150\n",
       "Name: item, dtype: int64"
      ]
     },
     "execution_count": 13,
     "metadata": {},
     "output_type": "execute_result"
    }
   ],
   "source": [
    "data.item.unique()\n",
    "print()\n",
    "data.item.value_counts()"
   ]
  },
  {
   "cell_type": "markdown",
   "metadata": {},
   "source": [
    "#### Groupby\n"
   ]
  },
  {
   "cell_type": "markdown",
   "metadata": {},
   "source": [
    "\n",
    "Split-Apply-Combine\n",
    "\n",
    "<img src=\"images/split-apply-combine.png\" width=\"400\" align=\"left\"/>\n"
   ]
  },
  {
   "cell_type": "code",
   "execution_count": 14,
   "metadata": {
    "ExecuteTime": {
     "end_time": "2019-09-20T17:53:30.569772Z",
     "start_time": "2019-09-20T17:53:30.548289Z"
    }
   },
   "outputs": [
    {
     "data": {
      "text/plain": [
       "month    item\n",
       "2014-11  call    107\n",
       "         data     29\n",
       "         sms      94\n",
       "2014-12  call     79\n",
       "         data     30\n",
       "         sms      48\n",
       "2015-01  call     88\n",
       "         data     31\n",
       "         sms      86\n",
       "2015-02  call     67\n",
       "         data     31\n",
       "         sms      39\n",
       "2015-03  call     47\n",
       "         data     29\n",
       "         sms      25\n",
       "dtype: int64"
      ]
     },
     "execution_count": 14,
     "metadata": {},
     "output_type": "execute_result"
    },
    {
     "name": "stdout",
     "output_type": "stream",
     "text": [
      "\n"
     ]
    },
    {
     "data": {
      "text/html": [
       "<div>\n",
       "<style scoped>\n",
       "    .dataframe tbody tr th:only-of-type {\n",
       "        vertical-align: middle;\n",
       "    }\n",
       "\n",
       "    .dataframe tbody tr th {\n",
       "        vertical-align: top;\n",
       "    }\n",
       "\n",
       "    .dataframe thead th {\n",
       "        text-align: right;\n",
       "    }\n",
       "</style>\n",
       "<table border=\"1\" class=\"dataframe\">\n",
       "  <thead>\n",
       "    <tr style=\"text-align: right;\">\n",
       "      <th></th>\n",
       "      <th></th>\n",
       "      <th>index</th>\n",
       "      <th>duration</th>\n",
       "    </tr>\n",
       "    <tr>\n",
       "      <th>month</th>\n",
       "      <th>item</th>\n",
       "      <th></th>\n",
       "      <th></th>\n",
       "    </tr>\n",
       "  </thead>\n",
       "  <tbody>\n",
       "    <tr>\n",
       "      <th rowspan=\"3\" valign=\"top\">2014-11</th>\n",
       "      <th>call</th>\n",
       "      <td>102.467290</td>\n",
       "      <td>238.757009</td>\n",
       "    </tr>\n",
       "    <tr>\n",
       "      <th>data</th>\n",
       "      <td>100.758621</td>\n",
       "      <td>34.429000</td>\n",
       "    </tr>\n",
       "    <tr>\n",
       "      <th>sms</th>\n",
       "      <td>132.457447</td>\n",
       "      <td>1.000000</td>\n",
       "    </tr>\n",
       "    <tr>\n",
       "      <th rowspan=\"3\" valign=\"top\">2014-12</th>\n",
       "      <th>call</th>\n",
       "      <td>312.974684</td>\n",
       "      <td>171.658228</td>\n",
       "    </tr>\n",
       "    <tr>\n",
       "      <th>data</th>\n",
       "      <td>307.533333</td>\n",
       "      <td>34.429000</td>\n",
       "    </tr>\n",
       "    <tr>\n",
       "      <th>sms</th>\n",
       "      <td>300.229167</td>\n",
       "      <td>1.000000</td>\n",
       "    </tr>\n",
       "    <tr>\n",
       "      <th rowspan=\"3\" valign=\"top\">2015-01</th>\n",
       "      <th>call</th>\n",
       "      <td>489.931818</td>\n",
       "      <td>193.977273</td>\n",
       "    </tr>\n",
       "    <tr>\n",
       "      <th>data</th>\n",
       "      <td>472.548387</td>\n",
       "      <td>34.429000</td>\n",
       "    </tr>\n",
       "    <tr>\n",
       "      <th>sms</th>\n",
       "      <td>494.139535</td>\n",
       "      <td>1.000000</td>\n",
       "    </tr>\n",
       "    <tr>\n",
       "      <th rowspan=\"3\" valign=\"top\">2015-02</th>\n",
       "      <th>call</th>\n",
       "      <td>656.641791</td>\n",
       "      <td>215.164179</td>\n",
       "    </tr>\n",
       "    <tr>\n",
       "      <th>data</th>\n",
       "      <td>656.774194</td>\n",
       "      <td>34.429000</td>\n",
       "    </tr>\n",
       "    <tr>\n",
       "      <th>sms</th>\n",
       "      <td>667.769231</td>\n",
       "      <td>1.000000</td>\n",
       "    </tr>\n",
       "    <tr>\n",
       "      <th rowspan=\"3\" valign=\"top\">2015-03</th>\n",
       "      <th>call</th>\n",
       "      <td>773.659574</td>\n",
       "      <td>462.276596</td>\n",
       "    </tr>\n",
       "    <tr>\n",
       "      <th>data</th>\n",
       "      <td>779.896552</td>\n",
       "      <td>34.429000</td>\n",
       "    </tr>\n",
       "    <tr>\n",
       "      <th>sms</th>\n",
       "      <td>788.000000</td>\n",
       "      <td>1.000000</td>\n",
       "    </tr>\n",
       "  </tbody>\n",
       "</table>\n",
       "</div>"
      ],
      "text/plain": [
       "                   index    duration\n",
       "month   item                        \n",
       "2014-11 call  102.467290  238.757009\n",
       "        data  100.758621   34.429000\n",
       "        sms   132.457447    1.000000\n",
       "2014-12 call  312.974684  171.658228\n",
       "        data  307.533333   34.429000\n",
       "        sms   300.229167    1.000000\n",
       "2015-01 call  489.931818  193.977273\n",
       "        data  472.548387   34.429000\n",
       "        sms   494.139535    1.000000\n",
       "2015-02 call  656.641791  215.164179\n",
       "        data  656.774194   34.429000\n",
       "        sms   667.769231    1.000000\n",
       "2015-03 call  773.659574  462.276596\n",
       "        data  779.896552   34.429000\n",
       "        sms   788.000000    1.000000"
      ]
     },
     "execution_count": 14,
     "metadata": {},
     "output_type": "execute_result"
    }
   ],
   "source": [
    "# One option is to compute the group by and compute aggregation laetr as you code\n",
    "# this approachh looks betetr in data wrangling and for plot the results\n",
    "g = data.groupby(['month', 'item'])\n",
    "\n",
    "# group.size is convenient\n",
    "g.size()\n",
    "print()\n",
    "g.mean()"
   ]
  },
  {
   "cell_type": "code",
   "execution_count": 16,
   "metadata": {
    "ExecuteTime": {
     "end_time": "2019-09-20T17:52:55.355131Z",
     "start_time": "2019-09-20T17:52:55.111839Z"
    }
   },
   "outputs": [
    {
     "data": {
      "image/png": "[encoded data removed]",
      "text/plain": [
       "<Figure size 432x288 with 1 Axes>"
      ]
     },
     "metadata": {
      "needs_background": "light"
     },
     "output_type": "display_data"
    }
   ],
   "source": [
    "plt.figure()\n",
    "plt.scatter(g.duration.mean(),g.size(),edgecolor = 'none',alpha = 0.2, s=20, c='b')\n",
    "plt.xlabel('Group mean relative date')\n",
    "plt.ylabel('Group size')\n",
    "plt.title('Train');"
   ]
  },
  {
   "cell_type": "code",
   "execution_count": 44,
   "metadata": {
    "ExecuteTime": {
     "end_time": "2019-06-26T22:53:33.930715Z",
     "start_time": "2019-06-26T22:53:33.851129Z"
    }
   },
   "outputs": [
    {
     "name": "stderr",
     "output_type": "stream",
     "text": [
      "/home/leandroohf/algo-pricing/algo-env3.6/lib/python3.6/site-packages/ipykernel_launcher.py:11: RuntimeWarning: divide by zero encountered in double_scalars\n",
      "  # This is added back by InteractiveShellApp.init_path()\n",
      "/home/leandroohf/algo-pricing/algo-env3.6/lib/python3.6/site-packages/ipykernel_launcher.py:16: FutureWarning: \n",
      "The current behaviour of 'Series.argmin' is deprecated, use 'idxmin'\n",
      "instead.\n",
      "The behavior of 'argmin' will be corrected to return the positional\n",
      "minimum in the future. For now, use 'series.values.argmin' or\n",
      "'np.argmin(np.array(values))' to get the position of the minimum\n",
      "row.\n",
      "  app.launch_new_instance()\n"
     ]
    },
    {
     "data": {
      "text/html": [
       "<div>\n",
       "<style scoped>\n",
       "    .dataframe tbody tr th:only-of-type {\n",
       "        vertical-align: middle;\n",
       "    }\n",
       "\n",
       "    .dataframe tbody tr th {\n",
       "        vertical-align: top;\n",
       "    }\n",
       "\n",
       "    .dataframe thead tr th {\n",
       "        text-align: left;\n",
       "    }\n",
       "</style>\n",
       "<table border=\"1\" class=\"dataframe\">\n",
       "  <thead>\n",
       "    <tr>\n",
       "      <th></th>\n",
       "      <th>month</th>\n",
       "      <th>item</th>\n",
       "      <th colspan=\"9\" halign=\"left\">duration</th>\n",
       "      <th colspan=\"5\" halign=\"left\">date</th>\n",
       "      <th colspan=\"2\" halign=\"left\">network_type</th>\n",
       "    </tr>\n",
       "    <tr>\n",
       "      <th></th>\n",
       "      <th></th>\n",
       "      <th></th>\n",
       "      <th>min</th>\n",
       "      <th>1q</th>\n",
       "      <th>median</th>\n",
       "      <th>3q</th>\n",
       "      <th>max</th>\n",
       "      <th>std</th>\n",
       "      <th>cv</th>\n",
       "      <th>idx_max</th>\n",
       "      <th>date_of_max</th>\n",
       "      <th>first</th>\n",
       "      <th>min</th>\n",
       "      <th>last</th>\n",
       "      <th>max</th>\n",
       "      <th>most_recent_duration</th>\n",
       "      <th>nunique</th>\n",
       "      <th>count</th>\n",
       "    </tr>\n",
       "  </thead>\n",
       "  <tbody>\n",
       "    <tr>\n",
       "      <th>1</th>\n",
       "      <td>2014-11</td>\n",
       "      <td>data</td>\n",
       "      <td>34.429</td>\n",
       "      <td>34.429</td>\n",
       "      <td>34.429</td>\n",
       "      <td>34.429</td>\n",
       "      <td>34.429</td>\n",
       "      <td>0.000000</td>\n",
       "      <td>4.845451e+15</td>\n",
       "      <td>0.0</td>\n",
       "      <td>2014-10-15 06:58:00</td>\n",
       "      <td>2014-10-15 06:58:00</td>\n",
       "      <td>2014-01-11 06:58:00</td>\n",
       "      <td>2014-12-11 06:58:00</td>\n",
       "      <td>2014-12-11 06:58:00</td>\n",
       "      <td>34.429</td>\n",
       "      <td>1</td>\n",
       "      <td>29</td>\n",
       "    </tr>\n",
       "    <tr>\n",
       "      <th>4</th>\n",
       "      <td>2014-12</td>\n",
       "      <td>data</td>\n",
       "      <td>34.429</td>\n",
       "      <td>34.429</td>\n",
       "      <td>34.429</td>\n",
       "      <td>34.429</td>\n",
       "      <td>34.429</td>\n",
       "      <td>0.000000</td>\n",
       "      <td>4.845451e+15</td>\n",
       "      <td>228.0</td>\n",
       "      <td>2014-11-13 06:58:00</td>\n",
       "      <td>2014-11-13 06:58:00</td>\n",
       "      <td>2014-01-12 06:58:00</td>\n",
       "      <td>2014-12-12 06:58:00</td>\n",
       "      <td>2014-12-12 06:58:00</td>\n",
       "      <td>34.429</td>\n",
       "      <td>1</td>\n",
       "      <td>30</td>\n",
       "    </tr>\n",
       "    <tr>\n",
       "      <th>7</th>\n",
       "      <td>2015-01</td>\n",
       "      <td>data</td>\n",
       "      <td>34.429</td>\n",
       "      <td>34.429</td>\n",
       "      <td>34.429</td>\n",
       "      <td>34.429</td>\n",
       "      <td>34.429</td>\n",
       "      <td>0.000000</td>\n",
       "      <td>inf</td>\n",
       "      <td>381.0</td>\n",
       "      <td>2014-12-13 06:58:00</td>\n",
       "      <td>2014-12-13 06:58:00</td>\n",
       "      <td>2014-12-13 06:58:00</td>\n",
       "      <td>2015-12-01 06:58:00</td>\n",
       "      <td>2015-12-01 06:58:00</td>\n",
       "      <td>34.429</td>\n",
       "      <td>1</td>\n",
       "      <td>31</td>\n",
       "    </tr>\n",
       "    <tr>\n",
       "      <th>10</th>\n",
       "      <td>2015-02</td>\n",
       "      <td>data</td>\n",
       "      <td>34.429</td>\n",
       "      <td>34.429</td>\n",
       "      <td>34.429</td>\n",
       "      <td>34.429</td>\n",
       "      <td>34.429</td>\n",
       "      <td>0.000000</td>\n",
       "      <td>inf</td>\n",
       "      <td>577.0</td>\n",
       "      <td>2015-01-13 06:58:00</td>\n",
       "      <td>2015-01-13 06:58:00</td>\n",
       "      <td>2015-01-02 06:58:00</td>\n",
       "      <td>2015-12-02 06:58:00</td>\n",
       "      <td>2015-12-02 06:58:00</td>\n",
       "      <td>34.429</td>\n",
       "      <td>1</td>\n",
       "      <td>31</td>\n",
       "    </tr>\n",
       "    <tr>\n",
       "      <th>13</th>\n",
       "      <td>2015-03</td>\n",
       "      <td>data</td>\n",
       "      <td>34.429</td>\n",
       "      <td>34.429</td>\n",
       "      <td>34.429</td>\n",
       "      <td>34.429</td>\n",
       "      <td>34.429</td>\n",
       "      <td>0.000000</td>\n",
       "      <td>4.845451e+15</td>\n",
       "      <td>731.0</td>\n",
       "      <td>2015-02-13 06:58:00</td>\n",
       "      <td>2015-02-13 06:58:00</td>\n",
       "      <td>2015-01-03 06:58:00</td>\n",
       "      <td>2015-03-13 06:58:00</td>\n",
       "      <td>2015-12-03 06:58:00</td>\n",
       "      <td>34.429</td>\n",
       "      <td>1</td>\n",
       "      <td>29</td>\n",
       "    </tr>\n",
       "    <tr>\n",
       "      <th>3</th>\n",
       "      <td>2014-12</td>\n",
       "      <td>call</td>\n",
       "      <td>2.000</td>\n",
       "      <td>10.500</td>\n",
       "      <td>55.000</td>\n",
       "      <td>152.000</td>\n",
       "      <td>2120.000</td>\n",
       "      <td>324.731798</td>\n",
       "      <td>1.704528e-01</td>\n",
       "      <td>252.0</td>\n",
       "      <td>2014-11-19 18:56:00</td>\n",
       "      <td>2014-11-14 17:24:00</td>\n",
       "      <td>2014-02-12 11:40:00</td>\n",
       "      <td>2014-12-14 19:54:00</td>\n",
       "      <td>2014-12-14 19:54:00</td>\n",
       "      <td>526.000</td>\n",
       "      <td>3</td>\n",
       "      <td>79</td>\n",
       "    </tr>\n",
       "    <tr>\n",
       "      <th>6</th>\n",
       "      <td>2015-01</td>\n",
       "      <td>call</td>\n",
       "      <td>2.000</td>\n",
       "      <td>15.500</td>\n",
       "      <td>55.500</td>\n",
       "      <td>273.500</td>\n",
       "      <td>1859.000</td>\n",
       "      <td>300.671661</td>\n",
       "      <td>1.856445e-01</td>\n",
       "      <td>398.0</td>\n",
       "      <td>2014-12-17 18:08:00</td>\n",
       "      <td>2014-12-15 20:03:00</td>\n",
       "      <td>2014-12-15 20:03:00</td>\n",
       "      <td>2015-01-14 20:47:00</td>\n",
       "      <td>2015-12-01 18:23:00</td>\n",
       "      <td>4.000</td>\n",
       "      <td>3</td>\n",
       "      <td>88</td>\n",
       "    </tr>\n",
       "  </tbody>\n",
       "</table>\n",
       "</div>"
      ],
      "text/plain": [
       "      month  item duration                                                 \\\n",
       "                       min      1q  median       3q       max         std   \n",
       "1   2014-11  data   34.429  34.429  34.429   34.429    34.429    0.000000   \n",
       "4   2014-12  data   34.429  34.429  34.429   34.429    34.429    0.000000   \n",
       "7   2015-01  data   34.429  34.429  34.429   34.429    34.429    0.000000   \n",
       "10  2015-02  data   34.429  34.429  34.429   34.429    34.429    0.000000   \n",
       "13  2015-03  data   34.429  34.429  34.429   34.429    34.429    0.000000   \n",
       "3   2014-12  call    2.000  10.500  55.000  152.000  2120.000  324.731798   \n",
       "6   2015-01  call    2.000  15.500  55.500  273.500  1859.000  300.671661   \n",
       "\n",
       "                                                            date  \\\n",
       "              cv idx_max         date_of_max               first   \n",
       "1   4.845451e+15     0.0 2014-10-15 06:58:00 2014-10-15 06:58:00   \n",
       "4   4.845451e+15   228.0 2014-11-13 06:58:00 2014-11-13 06:58:00   \n",
       "7            inf   381.0 2014-12-13 06:58:00 2014-12-13 06:58:00   \n",
       "10           inf   577.0 2015-01-13 06:58:00 2015-01-13 06:58:00   \n",
       "13  4.845451e+15   731.0 2015-02-13 06:58:00 2015-02-13 06:58:00   \n",
       "3   1.704528e-01   252.0 2014-11-19 18:56:00 2014-11-14 17:24:00   \n",
       "6   1.856445e-01   398.0 2014-12-17 18:08:00 2014-12-15 20:03:00   \n",
       "\n",
       "                                                                \\\n",
       "                   min                last                 max   \n",
       "1  2014-01-11 06:58:00 2014-12-11 06:58:00 2014-12-11 06:58:00   \n",
       "4  2014-01-12 06:58:00 2014-12-12 06:58:00 2014-12-12 06:58:00   \n",
       "7  2014-12-13 06:58:00 2015-12-01 06:58:00 2015-12-01 06:58:00   \n",
       "10 2015-01-02 06:58:00 2015-12-02 06:58:00 2015-12-02 06:58:00   \n",
       "13 2015-01-03 06:58:00 2015-03-13 06:58:00 2015-12-03 06:58:00   \n",
       "3  2014-02-12 11:40:00 2014-12-14 19:54:00 2014-12-14 19:54:00   \n",
       "6  2014-12-15 20:03:00 2015-01-14 20:47:00 2015-12-01 18:23:00   \n",
       "\n",
       "                        network_type        \n",
       "   most_recent_duration      nunique count  \n",
       "1                34.429            1    29  \n",
       "4                34.429            1    30  \n",
       "7                34.429            1    31  \n",
       "10               34.429            1    31  \n",
       "13               34.429            1    29  \n",
       "3               526.000            3    79  \n",
       "6                 4.000            3    88  "
      ]
     },
     "execution_count": 44,
     "metadata": {},
     "output_type": "execute_result"
    }
   ],
   "source": [
    "# XXX: DEPRECATED THIS SYNTAX. \n",
    "# TODO: HOW TO ACHIVE THE SAME COMPUTATION WITH THE NEW SYNTA\n",
    "# Group the data frame by month and item and extract a number of stats from each group\n",
    "data.groupby(['month', 'item'], as_index=False).aggregate({\n",
    "                                     'duration': ['min', \n",
    "                                                  ('1q', lambda x: np.percentile(x,25)),\n",
    "                                                  ('median', np.median),\n",
    "                                                  ('3q', lambda x: np.percentile(x,75)), \n",
    "                                                  ('max', max),\n",
    "                                                  ('std', np.std), \n",
    "                                                  ('cv', lambda x: np.median(x)/np.std(x)),\n",
    "                                                  ('idx_max', lambda x: x.idxmax()),\n",
    "                                                  ('date_of_max', lambda x: data.loc[x.idxmax(),['date']])],\n",
    "                                     'date':  ['first', # get the first row. Good if it is ordered \n",
    "                                               'min', # get the first date\n",
    "                                               'last','max',\n",
    "                                              ('most_recent_duration', lambda x: data.loc[x.argmin(), ['duration']])],       \n",
    "                                     'network_type': ['nunique', 'count']\n",
    "                                        }).sort_values(by=[('duration','min')],ascending=False, na_position='last').head(7)\n"
   ]
  },
  {
   "cell_type": "code",
   "execution_count": 43,
   "metadata": {},
   "outputs": [
    {
     "data": {
      "text/html": [
       "<div>\n",
       "<style scoped>\n",
       "    .dataframe tbody tr th:only-of-type {\n",
       "        vertical-align: middle;\n",
       "    }\n",
       "\n",
       "    .dataframe tbody tr th {\n",
       "        vertical-align: top;\n",
       "    }\n",
       "\n",
       "    .dataframe thead th {\n",
       "        text-align: right;\n",
       "    }\n",
       "</style>\n",
       "<table border=\"1\" class=\"dataframe\">\n",
       "  <thead>\n",
       "    <tr style=\"text-align: right;\">\n",
       "      <th></th>\n",
       "      <th>index</th>\n",
       "      <th>date</th>\n",
       "      <th>duration</th>\n",
       "      <th>item</th>\n",
       "      <th>month</th>\n",
       "      <th>network</th>\n",
       "      <th>network_type</th>\n",
       "    </tr>\n",
       "  </thead>\n",
       "  <tbody>\n",
       "    <tr>\n",
       "      <th>151</th>\n",
       "      <td>151</td>\n",
       "      <td>2014-05-11 06:58:00</td>\n",
       "      <td>34.429</td>\n",
       "      <td>data</td>\n",
       "      <td>2014-11</td>\n",
       "      <td>data</td>\n",
       "      <td>data</td>\n",
       "    </tr>\n",
       "    <tr>\n",
       "      <th>131</th>\n",
       "      <td>131</td>\n",
       "      <td>2014-04-11 06:58:00</td>\n",
       "      <td>34.429</td>\n",
       "      <td>data</td>\n",
       "      <td>2014-11</td>\n",
       "      <td>data</td>\n",
       "      <td>data</td>\n",
       "    </tr>\n",
       "    <tr>\n",
       "      <th>120</th>\n",
       "      <td>120</td>\n",
       "      <td>2014-03-11 06:58:00</td>\n",
       "      <td>34.429</td>\n",
       "      <td>data</td>\n",
       "      <td>2014-11</td>\n",
       "      <td>data</td>\n",
       "      <td>data</td>\n",
       "    </tr>\n",
       "    <tr>\n",
       "      <th>114</th>\n",
       "      <td>114</td>\n",
       "      <td>2014-02-11 06:58:00</td>\n",
       "      <td>34.429</td>\n",
       "      <td>data</td>\n",
       "      <td>2014-11</td>\n",
       "      <td>data</td>\n",
       "      <td>data</td>\n",
       "    </tr>\n",
       "    <tr>\n",
       "      <th>111</th>\n",
       "      <td>111</td>\n",
       "      <td>2014-01-11 06:58:00</td>\n",
       "      <td>34.429</td>\n",
       "      <td>data</td>\n",
       "      <td>2014-11</td>\n",
       "      <td>data</td>\n",
       "      <td>data</td>\n",
       "    </tr>\n",
       "  </tbody>\n",
       "</table>\n",
       "</div>"
      ],
      "text/plain": [
       "     index                date  duration  item    month network network_type\n",
       "151    151 2014-05-11 06:58:00    34.429  data  2014-11    data         data\n",
       "131    131 2014-04-11 06:58:00    34.429  data  2014-11    data         data\n",
       "120    120 2014-03-11 06:58:00    34.429  data  2014-11    data         data\n",
       "114    114 2014-02-11 06:58:00    34.429  data  2014-11    data         data\n",
       "111    111 2014-01-11 06:58:00    34.429  data  2014-11    data         data"
      ]
     },
     "execution_count": 43,
     "metadata": {},
     "output_type": "execute_result"
    }
   ],
   "source": [
    "df2 = data[(data.month == \"2014-11\") & (data.network == \"data\")]\n",
    "\n",
    "df2.sort_values(by=[\"date\"],ascending=False).tail(5)"
   ]
  },
  {
   "cell_type": "markdown",
   "metadata": {},
   "source": [
    "#### crosstab"
   ]
  },
  {
   "cell_type": "code",
   "execution_count": 7,
   "metadata": {
    "ExecuteTime": {
     "end_time": "2018-12-03T06:31:58.058543Z",
     "start_time": "2018-12-03T06:31:57.994453Z"
    }
   },
   "outputs": [
    {
     "data": {
      "text/html": [
       "<div>\n",
       "<style scoped>\n",
       "    .dataframe tbody tr th:only-of-type {\n",
       "        vertical-align: middle;\n",
       "    }\n",
       "\n",
       "    .dataframe tbody tr th {\n",
       "        vertical-align: top;\n",
       "    }\n",
       "\n",
       "    .dataframe thead th {\n",
       "        text-align: right;\n",
       "    }\n",
       "</style>\n",
       "<table border=\"1\" class=\"dataframe\">\n",
       "  <thead>\n",
       "    <tr style=\"text-align: right;\">\n",
       "      <th></th>\n",
       "      <th>network_type</th>\n",
       "      <th>item</th>\n",
       "    </tr>\n",
       "  </thead>\n",
       "  <tbody>\n",
       "    <tr>\n",
       "      <th>0</th>\n",
       "      <td>data</td>\n",
       "      <td>data</td>\n",
       "    </tr>\n",
       "    <tr>\n",
       "      <th>1</th>\n",
       "      <td>mobile</td>\n",
       "      <td>call</td>\n",
       "    </tr>\n",
       "    <tr>\n",
       "      <th>2</th>\n",
       "      <td>mobile</td>\n",
       "      <td>call</td>\n",
       "    </tr>\n",
       "    <tr>\n",
       "      <th>3</th>\n",
       "      <td>mobile</td>\n",
       "      <td>call</td>\n",
       "    </tr>\n",
       "    <tr>\n",
       "      <th>4</th>\n",
       "      <td>mobile</td>\n",
       "      <td>call</td>\n",
       "    </tr>\n",
       "  </tbody>\n",
       "</table>\n",
       "</div>"
      ],
      "text/plain": [
       "  network_type  item\n",
       "0         data  data\n",
       "1       mobile  call\n",
       "2       mobile  call\n",
       "3       mobile  call\n",
       "4       mobile  call"
      ]
     },
     "execution_count": 7,
     "metadata": {},
     "output_type": "execute_result"
    },
    {
     "data": {
      "text/html": [
       "<div>\n",
       "<style scoped>\n",
       "    .dataframe tbody tr th:only-of-type {\n",
       "        vertical-align: middle;\n",
       "    }\n",
       "\n",
       "    .dataframe tbody tr th {\n",
       "        vertical-align: top;\n",
       "    }\n",
       "\n",
       "    .dataframe thead th {\n",
       "        text-align: right;\n",
       "    }\n",
       "</style>\n",
       "<table border=\"1\" class=\"dataframe\">\n",
       "  <thead>\n",
       "    <tr style=\"text-align: right;\">\n",
       "      <th>item</th>\n",
       "      <th>call</th>\n",
       "      <th>data</th>\n",
       "      <th>sms</th>\n",
       "      <th>Total</th>\n",
       "    </tr>\n",
       "    <tr>\n",
       "      <th>network_type</th>\n",
       "      <th></th>\n",
       "      <th></th>\n",
       "      <th></th>\n",
       "      <th></th>\n",
       "    </tr>\n",
       "  </thead>\n",
       "  <tbody>\n",
       "    <tr>\n",
       "      <th>data</th>\n",
       "      <td>0</td>\n",
       "      <td>150</td>\n",
       "      <td>0</td>\n",
       "      <td>150</td>\n",
       "    </tr>\n",
       "    <tr>\n",
       "      <th>landline</th>\n",
       "      <td>42</td>\n",
       "      <td>0</td>\n",
       "      <td>0</td>\n",
       "      <td>42</td>\n",
       "    </tr>\n",
       "    <tr>\n",
       "      <th>mobile</th>\n",
       "      <td>319</td>\n",
       "      <td>0</td>\n",
       "      <td>282</td>\n",
       "      <td>601</td>\n",
       "    </tr>\n",
       "    <tr>\n",
       "      <th>special</th>\n",
       "      <td>0</td>\n",
       "      <td>0</td>\n",
       "      <td>3</td>\n",
       "      <td>3</td>\n",
       "    </tr>\n",
       "    <tr>\n",
       "      <th>voicemail</th>\n",
       "      <td>27</td>\n",
       "      <td>0</td>\n",
       "      <td>0</td>\n",
       "      <td>27</td>\n",
       "    </tr>\n",
       "    <tr>\n",
       "      <th>world</th>\n",
       "      <td>0</td>\n",
       "      <td>0</td>\n",
       "      <td>7</td>\n",
       "      <td>7</td>\n",
       "    </tr>\n",
       "    <tr>\n",
       "      <th>Total</th>\n",
       "      <td>388</td>\n",
       "      <td>150</td>\n",
       "      <td>292</td>\n",
       "      <td>830</td>\n",
       "    </tr>\n",
       "  </tbody>\n",
       "</table>\n",
       "</div>"
      ],
      "text/plain": [
       "item          call  data  sms  Total\n",
       "network_type                        \n",
       "data             0   150    0    150\n",
       "landline        42     0    0     42\n",
       "mobile         319     0  282    601\n",
       "special          0     0    3      3\n",
       "voicemail       27     0    0     27\n",
       "world            0     0    7      7\n",
       "Total          388   150  292    830"
      ]
     },
     "execution_count": 7,
     "metadata": {},
     "output_type": "execute_result"
    },
    {
     "data": {
      "text/html": [
       "<div>\n",
       "<style scoped>\n",
       "    .dataframe tbody tr th:only-of-type {\n",
       "        vertical-align: middle;\n",
       "    }\n",
       "\n",
       "    .dataframe tbody tr th {\n",
       "        vertical-align: top;\n",
       "    }\n",
       "\n",
       "    .dataframe thead th {\n",
       "        text-align: right;\n",
       "    }\n",
       "</style>\n",
       "<table border=\"1\" class=\"dataframe\">\n",
       "  <thead>\n",
       "    <tr style=\"text-align: right;\">\n",
       "      <th>item</th>\n",
       "      <th>call</th>\n",
       "      <th>data</th>\n",
       "      <th>sms</th>\n",
       "    </tr>\n",
       "    <tr>\n",
       "      <th>network_type</th>\n",
       "      <th></th>\n",
       "      <th></th>\n",
       "      <th></th>\n",
       "    </tr>\n",
       "  </thead>\n",
       "  <tbody>\n",
       "    <tr>\n",
       "      <th>data</th>\n",
       "      <td>0.000000</td>\n",
       "      <td>0.180723</td>\n",
       "      <td>0.000000</td>\n",
       "    </tr>\n",
       "    <tr>\n",
       "      <th>landline</th>\n",
       "      <td>0.050602</td>\n",
       "      <td>0.000000</td>\n",
       "      <td>0.000000</td>\n",
       "    </tr>\n",
       "    <tr>\n",
       "      <th>mobile</th>\n",
       "      <td>0.384337</td>\n",
       "      <td>0.000000</td>\n",
       "      <td>0.339759</td>\n",
       "    </tr>\n",
       "    <tr>\n",
       "      <th>special</th>\n",
       "      <td>0.000000</td>\n",
       "      <td>0.000000</td>\n",
       "      <td>0.003614</td>\n",
       "    </tr>\n",
       "    <tr>\n",
       "      <th>voicemail</th>\n",
       "      <td>0.032530</td>\n",
       "      <td>0.000000</td>\n",
       "      <td>0.000000</td>\n",
       "    </tr>\n",
       "    <tr>\n",
       "      <th>world</th>\n",
       "      <td>0.000000</td>\n",
       "      <td>0.000000</td>\n",
       "      <td>0.008434</td>\n",
       "    </tr>\n",
       "  </tbody>\n",
       "</table>\n",
       "</div>"
      ],
      "text/plain": [
       "item              call      data       sms\n",
       "network_type                              \n",
       "data          0.000000  0.180723  0.000000\n",
       "landline      0.050602  0.000000  0.000000\n",
       "mobile        0.384337  0.000000  0.339759\n",
       "special       0.000000  0.000000  0.003614\n",
       "voicemail     0.032530  0.000000  0.000000\n",
       "world         0.000000  0.000000  0.008434"
      ]
     },
     "execution_count": 7,
     "metadata": {},
     "output_type": "execute_result"
    }
   ],
   "source": [
    "data[['network_type','item']].head(5)\n",
    "\n",
    "pd.crosstab(data.network_type, data.item, margins=True, margins_name=\"Total\")\n",
    "\n",
    "pd.crosstab(data.network_type, data.item, normalize=True)"
   ]
  },
  {
   "cell_type": "markdown",
   "metadata": {},
   "source": [
    "**comparing with groub by and pivot table**\n",
    "\n",
    "crosstabe is more easy to read and do not have the extr steps"
   ]
  },
  {
   "cell_type": "code",
   "execution_count": 5,
   "metadata": {
    "ExecuteTime": {
     "end_time": "2018-12-03T06:36:33.987575Z",
     "start_time": "2018-12-03T06:36:33.936219Z"
    }
   },
   "outputs": [
    {
     "data": {
      "text/html": [
       "<div>\n",
       "<style scoped>\n",
       "    .dataframe tbody tr th:only-of-type {\n",
       "        vertical-align: middle;\n",
       "    }\n",
       "\n",
       "    .dataframe tbody tr th {\n",
       "        vertical-align: top;\n",
       "    }\n",
       "\n",
       "    .dataframe thead th {\n",
       "        text-align: right;\n",
       "    }\n",
       "</style>\n",
       "<table border=\"1\" class=\"dataframe\">\n",
       "  <thead>\n",
       "    <tr style=\"text-align: right;\">\n",
       "      <th>item</th>\n",
       "      <th>call</th>\n",
       "      <th>data</th>\n",
       "      <th>sms</th>\n",
       "    </tr>\n",
       "    <tr>\n",
       "      <th>network_type</th>\n",
       "      <th></th>\n",
       "      <th></th>\n",
       "      <th></th>\n",
       "    </tr>\n",
       "  </thead>\n",
       "  <tbody>\n",
       "    <tr>\n",
       "      <th>data</th>\n",
       "      <td>0</td>\n",
       "      <td>150</td>\n",
       "      <td>0</td>\n",
       "    </tr>\n",
       "    <tr>\n",
       "      <th>landline</th>\n",
       "      <td>42</td>\n",
       "      <td>0</td>\n",
       "      <td>0</td>\n",
       "    </tr>\n",
       "    <tr>\n",
       "      <th>mobile</th>\n",
       "      <td>319</td>\n",
       "      <td>0</td>\n",
       "      <td>282</td>\n",
       "    </tr>\n",
       "    <tr>\n",
       "      <th>special</th>\n",
       "      <td>0</td>\n",
       "      <td>0</td>\n",
       "      <td>3</td>\n",
       "    </tr>\n",
       "    <tr>\n",
       "      <th>voicemail</th>\n",
       "      <td>27</td>\n",
       "      <td>0</td>\n",
       "      <td>0</td>\n",
       "    </tr>\n",
       "    <tr>\n",
       "      <th>world</th>\n",
       "      <td>0</td>\n",
       "      <td>0</td>\n",
       "      <td>7</td>\n",
       "    </tr>\n",
       "  </tbody>\n",
       "</table>\n",
       "</div>"
      ],
      "text/plain": [
       "item          call  data  sms\n",
       "network_type                 \n",
       "data             0   150    0\n",
       "landline        42     0    0\n",
       "mobile         319     0  282\n",
       "special          0     0    3\n",
       "voicemail       27     0    0\n",
       "world            0     0    7"
      ]
     },
     "execution_count": 5,
     "metadata": {},
     "output_type": "execute_result"
    },
    {
     "data": {
      "text/html": [
       "<div>\n",
       "<style scoped>\n",
       "    .dataframe tbody tr th:only-of-type {\n",
       "        vertical-align: middle;\n",
       "    }\n",
       "\n",
       "    .dataframe tbody tr th {\n",
       "        vertical-align: top;\n",
       "    }\n",
       "\n",
       "    .dataframe thead th {\n",
       "        text-align: right;\n",
       "    }\n",
       "</style>\n",
       "<table border=\"1\" class=\"dataframe\">\n",
       "  <thead>\n",
       "    <tr style=\"text-align: right;\">\n",
       "      <th>item</th>\n",
       "      <th>call</th>\n",
       "      <th>data</th>\n",
       "      <th>sms</th>\n",
       "    </tr>\n",
       "    <tr>\n",
       "      <th>network_type</th>\n",
       "      <th></th>\n",
       "      <th></th>\n",
       "      <th></th>\n",
       "    </tr>\n",
       "  </thead>\n",
       "  <tbody>\n",
       "    <tr>\n",
       "      <th>data</th>\n",
       "      <td>0.0</td>\n",
       "      <td>150.0</td>\n",
       "      <td>0.0</td>\n",
       "    </tr>\n",
       "    <tr>\n",
       "      <th>landline</th>\n",
       "      <td>42.0</td>\n",
       "      <td>0.0</td>\n",
       "      <td>0.0</td>\n",
       "    </tr>\n",
       "    <tr>\n",
       "      <th>mobile</th>\n",
       "      <td>319.0</td>\n",
       "      <td>0.0</td>\n",
       "      <td>282.0</td>\n",
       "    </tr>\n",
       "    <tr>\n",
       "      <th>special</th>\n",
       "      <td>0.0</td>\n",
       "      <td>0.0</td>\n",
       "      <td>3.0</td>\n",
       "    </tr>\n",
       "    <tr>\n",
       "      <th>voicemail</th>\n",
       "      <td>27.0</td>\n",
       "      <td>0.0</td>\n",
       "      <td>0.0</td>\n",
       "    </tr>\n",
       "    <tr>\n",
       "      <th>world</th>\n",
       "      <td>0.0</td>\n",
       "      <td>0.0</td>\n",
       "      <td>7.0</td>\n",
       "    </tr>\n",
       "  </tbody>\n",
       "</table>\n",
       "</div>"
      ],
      "text/plain": [
       "item           call   data    sms\n",
       "network_type                     \n",
       "data            0.0  150.0    0.0\n",
       "landline       42.0    0.0    0.0\n",
       "mobile        319.0    0.0  282.0\n",
       "special         0.0    0.0    3.0\n",
       "voicemail      27.0    0.0    0.0\n",
       "world           0.0    0.0    7.0"
      ]
     },
     "execution_count": 5,
     "metadata": {},
     "output_type": "execute_result"
    },
    {
     "data": {
      "text/html": [
       "<div>\n",
       "<style scoped>\n",
       "    .dataframe tbody tr th:only-of-type {\n",
       "        vertical-align: middle;\n",
       "    }\n",
       "\n",
       "    .dataframe tbody tr th {\n",
       "        vertical-align: top;\n",
       "    }\n",
       "\n",
       "    .dataframe thead tr th {\n",
       "        text-align: left;\n",
       "    }\n",
       "\n",
       "    .dataframe thead tr:last-of-type th {\n",
       "        text-align: right;\n",
       "    }\n",
       "</style>\n",
       "<table border=\"1\" class=\"dataframe\">\n",
       "  <thead>\n",
       "    <tr>\n",
       "      <th></th>\n",
       "      <th colspan=\"6\" halign=\"left\">network_type</th>\n",
       "    </tr>\n",
       "    <tr>\n",
       "      <th>network_type</th>\n",
       "      <th>data</th>\n",
       "      <th>landline</th>\n",
       "      <th>mobile</th>\n",
       "      <th>special</th>\n",
       "      <th>voicemail</th>\n",
       "      <th>world</th>\n",
       "    </tr>\n",
       "    <tr>\n",
       "      <th>item</th>\n",
       "      <th></th>\n",
       "      <th></th>\n",
       "      <th></th>\n",
       "      <th></th>\n",
       "      <th></th>\n",
       "      <th></th>\n",
       "    </tr>\n",
       "  </thead>\n",
       "  <tbody>\n",
       "    <tr>\n",
       "      <th>call</th>\n",
       "      <td>0</td>\n",
       "      <td>42</td>\n",
       "      <td>319</td>\n",
       "      <td>0</td>\n",
       "      <td>27</td>\n",
       "      <td>0</td>\n",
       "    </tr>\n",
       "    <tr>\n",
       "      <th>data</th>\n",
       "      <td>150</td>\n",
       "      <td>0</td>\n",
       "      <td>0</td>\n",
       "      <td>0</td>\n",
       "      <td>0</td>\n",
       "      <td>0</td>\n",
       "    </tr>\n",
       "    <tr>\n",
       "      <th>sms</th>\n",
       "      <td>0</td>\n",
       "      <td>0</td>\n",
       "      <td>282</td>\n",
       "      <td>3</td>\n",
       "      <td>0</td>\n",
       "      <td>7</td>\n",
       "    </tr>\n",
       "  </tbody>\n",
       "</table>\n",
       "</div>"
      ],
      "text/plain": [
       "             network_type                                        \n",
       "network_type         data landline mobile special voicemail world\n",
       "item                                                             \n",
       "call                    0       42    319       0        27     0\n",
       "data                  150        0      0       0         0     0\n",
       "sms                     0        0    282       3         0     7"
      ]
     },
     "execution_count": 5,
     "metadata": {},
     "output_type": "execute_result"
    }
   ],
   "source": [
    "pd.crosstab(data.network_type, data.item)\n",
    "\n",
    "data.groupby(['network_type', 'item'])['network_type'].count().unstack().fillna(0)\n",
    "\n",
    "data.pivot_table(index='item', columns='network_type', aggfunc={'network_type':len}, fill_value=0)\n"
   ]
  },
  {
   "cell_type": "markdown",
   "metadata": {
    "ExecuteTime": {
     "end_time": "2018-12-03T06:42:36.398408Z",
     "start_time": "2018-12-03T06:42:36.392896Z"
    }
   },
   "source": [
    "#### pivot table\n",
    "\n",
    "http://pbpython.com/pandas-pivot-table-explained.html\n",
    "\n"
   ]
  },
  {
   "cell_type": "markdown",
   "metadata": {},
   "source": [
    "<img src=\"images/pivot-table-datasheet.png\" width=\"500\" align=\"left\"/>"
   ]
  },
  {
   "cell_type": "code",
   "execution_count": null,
   "metadata": {
    "ExecuteTime": {
     "end_time": "2018-12-03T06:49:40.134135Z",
     "start_time": "2018-12-03T06:49:40.091664Z"
    },
    "scrolled": true
   },
   "outputs": [],
   "source": [
    "# # convert wide to long format (R: melt unmelt)\n",
    "table = pd.pivot_table(data,index=[\"item\",\"network_type\"],\n",
    "               values=[\"duration\"],\n",
    "               aggfunc=[np.sum,np.mean],fill_value=0,margins=True)\n",
    "\n",
    "table"
   ]
  },
  {
   "cell_type": "code",
   "execution_count": null,
   "metadata": {
    "ExecuteTime": {
     "end_time": "2018-12-03T06:56:33.823133Z",
     "start_time": "2018-12-03T06:56:33.805852Z"
    }
   },
   "outputs": [],
   "source": [
    "table.query('network_type == [\"data\", \"sms\", \"mobile\"]')"
   ]
  },
  {
   "cell_type": "markdown",
   "metadata": {
    "heading_collapsed": true
   },
   "source": [
    "### Joins\n",
    "\n",
    "\n",
    "left , right n inner join\n",
    "\n",
    "| Merge method | SQL Join Name    | Description                               |  \n",
    "|--------------|----------------- |-------------------------------------------|  \n",
    "| left         | LEFT OUTER JOIN  | Use keys from left frame only             |  \n",
    "| right        | RIGHT OUTER JOIN | Use keys from right frame only            |  \n",
    "| outer        | FULL OUTER JOIN  | Use union of keys from both frames        |  \n",
    "| inner        | INNER JOIN       | Use intersection of keys from both frames |\n",
    "\n"
   ]
  },
  {
   "cell_type": "code",
   "execution_count": null,
   "metadata": {
    "ExecuteTime": {
     "end_time": "2018-11-19T22:43:45.755883Z",
     "start_time": "2018-11-19T22:43:45.710753Z"
    },
    "hidden": true
   },
   "outputs": [],
   "source": [
    "left = pd.DataFrame({'key1': ['K0', 'K0', 'K1', 'K2'],\n",
    "                     'key2': ['K0', 'K1', 'K0', 'K1'],\n",
    "                     'A': ['A0', 'A1', 'A2', 'A3'], \n",
    "                     'B': ['B0', 'B1', 'B2', 'B3']})\n",
    "\n",
    "\n",
    "right = pd.DataFrame({'key1': ['K0', 'K1', 'K1', 'K2'],\n",
    "                      'key2': ['K0', 'K0', 'K0', 'K0'],  \n",
    "                      'C': ['C0', 'C1', 'C2', 'C3'],\n",
    "                      'D': ['D0', 'D1', 'D2', 'D3']})\n",
    "\n",
    "result = pd.merge(left, right, how='left', on=['key1', 'key2'])\n",
    "\n",
    "left\n",
    "\n",
    "right\n",
    "\n",
    "result"
   ]
  },
  {
   "cell_type": "markdown",
   "metadata": {
    "heading_collapsed": true
   },
   "source": [
    "### Cartesian product or cross join"
   ]
  },
  {
   "cell_type": "code",
   "execution_count": 67,
   "metadata": {
    "ExecuteTime": {
     "end_time": "2019-04-26T17:55:51.186981Z",
     "start_time": "2019-04-26T17:55:51.165505Z"
    },
    "hidden": true
   },
   "outputs": [
    {
     "data": {
      "text/html": [
       "<div>\n",
       "<style scoped>\n",
       "    .dataframe tbody tr th:only-of-type {\n",
       "        vertical-align: middle;\n",
       "    }\n",
       "\n",
       "    .dataframe tbody tr th {\n",
       "        vertical-align: top;\n",
       "    }\n",
       "\n",
       "    .dataframe thead th {\n",
       "        text-align: right;\n",
       "    }\n",
       "</style>\n",
       "<table border=\"1\" class=\"dataframe\">\n",
       "  <thead>\n",
       "    <tr style=\"text-align: right;\">\n",
       "      <th></th>\n",
       "      <th>A</th>\n",
       "      <th>B</th>\n",
       "    </tr>\n",
       "  </thead>\n",
       "  <tbody>\n",
       "    <tr>\n",
       "      <th>0</th>\n",
       "      <td>A0</td>\n",
       "      <td>B0</td>\n",
       "    </tr>\n",
       "    <tr>\n",
       "      <th>1</th>\n",
       "      <td>A0</td>\n",
       "      <td>B1</td>\n",
       "    </tr>\n",
       "    <tr>\n",
       "      <th>2</th>\n",
       "      <td>A0</td>\n",
       "      <td>B2</td>\n",
       "    </tr>\n",
       "    <tr>\n",
       "      <th>3</th>\n",
       "      <td>A0</td>\n",
       "      <td>B3</td>\n",
       "    </tr>\n",
       "    <tr>\n",
       "      <th>4</th>\n",
       "      <td>A1</td>\n",
       "      <td>B0</td>\n",
       "    </tr>\n",
       "    <tr>\n",
       "      <th>5</th>\n",
       "      <td>A1</td>\n",
       "      <td>B1</td>\n",
       "    </tr>\n",
       "    <tr>\n",
       "      <th>6</th>\n",
       "      <td>A1</td>\n",
       "      <td>B2</td>\n",
       "    </tr>\n",
       "    <tr>\n",
       "      <th>7</th>\n",
       "      <td>A1</td>\n",
       "      <td>B3</td>\n",
       "    </tr>\n",
       "    <tr>\n",
       "      <th>8</th>\n",
       "      <td>A2</td>\n",
       "      <td>B0</td>\n",
       "    </tr>\n",
       "    <tr>\n",
       "      <th>9</th>\n",
       "      <td>A2</td>\n",
       "      <td>B1</td>\n",
       "    </tr>\n",
       "    <tr>\n",
       "      <th>10</th>\n",
       "      <td>A2</td>\n",
       "      <td>B2</td>\n",
       "    </tr>\n",
       "  </tbody>\n",
       "</table>\n",
       "</div>"
      ],
      "text/plain": [
       "     A   B\n",
       "0   A0  B0\n",
       "1   A0  B1\n",
       "2   A0  B2\n",
       "3   A0  B3\n",
       "4   A1  B0\n",
       "5   A1  B1\n",
       "6   A1  B2\n",
       "7   A1  B3\n",
       "8   A2  B0\n",
       "9   A2  B1\n",
       "10  A2  B2"
      ]
     },
     "execution_count": 67,
     "metadata": {},
     "output_type": "execute_result"
    }
   ],
   "source": [
    "df1 = pd.DataFrame({'key1': ['K0', 'K1', 'K2', 'K3'],\n",
    "                     'A': ['A0', 'A1', 'A2', 'A3']})\n",
    "\n",
    "\n",
    "df2 = pd.DataFrame({'key1': ['Q0', 'Q1', 'Q2', 'Q3'],\n",
    "                     'B': ['B0', 'B1', 'B2', 'B3']})\n",
    "\n",
    "\n",
    "# Add dummy key\n",
    "df1['_tmpkey'] = 1\n",
    "df2['_tmpkey'] = 1\n",
    "\n",
    "cartesian_df = pd.merge(df1[['_tmpkey',\"A\"]], df2[['_tmpkey',\"B\"]], on='_tmpkey').drop('_tmpkey', axis=1)\n",
    "#cartesian_df.index = pd.MultiIndex.from_product((df1.index, df2.index))\n",
    "cartesian_df = cartesian_df.reset_index(drop=True)\n",
    "\n",
    "df1.drop('_tmpkey', axis=1, inplace=True)\n",
    "df2.drop('_tmpkey', axis=1, inplace=True)\n",
    "\n",
    "cartesian_df.head(11)"
   ]
  },
  {
   "cell_type": "markdown",
   "metadata": {
    "heading_collapsed": true
   },
   "source": [
    "### Explode columns\n",
    "\n",
    "https://medium.com/analytics-vidhya/every-dataframe-manipulation-explained-visualized-intuitively-dbeea7a5529e"
   ]
  },
  {
   "cell_type": "markdown",
   "metadata": {
    "hidden": true
   },
   "source": [
    "<img src=\"images/explode_column.png\" width=\"600\" align=\"left\"/>"
   ]
  },
  {
   "cell_type": "code",
   "execution_count": 22,
   "metadata": {
    "hidden": true
   },
   "outputs": [
    {
     "name": "stdout",
     "output_type": "stream",
     "text": [
      "Original\n"
     ]
    },
    {
     "data": {
      "text/html": [
       "<div>\n",
       "<style scoped>\n",
       "    .dataframe tbody tr th:only-of-type {\n",
       "        vertical-align: middle;\n",
       "    }\n",
       "\n",
       "    .dataframe tbody tr th {\n",
       "        vertical-align: top;\n",
       "    }\n",
       "\n",
       "    .dataframe thead th {\n",
       "        text-align: right;\n",
       "    }\n",
       "</style>\n",
       "<table border=\"1\" class=\"dataframe\">\n",
       "  <thead>\n",
       "    <tr style=\"text-align: right;\">\n",
       "      <th></th>\n",
       "      <th>A</th>\n",
       "      <th>B</th>\n",
       "    </tr>\n",
       "  </thead>\n",
       "  <tbody>\n",
       "    <tr>\n",
       "      <th>0</th>\n",
       "      <td>[1, 2]</td>\n",
       "      <td>1</td>\n",
       "    </tr>\n",
       "    <tr>\n",
       "      <th>1</th>\n",
       "      <td>foo</td>\n",
       "      <td>2</td>\n",
       "    </tr>\n",
       "    <tr>\n",
       "      <th>2</th>\n",
       "      <td>[]</td>\n",
       "      <td>3</td>\n",
       "    </tr>\n",
       "    <tr>\n",
       "      <th>3</th>\n",
       "      <td>[a, b]</td>\n",
       "      <td>4</td>\n",
       "    </tr>\n",
       "  </tbody>\n",
       "</table>\n",
       "</div>"
      ],
      "text/plain": [
       "        A  B\n",
       "0  [1, 2]  1\n",
       "1     foo  2\n",
       "2      []  3\n",
       "3  [a, b]  4"
      ]
     },
     "execution_count": 22,
     "metadata": {},
     "output_type": "execute_result"
    },
    {
     "name": "stdout",
     "output_type": "stream",
     "text": [
      "\n",
      "Exploding column A\n"
     ]
    },
    {
     "data": {
      "text/html": [
       "<div>\n",
       "<style scoped>\n",
       "    .dataframe tbody tr th:only-of-type {\n",
       "        vertical-align: middle;\n",
       "    }\n",
       "\n",
       "    .dataframe tbody tr th {\n",
       "        vertical-align: top;\n",
       "    }\n",
       "\n",
       "    .dataframe thead th {\n",
       "        text-align: right;\n",
       "    }\n",
       "</style>\n",
       "<table border=\"1\" class=\"dataframe\">\n",
       "  <thead>\n",
       "    <tr style=\"text-align: right;\">\n",
       "      <th></th>\n",
       "      <th>A</th>\n",
       "      <th>B</th>\n",
       "    </tr>\n",
       "  </thead>\n",
       "  <tbody>\n",
       "    <tr>\n",
       "      <th>0</th>\n",
       "      <td>1</td>\n",
       "      <td>1</td>\n",
       "    </tr>\n",
       "    <tr>\n",
       "      <th>0</th>\n",
       "      <td>2</td>\n",
       "      <td>1</td>\n",
       "    </tr>\n",
       "    <tr>\n",
       "      <th>1</th>\n",
       "      <td>foo</td>\n",
       "      <td>2</td>\n",
       "    </tr>\n",
       "    <tr>\n",
       "      <th>2</th>\n",
       "      <td>NaN</td>\n",
       "      <td>3</td>\n",
       "    </tr>\n",
       "    <tr>\n",
       "      <th>3</th>\n",
       "      <td>a</td>\n",
       "      <td>4</td>\n",
       "    </tr>\n",
       "    <tr>\n",
       "      <th>3</th>\n",
       "      <td>b</td>\n",
       "      <td>4</td>\n",
       "    </tr>\n",
       "  </tbody>\n",
       "</table>\n",
       "</div>"
      ],
      "text/plain": [
       "     A  B\n",
       "0    1  1\n",
       "0    2  1\n",
       "1  foo  2\n",
       "2  NaN  3\n",
       "3    a  4\n",
       "3    b  4"
      ]
     },
     "execution_count": 22,
     "metadata": {},
     "output_type": "execute_result"
    }
   ],
   "source": [
    "print('Original')\n",
    "df = pd.DataFrame({'A': [[1,2],'foo', [],['a','b']], 'B': [1,2,3,4]})\n",
    "df\n",
    "\n",
    "print()\n",
    "print('Exploding column A')\n",
    "df.explode('A')"
   ]
  },
  {
   "cell_type": "markdown",
   "metadata": {
    "heading_collapsed": true
   },
   "source": [
    "### Stack and Unstack\n",
    "\n",
    "https://medium.com/analytics-vidhya/every-dataframe-manipulation-explained-visualized-intuitively-dbeea7a5529e\n",
    "\n",
    "\n",
    "**Convert long format to wqide format (R: melt and unmelt)**"
   ]
  },
  {
   "cell_type": "markdown",
   "metadata": {
    "hidden": true
   },
   "source": [
    "<img src=\"images/unstack.png\" width=\"600\" align=\"left\"/>"
   ]
  },
  {
   "cell_type": "code",
   "execution_count": 3,
   "metadata": {
    "hidden": true
   },
   "outputs": [
    {
     "name": "stdout",
     "output_type": "stream",
     "text": [
      "Original\n"
     ]
    },
    {
     "data": {
      "text/html": [
       "<div>\n",
       "<style scoped>\n",
       "    .dataframe tbody tr th:only-of-type {\n",
       "        vertical-align: middle;\n",
       "    }\n",
       "\n",
       "    .dataframe tbody tr th {\n",
       "        vertical-align: top;\n",
       "    }\n",
       "\n",
       "    .dataframe thead th {\n",
       "        text-align: right;\n",
       "    }\n",
       "</style>\n",
       "<table border=\"1\" class=\"dataframe\">\n",
       "  <thead>\n",
       "    <tr style=\"text-align: right;\">\n",
       "      <th></th>\n",
       "      <th>a</th>\n",
       "      <th>b</th>\n",
       "    </tr>\n",
       "  </thead>\n",
       "  <tbody>\n",
       "    <tr>\n",
       "      <th>one</th>\n",
       "      <td>1.0</td>\n",
       "      <td>3.0</td>\n",
       "    </tr>\n",
       "    <tr>\n",
       "      <th>two</th>\n",
       "      <td>2.0</td>\n",
       "      <td>4.0</td>\n",
       "    </tr>\n",
       "  </tbody>\n",
       "</table>\n",
       "</div>"
      ],
      "text/plain": [
       "       a    b\n",
       "one  1.0  3.0\n",
       "two  2.0  4.0"
      ]
     },
     "execution_count": 3,
     "metadata": {},
     "output_type": "execute_result"
    },
    {
     "name": "stdout",
     "output_type": "stream",
     "text": [
      "\n",
      "Stacking\n"
     ]
    },
    {
     "data": {
      "text/plain": [
       "one  a    1.0\n",
       "     b    3.0\n",
       "two  a    2.0\n",
       "     b    4.0\n",
       "dtype: float64"
      ]
     },
     "execution_count": 3,
     "metadata": {},
     "output_type": "execute_result"
    },
    {
     "name": "stdout",
     "output_type": "stream",
     "text": [
      "\n",
      "Unstacking\n"
     ]
    },
    {
     "data": {
      "text/html": [
       "<div>\n",
       "<style scoped>\n",
       "    .dataframe tbody tr th:only-of-type {\n",
       "        vertical-align: middle;\n",
       "    }\n",
       "\n",
       "    .dataframe tbody tr th {\n",
       "        vertical-align: top;\n",
       "    }\n",
       "\n",
       "    .dataframe thead th {\n",
       "        text-align: right;\n",
       "    }\n",
       "</style>\n",
       "<table border=\"1\" class=\"dataframe\">\n",
       "  <thead>\n",
       "    <tr style=\"text-align: right;\">\n",
       "      <th></th>\n",
       "      <th>a</th>\n",
       "      <th>b</th>\n",
       "    </tr>\n",
       "  </thead>\n",
       "  <tbody>\n",
       "    <tr>\n",
       "      <th>one</th>\n",
       "      <td>1.0</td>\n",
       "      <td>3.0</td>\n",
       "    </tr>\n",
       "    <tr>\n",
       "      <th>two</th>\n",
       "      <td>2.0</td>\n",
       "      <td>4.0</td>\n",
       "    </tr>\n",
       "  </tbody>\n",
       "</table>\n",
       "</div>"
      ],
      "text/plain": [
       "       a    b\n",
       "one  1.0  3.0\n",
       "two  2.0  4.0"
      ]
     },
     "execution_count": 3,
     "metadata": {},
     "output_type": "execute_result"
    }
   ],
   "source": [
    "print('Original')\n",
    "df = pd.DataFrame({'a': [1.0,2.0], 'b': [3.0,4.0]}, index=['one', 'two'])\n",
    "df\n",
    "\n",
    "print()\n",
    "print('Stacking')\n",
    "df_stacked = df.stack()\n",
    "df_stacked\n",
    "\n",
    "print()\n",
    "print('Unstacking')\n",
    "df_stacked.unstack()"
   ]
  },
  {
   "cell_type": "markdown",
   "metadata": {
    "heading_collapsed": true
   },
   "source": [
    "### Run sql wueries on pandas dataframe\n",
    "\n",
    "* like sqldf in R \n",
    "\n",
    "[ds_pragmatic_programming_SQL.ipynb](ds_pragmatic_programming_SQL)\n"
   ]
  },
  {
   "cell_type": "markdown",
   "metadata": {},
   "source": [
    "## High performance eval n query\n",
    "\n",
    "https://jakevdp.github.io/PythonDataScienceHandbook/03.12-performance-eval-and-query.html\n",
    "\n",
    "Motivations\n",
    "for large df n arrays eval n query are faster\n"
   ]
  },
  {
   "cell_type": "markdown",
   "metadata": {},
   "source": [
    "### Parallelized Pandas Dataframe operation with multithreating"
   ]
  },
  {
   "cell_type": "code",
   "execution_count": null,
   "metadata": {},
   "outputs": [],
   "source": [
    "#https://towardsdatascience.com/make-your-own-super-pandas-using-multiproc-1c04f41944a1\n",
    "from multiprocessing import  Pool\n",
    "\n",
    "def parallelize_dataframe(df, func, n_cores=4):\n",
    "    \n",
    "    df_split = np.array_split(df, n_cores)\n",
    "    \n",
    "    pool = Pool(n_cores)\n",
    "    \n",
    "    df = pd.concat(pool.map(func, df_split))\n",
    "    \n",
    "    pool.close()\n",
    "    pool.join()\n",
    "    \n",
    "    return df"
   ]
  },
  {
   "cell_type": "code",
   "execution_count": null,
   "metadata": {},
   "outputs": [],
   "source": [
    "%%time\n",
    "\n",
    "train = parallelize_dataframe(train_df, add_features)"
   ]
  },
  {
   "cell_type": "markdown",
   "metadata": {
    "heading_collapsed": true
   },
   "source": [
    "### Cython\n"
   ]
  },
  {
   "cell_type": "markdown",
   "metadata": {
    "hidden": true
   },
   "source": [
    "```sh\n",
    "!pip install cython fortran-magic\n",
    "\n",
    "```"
   ]
  },
  {
   "cell_type": "code",
   "execution_count": 54,
   "metadata": {
    "hidden": true
   },
   "outputs": [
    {
     "name": "stdout",
     "output_type": "stream",
     "text": [
      "The Cython extension is already loaded. To reload it, use:\n",
      "  %reload_ext Cython\n"
     ]
    }
   ],
   "source": [
    "%load_ext Cython"
   ]
  },
  {
   "cell_type": "code",
   "execution_count": 58,
   "metadata": {
    "hidden": true
   },
   "outputs": [],
   "source": [
    "%%cython\n",
    "def cython_myltiply_by_2(float x):\n",
    "    return 2.0 * x"
   ]
  },
  {
   "cell_type": "code",
   "execution_count": 59,
   "metadata": {
    "hidden": true
   },
   "outputs": [],
   "source": [
    "def myltiply_by_2(x):\n",
    "    return 2.0 * x"
   ]
  },
  {
   "cell_type": "code",
   "execution_count": 63,
   "metadata": {
    "hidden": true
   },
   "outputs": [],
   "source": [
    "n_times = 10000"
   ]
  },
  {
   "cell_type": "code",
   "execution_count": 64,
   "metadata": {
    "hidden": true
   },
   "outputs": [
    {
     "name": "stdout",
     "output_type": "stream",
     "text": [
      "CPU times: user 0 ns, sys: 648 µs, total: 648 µs\n",
      "Wall time: 653 µs\n"
     ]
    }
   ],
   "source": [
    "%%time\n",
    "\n",
    "for k in range(n_times):\n",
    "    _ = cython_myltiply_by_2(23.0)"
   ]
  },
  {
   "cell_type": "code",
   "execution_count": 65,
   "metadata": {
    "hidden": true
   },
   "outputs": [
    {
     "name": "stdout",
     "output_type": "stream",
     "text": [
      "CPU times: user 48 µs, sys: 862 µs, total: 910 µs\n",
      "Wall time: 914 µs\n"
     ]
    }
   ],
   "source": [
    "%%time\n",
    "\n",
    "for k in range(n_times):\n",
    "    _ = myltiply_by_2(23.0)"
   ]
  },
  {
   "cell_type": "markdown",
   "metadata": {
    "heading_collapsed": true
   },
   "source": [
    "## Process large data set by chunks\n",
    "\n",
    "refs:\n",
    "* https://medium.com/towards-artificial-intelligence/efficient-pandas-using-chunksize-for-large-data-sets-c66bf3037f93\n"
   ]
  },
  {
   "cell_type": "code",
   "execution_count": 2,
   "metadata": {
    "hidden": true
   },
   "outputs": [
    {
     "name": "stdout",
     "output_type": "stream",
     "text": [
      "--2020-11-06 20:11:02--  https://s3-api.us-geo.objectstorage.softlayer.net/cf-courses-data/CognitiveClass/ML0101ENv3/labs/moviedataset.zip\n",
      "Resolving s3-api.us-geo.objectstorage.softlayer.net (s3-api.us-geo.objectstorage.softlayer.net)... 67.228.254.196\n",
      "Connecting to s3-api.us-geo.objectstorage.softlayer.net (s3-api.us-geo.objectstorage.softlayer.net)|67.228.254.196|:443... connected.\n",
      "HTTP request sent, awaiting response... 200 OK\n",
      "Length: 160301210 (153M) [application/zip]\n",
      "Saving to: ‘moviedataset.zip’\n",
      "\n",
      "moviedataset.zip    100%[===================>] 152.88M  1.13MB/s    in 79s     \n",
      "\n",
      "2020-11-06 20:12:22 (1.93 MB/s) - ‘moviedataset.zip’ saved [160301210/160301210]\n",
      "\n",
      "unziping ...\n",
      "Archive:  moviedataset.zip\n",
      "  inflating: links.csv               \n",
      "  inflating: movies.csv              \n",
      "  inflating: ratings.csv             \n",
      "  inflating: README.txt              \n",
      "  inflating: tags.csv                \n"
     ]
    }
   ],
   "source": [
    "# Get the data\n",
    "!wget -O moviedataset.zip https://s3-api.us-geo.objectstorage.softlayer.net/cf-courses-data/CognitiveClass/ML0101ENv3/labs/moviedataset.zip\n",
    "print('unziping ...')\n",
    "!unzip -o -j moviedataset.zip"
   ]
  },
  {
   "cell_type": "code",
   "execution_count": 17,
   "metadata": {
    "hidden": true
   },
   "outputs": [
    {
     "name": "stdout",
     "output_type": "stream",
     "text": [
      "(22884377, 4)\n",
      "Total Current memory is- 732.300192 MB.\n",
      "CPU times: user 2.83 s, sys: 5.76 s, total: 8.59 s\n",
      "Wall time: 8.6 s\n"
     ]
    },
    {
     "data": {
      "text/html": [
       "<div>\n",
       "<style scoped>\n",
       "    .dataframe tbody tr th:only-of-type {\n",
       "        vertical-align: middle;\n",
       "    }\n",
       "\n",
       "    .dataframe tbody tr th {\n",
       "        vertical-align: top;\n",
       "    }\n",
       "\n",
       "    .dataframe thead th {\n",
       "        text-align: right;\n",
       "    }\n",
       "</style>\n",
       "<table border=\"1\" class=\"dataframe\">\n",
       "  <thead>\n",
       "    <tr style=\"text-align: right;\">\n",
       "      <th></th>\n",
       "      <th>userId</th>\n",
       "      <th>movieId</th>\n",
       "      <th>rating</th>\n",
       "      <th>timestamp</th>\n",
       "    </tr>\n",
       "  </thead>\n",
       "  <tbody>\n",
       "    <tr>\n",
       "      <th>0</th>\n",
       "      <td>1</td>\n",
       "      <td>169</td>\n",
       "      <td>2.5</td>\n",
       "      <td>1204927694</td>\n",
       "    </tr>\n",
       "    <tr>\n",
       "      <th>1</th>\n",
       "      <td>1</td>\n",
       "      <td>2471</td>\n",
       "      <td>3.0</td>\n",
       "      <td>1204927438</td>\n",
       "    </tr>\n",
       "    <tr>\n",
       "      <th>2</th>\n",
       "      <td>1</td>\n",
       "      <td>48516</td>\n",
       "      <td>5.0</td>\n",
       "      <td>1204927435</td>\n",
       "    </tr>\n",
       "    <tr>\n",
       "      <th>3</th>\n",
       "      <td>2</td>\n",
       "      <td>2571</td>\n",
       "      <td>3.5</td>\n",
       "      <td>1436165433</td>\n",
       "    </tr>\n",
       "    <tr>\n",
       "      <th>4</th>\n",
       "      <td>2</td>\n",
       "      <td>109487</td>\n",
       "      <td>4.0</td>\n",
       "      <td>1436165496</td>\n",
       "    </tr>\n",
       "  </tbody>\n",
       "</table>\n",
       "</div>"
      ],
      "text/plain": [
       "   userId  movieId  rating   timestamp\n",
       "0       1      169     2.5  1204927694\n",
       "1       1     2471     3.0  1204927438\n",
       "2       1    48516     5.0  1204927435\n",
       "3       2     2571     3.5  1436165433\n",
       "4       2   109487     4.0  1436165496"
      ]
     },
     "execution_count": 17,
     "metadata": {},
     "output_type": "execute_result"
    }
   ],
   "source": [
    "%%time\n",
    "ratings_df = pd.read_csv('ratings.csv')\n",
    "print(ratings_df.shape)\n",
    "\n",
    "ratings_memory = ratings_df.memory_usage().sum()/1e6\n",
    "# Let's print out the memory consumption\n",
    "print('Total Current memory is-', ratings_memory,'MB.')\n",
    "\n",
    "ratings_df.head(5)"
   ]
  },
  {
   "cell_type": "code",
   "execution_count": 10,
   "metadata": {
    "hidden": true
   },
   "outputs": [
    {
     "name": "stdout",
     "output_type": "stream",
     "text": [
      "[5.0, 4.5, 4.0, 3.5, 3.0, 2.5, 2.0, 1.5, 1.0, 0.5]\n"
     ]
    },
    {
     "data": {
      "text/plain": [
       "{5.0: 0,\n",
       " 4.5: 0,\n",
       " 4.0: 0,\n",
       " 3.5: 0,\n",
       " 3.0: 0,\n",
       " 2.5: 0,\n",
       " 2.0: 0,\n",
       " 1.5: 0,\n",
       " 1.0: 0,\n",
       " 0.5: 0}"
      ]
     },
     "execution_count": 10,
     "metadata": {},
     "output_type": "execute_result"
    }
   ],
   "source": [
    "# Let's get a list of the rating scale or keys\n",
    "rate_keys = list(ratings_df['rating'].unique())\n",
    "# let's sort the ratings keys from highest to lowest.\n",
    "rate_keys = sorted(rate_keys, reverse=True) \n",
    " \n",
    "print(rate_keys)\n",
    "\n",
    "ratings_dict = {}\n",
    "for i in rate_keys: ratings_dict[i] = 0\n",
    "\n",
    "ratings_dict"
   ]
  },
  {
   "cell_type": "markdown",
   "metadata": {
    "hidden": true
   },
   "source": [
    "* **What’s the most common movie rating from 0.5 to 5.0**"
   ]
  },
  {
   "cell_type": "code",
   "execution_count": 15,
   "metadata": {
    "hidden": true
   },
   "outputs": [
    {
     "name": "stdout",
     "output_type": "stream",
     "text": [
      "Total number of chunks: 23\n",
      "Average bytes per loop: 31.84 MB\n",
      "Movie ratings: {5.0: 16791090, 4.5: 9069610, 4.0: 31328115, 3.5: 12961875, 3.0: 23919495, 2.5: 5220880, 2.0: 8016270, 1.5: 1688025, 1.0: 3848270, 0.5: 1578255}\n",
      "CPU times: user 4.04 s, sys: 0 ns, total: 4.04 s\n",
      "Wall time: 4.04 s\n"
     ]
    }
   ],
   "source": [
    "%%time\n",
    "# Initialise a variable to compute average bytes per chunk\n",
    "ave_bytes = 0\n",
    "\n",
    "# then we initialise our loop counter\n",
    "count = 0\n",
    "\n",
    "# Specifying chunksize in read_csv, the return value will be an iterable object of type TextFileReader\n",
    "# This enumerate function selects repeated chunks of 1,000,000 rows of data \n",
    "# start means start with first chunk\n",
    "for index, chunk in enumerate(pd.read_csv('ratings.csv', chunksize= 1000000),start=1):\n",
    "    # We add total memory per chunk to ave_bytes\n",
    "    ave_bytes += chunk.memory_usage().sum()\n",
    "    \n",
    "    # This inner loop iterates through the rate keys only.Then it does \n",
    "    # vectorised selections on the dataframe to select count of each rate key.\n",
    "    for i in rate_keys:\n",
    "        count = len(chunk[chunk['rating'] == i])\n",
    "        ratings_dict[i] += count\n",
    "        \n",
    "print(\"Total number of chunks:\",index)\n",
    "ave_bytes = ave_bytes / index\n",
    "print(f\"Average bytes per loop: {ave_bytes/1e6:.2f} MB\")\n",
    "print(f'Movie ratings: {ratings_dict}')\n"
   ]
  }
 ],
 "metadata": {
  "kernelspec": {
   "display_name": "algo-env3.6",
   "language": "python",
   "name": "algo-env3.6"
  },
  "language_info": {
   "codemirror_mode": {
    "name": "ipython",
    "version": 3
   },
   "file_extension": ".py",
   "mimetype": "text/x-python",
   "name": "python",
   "nbconvert_exporter": "python",
   "pygments_lexer": "ipython3",
   "version": "3.6.15"
  },
  "latex_envs": {
   "LaTeX_envs_menu_present": true,
   "autoclose": false,
   "autocomplete": true,
   "bibliofile": "biblio.bib",
   "cite_by": "apalike",
   "current_citInitial": 1,
   "eqLabelWithNumbers": true,
   "eqNumInitial": 1,
   "hotkeys": {
    "equation": "Ctrl-E",
    "itemize": "Ctrl-I"
   },
   "labels_anchors": false,
   "latex_user_defs": false,
   "report_style_numbering": false,
   "user_envs_cfg": false
  },
  "toc": {
   "base_numbering": 1,
   "nav_menu": {},
   "number_sections": true,
   "sideBar": true,
   "skip_h1_title": false,
   "title_cell": "Table of Contents",
   "title_sidebar": "Contents",
   "toc_cell": false,
   "toc_position": {
    "height": "calc(100% - 180px)",
    "left": "10px",
    "top": "150px",
    "width": "346.4px"
   },
   "toc_section_display": true,
   "toc_window_display": true
  },
  "varInspector": {
   "cols": {
    "lenName": 16,
    "lenType": 16,
    "lenVar": 40
   },
   "kernels_config": {
    "python": {
     "delete_cmd_postfix": "",
     "delete_cmd_prefix": "del ",
     "library": "var_list.py",
     "varRefreshCmd": "print(var_dic_list())"
    },
    "r": {
     "delete_cmd_postfix": ") ",
     "delete_cmd_prefix": "rm(",
     "library": "var_list.r",
     "varRefreshCmd": "cat(var_dic_list()) "
    }
   },
   "types_to_exclude": [
    "module",
    "function",
    "builtin_function_or_method",
    "instance",
    "_Feature"
   ],
   "window_display": false
  }
 },
 "nbformat": 4,
 "nbformat_minor": 4
}
