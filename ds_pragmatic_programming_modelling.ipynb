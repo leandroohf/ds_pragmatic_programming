{
 "cells": [
  {
   "cell_type": "markdown",
   "metadata": {
    "ExecuteTime": {
     "end_time": "2018-09-11T18:09:18.303884Z",
     "start_time": "2018-09-11T18:09:18.300979Z"
    }
   },
   "source": [
    "# Data Science Pragmatic programming Modelling in Python\n",
    "\n",
    "\n",
    "Code snippets for quick consult (copy n paste)"
   ]
  },
  {
   "cell_type": "code",
   "execution_count": 1,
   "metadata": {
    "ExecuteTime": {
     "end_time": "2019-05-30T22:40:48.339652Z",
     "start_time": "2019-05-30T22:40:48.331541Z"
    }
   },
   "outputs": [],
   "source": [
    "import numpy as np\n",
    "import pandas as pd\n",
    "\n",
    "from scipy import stats\n",
    "\n",
    "import matplotlib\n",
    "import matplotlib.pyplot as plt\n",
    "%matplotlib inline \n",
    "\n",
    "import IPython\n",
    "from IPython.core.interactiveshell import InteractiveShell\n",
    "InteractiveShell.ast_node_interactivity = \"all\"\n"
   ]
  },
  {
   "cell_type": "code",
   "execution_count": 2,
   "metadata": {
    "ExecuteTime": {
     "end_time": "2019-05-30T22:40:48.885970Z",
     "start_time": "2019-05-30T22:40:48.768197Z"
    }
   },
   "outputs": [
    {
     "name": "stdout",
     "output_type": "stream",
     "text": [
      "/home/leandroohf/Documents/sdb1/leandro/ds_pragmatic_programming\r\n"
     ]
    }
   ],
   "source": [
    "!pwd"
   ]
  },
  {
   "cell_type": "markdown",
   "metadata": {},
   "source": [
    "## Model validation\n",
    "\n",
    "* k-fold\n",
    "* split train, val n test"
   ]
  },
  {
   "cell_type": "code",
   "execution_count": 3,
   "metadata": {},
   "outputs": [
    {
     "name": "stdout",
     "output_type": "stream",
     "text": [
      "X shape: (1797, 64)\n",
      "y labels: [0 1 2 3 4 5 6 7 8 9]\n",
      "\n",
      "Split dataset:\n",
      "X train shape: (1203, 64)\n",
      "X test shape: (594, 64)\n"
     ]
    }
   ],
   "source": [
    "from sklearn.datasets import load_digits, make_moons\n",
    "from sklearn.model_selection import train_test_split\n",
    "\n",
    "# get some data\n",
    "X, y = load_digits(return_X_y=True) # Multiclass\n",
    "#X, y = make_moons()  ## binary classifier\n",
    "\n",
    "print(f\"X shape: {X.shape}\")\n",
    "print(f\"y labels: {np.unique(y)}\")\n",
    "\n",
    "print()\n",
    "print(\"Split dataset:\")\n",
    "X_train, X_test, y_train, y_test = train_test_split(\n",
    "                                X, y, test_size=0.33, random_state=42)\n",
    "\n",
    "print(f\"X train shape: {X_train.shape}\")\n",
    "print(f\"X test shape: {X_test.shape}\")"
   ]
  },
  {
   "cell_type": "markdown",
   "metadata": {},
   "source": [
    "## Sampling Imbalance data\n",
    "\n",
    "\n",
    "Install imbalanced-learn\n",
    "```sh\n",
    "conda install -c conda-forge imbalanced-learn \n",
    "```\n"
   ]
  },
  {
   "cell_type": "markdown",
   "metadata": {},
   "source": [
    "\n",
    "https://www.kaggle.com/rafjaa/resampling-strategies-for-imbalanced-datasets\n",
    "\n",
    "<img src=\"images/resampling.png\" width=\"800\" align=\"left\"/>\n"
   ]
  },
  {
   "cell_type": "markdown",
   "metadata": {},
   "source": [
    "Types of sampling\n",
    "\n",
    "* Under\n",
    "    * Random  (code snippet)\n",
    "    * Tomek links  (TODO) (This can be usefull for KNNN or SVM to define better regions)\n",
    "\n",
    "<img src=\"images/tomek.png\" width=\"800\" align=\"left\"/>  \n"
   ]
  },
  {
   "cell_type": "markdown",
   "metadata": {},
   "source": [
    "* Over\n",
    "    * Random (code snippet)\n",
    "    * SMOTE  (TODO)\n",
    "\n",
    "\n",
    "<img src=\"images/smote.png\" width=\"800\" align=\"left\"/>   \n",
    "    "
   ]
  },
  {
   "cell_type": "markdown",
   "metadata": {},
   "source": [
    "* **Genreate unbalanced data**"
   ]
  },
  {
   "cell_type": "code",
   "execution_count": 30,
   "metadata": {
    "ExecuteTime": {
     "end_time": "2019-05-30T22:40:54.402440Z",
     "start_time": "2019-05-30T22:40:54.185707Z"
    }
   },
   "outputs": [
    {
     "data": {
      "text/plain": [
       "<matplotlib.axes._subplots.AxesSubplot at 0x7fe76c961e10>"
      ]
     },
     "execution_count": 30,
     "metadata": {},
     "output_type": "execute_result"
    },
    {
     "data": {
      "image/png": "[encoded data removed]",
      "text/plain": [
       "<Figure size 432x288 with 1 Axes>"
      ]
     },
     "metadata": {
      "needs_background": "light"
     },
     "output_type": "display_data"
    }
   ],
   "source": [
    "from sklearn.datasets import make_classification\n",
    "\n",
    "\n",
    "X, y = make_classification(\n",
    "    n_classes=2, class_sep=1.5, weights=[0.9, 0.1],\n",
    "    n_informative=3, n_redundant=1, flip_y=0,\n",
    "    n_features=20, n_clusters_per_class=1,\n",
    "    n_samples=100, random_state=10\n",
    ")\n",
    "\n",
    "df = pd.DataFrame(X)\n",
    "df['target'] = y\n",
    "df.target.value_counts().plot(kind='bar', title='Count (target)');\n",
    "\n",
    "def plot_2d_space(X, y, label='Classes'):   \n",
    "    colors = ['#1F77B4', '#FF7F0E']\n",
    "    markers = ['o', 's']\n",
    "    for l, c, m in zip(np.unique(y), colors, markers):\n",
    "        plt.scatter(\n",
    "            X[y==l, 0],\n",
    "            X[y==l, 1],\n",
    "            c=c, label=l, marker=m\n",
    "        )\n",
    "    plt.title(label)\n",
    "    plt.legend(loc='upper right')\n",
    "    plt.show()"
   ]
  },
  {
   "cell_type": "markdown",
   "metadata": {},
   "source": [
    "* **Random under sampling**"
   ]
  },
  {
   "cell_type": "code",
   "execution_count": 31,
   "metadata": {
    "ExecuteTime": {
     "end_time": "2019-05-30T22:40:59.245910Z",
     "start_time": "2019-05-30T22:40:58.777075Z"
    }
   },
   "outputs": [
    {
     "data": {
      "image/png": "[encoded data removed]",
      "text/plain": [
       "<Figure size 432x288 with 1 Axes>"
      ]
     },
     "metadata": {
      "needs_background": "light"
     },
     "output_type": "display_data"
    },
    {
     "data": {
      "image/png": "[encoded data removed]",
      "text/plain": [
       "<Figure size 432x288 with 1 Axes>"
      ]
     },
     "metadata": {
      "needs_background": "light"
     },
     "output_type": "display_data"
    }
   ],
   "source": [
    "from imblearn.under_sampling import RandomUnderSampler\n",
    "\n",
    "rus = RandomUnderSampler(return_indices=True)\n",
    "X_rus, y_rus, id_rus = rus.fit_sample(X, y)\n",
    "\n",
    "plot_2d_space(X_rus, y_rus, 'Random under-sampling')\n",
    "\n",
    "df2 = pd.DataFrame(X_rus)\n",
    "df2['target'] = y_rus\n",
    "df2.target.value_counts().plot(kind='bar', title='Count (target)');\n"
   ]
  },
  {
   "cell_type": "markdown",
   "metadata": {},
   "source": [
    "* **Random over sampling**"
   ]
  },
  {
   "cell_type": "code",
   "execution_count": 32,
   "metadata": {
    "ExecuteTime": {
     "end_time": "2019-05-30T22:41:02.630519Z",
     "start_time": "2019-05-30T22:41:02.409109Z"
    }
   },
   "outputs": [
    {
     "data": {
      "image/png": "[encoded data removed]",
      "text/plain": [
       "<Figure size 432x288 with 1 Axes>"
      ]
     },
     "metadata": {
      "needs_background": "light"
     },
     "output_type": "display_data"
    },
    {
     "data": {
      "image/png": "[encoded data removed]",
      "text/plain": [
       "<Figure size 432x288 with 1 Axes>"
      ]
     },
     "metadata": {
      "needs_background": "light"
     },
     "output_type": "display_data"
    }
   ],
   "source": [
    "from imblearn.over_sampling import RandomOverSampler\n",
    "\n",
    "ros = RandomOverSampler()\n",
    "X_ros, y_ros = ros.fit_sample(X, y)\n",
    "\n",
    "plot_2d_space(X_ros, y_ros, 'Random over-sampling')\n",
    "\n",
    "df2 = pd.DataFrame(X_ros)\n",
    "df2['target'] = y_ros\n",
    "df2.target.value_counts().plot(kind='bar', title='Count (target)');\n"
   ]
  },
  {
   "cell_type": "markdown",
   "metadata": {},
   "source": [
    "## Model tunning\n",
    "\n",
    "refs:\n",
    "* https://medium.com/swlh/the-hyperparameter-cheat-sheet-770f1fed32ff\n",
    "\n",
    "**For tune deep learning see deep learning notebook**\n",
    "\n",
    "    1. gridseach\n",
    "    2. sthocastic search\n",
    "    3. bobh Auto-ml\n",
    "   \n"
   ]
  },
  {
   "cell_type": "markdown",
   "metadata": {},
   "source": [
    "### KNN\n",
    "\n",
    "Ref:\n",
    "* https://scikit-learn.org/stable/modules/neighbors.html \n",
    "* https://scikit-learn.org/stable/modules/generated/sklearn.neighbors.KNeighborsClassifier.html\n",
    "\n",
    "> Important Note: You might want to have K odd to avoid ties (i.e., if K = 4, this could result in a 2 Yes and 2 No, which would confuse the classifier). But you might want the classifier to return NOT sure. SO is optional. See the 2 tune to see that allows even numbers allows us to discover that K = 10 is actually the best option.\n",
    "\n",
    "\n",
    "* decrease K: reduce bias and increase variance error (double check as well).  \n"
   ]
  },
  {
   "cell_type": "code",
   "execution_count": 7,
   "metadata": {},
   "outputs": [
    {
     "data": {
      "text/html": [
       "<div>\n",
       "<style scoped>\n",
       "    .dataframe tbody tr th:only-of-type {\n",
       "        vertical-align: middle;\n",
       "    }\n",
       "\n",
       "    .dataframe tbody tr th {\n",
       "        vertical-align: top;\n",
       "    }\n",
       "\n",
       "    .dataframe thead th {\n",
       "        text-align: right;\n",
       "    }\n",
       "</style>\n",
       "<table border=\"1\" class=\"dataframe\">\n",
       "  <thead>\n",
       "    <tr style=\"text-align: right;\">\n",
       "      <th></th>\n",
       "      <th>pregnancies</th>\n",
       "      <th>glucose</th>\n",
       "      <th>diastolic</th>\n",
       "      <th>triceps</th>\n",
       "      <th>insulin</th>\n",
       "      <th>bmi</th>\n",
       "      <th>dpf</th>\n",
       "      <th>age</th>\n",
       "      <th>diabetes</th>\n",
       "    </tr>\n",
       "  </thead>\n",
       "  <tbody>\n",
       "    <tr>\n",
       "      <td>0</td>\n",
       "      <td>6</td>\n",
       "      <td>148</td>\n",
       "      <td>72</td>\n",
       "      <td>35</td>\n",
       "      <td>0</td>\n",
       "      <td>33.6</td>\n",
       "      <td>0.627</td>\n",
       "      <td>50</td>\n",
       "      <td>1</td>\n",
       "    </tr>\n",
       "    <tr>\n",
       "      <td>1</td>\n",
       "      <td>1</td>\n",
       "      <td>85</td>\n",
       "      <td>66</td>\n",
       "      <td>29</td>\n",
       "      <td>0</td>\n",
       "      <td>26.6</td>\n",
       "      <td>0.351</td>\n",
       "      <td>31</td>\n",
       "      <td>0</td>\n",
       "    </tr>\n",
       "    <tr>\n",
       "      <td>2</td>\n",
       "      <td>8</td>\n",
       "      <td>183</td>\n",
       "      <td>64</td>\n",
       "      <td>0</td>\n",
       "      <td>0</td>\n",
       "      <td>23.3</td>\n",
       "      <td>0.672</td>\n",
       "      <td>32</td>\n",
       "      <td>1</td>\n",
       "    </tr>\n",
       "    <tr>\n",
       "      <td>3</td>\n",
       "      <td>1</td>\n",
       "      <td>89</td>\n",
       "      <td>66</td>\n",
       "      <td>23</td>\n",
       "      <td>94</td>\n",
       "      <td>28.1</td>\n",
       "      <td>0.167</td>\n",
       "      <td>21</td>\n",
       "      <td>0</td>\n",
       "    </tr>\n",
       "    <tr>\n",
       "      <td>4</td>\n",
       "      <td>0</td>\n",
       "      <td>137</td>\n",
       "      <td>40</td>\n",
       "      <td>35</td>\n",
       "      <td>168</td>\n",
       "      <td>43.1</td>\n",
       "      <td>2.288</td>\n",
       "      <td>33</td>\n",
       "      <td>1</td>\n",
       "    </tr>\n",
       "  </tbody>\n",
       "</table>\n",
       "</div>"
      ],
      "text/plain": [
       "   pregnancies  glucose  diastolic  triceps  insulin   bmi    dpf  age  \\\n",
       "0            6      148         72       35        0  33.6  0.627   50   \n",
       "1            1       85         66       29        0  26.6  0.351   31   \n",
       "2            8      183         64        0        0  23.3  0.672   32   \n",
       "3            1       89         66       23       94  28.1  0.167   21   \n",
       "4            0      137         40       35      168  43.1  2.288   33   \n",
       "\n",
       "   diabetes  \n",
       "0         1  \n",
       "1         0  \n",
       "2         1  \n",
       "3         0  \n",
       "4         1  "
      ]
     },
     "execution_count": 7,
     "metadata": {},
     "output_type": "execute_result"
    },
    {
     "name": "stdout",
     "output_type": "stream",
     "text": [
      "X shape: (768, 8)\n",
      "y labels: [0 1]\n",
      "\n",
      "Split dataset:\n",
      "X train shape: (514, 8)\n",
      "X test shape: (254, 8)\n"
     ]
    }
   ],
   "source": [
    "from sklearn.model_selection import train_test_split\n",
    "\n",
    "#read in the data using pandas\n",
    "df = pd.read_csv('data/diabetes_data.csv')\n",
    "\n",
    "df.head()\n",
    "\n",
    "# explainers\n",
    "X = df.drop(columns=['diabetes']).to_numpy()\n",
    "\n",
    "#separate target values\n",
    "y = df['diabetes'].values\n",
    "\n",
    "\n",
    "print(f\"X shape: {X.shape}\")\n",
    "print(f\"y labels: {np.unique(y)}\")\n",
    "\n",
    "print()\n",
    "print(\"Split dataset:\")\n",
    "X_train, X_test, y_train, y_test = train_test_split(\n",
    "                                X, y, test_size=0.33, random_state=42)\n",
    "\n",
    "print(f\"X train shape: {X_train.shape}\")\n",
    "print(f\"X test shape: {X_test.shape}\")\n"
   ]
  },
  {
   "cell_type": "code",
   "execution_count": 8,
   "metadata": {},
   "outputs": [
    {
     "name": "stdout",
     "output_type": "stream",
     "text": [
      "Best (k,score): (9, 0.5764705882352942)\n"
     ]
    },
    {
     "data": {
      "text/plain": [
       "[<matplotlib.lines.Line2D at 0x7fe76ef883d0>]"
      ]
     },
     "execution_count": 8,
     "metadata": {},
     "output_type": "execute_result"
    },
    {
     "data": {
      "image/png": "[encoded data removed]",
      "text/plain": [
       "<Figure size 432x288 with 1 Axes>"
      ]
     },
     "metadata": {
      "needs_background": "light"
     },
     "output_type": "display_data"
    }
   ],
   "source": [
    "from sklearn.neighbors import KNeighborsClassifier\n",
    "from sklearn.metrics import f1_score\n",
    "\n",
    "best_k = 0\n",
    "best_score = 0\n",
    "\n",
    "neighbors = range(1,50,2) # min_k = 1, max_k = 25, odd numbers \n",
    "\n",
    "scores = list()\n",
    "for k in neighbors:\n",
    "\n",
    "        knn = KNeighborsClassifier(n_neighbors=k)\n",
    "        _ = knn.fit(X_train, y_train)\n",
    "        \n",
    "        y_pred = knn.predict(X_test)\n",
    "        f1 = f1_score(y_test, y_pred)\n",
    "        \n",
    "        scores.append((k,f1))\n",
    "        if f1 > best_score:\n",
    "            best_k = k\n",
    "            best_score = f1\n",
    "\n",
    "\n",
    "print(f\"Best (k,score): {(best_k, best_score)}\")\n",
    "\n",
    "k = [s[0] for s in scores ]\n",
    "s = [s[1] for s in scores ]\n",
    "\n",
    "plt.plot(k, s)"
   ]
  },
  {
   "cell_type": "code",
   "execution_count": 19,
   "metadata": {},
   "outputs": [
    {
     "name": "stdout",
     "output_type": "stream",
     "text": [
      "CPU times: user 465 ms, sys: 0 ns, total: 465 ms\n",
      "Wall time: 449 ms\n"
     ]
    },
    {
     "name": "stderr",
     "output_type": "stream",
     "text": [
      "/home/leandroohf/anaconda3/lib/python3.7/site-packages/sklearn/model_selection/_search.py:814: DeprecationWarning: The default of the `iid` parameter will change from True to False in version 0.22 and will be removed in 0.24. This will change numeric results when test-set sizes are unequal.\n",
      "  DeprecationWarning)\n"
     ]
    },
    {
     "data": {
      "text/plain": [
       "GridSearchCV(cv=5, error_score='raise-deprecating',\n",
       "             estimator=KNeighborsClassifier(algorithm='auto', leaf_size=30,\n",
       "                                            metric='minkowski',\n",
       "                                            metric_params=None, n_jobs=None,\n",
       "                                            n_neighbors=5, p=2,\n",
       "                                            weights='uniform'),\n",
       "             iid='warn', n_jobs=None,\n",
       "             param_grid={'n_neighbors': array([ 1,  2,  3,  4,  5,  6,  7,  8,  9, 10, 11, 12, 13, 14, 15, 16, 17,\n",
       "       18, 19, 20, 21, 22, 23, 24])},\n",
       "             pre_dispatch='2*n_jobs', refit=True, return_train_score=False,\n",
       "             scoring=None, verbose=0)"
      ]
     },
     "execution_count": 19,
     "metadata": {},
     "output_type": "execute_result"
    }
   ],
   "source": [
    "%%time\n",
    "from sklearn.model_selection import GridSearchCV\n",
    "\n",
    "# optional you can do\n",
    "# all values we want to test for n_neighbors\n",
    "param_grid = {'n_neighbors': np.arange(1, 25)}\n",
    "\n",
    "knn = KNeighborsClassifier()\n",
    "\n",
    "# using cross k-fold\n",
    "# Scoring is attribute of the estimator (Classifier). To get the deafult we should look in the \n",
    "# estimator doc. \n",
    "# For knn it is mean accuracy for binary\n",
    "# If you want to pass the metric See Random Forest Random Search\n",
    "search = GridSearchCV(knn, param_grid, cv=5)\n",
    "\n",
    "#fit model to data\n",
    "search.fit(X_train, y_train)"
   ]
  },
  {
   "cell_type": "code",
   "execution_count": 20,
   "metadata": {},
   "outputs": [
    {
     "data": {
      "text/plain": [
       "{'n_neighbors': 10}"
      ]
     },
     "execution_count": 20,
     "metadata": {},
     "output_type": "execute_result"
    },
    {
     "name": "stdout",
     "output_type": "stream",
     "text": [
      "\n"
     ]
    },
    {
     "data": {
      "text/plain": [
       "{'cv': 5,\n",
       " 'error_score': 'raise-deprecating',\n",
       " 'estimator__algorithm': 'auto',\n",
       " 'estimator__leaf_size': 30,\n",
       " 'estimator__metric': 'minkowski',\n",
       " 'estimator__metric_params': None,\n",
       " 'estimator__n_jobs': None,\n",
       " 'estimator__n_neighbors': 5,\n",
       " 'estimator__p': 2,\n",
       " 'estimator__weights': 'uniform',\n",
       " 'estimator': KNeighborsClassifier(algorithm='auto', leaf_size=30, metric='minkowski',\n",
       "                      metric_params=None, n_jobs=None, n_neighbors=5, p=2,\n",
       "                      weights='uniform'),\n",
       " 'iid': 'warn',\n",
       " 'n_jobs': None,\n",
       " 'param_grid': {'n_neighbors': array([ 1,  2,  3,  4,  5,  6,  7,  8,  9, 10, 11, 12, 13, 14, 15, 16, 17,\n",
       "         18, 19, 20, 21, 22, 23, 24])},\n",
       " 'pre_dispatch': '2*n_jobs',\n",
       " 'refit': True,\n",
       " 'return_train_score': False,\n",
       " 'scoring': None,\n",
       " 'verbose': 0}"
      ]
     },
     "execution_count": 20,
     "metadata": {},
     "output_type": "execute_result"
    },
    {
     "data": {
      "text/plain": [
       "0.7354085603112841"
      ]
     },
     "execution_count": 20,
     "metadata": {},
     "output_type": "execute_result"
    },
    {
     "name": "stdout",
     "output_type": "stream",
     "text": [
      "\n"
     ]
    },
    {
     "data": {
      "text/plain": [
       "KNeighborsClassifier(algorithm='auto', leaf_size=30, metric='minkowski',\n",
       "                     metric_params=None, n_jobs=None, n_neighbors=10, p=2,\n",
       "                     weights='uniform')"
      ]
     },
     "execution_count": 20,
     "metadata": {},
     "output_type": "execute_result"
    }
   ],
   "source": [
    "search.best_params_\n",
    "print()\n",
    "#search.get_params() # prints all parameters as dict\n",
    "search.best_score_\n",
    "print()\n",
    "search.best_estimator_"
   ]
  },
  {
   "cell_type": "code",
   "execution_count": 13,
   "metadata": {},
   "outputs": [
    {
     "data": {
      "text/plain": [
       "KNeighborsClassifier(algorithm='auto', leaf_size=30, metric='minkowski',\n",
       "                     metric_params=None, n_jobs=None, n_neighbors=10, p=2,\n",
       "                     weights='uniform')"
      ]
     },
     "execution_count": 13,
     "metadata": {},
     "output_type": "execute_result"
    },
    {
     "name": "stdout",
     "output_type": "stream",
     "text": [
      "train: f score: 0.6229508196721312\n",
      "test: f score: 0.48951048951048953\n",
      "test acc: 0.7125984251968503\n"
     ]
    }
   ],
   "source": [
    "from sklearn.metrics import accuracy_score\n",
    "knn_best = KNeighborsClassifier(algorithm='auto', leaf_size=30, metric='minkowski',\n",
    "                     metric_params=None, n_jobs=None, n_neighbors=10, p=2,\n",
    "                     weights='uniform')\n",
    "\n",
    "knn_best.fit(X_train,y_train)\n",
    "\n",
    "y_pred = knn_best.predict(X_train)\n",
    "f1 = f1_score(y_train, y_pred)\n",
    "\n",
    "print(f\"train: f score: {f1}\")\n",
    "\n",
    "y_pred = knn_best.predict(X_test)\n",
    "f1 = f1_score(y_test, y_pred)\n",
    "\n",
    "print(f\"test: f score: {f1}\")\n",
    "\n",
    "acc = accuracy_score(y_test, y_pred)\n",
    "print(f\"test acc: {acc}\")"
   ]
  },
  {
   "cell_type": "markdown",
   "metadata": {},
   "source": [
    "### Random Forest\n",
    "\n",
    "\n",
    "The strenght in the random forest is related the hability to make uncorrelated \n",
    "\n",
    "* **n_estimators**: #decision trees in the forest. (default=100)\n",
    "    * more uncorrelated trees in the model, better is the for the model. But more tree increase CPU time. \n",
    "    * After certain number of trees, there is statistical evidence of diminishing of returns.\n",
    "    * more tree: more overfitting\n",
    "    \n",
    "* **max_depth**: max depth of the tree. (default=None)\n",
    "    * None: means the tree are expand where all the leaves are pure or until all leaves contain less than **min_samples_split**\n",
    "    * increasing: leads to overfitting (reduce bias)\n",
    "\n",
    "* **min_samples_split**: min #samples required to split an internal node (deafult=\n",
    "    * high values: more \"clustered\" the decision will be. You migh have more samples of mixed classes, because the the decision will be the same for all samples in the node\n",
    "    \n",
    "* **min_sample_leaf**: min #samples needed at each leaf (default=1) \n",
    "    * simililar to **min_samples_split**, if you do not allow the model to split (say because **n_sample_leaf** too high), the model can over generalize measning high bias\n",
    "    * increase: increase bias error and reduce variance\n",
    "    \n",
    "\n"
   ]
  },
  {
   "cell_type": "code",
   "execution_count": null,
   "metadata": {},
   "outputs": [],
   "source": [
    "from sklearn.datasets import load_digits, make_moons\n",
    "from sklearn.model_selection import train_test_split\n",
    "\n",
    "# get some data\n",
    "X, y = load_digits(return_X_y=True) # Multiclass\n",
    "#X, y = make_moons()  ## binary classifier\n",
    "\n",
    "print(f\"X shape: {X.shape}\")\n",
    "print(f\"y labels: {np.unique(y)}\")\n",
    "\n",
    "print()\n",
    "print(\"Split dataset:\")\n",
    "X_train, X_test, y_train, y_test = train_test_split(\n",
    "                                X, y, test_size=0.33, random_state=42)\n",
    "\n",
    "print(f\"X train shape: {X_train.shape}\")\n",
    "print(f\"X test shape: {X_test.shape}\")"
   ]
  },
  {
   "cell_type": "code",
   "execution_count": 17,
   "metadata": {},
   "outputs": [
    {
     "data": {
      "text/plain": [
       "dict_keys(['explained_variance', 'r2', 'max_error', 'neg_median_absolute_error', 'neg_mean_absolute_error', 'neg_mean_squared_error', 'neg_mean_squared_log_error', 'accuracy', 'roc_auc', 'balanced_accuracy', 'average_precision', 'neg_log_loss', 'brier_score_loss', 'adjusted_rand_score', 'homogeneity_score', 'completeness_score', 'v_measure_score', 'mutual_info_score', 'adjusted_mutual_info_score', 'normalized_mutual_info_score', 'fowlkes_mallows_score', 'precision', 'precision_macro', 'precision_micro', 'precision_samples', 'precision_weighted', 'recall', 'recall_macro', 'recall_micro', 'recall_samples', 'recall_weighted', 'f1', 'f1_macro', 'f1_micro', 'f1_samples', 'f1_weighted', 'jaccard', 'jaccard_macro', 'jaccard_micro', 'jaccard_samples', 'jaccard_weighted'])"
      ]
     },
     "execution_count": 17,
     "metadata": {},
     "output_type": "execute_result"
    }
   ],
   "source": [
    "## list all possible scores to be used\n",
    "# See this: https://scikit-learn.org/stable/modules/model_evaluation.html#scoring-parameter\n",
    "import sklearn\n",
    "sklearn.metrics.SCORERS.keys()"
   ]
  },
  {
   "cell_type": "code",
   "execution_count": 14,
   "metadata": {},
   "outputs": [
    {
     "name": "stderr",
     "output_type": "stream",
     "text": [
      "/home/leandroohf/anaconda3/lib/python3.7/site-packages/sklearn/model_selection/_split.py:1978: FutureWarning: The default value of cv will change from 3 to 5 in version 0.22. Specify it explicitly to silence this warning.\n",
      "  warnings.warn(CV_WARNING, FutureWarning)\n",
      "/home/leandroohf/anaconda3/lib/python3.7/site-packages/sklearn/model_selection/_search.py:814: DeprecationWarning: The default of the `iid` parameter will change from True to False in version 0.22 and will be removed in 0.24. This will change numeric results when test-set sizes are unequal.\n",
      "  DeprecationWarning)\n"
     ]
    },
    {
     "name": "stdout",
     "output_type": "stream",
     "text": [
      "CPU times: user 11.6 s, sys: 66.7 ms, total: 11.6 s\n",
      "Wall time: 11.2 s\n"
     ]
    }
   ],
   "source": [
    "%%time\n",
    "from sklearn.ensemble import RandomForestClassifier\n",
    "from sklearn.model_selection import RandomizedSearchCV\n",
    "from sklearn.metrics import cohen_kappa_score,  make_scorer, balanced_accuracy_score\n",
    "\n",
    "kappa_scorer = make_scorer(cohen_kappa_score)\n",
    "\n",
    "param_space = {\n",
    "    'criterion': ['gini', 'entropy'],\n",
    "    'n_estimators': [100,150,200],\n",
    "    'max_depth': [None, 1,3,5,10],\n",
    "    'min_samples_split': [5,10],\n",
    "    'min_samples_leaf': [5,10]\n",
    "}\n",
    "\n",
    "\n",
    "\n",
    "clf = RandomizedSearchCV(RandomForestClassifier(), param_space, \n",
    "                         scoring = kappa_scorer,\n",
    "                         n_iter=25,random_state=0)\n",
    "search = clf.fit(X_train, y_train)"
   ]
  },
  {
   "cell_type": "code",
   "execution_count": 15,
   "metadata": {},
   "outputs": [
    {
     "data": {
      "text/plain": [
       "{'n_estimators': 200,\n",
       " 'min_samples_split': 5,\n",
       " 'min_samples_leaf': 5,\n",
       " 'max_depth': 10,\n",
       " 'criterion': 'entropy'}"
      ]
     },
     "execution_count": 15,
     "metadata": {},
     "output_type": "execute_result"
    },
    {
     "name": "stdout",
     "output_type": "stream",
     "text": [
      "\n"
     ]
    },
    {
     "data": {
      "text/plain": [
       "0.47722147864896247"
      ]
     },
     "execution_count": 15,
     "metadata": {},
     "output_type": "execute_result"
    },
    {
     "name": "stdout",
     "output_type": "stream",
     "text": [
      "\n"
     ]
    },
    {
     "data": {
      "text/plain": [
       "RandomForestClassifier(bootstrap=True, class_weight=None, criterion='entropy',\n",
       "                       max_depth=10, max_features='auto', max_leaf_nodes=None,\n",
       "                       min_impurity_decrease=0.0, min_impurity_split=None,\n",
       "                       min_samples_leaf=5, min_samples_split=5,\n",
       "                       min_weight_fraction_leaf=0.0, n_estimators=200,\n",
       "                       n_jobs=None, oob_score=False, random_state=None,\n",
       "                       verbose=0, warm_start=False)"
      ]
     },
     "execution_count": 15,
     "metadata": {},
     "output_type": "execute_result"
    }
   ],
   "source": [
    "search.best_params_\n",
    "print()\n",
    "search.best_score_\n",
    "print()\n",
    "search.best_estimator_"
   ]
  },
  {
   "cell_type": "code",
   "execution_count": 16,
   "metadata": {},
   "outputs": [
    {
     "data": {
      "text/plain": [
       "RandomForestClassifier(bootstrap=True, class_weight=None, criterion='entropy',\n",
       "                       max_depth=10, max_features='auto', max_leaf_nodes=None,\n",
       "                       min_impurity_decrease=0.0, min_impurity_split=None,\n",
       "                       min_samples_leaf=5, min_samples_split=5,\n",
       "                       min_weight_fraction_leaf=0.0, n_estimators=200,\n",
       "                       n_jobs=None, oob_score=False, random_state=None,\n",
       "                       verbose=0, warm_start=False)"
      ]
     },
     "execution_count": 16,
     "metadata": {},
     "output_type": "execute_result"
    },
    {
     "name": "stdout",
     "output_type": "stream",
     "text": [
      "train kappa: 0.8346819243660494\n",
      "test kappa: 0.48951048951048953\n",
      "test acc: 0.7452242524916943\n"
     ]
    }
   ],
   "source": [
    "rf_best = RandomForestClassifier(bootstrap=True, class_weight=None, criterion='entropy',\n",
    "                       max_depth=10, max_features='auto', max_leaf_nodes=None,\n",
    "                       min_impurity_decrease=0.0, min_impurity_split=None,\n",
    "                       min_samples_leaf=5, min_samples_split=5,\n",
    "                       min_weight_fraction_leaf=0.0, n_estimators=200,\n",
    "                       n_jobs=None, oob_score=False, random_state=None,\n",
    "                       verbose=0, warm_start=False)\n",
    "\n",
    "rf_best.fit(X_train,y_train)\n",
    "\n",
    "y_pred = rf_best.predict(X_train)\n",
    "kappa = cohen_kappa_score(y_train, y_pred)\n",
    "\n",
    "print(f\"train kappa: {kappa}\")\n",
    "\n",
    "y_pred = rf_best.predict(X_test)\n",
    "kappa = cohen_kappa_score(y_test, y_pred)\n",
    "\n",
    "print(f\"test kappa: {f1}\")\n",
    "\n",
    "acc = balanced_accuracy_score(y_test, y_pred)\n",
    "print(f\"test acc: {acc}\")\n"
   ]
  },
  {
   "cell_type": "markdown",
   "metadata": {},
   "source": [
    "### Ada n Gradient Boosting\n",
    "\n",
    "ref:\n",
    "* https://medium.com/@aln.deaguiar/xgboost-a-matem%C3%A1tica-passo-a-passo-29d34fa561dc\n",
    "\n",
    "* **n_estimators**: boosting will build n_estimators #decision trees. Each one will improve the results of the previous one. (default=50)\n",
    "\n",
    "* **learning_rate**: is rate boosting is adjusting the wieghts with respect the loss\n",
    "    * lower: slow is the learning you migh need more trees\n",
    "    * trade-off with **n_estimators**: low\n",
    "    * high learning rate reduce how much one tree learns leaving the rest to be learned to the next trees.\n",
    "    \n",
    "    \n",
    "**Double check**\n",
    "$\n",
    "w_{j-1} = w_j\n",
    "$\n",
    "\n",
    "where $w_j$ is the weights given to each sample at the iteration $j$ **Double check**"
   ]
  },
  {
   "cell_type": "code",
   "execution_count": 21,
   "metadata": {},
   "outputs": [
    {
     "name": "stdout",
     "output_type": "stream",
     "text": [
      "X shape: (100, 2)\n",
      "y labels: [0 1]\n",
      "\n",
      "Split dataset:\n",
      "X train shape: (67, 2)\n",
      "X test shape: (33, 2)\n"
     ]
    }
   ],
   "source": [
    "from sklearn.datasets import load_digits, make_moons\n",
    "from sklearn.model_selection import train_test_split\n",
    "\n",
    "# get some data\n",
    "#X, y = load_digits(return_X_y=True) # Multiclass\n",
    "X, y = make_moons()  ## binary classifier\n",
    "\n",
    "print(f\"X shape: {X.shape}\")\n",
    "print(f\"y labels: {np.unique(y)}\")\n",
    "\n",
    "print()\n",
    "print(\"Split dataset:\")\n",
    "X_train, X_test, y_train, y_test = train_test_split(\n",
    "                                X, y, test_size=0.33, random_state=42)\n",
    "\n",
    "print(f\"X train shape: {X_train.shape}\")\n",
    "print(f\"X test shape: {X_test.shape}\")"
   ]
  },
  {
   "cell_type": "code",
   "execution_count": 22,
   "metadata": {},
   "outputs": [
    {
     "name": "stdout",
     "output_type": "stream",
     "text": [
      "1.3.1\n"
     ]
    },
    {
     "name": "stderr",
     "output_type": "stream",
     "text": [
      "/home/leandroohf/anaconda3/lib/python3.7/site-packages/sklearn/model_selection/_split.py:1978: FutureWarning: The default value of cv will change from 3 to 5 in version 0.22. Specify it explicitly to silence this warning.\n",
      "  warnings.warn(CV_WARNING, FutureWarning)\n",
      "/home/leandroohf/anaconda3/lib/python3.7/site-packages/sklearn/model_selection/_search.py:266: UserWarning: The total space of parameters 3 is smaller than n_iter=100. Running 3 iterations. For exhaustive searches, use GridSearchCV.\n",
      "  % (grid_size, self.n_iter, grid_size), UserWarning)\n"
     ]
    },
    {
     "name": "stdout",
     "output_type": "stream",
     "text": [
      "CPU times: user 1.21 s, sys: 28 ms, total: 1.23 s\n",
      "Wall time: 1.18 s\n"
     ]
    },
    {
     "name": "stderr",
     "output_type": "stream",
     "text": [
      "/home/leandroohf/anaconda3/lib/python3.7/site-packages/sklearn/model_selection/_search.py:814: DeprecationWarning: The default of the `iid` parameter will change from True to False in version 0.22 and will be removed in 0.24. This will change numeric results when test-set sizes are unequal.\n",
      "  DeprecationWarning)\n"
     ]
    }
   ],
   "source": [
    "%%time\n",
    "from sklearn.ensemble import AdaBoostClassifier\n",
    "from sklearn.model_selection import RandomizedSearchCV\n",
    "from sklearn.metrics import cohen_kappa_score,  make_scorer, balanced_accuracy_score\n",
    "\n",
    "#from scipy.stats import loguniform\n",
    "import scipy\n",
    "\n",
    "# loguniform needs sicpy > 1.4.0\n",
    "print(scipy.__version__);\n",
    "\n",
    "# in case you do not have loguniform in your scipy \n",
    "def lognuniform(low=0, high=1, size=None, base=np.exp(1)):\n",
    "    return np.power(base, np.random.uniform(low, high, size))\n",
    "\n",
    "param_space = {\n",
    " 'n_estimators': [50, 100, 200],\n",
    " 'learning_rate': lognuniform(1e-3,1e0, size=1) # option pass: [0.01,0.05,0.1,0.3,1],\n",
    " }\n",
    "\n",
    "ada = AdaBoostClassifier()\n",
    "\n",
    "# Using default scoring. For deafult socore seach in AdaBoost estimator doc\n",
    "# If you want to pass the metric See Random Forest Random Search\n",
    "clf = RandomizedSearchCV(ada, param_space,n_iter=100, random_state=0)\n",
    "search = clf.fit(X_train, y_train)"
   ]
  },
  {
   "cell_type": "code",
   "execution_count": 23,
   "metadata": {},
   "outputs": [
    {
     "data": {
      "text/plain": [
       "{'n_estimators': 200, 'learning_rate': 1.8163357382536314}"
      ]
     },
     "execution_count": 23,
     "metadata": {},
     "output_type": "execute_result"
    },
    {
     "name": "stdout",
     "output_type": "stream",
     "text": [
      "\n"
     ]
    },
    {
     "data": {
      "text/plain": [
       "0.9552238805970149"
      ]
     },
     "execution_count": 23,
     "metadata": {},
     "output_type": "execute_result"
    },
    {
     "name": "stdout",
     "output_type": "stream",
     "text": [
      "\n"
     ]
    },
    {
     "data": {
      "text/plain": [
       "AdaBoostClassifier(algorithm='SAMME.R', base_estimator=None,\n",
       "                   learning_rate=1.8163357382536314, n_estimators=200,\n",
       "                   random_state=None)"
      ]
     },
     "execution_count": 23,
     "metadata": {},
     "output_type": "execute_result"
    }
   ],
   "source": [
    "search.best_params_\n",
    "print()\n",
    "search.best_score_\n",
    "print()\n",
    "search.best_estimator_"
   ]
  },
  {
   "cell_type": "code",
   "execution_count": 24,
   "metadata": {},
   "outputs": [
    {
     "data": {
      "text/plain": [
       "AdaBoostClassifier(algorithm='SAMME.R', base_estimator=None,\n",
       "                   learning_rate=1.3215256077009696, n_estimators=50,\n",
       "                   random_state=None)"
      ]
     },
     "execution_count": 24,
     "metadata": {},
     "output_type": "execute_result"
    },
    {
     "name": "stdout",
     "output_type": "stream",
     "text": [
      "train kappa: 1.0\n",
      "test kappa: 1.0\n",
      "test acc: 1.0\n"
     ]
    }
   ],
   "source": [
    "ada_best = AdaBoostClassifier(algorithm='SAMME.R', base_estimator=None,\n",
    "                   learning_rate=1.3215256077009696, n_estimators=50,\n",
    "                   random_state=None)\n",
    "\n",
    "ada_best.fit(X_train,y_train)\n",
    "\n",
    "y_pred = ada_best.predict(X_train)\n",
    "kappa = cohen_kappa_score(y_train, y_pred)\n",
    "\n",
    "print(f\"train kappa: {kappa}\")\n",
    "\n",
    "y_pred = ada_best.predict(X_test)\n",
    "kapa = cohen_kappa_score(y_test, y_pred)\n",
    "\n",
    "print(f\"test kappa: {kappa}\")\n",
    "\n",
    "acc = balanced_accuracy_score(y_test, y_pred)\n",
    "print(f\"test acc: {acc}\")"
   ]
  },
  {
   "cell_type": "markdown",
   "metadata": {},
   "source": [
    "### SVM\n",
    "\n",
    "**TODO** Need to learn \n",
    "\n",
    "* **C**: is the regularization parameter. The strength of the regularization is inversely proportional to **C**\n",
    "    * lower C: allows more error wich translate in higher bias\n",
    "    \n",
    "* **Gamma**: how far is the scope of influence of a single training.  \n",
    "\n",
    "    * low Gamma: allow poitns far away from the hyperplane to be considered.\n",
    "    * high values: prioritize proximity. \n",
    "    * higher gamma: tighter is the fit. reduce bias error \n",
    "    \n",
    "* **kernel** (very important): linear, ploy, rbf"
   ]
  },
  {
   "cell_type": "code",
   "execution_count": 25,
   "metadata": {},
   "outputs": [
    {
     "name": "stdout",
     "output_type": "stream",
     "text": [
      "X shape: (1797, 64)\n",
      "y labels: [0 1 2 3 4 5 6 7 8 9]\n",
      "\n",
      "Split dataset:\n",
      "X train shape: (1203, 64)\n",
      "X test shape: (594, 64)\n"
     ]
    }
   ],
   "source": [
    "from sklearn.datasets import load_digits, make_moons\n",
    "from sklearn.model_selection import train_test_split\n",
    "\n",
    "# get some data\n",
    "X, y = load_digits(return_X_y=True) # Multiclass\n",
    "#X, y = make_moons()  ## binary classifier\n",
    "\n",
    "print(f\"X shape: {X.shape}\")\n",
    "print(f\"y labels: {np.unique(y)}\")\n",
    "\n",
    "print()\n",
    "print(\"Split dataset:\")\n",
    "X_train, X_test, y_train, y_test = train_test_split(\n",
    "                                X, y, test_size=0.33, random_state=42)\n",
    "\n",
    "print(f\"X train shape: {X_train.shape}\")\n",
    "print(f\"X test shape: {X_test.shape}\")"
   ]
  },
  {
   "cell_type": "code",
   "execution_count": 26,
   "metadata": {},
   "outputs": [
    {
     "name": "stderr",
     "output_type": "stream",
     "text": [
      "/home/leandroohf/anaconda3/lib/python3.7/site-packages/sklearn/model_selection/_split.py:1978: FutureWarning: The default value of cv will change from 3 to 5 in version 0.22. Specify it explicitly to silence this warning.\n",
      "  warnings.warn(CV_WARNING, FutureWarning)\n",
      "/home/leandroohf/anaconda3/lib/python3.7/site-packages/sklearn/model_selection/_search.py:266: UserWarning: The total space of parameters 84 is smaller than n_iter=100. Running 84 iterations. For exhaustive searches, use GridSearchCV.\n",
      "  % (grid_size, self.n_iter, grid_size), UserWarning)\n"
     ]
    },
    {
     "name": "stdout",
     "output_type": "stream",
     "text": [
      "CPU times: user 14.9 s, sys: 0 ns, total: 14.9 s\n",
      "Wall time: 15.6 s\n"
     ]
    },
    {
     "name": "stderr",
     "output_type": "stream",
     "text": [
      "/home/leandroohf/anaconda3/lib/python3.7/site-packages/sklearn/model_selection/_search.py:814: DeprecationWarning: The default of the `iid` parameter will change from True to False in version 0.22 and will be removed in 0.24. This will change numeric results when test-set sizes are unequal.\n",
      "  DeprecationWarning)\n"
     ]
    }
   ],
   "source": [
    "%%time\n",
    "from sklearn.svm import SVC\n",
    "\n",
    "param_space = {\n",
    " 'kernel': ['linear', 'poly', 'rbf'],\n",
    " 'C': [0.001, 0.01, 0.1, 1, 10, 20, 100], # [0.001, 0.01, 0.1, 1, 10]\n",
    " 'gamma': [0.001, 0.01, 0.1, 1]\n",
    " }\n",
    "\n",
    "svc = SVC()\n",
    "\n",
    "# Using default scoring. For deafult socore seach in SVC estimator doc\n",
    "# If you want to pass the metric See Random Forest Random Search\n",
    "clf = RandomizedSearchCV(svc, param_space, n_iter=100, random_state=0)\n",
    "\n",
    "search = clf.fit(X_train, y_train)"
   ]
  },
  {
   "cell_type": "code",
   "execution_count": 27,
   "metadata": {},
   "outputs": [
    {
     "data": {
      "text/plain": [
       "{'kernel': 'rbf', 'gamma': 0.001, 'C': 10}"
      ]
     },
     "execution_count": 27,
     "metadata": {},
     "output_type": "execute_result"
    },
    {
     "name": "stdout",
     "output_type": "stream",
     "text": [
      "\n"
     ]
    },
    {
     "data": {
      "text/plain": [
       "0.9850374064837906"
      ]
     },
     "execution_count": 27,
     "metadata": {},
     "output_type": "execute_result"
    },
    {
     "name": "stdout",
     "output_type": "stream",
     "text": [
      "\n"
     ]
    },
    {
     "data": {
      "text/plain": [
       "SVC(C=10, cache_size=200, class_weight=None, coef0=0.0,\n",
       "    decision_function_shape='ovr', degree=3, gamma=0.001, kernel='rbf',\n",
       "    max_iter=-1, probability=False, random_state=None, shrinking=True,\n",
       "    tol=0.001, verbose=False)"
      ]
     },
     "execution_count": 27,
     "metadata": {},
     "output_type": "execute_result"
    }
   ],
   "source": [
    "search.best_params_\n",
    "print()\n",
    "search.best_score_\n",
    "print()\n",
    "search.best_estimator_"
   ]
  },
  {
   "cell_type": "code",
   "execution_count": 28,
   "metadata": {},
   "outputs": [
    {
     "data": {
      "text/plain": [
       "SVC(C=10, cache_size=200, class_weight=None, coef0=0.0,\n",
       "    decision_function_shape='ovr', degree=3, gamma=0.001, kernel='rbf',\n",
       "    max_iter=-1, probability=False, random_state=None, shrinking=True,\n",
       "    tol=0.001, verbose=False)"
      ]
     },
     "execution_count": 28,
     "metadata": {},
     "output_type": "execute_result"
    },
    {
     "name": "stdout",
     "output_type": "stream",
     "text": [
      "train kappa : 1.0\n",
      "test kappa: 0.48951048951048953\n",
      "test acc: 0.9899514148090998\n"
     ]
    }
   ],
   "source": [
    "from sklearn.metrics import cohen_kappa_score,  make_scorer, balanced_accuracy_score\n",
    "\n",
    "svc_best = SVC(C=10, cache_size=200, class_weight=None, coef0=0.0,\n",
    "        decision_function_shape='ovr', degree=3, gamma=0.001, kernel='rbf',\n",
    "        max_iter=-1, probability=False, random_state=None, shrinking=True,\n",
    "        tol=0.001, verbose=False)\n",
    "\n",
    "\n",
    "svc_best.fit(X_train,y_train)\n",
    "\n",
    "y_pred = svc_best.predict(X_train)\n",
    "kappa = cohen_kappa_score(y_train, y_train)\n",
    "\n",
    "print(f\"train kappa : {kappa}\")\n",
    "\n",
    "y_pred = svc_best.predict(X_test)\n",
    "kappa = cohen_kappa_score(y_test, y_pred)\n",
    "\n",
    "print(f\"test kappa: {f1}\")\n",
    "\n",
    "acc = balanced_accuracy_score(y_test, y_pred)\n",
    "print(f\"test acc: {acc}\")"
   ]
  },
  {
   "cell_type": "markdown",
   "metadata": {},
   "source": [
    "## Calibration curve\n",
    "\n",
    "Fix the output probability of the models. Few classifeir return true probabilities. For example Logistic Regression does.\n",
    "\n",
    "Important with you want to take decision based on the output probability.\n"
   ]
  },
  {
   "cell_type": "markdown",
   "metadata": {
    "heading_collapsed": true
   },
   "source": [
    "## Evaluation metrics"
   ]
  },
  {
   "cell_type": "markdown",
   "metadata": {
    "ExecuteTime": {
     "end_time": "2018-09-11T18:45:22.985857Z",
     "start_time": "2018-09-11T18:45:22.979639Z"
    },
    "hidden": true
   },
   "source": [
    "### Accuracy  and confusion matrix"
   ]
  },
  {
   "cell_type": "code",
   "execution_count": 33,
   "metadata": {
    "ExecuteTime": {
     "end_time": "2019-05-30T22:41:06.038884Z",
     "start_time": "2019-05-30T22:41:06.025272Z"
    },
    "hidden": true
   },
   "outputs": [
    {
     "name": "stdout",
     "output_type": "stream",
     "text": [
      "Fake data\n",
      "y_true: [ True False  True False False  True  True]\n",
      "y_pred: [ True  True False  True  True  True False]\n",
      "accuracy: 0.2857142857142857\n",
      "|                 |   Predicted Positive |   Predicted Negative |\n",
      "|-----------------+----------------------+----------------------|\n",
      "| Actual Positive |                    0 |                    3 |\n",
      "| Actual Negative |                    2 |                    2 |\n",
      "\n",
      "FPR: 1.0\n",
      "FNR: 0.5\n",
      "\n"
     ]
    }
   ],
   "source": [
    "## Accuracy \n",
    "\n",
    "from sklearn.metrics import accuracy_score, confusion_matrix\n",
    "from tabulate import tabulate\n",
    "\n",
    "np.random.seed(2018)\n",
    "\n",
    "y_true = np.random.uniform(size=7) > .5\n",
    "y_pred = np.random.uniform(size=7) > .4\n",
    "\n",
    "acc = accuracy_score(y_true, y_pred)\n",
    "print('Fake data')\n",
    "print('y_true: {}'.format(y_true))\n",
    "print('y_pred: {}'.format(y_pred))\n",
    "\n",
    "print('accuracy: {}'.format(acc))\n",
    "\n",
    "cf_m = confusion_matrix(y_true, y_pred)\n",
    "\n",
    "cf_df = pd.DataFrame(cf_m, index=[\"Actual Positive\", \"Actual Negative\"], columns = [\"Predicted Positive\", \"Predicted Negative\"])\n",
    "tn, fp, fn, tp = confusion_matrix(y_true, y_pred).ravel()\n",
    "\n",
    "FPR = fp/(fp+tn)\n",
    "FNR = fn/(tp+fn)\n",
    "\n",
    "print(tabulate(cf_df, tablefmt=\"orgtbl\",\n",
    "               headers=\"keys\"))\n",
    "\n",
    "\n",
    "print()\n",
    "print('FPR: {}'.format(FPR))\n",
    "print('FNR: {}'.format(FNR))\n",
    "\n",
    "print()\n"
   ]
  },
  {
   "cell_type": "code",
   "execution_count": 34,
   "metadata": {
    "hidden": true
   },
   "outputs": [
    {
     "name": "stdout",
     "output_type": "stream",
     "text": [
      "                   Predicted Positive    Predicted Negative\n",
      "---------------  --------------------  --------------------\n",
      "Actual Positive                     0                     3\n",
      "Actual Negative                     2                     2\n"
     ]
    }
   ],
   "source": [
    "print(tabulate(cf_df, tablefmt=\"markdown\",\n",
    "               headers=\"keys\"))\n"
   ]
  },
  {
   "cell_type": "markdown",
   "metadata": {
    "hidden": true,
    "variables": {
     "print(tabulate(cf_df, headers=\"keys\", tablefmt=\"html\"))": "<p><strong>NameError</strong>: name &#39;tabulate&#39; is not defined</p>\n"
    }
   },
   "source": [
    "=================================\n",
    "\n",
    "For markdwon cells, insert the code in a markdown cell. \n",
    "\n",
    "Requirements \n",
    "\n",
    "* Jupyter Notebook extension\n",
    "\n",
    "```sh\n",
    "pip install jupyter_contrib_nbextensions\n",
    "jupyter contrib nbextension install --user\n",
    "jupyter nbextension enable python-markdown/main\n",
    "\n",
    "```\n",
    "\n",
    "```python\n",
    "\\{\\{print(tabulate(cf_df, headers=\"keys\", tablefmt=\"html\"))\\}\\}\n",
    "```\n",
    "\n",
    "{{print(tabulate(cf_df, headers=\"keys\", tablefmt=\"html\"))}}"
   ]
  },
  {
   "cell_type": "markdown",
   "metadata": {
    "hidden": true
   },
   "source": [
    "### ROC and Area Under Curve (AUC)"
   ]
  },
  {
   "cell_type": "code",
   "execution_count": 11,
   "metadata": {
    "hidden": true
   },
   "outputs": [],
   "source": [
    "## TODO>"
   ]
  },
  {
   "cell_type": "markdown",
   "metadata": {
    "hidden": true
   },
   "source": [
    "### Precision Recall Curve, Area under curve (AVG precision) and F score\n"
   ]
  },
  {
   "cell_type": "markdown",
   "metadata": {
    "hidden": true
   },
   "source": [
    "####  Downsampling data example\n",
    "\n",
    "Does need to run one time int he case we do not have data/creditcard_downsampled.csv.tar.bz2.\n",
    "\n",
    "Also is an example of downsampling data.\n",
    "\n",
    "Data downloaded from:\n",
    "https://www.kaggle.com/mlg-ulb/creditcardfraud\n",
    "\n",
    "\n",
    "* The original imbalance ratio (492:284315): 0.002\n",
    "* Downsample the majority to reach the ratio 1:3 , just to have small data set"
   ]
  },
  {
   "cell_type": "code",
   "execution_count": 5,
   "metadata": {
    "ExecuteTime": {
     "end_time": "2019-05-30T22:45:52.407255Z",
     "start_time": "2019-05-30T22:45:48.127395Z"
    },
    "hidden": true
   },
   "outputs": [
    {
     "data": {
      "text/html": [
       "<div>\n",
       "<style scoped>\n",
       "    .dataframe tbody tr th:only-of-type {\n",
       "        vertical-align: middle;\n",
       "    }\n",
       "\n",
       "    .dataframe tbody tr th {\n",
       "        vertical-align: top;\n",
       "    }\n",
       "\n",
       "    .dataframe thead th {\n",
       "        text-align: right;\n",
       "    }\n",
       "</style>\n",
       "<table border=\"1\" class=\"dataframe\">\n",
       "  <thead>\n",
       "    <tr style=\"text-align: right;\">\n",
       "      <th></th>\n",
       "      <th>data/creditcard_downsampled.csv</th>\n",
       "      <th>V1</th>\n",
       "      <th>V2</th>\n",
       "      <th>V3</th>\n",
       "      <th>V4</th>\n",
       "      <th>V5</th>\n",
       "      <th>V6</th>\n",
       "      <th>V7</th>\n",
       "      <th>V8</th>\n",
       "      <th>V9</th>\n",
       "      <th>...</th>\n",
       "      <th>V21</th>\n",
       "      <th>V22</th>\n",
       "      <th>V23</th>\n",
       "      <th>V24</th>\n",
       "      <th>V25</th>\n",
       "      <th>V26</th>\n",
       "      <th>V27</th>\n",
       "      <th>V28</th>\n",
       "      <th>Amount</th>\n",
       "      <th>Class</th>\n",
       "    </tr>\n",
       "  </thead>\n",
       "  <tbody>\n",
       "    <tr>\n",
       "      <th>1172</th>\n",
       "      <td>75747.0</td>\n",
       "      <td>-0.797128</td>\n",
       "      <td>-0.556349</td>\n",
       "      <td>1.468352</td>\n",
       "      <td>-2.464905</td>\n",
       "      <td>0.184997</td>\n",
       "      <td>-1.287967</td>\n",
       "      <td>-0.119849</td>\n",
       "      <td>-0.187494</td>\n",
       "      <td>-2.779086</td>\n",
       "      <td>...</td>\n",
       "      <td>-0.502703</td>\n",
       "      <td>-1.353300</td>\n",
       "      <td>-0.060398</td>\n",
       "      <td>-0.192848</td>\n",
       "      <td>0.350669</td>\n",
       "      <td>-0.581566</td>\n",
       "      <td>0.009368</td>\n",
       "      <td>0.066080</td>\n",
       "      <td>0.90</td>\n",
       "      <td>0.0</td>\n",
       "    </tr>\n",
       "    <tr>\n",
       "      <th>1952</th>\n",
       "      <td>69683.0</td>\n",
       "      <td>-0.843570</td>\n",
       "      <td>1.159059</td>\n",
       "      <td>1.425111</td>\n",
       "      <td>-0.202893</td>\n",
       "      <td>-0.083622</td>\n",
       "      <td>-0.592025</td>\n",
       "      <td>0.587249</td>\n",
       "      <td>0.058068</td>\n",
       "      <td>-0.369560</td>\n",
       "      <td>...</td>\n",
       "      <td>-0.195278</td>\n",
       "      <td>-0.517338</td>\n",
       "      <td>0.006630</td>\n",
       "      <td>0.301693</td>\n",
       "      <td>-0.182482</td>\n",
       "      <td>0.047184</td>\n",
       "      <td>0.232582</td>\n",
       "      <td>0.179292</td>\n",
       "      <td>10.79</td>\n",
       "      <td>0.0</td>\n",
       "    </tr>\n",
       "    <tr>\n",
       "      <th>832</th>\n",
       "      <td>42747.0</td>\n",
       "      <td>-2.026473</td>\n",
       "      <td>0.415109</td>\n",
       "      <td>-0.301074</td>\n",
       "      <td>1.621009</td>\n",
       "      <td>-1.132045</td>\n",
       "      <td>-0.161369</td>\n",
       "      <td>-0.913589</td>\n",
       "      <td>1.236252</td>\n",
       "      <td>-0.054333</td>\n",
       "      <td>...</td>\n",
       "      <td>0.169095</td>\n",
       "      <td>0.635917</td>\n",
       "      <td>0.521008</td>\n",
       "      <td>0.160863</td>\n",
       "      <td>-1.253563</td>\n",
       "      <td>0.443699</td>\n",
       "      <td>-0.190633</td>\n",
       "      <td>-0.397492</td>\n",
       "      <td>6.89</td>\n",
       "      <td>0.0</td>\n",
       "    </tr>\n",
       "  </tbody>\n",
       "</table>\n",
       "<p>3 rows × 31 columns</p>\n",
       "</div>"
      ],
      "text/plain": [
       "      data/creditcard_downsampled.csv        V1        V2        V3        V4  \\\n",
       "1172                          75747.0 -0.797128 -0.556349  1.468352 -2.464905   \n",
       "1952                          69683.0 -0.843570  1.159059  1.425111 -0.202893   \n",
       "832                           42747.0 -2.026473  0.415109 -0.301074  1.621009   \n",
       "\n",
       "            V5        V6        V7        V8        V9  ...       V21  \\\n",
       "1172  0.184997 -1.287967 -0.119849 -0.187494 -2.779086  ... -0.502703   \n",
       "1952 -0.083622 -0.592025  0.587249  0.058068 -0.369560  ... -0.195278   \n",
       "832  -1.132045 -0.161369 -0.913589  1.236252 -0.054333  ...  0.169095   \n",
       "\n",
       "           V22       V23       V24       V25       V26       V27       V28  \\\n",
       "1172 -1.353300 -0.060398 -0.192848  0.350669 -0.581566  0.009368  0.066080   \n",
       "1952 -0.517338  0.006630  0.301693 -0.182482  0.047184  0.232582  0.179292   \n",
       "832   0.635917  0.521008  0.160863 -1.253563  0.443699 -0.190633 -0.397492   \n",
       "\n",
       "      Amount  Class  \n",
       "1172    0.90    0.0  \n",
       "1952   10.79    0.0  \n",
       "832     6.89    0.0  \n",
       "\n",
       "[3 rows x 31 columns]"
      ]
     },
     "execution_count": 5,
     "metadata": {},
     "output_type": "execute_result"
    },
    {
     "name": "stdout",
     "output_type": "stream",
     "text": [
      "#positives: 492\n",
      "#negatives: 2000\n",
      "Imbalance data ratio (492:2000): 0.197\n"
     ]
    }
   ],
   "source": [
    "## Does not need to run this again once you have credicard_downsampled.csv.tar.bz2\n",
    "#creditcard_df = pd.read_csv('data/creditcard.csv.zip', compression='zip', sep=',', quotechar='\"')\n",
    "\n",
    "creditcard_df = pd.read_csv('data/creditcard_downsampled.csv.tar.bz2', compression='bz2', \n",
    "                            sep=',', quotechar='\"', index_col=False)\n",
    "\n",
    "creditcard_df.sample(3).head(3)\n",
    "\n",
    "n_pos = np.sum(creditcard_df.Class == True)\n",
    "print('#positives: {}'.format(n_pos))\n",
    "\n",
    "n_neg = np.sum(creditcard_df.Class == False)\n",
    "print('#negatives: {}'.format(n_neg))\n",
    "\n",
    "r = n_pos/(n_pos + n_neg)\n",
    "print('Imbalance data ratio ({0}:{1}): {2:.3f}'.format(n_pos,n_neg,r))"
   ]
  },
  {
   "cell_type": "markdown",
   "metadata": {
    "hidden": true
   },
   "source": [
    "downsample both class to have smaller dataset"
   ]
  },
  {
   "cell_type": "code",
   "execution_count": 6,
   "metadata": {
    "ExecuteTime": {
     "end_time": "2019-05-30T22:45:55.209230Z",
     "start_time": "2019-05-30T22:45:54.974042Z"
    },
    "hidden": true
   },
   "outputs": [],
   "source": [
    "from sklearn.utils import resample\n",
    "\n",
    "# Separate majority and minority classes\n",
    "df_majority = creditcard_df[creditcard_df.Class==0]\n",
    "df_minority = creditcard_df[creditcard_df.Class==1]\n",
    " \n",
    "# Downsample majority class\n",
    "df_majority_downsampled = resample(df_majority, \n",
    "                                 replace=False,    # sample without replacement\n",
    "                                 n_samples=2000,     # to match minority class\n",
    "                                 random_state=123) # reproducible results\n",
    " \n",
    "\n",
    "# Combine minority class with downsampled majority class\n",
    "df_downsampled = pd.concat([df_majority_downsampled, df_minority])\n",
    "df_downsampled = df_downsampled.reset_index(drop=True)\n",
    "\n",
    "\n",
    "# Saving\n",
    "df_downsampled.to_csv('data/creditcard_downsampled.csv', index=False)"
   ]
  },
  {
   "cell_type": "code",
   "execution_count": null,
   "metadata": {
    "ExecuteTime": {
     "end_time": "2019-05-30T22:45:56.707874Z",
     "start_time": "2019-05-30T22:45:56.552469Z"
    },
    "hidden": true
   },
   "outputs": [],
   "source": [
    "%%bash\n",
    "\n",
    "# remove old file\n",
    "# rm -v data/creditcard_downsampled.csv.tar.bz2 \n",
    "# tar -cjvf  data/creditcard_downsampled.csv.tar.bz2 data/creditcard_downsampled.csv\n",
    "\n",
    "# rm -v data/creditcard_downsampled.csv\n",
    "\n",
    "# du -sh data/*"
   ]
  },
  {
   "cell_type": "markdown",
   "metadata": {
    "hidden": true
   },
   "source": [
    "#### Load downsampled data"
   ]
  },
  {
   "cell_type": "code",
   "execution_count": 7,
   "metadata": {
    "ExecuteTime": {
     "end_time": "2019-05-30T22:46:01.464376Z",
     "start_time": "2019-05-30T22:46:01.242946Z"
    },
    "code_folding": [],
    "hidden": true
   },
   "outputs": [
    {
     "data": {
      "text/html": [
       "<div>\n",
       "<style scoped>\n",
       "    .dataframe tbody tr th:only-of-type {\n",
       "        vertical-align: middle;\n",
       "    }\n",
       "\n",
       "    .dataframe tbody tr th {\n",
       "        vertical-align: top;\n",
       "    }\n",
       "\n",
       "    .dataframe thead th {\n",
       "        text-align: right;\n",
       "    }\n",
       "</style>\n",
       "<table border=\"1\" class=\"dataframe\">\n",
       "  <thead>\n",
       "    <tr style=\"text-align: right;\">\n",
       "      <th></th>\n",
       "      <th>Class</th>\n",
       "      <th>Amount</th>\n",
       "    </tr>\n",
       "  </thead>\n",
       "  <tbody>\n",
       "    <tr>\n",
       "      <th>count</th>\n",
       "      <td>2492.000000</td>\n",
       "      <td>2492.000000</td>\n",
       "    </tr>\n",
       "    <tr>\n",
       "      <th>mean</th>\n",
       "      <td>0.197432</td>\n",
       "      <td>97.498427</td>\n",
       "    </tr>\n",
       "    <tr>\n",
       "      <th>std</th>\n",
       "      <td>0.398141</td>\n",
       "      <td>224.284179</td>\n",
       "    </tr>\n",
       "    <tr>\n",
       "      <th>min</th>\n",
       "      <td>0.000000</td>\n",
       "      <td>0.000000</td>\n",
       "    </tr>\n",
       "    <tr>\n",
       "      <th>25%</th>\n",
       "      <td>0.000000</td>\n",
       "      <td>3.597500</td>\n",
       "    </tr>\n",
       "    <tr>\n",
       "      <th>50%</th>\n",
       "      <td>0.000000</td>\n",
       "      <td>21.030000</td>\n",
       "    </tr>\n",
       "    <tr>\n",
       "      <th>75%</th>\n",
       "      <td>0.000000</td>\n",
       "      <td>89.990000</td>\n",
       "    </tr>\n",
       "    <tr>\n",
       "      <th>max</th>\n",
       "      <td>1.000000</td>\n",
       "      <td>3249.730000</td>\n",
       "    </tr>\n",
       "  </tbody>\n",
       "</table>\n",
       "</div>"
      ],
      "text/plain": [
       "             Class       Amount\n",
       "count  2492.000000  2492.000000\n",
       "mean      0.197432    97.498427\n",
       "std       0.398141   224.284179\n",
       "min       0.000000     0.000000\n",
       "25%       0.000000     3.597500\n",
       "50%       0.000000    21.030000\n",
       "75%       0.000000    89.990000\n",
       "max       1.000000  3249.730000"
      ]
     },
     "execution_count": 7,
     "metadata": {},
     "output_type": "execute_result"
    },
    {
     "data": {
      "text/html": [
       "<div>\n",
       "<style scoped>\n",
       "    .dataframe tbody tr th:only-of-type {\n",
       "        vertical-align: middle;\n",
       "    }\n",
       "\n",
       "    .dataframe tbody tr th {\n",
       "        vertical-align: top;\n",
       "    }\n",
       "\n",
       "    .dataframe thead th {\n",
       "        text-align: right;\n",
       "    }\n",
       "</style>\n",
       "<table border=\"1\" class=\"dataframe\">\n",
       "  <thead>\n",
       "    <tr style=\"text-align: right;\">\n",
       "      <th></th>\n",
       "      <th>data/creditcard_downsampled.csv</th>\n",
       "      <th>V1</th>\n",
       "      <th>V2</th>\n",
       "      <th>V3</th>\n",
       "      <th>V4</th>\n",
       "      <th>V5</th>\n",
       "      <th>V6</th>\n",
       "      <th>V7</th>\n",
       "      <th>V8</th>\n",
       "      <th>V9</th>\n",
       "      <th>...</th>\n",
       "      <th>V21</th>\n",
       "      <th>V22</th>\n",
       "      <th>V23</th>\n",
       "      <th>V24</th>\n",
       "      <th>V25</th>\n",
       "      <th>V26</th>\n",
       "      <th>V27</th>\n",
       "      <th>V28</th>\n",
       "      <th>Amount</th>\n",
       "      <th>Class</th>\n",
       "    </tr>\n",
       "  </thead>\n",
       "  <tbody>\n",
       "    <tr>\n",
       "      <th>37</th>\n",
       "      <td>49451.0</td>\n",
       "      <td>-0.117841</td>\n",
       "      <td>0.392402</td>\n",
       "      <td>0.999877</td>\n",
       "      <td>-0.831140</td>\n",
       "      <td>-0.555012</td>\n",
       "      <td>-1.063975</td>\n",
       "      <td>0.343171</td>\n",
       "      <td>-0.248752</td>\n",
       "      <td>-1.456250</td>\n",
       "      <td>...</td>\n",
       "      <td>-0.314370</td>\n",
       "      <td>-0.504158</td>\n",
       "      <td>-0.013244</td>\n",
       "      <td>0.392363</td>\n",
       "      <td>-0.681389</td>\n",
       "      <td>0.994878</td>\n",
       "      <td>-0.057940</td>\n",
       "      <td>0.139269</td>\n",
       "      <td>2.00</td>\n",
       "      <td>0</td>\n",
       "    </tr>\n",
       "    <tr>\n",
       "      <th>608</th>\n",
       "      <td>77941.0</td>\n",
       "      <td>1.161689</td>\n",
       "      <td>-0.377538</td>\n",
       "      <td>0.922245</td>\n",
       "      <td>-0.900989</td>\n",
       "      <td>-0.877495</td>\n",
       "      <td>-0.005411</td>\n",
       "      <td>-0.687683</td>\n",
       "      <td>0.197621</td>\n",
       "      <td>1.411496</td>\n",
       "      <td>...</td>\n",
       "      <td>0.077941</td>\n",
       "      <td>0.519994</td>\n",
       "      <td>-0.030560</td>\n",
       "      <td>0.068424</td>\n",
       "      <td>0.430399</td>\n",
       "      <td>-0.677415</td>\n",
       "      <td>0.112643</td>\n",
       "      <td>0.023759</td>\n",
       "      <td>1.00</td>\n",
       "      <td>0</td>\n",
       "    </tr>\n",
       "    <tr>\n",
       "      <th>1372</th>\n",
       "      <td>84734.0</td>\n",
       "      <td>0.496429</td>\n",
       "      <td>-1.423632</td>\n",
       "      <td>-0.184905</td>\n",
       "      <td>-0.763040</td>\n",
       "      <td>-0.222933</td>\n",
       "      <td>1.327018</td>\n",
       "      <td>-0.139526</td>\n",
       "      <td>0.515197</td>\n",
       "      <td>1.306120</td>\n",
       "      <td>...</td>\n",
       "      <td>0.139093</td>\n",
       "      <td>0.103898</td>\n",
       "      <td>-0.183598</td>\n",
       "      <td>-0.999095</td>\n",
       "      <td>0.216805</td>\n",
       "      <td>-0.530212</td>\n",
       "      <td>0.056826</td>\n",
       "      <td>0.042535</td>\n",
       "      <td>290.31</td>\n",
       "      <td>0</td>\n",
       "    </tr>\n",
       "  </tbody>\n",
       "</table>\n",
       "<p>3 rows × 31 columns</p>\n",
       "</div>"
      ],
      "text/plain": [
       "      data/creditcard_downsampled.csv        V1        V2        V3        V4  \\\n",
       "37                            49451.0 -0.117841  0.392402  0.999877 -0.831140   \n",
       "608                           77941.0  1.161689 -0.377538  0.922245 -0.900989   \n",
       "1372                          84734.0  0.496429 -1.423632 -0.184905 -0.763040   \n",
       "\n",
       "            V5        V6        V7        V8        V9  ...       V21  \\\n",
       "37   -0.555012 -1.063975  0.343171 -0.248752 -1.456250  ... -0.314370   \n",
       "608  -0.877495 -0.005411 -0.687683  0.197621  1.411496  ...  0.077941   \n",
       "1372 -0.222933  1.327018 -0.139526  0.515197  1.306120  ...  0.139093   \n",
       "\n",
       "           V22       V23       V24       V25       V26       V27       V28  \\\n",
       "37   -0.504158 -0.013244  0.392363 -0.681389  0.994878 -0.057940  0.139269   \n",
       "608   0.519994 -0.030560  0.068424  0.430399 -0.677415  0.112643  0.023759   \n",
       "1372  0.103898 -0.183598 -0.999095  0.216805 -0.530212  0.056826  0.042535   \n",
       "\n",
       "      Amount  Class  \n",
       "37      2.00      0  \n",
       "608     1.00      0  \n",
       "1372  290.31      0  \n",
       "\n",
       "[3 rows x 31 columns]"
      ]
     },
     "execution_count": 7,
     "metadata": {},
     "output_type": "execute_result"
    },
    {
     "name": "stdout",
     "output_type": "stream",
     "text": [
      "#positives: 492\n",
      "#negatives: 2000\n",
      "Imbalance data ratio (492:2000): 0.197\n"
     ]
    }
   ],
   "source": [
    "## load\n",
    "creditcard_df = pd.read_csv('data/creditcard_downsampled.csv.tar.bz2', compression='bz2', \n",
    "                            sep=',', quotechar='\"', index_col=False)\n",
    "\n",
    "creditcard_df = creditcard_df.dropna()\n",
    "creditcard_df[['Class','Amount']].describe()\n",
    "\n",
    "creditcard_df['Class'] = creditcard_df.Class.astype(int)\n",
    "\n",
    "creditcard_df.sample(3).head(3)\n",
    "\n",
    "n_pos = np.sum(creditcard_df.Class == True)\n",
    "print('#positives: {}'.format(n_pos))\n",
    "\n",
    "n_neg = np.sum(creditcard_df.Class == False)\n",
    "print('#negatives: {}'.format(n_neg))\n",
    "\n",
    "r = n_pos/(n_pos + n_neg)\n",
    "print('Imbalance data ratio ({0}:{1}): {2:.3f}'.format(n_pos,n_neg,r))"
   ]
  },
  {
   "cell_type": "markdown",
   "metadata": {
    "ExecuteTime": {
     "end_time": "2018-09-11T22:48:44.360057Z",
     "start_time": "2018-09-11T22:48:44.354568Z"
    },
    "hidden": true
   },
   "source": [
    "#### Training 2 models"
   ]
  },
  {
   "cell_type": "code",
   "execution_count": 8,
   "metadata": {
    "ExecuteTime": {
     "end_time": "2019-05-30T22:46:13.538718Z",
     "start_time": "2019-05-30T22:46:13.528639Z"
    },
    "hidden": true
   },
   "outputs": [],
   "source": [
    "from sklearn.model_selection import train_test_split\n",
    "\n",
    "X = creditcard_df[creditcard_df.columns[:-1]]\n",
    "y = creditcard_df[creditcard_df.columns[-1]]\n",
    "\n",
    "X_train, X_test, y_train, y_test = train_test_split(X, y, random_state=2018, test_size=0.3)\n"
   ]
  },
  {
   "cell_type": "code",
   "execution_count": 9,
   "metadata": {
    "ExecuteTime": {
     "end_time": "2019-05-30T22:46:17.086416Z",
     "start_time": "2019-05-30T22:46:17.000292Z"
    },
    "hidden": true
   },
   "outputs": [],
   "source": [
    "# random forests\n",
    "from sklearn.ensemble import RandomForestClassifier\n",
    "from sklearn.linear_model import LogisticRegression\n",
    "\n",
    "rf = RandomForestClassifier(n_estimators = 15,max_depth=5,\n",
    "                            random_state=0).fit(X_train, y_train)\n",
    "\n",
    "\n",
    "lr = LogisticRegression().fit(X_train, y_train)\n"
   ]
  },
  {
   "cell_type": "markdown",
   "metadata": {
    "ExecuteTime": {
     "end_time": "2018-09-11T23:58:38.823835Z",
     "start_time": "2018-09-11T23:58:38.818282Z"
    },
    "hidden": true
   },
   "source": [
    "#### Precision n Recall Curves"
   ]
  },
  {
   "cell_type": "code",
   "execution_count": 10,
   "metadata": {
    "ExecuteTime": {
     "end_time": "2019-05-30T22:49:43.676609Z",
     "start_time": "2019-05-30T22:49:43.420188Z"
    },
    "hidden": true
   },
   "outputs": [
    {
     "name": "stdout",
     "output_type": "stream",
     "text": [
      "Imbalance data ratio (492:2000): 0.197\n"
     ]
    },
    {
     "data": {
      "image/png": "[encoded data removed]",
      "text/plain": [
       "<Figure size 432x288 with 1 Axes>"
      ]
     },
     "metadata": {
      "needs_background": "light"
     },
     "output_type": "display_data"
    }
   ],
   "source": [
    "from sklearn.metrics import precision_recall_curve\n",
    "\n",
    "\n",
    "y_true = y_test > 0.5\n",
    "y_score_rf = rf.predict_proba(X_test)[:,-1]\n",
    "y_score_lr = lr.predict_proba(X_test)[:,-1]\n",
    "\n",
    "# random. is the imbalamnce ratio\n",
    "# Just doinf the sim to prove that\n",
    "np.random.seed(2018)\n",
    "y_score_rd = np.random.uniform(size=y_test.shape[0])\n",
    "y_score_perfect = y_test\n",
    "\n",
    "r = n_pos/(n_pos + n_neg)\n",
    "print('Imbalance data ratio ({0}:{1}): {2:.3f}'.format(n_pos,n_neg,r))\n",
    "\n",
    "precision1, recall1, thrs1 = precision_recall_curve(y_true, y_score_rf)\n",
    "\n",
    "precision2, recall2, thrs2 = precision_recall_curve(y_true, y_score_lr)\n",
    "\n",
    "precision3, recall3, thrs3 = precision_recall_curve(y_true, y_score_rd)\n",
    "\n",
    "precision4, recall4, thrs4 = precision_recall_curve(y_true, y_score_perfect)\n",
    "\n",
    "\n",
    "plt.plot(recall1, precision1, marker='.',label='random florest');\n",
    "plt.plot(recall2, precision2, marker='.', label='logistic regression');\n",
    "plt.plot(recall3, precision3, marker='.', label='random uniform');\n",
    "plt.plot(recall4, precision4, marker='.', label='perfect classifier');\n",
    "plt.plot([0, 1], [r, r], linestyle='--',label='Random');\n",
    "plt.plot([0, 1], [0, 1], color = 'black', linewidth = 2, label='45')\n",
    "plt.legend();\n",
    "                                              "
   ]
  },
  {
   "cell_type": "code",
   "execution_count": null,
   "metadata": {
    "ExecuteTime": {
     "end_time": "2019-05-30T22:50:48.815520Z",
     "start_time": "2019-05-30T22:50:48.810929Z"
    },
    "hidden": true
   },
   "outputs": [],
   "source": [
    "# TODO: implement this later better. Give the options to pass multiple model for comparison\n",
    "def plot_prec_recall_vs_tresh(precisions, recalls, thresholds):\n",
    "    \n",
    "    plt.plot(thresholds, precisions[:-1], 'b--', label='precision')\n",
    "    plt.plot(thresholds, recalls[:-1], 'g--', label = 'recall')\n",
    "    plt.xlabel('Threshold')\n",
    "    plt.legend(loc='upper left')\n",
    "    plt.ylim([0,1])\n",
    "    "
   ]
  },
  {
   "cell_type": "code",
   "execution_count": null,
   "metadata": {
    "ExecuteTime": {
     "end_time": "2019-05-30T22:50:53.373388Z",
     "start_time": "2019-05-30T22:50:53.193286Z"
    },
    "hidden": true
   },
   "outputs": [],
   "source": [
    "from sklearn.metrics import f1_score, auc\n",
    "\n",
    "area = auc(recall1, precision1)\n",
    "\n",
    "f = f1_score(y_true, y_score_rf > 0.5 , average='micro')\n",
    "\n",
    "print('AUCPRC: {}'.format(area))\n",
    "print('f1 score: {}'.format(f))\n",
    "\n",
    "\n",
    "# precision_recall_curve returns precision  and recall as a array od shape = [n_thresholds + 1] \n",
    "thrs1.shape\n",
    "recall1.shape\n",
    "precision1.shape\n",
    "\n",
    "precision = precision1[:-1]\n",
    "recall = recall1[:-1]\n",
    "\n",
    "precision.shape\n",
    "recall.shape\n",
    "\n",
    "f_scores = 2 * (precision * recall) / (precision + recall)\n",
    "\n",
    "plt.plot(thrs1, precision, marker='.',label='precision');\n",
    "plt.plot(thrs1, recall, marker='.', label='recall');\n",
    "plt.plot(thrs1, f_scores, marker='.', label='f score');\n",
    "plt.legend();"
   ]
  },
  {
   "cell_type": "markdown",
   "metadata": {
    "hidden": true
   },
   "source": [
    "### EER: Equal error"
   ]
  },
  {
   "cell_type": "code",
   "execution_count": null,
   "metadata": {
    "ExecuteTime": {
     "end_time": "2019-05-30T22:50:53.871129Z",
     "start_time": "2019-05-30T22:50:53.864518Z"
    },
    "hidden": true
   },
   "outputs": [],
   "source": [
    "from sklearn.metrics import roc_curve\n",
    "\n",
    "fpr1, tpr1, thr1 = roc_curve(y_true, y_score_rf)\n",
    "fnr1 = 1.0 - tpr1\n",
    "\n",
    "EER1_pos = np.argmin(abs(fnr1-fpr1))\n",
    "EER1_thr1 = thr1[EER1_pos]\n",
    "\n",
    "print('thr @ EER: {}'.format(EER1_thr1))\n",
    "print('fpr @ EER: {}'.format(fpr1[EER1_pos]))\n",
    "print('fnr @ EER: {}'.format(fnr1[EER1_pos]))\n"
   ]
  },
  {
   "cell_type": "markdown",
   "metadata": {
    "ExecuteTime": {
     "end_time": "2019-03-07T21:06:25.029566Z",
     "start_time": "2019-03-07T21:06:25.022393Z"
    }
   },
   "source": [
    "## Model interpretation\n",
    "\n",
    "TODO: \n",
    "    \n",
    "1. importance plot\n",
    "2. LIME\n",
    "3. SHAP"
   ]
  },
  {
   "cell_type": "markdown",
   "metadata": {},
   "source": [
    "## Model report\n",
    "\n",
    "* Graphs, statistics n tables to report to business (non-thecnicak) persons\n",
    "* Prhases templates to use when describe n report the model performance (one per model type)\n"
   ]
  },
  {
   "cell_type": "code",
   "execution_count": null,
   "metadata": {},
   "outputs": [],
   "source": []
  }
 ],
 "metadata": {
  "kernelspec": {
   "display_name": "Python 3",
   "language": "python",
   "name": "python3"
  },
  "language_info": {
   "codemirror_mode": {
    "name": "ipython",
    "version": 3
   },
   "file_extension": ".py",
   "mimetype": "text/x-python",
   "name": "python",
   "nbconvert_exporter": "python",
   "pygments_lexer": "ipython3",
   "version": "3.8.3"
  },
  "toc": {
   "base_numbering": 1,
   "nav_menu": {},
   "number_sections": true,
   "sideBar": true,
   "skip_h1_title": false,
   "title_cell": "Table of Contents",
   "title_sidebar": "Contents",
   "toc_cell": false,
   "toc_position": {
    "height": "calc(100% - 180px)",
    "left": "10px",
    "top": "150px",
    "width": "369.594px"
   },
   "toc_section_display": true,
   "toc_window_display": true
  },
  "varInspector": {
   "cols": {
    "lenName": 16,
    "lenType": 16,
    "lenVar": 40
   },
   "kernels_config": {
    "python": {
     "delete_cmd_postfix": "",
     "delete_cmd_prefix": "del ",
     "library": "var_list.py",
     "varRefreshCmd": "print(var_dic_list())"
    },
    "r": {
     "delete_cmd_postfix": ") ",
     "delete_cmd_prefix": "rm(",
     "library": "var_list.r",
     "varRefreshCmd": "cat(var_dic_list()) "
    }
   },
   "types_to_exclude": [
    "module",
    "function",
    "builtin_function_or_method",
    "instance",
    "_Feature"
   ],
   "window_display": false
  }
 },
 "nbformat": 4,
 "nbformat_minor": 2
}
