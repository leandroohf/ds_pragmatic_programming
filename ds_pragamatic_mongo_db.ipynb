{
 "cells": [
  {
   "cell_type": "markdown",
   "metadata": {},
   "source": [
    "# Data Science Pragmatic programming in mongodb\n",
    "\n",
    "\n",
    "* Add Python and R code "
   ]
  },
  {
   "cell_type": "markdown",
   "metadata": {},
   "source": [
    "Install mongodb server and client\n",
    "\n",
    "https://websiteforstudents.com/install-mongodb-on-ubuntu-18-04-lts-beta-server/\n",
    "\n",
    "\n",
    "```sh\n",
    "\n",
    "\n",
    "# Add mongodb repo to ubuntu packages\n",
    "sudo apt-key adv --keyserver hkp://keyserver.ubuntu.com:80 --recv 2930ADAE8CAF5059EE73BB4B58712A2291FA4AD5\n",
    "\n",
    "echo \"deb [ arch=amd64,arm64 ] https://repo.mongodb.org/apt/ubuntu xenial/mongodb-org/3.6 multiverse\" | sudo tee /etc/apt/sources.list.d/mongodb-org-3.6.list\n",
    "\n",
    "\n",
    "# INstall\n",
    "sudo apt update\n",
    "sudo apt install -y mongodb-org\n",
    "\n",
    "\n",
    "# Start service\n",
    "sudo systemctl stop mongod.service\n",
    "sudo systemctl start mongod.service\n",
    "sudo systemctl enable mongod.service\n",
    "\n",
    "```\n",
    "\n",
    "Install pymong\n",
    "\n",
    "```sh\n",
    "conda install -c anaconda pymongo\n",
    "\n",
    "```\n",
    "\n",
    "Install mongolite in Rstudio\n",
    "\n",
    "\n",
    "**Install mongodb client robo3**\n"
   ]
  },
  {
   "cell_type": "markdown",
   "metadata": {
    "ExecuteTime": {
     "end_time": "2019-05-07T19:47:23.262332Z",
     "start_time": "2019-05-07T19:47:23.242711Z"
    }
   },
   "source": [
    "\n",
    "Still need to test\n",
    "\n",
    "```sh\n",
    "# run inside mongodb interpreter\n",
    "mongoimport --db test --collection inventory \\\n",
    "          --authenticationDatabase admin --username <user> --password <password> \\\n",
    "          --drop --file ~/Downloads/inventory.crud.json\n",
    "``` \n"
   ]
  },
  {
   "cell_type": "markdown",
   "metadata": {},
   "source": [
    "## Python"
   ]
  },
  {
   "cell_type": "markdown",
   "metadata": {
    "ExecuteTime": {
     "end_time": "2019-05-07T19:45:48.976166Z",
     "start_time": "2019-05-07T19:45:48.972983Z"
    }
   },
   "source": [
    "### Inject data"
   ]
  },
  {
   "cell_type": "code",
   "execution_count": 4,
   "metadata": {
    "ExecuteTime": {
     "end_time": "2019-05-07T19:49:33.759802Z",
     "start_time": "2019-05-07T19:49:33.626734Z"
    }
   },
   "outputs": [
    {
     "name": "stderr",
     "output_type": "stream",
     "text": [
      "/home/leandroohf/anaconda3/lib/python3.6/site-packages/ipykernel/__main__.py:14: DeprecationWarning: insert is deprecated. Use insert_one or insert_many instead.\n"
     ]
    }
   ],
   "source": [
    "# From json files\n",
    "\n",
    "import json\n",
    "from pymongo import MongoClient\n",
    "\n",
    "\n",
    "client = MongoClient('localhost', 27017)\n",
    "db = client['audioset']\n",
    "ontology = db['ontology']\n",
    "\n",
    "with open('data/ontology.json') as f:\n",
    "    file_data = json.load(f)\n",
    "\n",
    "ontology.insert(file_data)\n",
    "client.close()\n"
   ]
  },
  {
   "cell_type": "markdown",
   "metadata": {},
   "source": [
    "### CRUD Operation \n",
    "\n",
    "\n",
    "* Create\n",
    "* Read\n",
    "* Update\n",
    "* Delet"
   ]
  },
  {
   "cell_type": "markdown",
   "metadata": {},
   "source": [
    "#### Create (Insert)"
   ]
  },
  {
   "cell_type": "code",
   "execution_count": 10,
   "metadata": {
    "ExecuteTime": {
     "end_time": "2019-05-07T20:14:33.991107Z",
     "start_time": "2019-05-07T20:14:33.977384Z"
    }
   },
   "outputs": [
    {
     "name": "stderr",
     "output_type": "stream",
     "text": [
      "/home/leandroohf/anaconda3/lib/python3.6/site-packages/ipykernel/__main__.py:13: DeprecationWarning: insert is deprecated. Use insert_one or insert_many instead.\n",
      "/home/leandroohf/anaconda3/lib/python3.6/site-packages/ipykernel/__main__.py:25: DeprecationWarning: insert is deprecated. Use insert_one or insert_many instead.\n"
     ]
    },
    {
     "data": {
      "text/plain": [
       "[ObjectId('5cd1e7294135fd7b666f3920'), ObjectId('5cd1e7294135fd7b666f3921')]"
      ]
     },
     "execution_count": 10,
     "metadata": {},
     "output_type": "execute_result"
    }
   ],
   "source": [
    "db = client['test']\n",
    "person_collections = db['persons']\n",
    "\n",
    "\n",
    "# Insert one\n",
    "person_collections.insert_one(\n",
    "   {\n",
    "      \"name\": \"John\",\n",
    "      \"salary\": 100 ,\n",
    "   }\n",
    ")\n",
    "\n",
    "person_collections.insert({ \"name\": \"Jeorge\", \"salary\": 100})\n",
    "\n",
    "# Insert many\n",
    "person_collections.insert_many(\n",
    "   [\n",
    "     { \"name\": \"Jeorge\", \"salary\": 100},\n",
    "     { \"name\": \"Steve\", \"salary\": 100},\n",
    "     { \"name\": \"David\", \"salary\": 100}\n",
    "   ]\n",
    ")\n",
    "\n",
    "# array of documents\n",
    "person_collections.insert([{ \"name\": \"Jeorge\", \"salary\": 100}, { \"name\": \"Steve\", \"salary\": 100}])"
   ]
  },
  {
   "cell_type": "markdown",
   "metadata": {},
   "source": [
    "#### Read"
   ]
  },
  {
   "cell_type": "code",
   "execution_count": 19,
   "metadata": {
    "ExecuteTime": {
     "end_time": "2019-05-07T21:00:42.078448Z",
     "start_time": "2019-05-07T21:00:42.070005Z"
    }
   },
   "outputs": [
    {
     "name": "stdout",
     "output_type": "stream",
     "text": [
      "{'_id': ObjectId('5cd1e3444135fd7b666f3915'), 'name': 'John', 'salary': 100}\n",
      "\n",
      "name: John\n",
      "{'_id': ObjectId('5cd1e3444135fd7b666f3915'), 'name': 'John', 'salary': 100}\n",
      "name: John\n",
      "{'_id': ObjectId('5cd1e34d4135fd7b666f3916'), 'name': 'John', 'salary': 100}\n",
      "name: John\n",
      "{'_id': ObjectId('5cd1e7174135fd7b666f391a'), 'name': 'John', 'salary': 100}\n",
      "name: John\n",
      "{'_id': ObjectId('5cd1e7294135fd7b666f391b'), 'name': 'John', 'salary': 100}\n"
     ]
    }
   ],
   "source": [
    "import pprint\n",
    "\n",
    "cur = person_collections.find_one({\"name\": \"John\"}) # returns object.\n",
    "\n",
    "pprint.pprint(cur)\n",
    "\n",
    "print()\n",
    "cur = person_collections.find({\"name\": \"John\"}) # returns cursor\n",
    "\n",
    "for person in cur:\n",
    "    print('name: {}'.format(person['name']))\n",
    "    pprint.pprint(person)\n",
    "    \n"
   ]
  },
  {
   "cell_type": "markdown",
   "metadata": {},
   "source": [
    "#### Update"
   ]
  },
  {
   "cell_type": "code",
   "execution_count": 22,
   "metadata": {
    "ExecuteTime": {
     "end_time": "2019-05-07T21:02:32.306222Z",
     "start_time": "2019-05-07T21:02:32.293047Z"
    }
   },
   "outputs": [
    {
     "name": "stderr",
     "output_type": "stream",
     "text": [
      "/home/leandroohf/anaconda3/lib/python3.6/site-packages/ipykernel/__main__.py:8: DeprecationWarning: update is deprecated. Use replace_one, update_one or update_many instead.\n"
     ]
    },
    {
     "data": {
      "text/plain": [
       "<pymongo.results.UpdateResult at 0x7f339dc9f848>"
      ]
     },
     "execution_count": 22,
     "metadata": {},
     "output_type": "execute_result"
    }
   ],
   "source": [
    "# update_one\n",
    "person_collections.update_one({\"name\":\"John\"}, {\"$set\":{\"name\":\"Joseph\"}})\n",
    "\n",
    "# update_many\n",
    "person_collections.update_many({\"name\":\"John\"}, {\"$set\":{\"name\":\"Joseph\"}})\n",
    "\n",
    "# update\n",
    "# Update if NOT exist\n",
    "person_collections.update({\"name\":\"John\"}, {\"$set\":{\"name\":\"Jeorge\"}},  upsert=True)\n",
    "\n",
    "#replace_one\n",
    "person_collections.replace_one({\"name\":\"John\"}, {\"name\":\"Jeorge\"})\n"
   ]
  },
  {
   "cell_type": "markdown",
   "metadata": {},
   "source": [
    "#### Delete "
   ]
  },
  {
   "cell_type": "code",
   "execution_count": 23,
   "metadata": {
    "ExecuteTime": {
     "end_time": "2019-05-07T21:04:39.706505Z",
     "start_time": "2019-05-07T21:04:39.700420Z"
    }
   },
   "outputs": [
    {
     "data": {
      "text/plain": [
       "<pymongo.results.DeleteResult at 0x7f339dce7a88>"
      ]
     },
     "execution_count": 23,
     "metadata": {},
     "output_type": "execute_result"
    }
   ],
   "source": [
    "person_collections.delete_one({\"name\":\"John\"})\n",
    "\n",
    "person_collections.delete_many({\"name\":\"John\"})\n"
   ]
  },
  {
   "cell_type": "markdown",
   "metadata": {},
   "source": [
    "## R\n",
    "\n",
    "\n",
    "```sh\n",
    "conda install -c r rpy2\n",
    "```\n"
   ]
  },
  {
   "cell_type": "code",
   "execution_count": 26,
   "metadata": {
    "ExecuteTime": {
     "end_time": "2019-05-07T21:10:57.391437Z",
     "start_time": "2019-05-07T21:10:56.086625Z"
    }
   },
   "outputs": [],
   "source": [
    "# enables the %%R magic, not necessary if you've already done this\n",
    "%load_ext rpy2.ipython"
   ]
  },
  {
   "cell_type": "code",
   "execution_count": null,
   "metadata": {},
   "outputs": [],
   "source": []
  },
  {
   "cell_type": "markdown",
   "metadata": {
    "heading_collapsed": true
   },
   "source": [
    "### CRUD Operation  "
   ]
  },
  {
   "cell_type": "markdown",
   "metadata": {
    "hidden": true
   },
   "source": [
    "#### Create (Insert) "
   ]
  },
  {
   "cell_type": "markdown",
   "metadata": {
    "hidden": true
   },
   "source": [
    "#### Read "
   ]
  },
  {
   "cell_type": "code",
   "execution_count": null,
   "metadata": {
    "hidden": true
   },
   "outputs": [],
   "source": []
  }
 ],
 "metadata": {
  "kernelspec": {
   "display_name": "Python 3",
   "language": "python",
   "name": "python3"
  },
  "language_info": {
   "codemirror_mode": {
    "name": "ipython",
    "version": 3
   },
   "file_extension": ".py",
   "mimetype": "text/x-python",
   "name": "python",
   "nbconvert_exporter": "python",
   "pygments_lexer": "ipython3",
   "version": "3.8.3"
  },
  "toc": {
   "base_numbering": 1,
   "nav_menu": {},
   "number_sections": true,
   "sideBar": true,
   "skip_h1_title": false,
   "title_cell": "Table of Contents",
   "title_sidebar": "Contents",
   "toc_cell": false,
   "toc_position": {},
   "toc_section_display": true,
   "toc_window_display": false
  },
  "varInspector": {
   "cols": {
    "lenName": 16,
    "lenType": 16,
    "lenVar": 40
   },
   "kernels_config": {
    "python": {
     "delete_cmd_postfix": "",
     "delete_cmd_prefix": "del ",
     "library": "var_list.py",
     "varRefreshCmd": "print(var_dic_list())"
    },
    "r": {
     "delete_cmd_postfix": ") ",
     "delete_cmd_prefix": "rm(",
     "library": "var_list.r",
     "varRefreshCmd": "cat(var_dic_list()) "
    }
   },
   "types_to_exclude": [
    "module",
    "function",
    "builtin_function_or_method",
    "instance",
    "_Feature"
   ],
   "window_display": false
  }
 },
 "nbformat": 4,
 "nbformat_minor": 2
}
