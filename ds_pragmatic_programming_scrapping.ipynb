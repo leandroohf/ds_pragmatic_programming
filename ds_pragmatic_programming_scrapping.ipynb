{
 "cells": [
  {
   "cell_type": "markdown",
   "id": "4da8d358",
   "metadata": {},
   "source": [
    "# Scraping\n",
    "\n",
    "refs:\n",
    "\n",
    "* https://docs.scrapy.org/en/latest/topics/shell.html\n",
    "* https://towardsdatascience.com/a-minimalist-end-to-end-scrapy-tutorial-part-i-11e350bcdec0\n",
    "    * `git clone https://github.com/harrywang/scrapy-tutorial-starter.git`\n",
    "* https://towardsdatascience.com/scrapy-this-is-how-to-successfully-login-with-ease-ea980e2c5901\n"
   ]
  },
  {
   "cell_type": "code",
   "execution_count": 16,
   "id": "1d92ac51",
   "metadata": {},
   "outputs": [],
   "source": [
    "import IPython\n",
    "from IPython.core.interactiveshell import InteractiveShell\n",
    "InteractiveShell.ast_node_interactivity = \"all\""
   ]
  },
  {
   "cell_type": "markdown",
   "id": "3d8904af",
   "metadata": {},
   "source": [
    "## Scrap shell"
   ]
  },
  {
   "cell_type": "markdown",
   "id": "359b8564",
   "metadata": {},
   "source": [
    "* It is also a regular iPython shell\n",
    "* Use for testing XPath or CSS expressions and what data they extracting (DEBUG)\n",
    "* Web site example:\n",
    "    * http://quotes.toscrape.com/\n",
    "    * https://www.beerwulf.com/en-gb/c/mixedbeercases  <===\n",
    "\n",
    "\n",
    "```shell\n",
    "# scrapy shell <url>\n",
    "scrapy shell http://quotes.toscrape.com/\n",
    "\n",
    "# file examples\n",
    "# UNIX-style\n",
    "scrapy shell ./path/to/file.html\n",
    "\n",
    "# File URI\n",
    "scrapy shell file:///absolute/path/to/file.html\n",
    "\n",
    "```\n",
    "\n",
    "How to use: \n",
    "\n",
    "```shell\n",
    "scrapy shell\n",
    "\n",
    "```\n",
    "\n",
    "Run inside the shell \n",
    "\n",
    "```python\n",
    "\n",
    "# inside scrapy shell  <======\n",
    "# inspecting settings object\n",
    "seettings\n",
    "\n",
    "# fetch the page\n",
    "fetch('https://www.beerwulf.com/en-gb/c/mixedbeercases')\n",
    "\n",
    "\n",
    "# check response object\n",
    "response\n",
    "\n",
    "response.status\n",
    "\n",
    "from pprint import pprint\n",
    "pprint(response.headers)\n",
    "\n",
    "# > Out[2]: <200 https://www.beerwulf.com/en-gb/c/mixedbeercases>\n",
    "\n",
    "# inspect html code \n",
    "response.body\n",
    "response.body_as_unicode()\n",
    "\n",
    "# extract title using css xpath \n",
    "response.css('title::text').get()  # get the first results\n",
    "#> Out[12]: 'Mixed Beer Cases  | Discover our beers | Beerwulf'\n",
    "\n",
    "# get all beers\n",
    "response.css('h4::text').getall()  \n",
    "\n",
    "# Out[13]:\n",
    "#[' Search results',\n",
    "# 'THE SUB  (2L)',\n",
    "# 'BLADE  (8L)',\n",
    "# 'Beer Tap Starter Packs',\n",
    "# 'All Beer Taps',\n",
    "# 'SUB Kegs',\n",
    "# ...]\n",
    "\n",
    "# inspect the object crawler\n",
    "crawler.stats.get_stats()\n",
    "\n",
    "```\n"
   ]
  },
  {
   "cell_type": "markdown",
   "id": "553a9367",
   "metadata": {},
   "source": [
    "## Project folder struture\n"
   ]
  },
  {
   "cell_type": "markdown",
   "id": "2ed7d21c",
   "metadata": {},
   "source": [
    "* Create project\n",
    "\n",
    "\n",
    "```shell\n",
    "scrapy startproject tutorial # project-name \n",
    "```\n",
    "\n",
    "Folder explained:\n",
    "\n",
    "* scrapy.cfg: the project configuration file\n",
    "* tutorial/: the project’s python module, you’ll later import your code from here.\n",
    "* tutorial/items.py: the project’s items file.\n",
    "* tutorial/pipelines.py: the project’s pipelines file.\n",
    "* tutorial/settings.py: the project’s settings file.\n",
    "* tutorial/spiders/: a directory where you’ll later put your spiders.\n",
    "\n",
    "\n",
    "<img src=\"images/scrapy_project_folder_struture.png\" style=\"float:left\" width=\"300\" align=\"right\">"
   ]
  },
  {
   "cell_type": "markdown",
   "id": "2146b07b",
   "metadata": {},
   "source": [
    "* Run scrawler\n",
    "\n",
    "\n",
    "```shell\n",
    "# run the crwaler called quotes\n",
    "scrapy crawl quotes\n",
    "```\n",
    "\n"
   ]
  },
  {
   "cell_type": "markdown",
   "id": "befe0505",
   "metadata": {},
   "source": [
    "## Xpath and css selectors\n",
    "\n",
    "* https://www.w3schools.com/xml/xpath_syntax.asp\n",
    "* xpath chest sheet: https://devhints.io/xpath\n",
    "* https://www.w3schools.com/cssref/css_selectors.asp"
   ]
  },
  {
   "cell_type": "markdown",
   "id": "57e7f26b",
   "metadata": {},
   "source": [
    "\n",
    "HTML example\n",
    "\n",
    "```html\n",
    "<?xml version=\"1.0\" encoding=\"UTF-8\"?>\n",
    "\n",
    "<bookstore>\n",
    "\n",
    "<book>\n",
    "  <title lang=\"en\">Harry Potter</title>\n",
    "  <price>29.99</price>\n",
    "</book>\n",
    "\n",
    "<book>\n",
    "  <title lang=\"en\">Learning XML</title>\n",
    "  <price>39.95</price>\n",
    "</book>\n",
    "\n",
    "</bookstore>\n",
    "```\n",
    "\n",
    "* Selecting nodes\n",
    "    * bookstore: select all nodes called bookstore\n",
    "    * /bookstore: start from root\n",
    "    * bookstore/book: Selects all book elements that are children of bookstore\n",
    "    * //book: Selects all book elements no matter where they are in the document\n",
    "    * bookstore//book: select all book that is child of bookstore no matter where they are under bookstore umbrela\n",
    "\n",
    "* Predicate (positioning)\n",
    "\n",
    "    * /bookstore/book[1]: select first\n",
    "    * /bookstore/book[last()]\n",
    "    * /bookstore/book[position()<3]\n",
    "    * /bookstore/*: select all child\n",
    "    \n",
    "* Select multiple paths\n",
    "\n",
    "    * //book/title | //book/price: title AND proce\n",
    "    * //title | //price: title OR price"
   ]
  },
  {
   "cell_type": "markdown",
   "id": "108d3e52",
   "metadata": {},
   "source": [
    "* common tasks (xpath or css)\n",
    "\n",
    "    * get href link\n",
    "    * get text of node\n",
    "    * get image "
   ]
  },
  {
   "cell_type": "code",
   "execution_count": 66,
   "id": "0a94cbc2",
   "metadata": {},
   "outputs": [
    {
     "data": {
      "text/plain": [
       "['More Info', 'click here']"
      ]
     },
     "execution_count": 66,
     "metadata": {},
     "output_type": "execute_result"
    },
    {
     "data": {
      "text/plain": [
       "'http://example.com'"
      ]
     },
     "execution_count": 66,
     "metadata": {},
     "output_type": "execute_result"
    },
    {
     "data": {
      "text/plain": [
       "'http://example.com/img.jpg'"
      ]
     },
     "execution_count": 66,
     "metadata": {},
     "output_type": "execute_result"
    }
   ],
   "source": [
    "# this is good for test scrapy code\n",
    "from scrapy import Selector\n",
    "\n",
    "text = \"\"\"\n",
    "<a href = \"http://example.com\"\">More Info<strong>click here</strong></a>\n",
    "<img src=\"http://example.com/img.jpg\" class='photo-large' />\n",
    "\"\"\"\n",
    "\n",
    "val = Selector(text = text)\n",
    "\n",
    "val.xpath('//a//text()').getall()\n",
    "val.xpath('//a/@href').get()\n",
    "val.xpath('//img/@src').get()"
   ]
  },
  {
   "cell_type": "code",
   "execution_count": 43,
   "id": "f7e4dbeb",
   "metadata": {},
   "outputs": [],
   "source": [
    "text = \"\"\"\n",
    "<div class=\"a-row a-spacing-base a-grid-vertical-align a-grid-bottom\"><div class=\"a-column a-span6\"><h2 class=\"a-size-large a-text-normal\"> Contacts\n",
    "</h2></div>\n",
    "<div class=\"a-column a-span6 a-text-right a-span-last\">\n",
    "<a class=\"a-size- a-align- a-link- edit open_contribute_modal\" href=\"https://contribute.imdb.com/contribute/name/nm0655945/name_representation?bus=pro&amp;return_url=https%3A%2F%2Fpro.imdb.com%2Freload_page&amp;site=www\">Edit <span class=\"a-size-small a-color- glyphicons glyphicons-icon glyphicons-pencil\"></span></a></div> </div>\n",
    "<div id=\"contacts\" class=\"a-section\">\n",
    "<div class=\"a-section a-spacing-medium header_section\"><div class=\"a-row header contacts_header\"><div class=\"a-column a-span12 a-span-last\"><span class=\"a-size-base a-text-bold\"> Talent Agent\n",
    "</span></div></div>\n",
    "<div class=\"a-section a-spacing-top-mini\"> <ul class=\"a-unordered-list a-nostyle a-vertical\">\n",
    "<li><span class=\"a-list-item\">\n",
    "</span></li>\n",
    "<li><span class=\"a-list-item\">\n",
    "<div class=\"a-row a-spacing-mini a-spacing-top-none\"><div class=\"a-column a-span12\"><span class=\"a-size-base-plus\"><div class=\"a-fixed-right-grid\"><div class=\"a-fixed-right-grid-inner\" style=\"padding-right:0px\"><div class=\"a-fixed-right-grid-col a-col-left\" style=\"padding-right:0%;float:left;\"><span class=\"aok-align-center\"><span><a class=\"a-size- a-align- a-link-\" href=\"https://pro.imdb.com/company/co0024357/?ref_=nm_cc_nm_1\">Paradigm Talent Agency</a></span></span></div><div class=\"a-text-center a-fixed-right-grid-col a-col-right\" style=\"width:0px;margin-right:-0px;float:left;\"></div></div></div></span></div></div>\n",
    "</span></li>\n",
    "<li><span class=\"a-list-item\">\n",
    "<div class=\"a-section\"><a class=\"a-size- a-align- a-link- clickable_share_link\" target=\"_blank\" rel=\"noopener\" href=\"http://www.paradigmagency.com\"> paradigmagency.com\n",
    "</a></div>\n",
    "</span></li>\n",
    "<li><span class=\"a-list-item\">\n",
    "+1 310 288 8000\n",
    "<span class=\"a-color-secondary\"> phone\n",
    "</span>\n",
    "</span></li>\n",
    "<li><span class=\"a-list-item\">\n",
    "+1 310 288 2000\n",
    "<span class=\"a-color-secondary\"> fax\n",
    "</span>\n",
    "</span></li>\n",
    "<li><span class=\"a-list-item\">\n",
    "<div class=\"a-section a-spacing-top-mini\"><div class=\"a-fixed-left-grid\"><div class=\"a-fixed-left-grid-inner\" style=\"padding-left:16px\"><div class=\"a-fixed-left-grid-col a-col-left\" style=\"width:16px;margin-left:-16px;float:left;\"><span class=\"a-size- a-color-price glyphicons glyphicons-icon glyphicons-map-marker\"></span></div><div class=\"a-fixed-left-grid-col a-col-right\" style=\"padding-left:0%;float:left;\"><span class=\"a-color-secondary\"> 8942 Wilshire Boulevard\n",
    "</span></div></div></div></div>\n",
    "</span></li>\n",
    "<li><span class=\"a-list-item\">\n",
    "<div class=\"a-section a-spacing-top-none\"><div class=\"a-fixed-left-grid\"><div class=\"a-fixed-left-grid-inner\" style=\"padding-left:16px\"><div class=\"a-fixed-left-grid-col a-col-left\" style=\"width:16px;margin-left:-16px;float:left;\"></div><div class=\"a-fixed-left-grid-col a-col-right\" style=\"padding-left:0%;float:left;\"><span class=\"a-color-secondary\"> Beverly Hills,\n",
    "CA\n",
    "90211\n",
    "</span></div></div></div></div>\n",
    "</span></li>\n",
    "<li><span class=\"a-list-item\">\n",
    "<div class=\"a-section a-spacing-top-none\"><div class=\"a-fixed-left-grid\"><div class=\"a-fixed-left-grid-inner\" style=\"padding-left:16px\"><div class=\"a-fixed-left-grid-col a-col-left\" style=\"width:16px;margin-left:-16px;float:left;\"></div><div class=\"a-fixed-left-grid-col a-col-right\" style=\"padding-left:0%;float:left;\"><span class=\"a-color-secondary\"> USA\n",
    "</span></div></div></div></div>\n",
    "</span></li>\n",
    "<li><span class=\"a-list-item\">\n",
    "<div class=\"a-section a-spacing-top-none\"><div class=\"a-fixed-left-grid\"><div class=\"a-fixed-left-grid-inner\" style=\"padding-left:16px\"><div class=\"a-fixed-left-grid-col a-col-left\" style=\"width:16px;margin-left:-16px;float:left;\"></div><div class=\"a-fixed-left-grid-col a-col-right\" style=\"padding-left:0%;float:left;\"><span class=\"a-color-secondary\"><a class=\"a-size- a-align- a-link- clickable_share_link\" target=\"_blank\" rel=\"noopener\" href=\"http://bing.com/maps/default.aspx?v=2&amp;where1=8942+Wilshire+Boulevard+Beverly+Hills+CA+90211+USA\"> See map\n",
    "</a> (bing.com)\n",
    "</span></div></div></div></div>\n",
    "</span></li>\n",
    "</ul>\n",
    "</div></div>\n",
    "</div>\n",
    "\"\"\""
   ]
  },
  {
   "cell_type": "code",
   "execution_count": 53,
   "id": "1c5e85b3",
   "metadata": {},
   "outputs": [
    {
     "name": "stdout",
     "output_type": "stream",
     "text": [
      "divs len: 1\n",
      "phone: +1 310 288 8000\n",
      "fax: +1 310 288 8000\n"
     ]
    }
   ],
   "source": [
    "def clean_contact_info(contact_info: str):\n",
    "    \n",
    "     return contact_info.strip().strip('\\n')\n",
    "    \n",
    "\n",
    "response = Selector(text=text) \n",
    "\n",
    "divs = response.xpath(\"//div[@id='contacts']\")\n",
    "\n",
    "print(f\"divs len: {len(divs)}\")\n",
    "\n",
    "\n",
    "spans = divs.xpath(\"//span[@class='a-color-secondary']\")\n",
    "\n",
    "for span in spans:\n",
    "    \n",
    "    #print(span.xpath(\"./text()\").getall())\n",
    "    txt = span.xpath(\"./text()\").get()\n",
    "    \n",
    "    if 'phone' in txt:\n",
    "        \n",
    "        # get parent\n",
    "        phone = spans.xpath(\"//span[@class='a-color-secondary']/../text()\").get()\n",
    "        phone = clean_contact_info(phone)\n",
    "        \n",
    "        print(f\"phone: {phone}\")\n",
    "        \n",
    "    if 'fax' in txt:\n",
    "        \n",
    "        # get parent\n",
    "        fax = spans.xpath(\"//span[@class='a-color-secondary']/../text()\").get()\n",
    "        fax = clean_contact_info(fax)\n",
    "        \n",
    "        print(f\"fax: {fax}\")\n",
    "        \n"
   ]
  },
  {
   "cell_type": "code",
   "execution_count": 57,
   "id": "026a272f",
   "metadata": {},
   "outputs": [
    {
     "name": "stdout",
     "output_type": "stream",
     "text": [
      "divs len: 1\n",
      "spans len: 5\n",
      "['Caminho das Índias']\n",
      "['Edge of Desire']\n",
      "['Pé na Jaca']\n",
      "['Farewell']\n",
      "['Discover People']\n"
     ]
    }
   ],
   "source": [
    "text = \"\"\"\n",
    "<div id=\"const_page_summary_section\" class=\"a-fixed-right-grid-col a-col-left\" style=\"padding-right:3.7%;float:left;\">\n",
    "<div class=\"a-row a-spacing-medium known_for\"> Known for\n",
    "<a class=\"a-size- a-align- a-link- ttip\" href=\"https://pro.imdb.com/title/tt1360961/?ref_=nm_nav_ov_knownfor_1\"><span>Caminho das Índias<span class=\"a-color-secondary\"> (2009)</span></span></a>,\n",
    "<a class=\"a-size- a-align- a-link- ttip\" href=\"https://pro.imdb.com/title/tt6491190/?ref_=nm_nav_ov_knownfor_2\"><span>Edge of Desire<span class=\"a-color-secondary\"> (2017)</span></span></a>,\n",
    "<a class=\"a-size- a-align- a-link- ttip\" href=\"https://pro.imdb.com/title/tt0913160/?ref_=nm_nav_ov_knownfor_3\"><span>Pé na Jaca<span class=\"a-color-secondary\"> (2006-2007)</span></span></a>,\n",
    "<a class=\"a-size- a-align- a-link- ttip\" href=\"https://pro.imdb.com/title/tt3463250/?ref_=nm_nav_ov_knownfor_4\"><span>Farewell<span class=\"a-color-secondary\"> (2014)</span></span></a></div>\n",
    "<div class=\"a-fixed-left-grid a-spacing-base\"><div class=\"a-fixed-left-grid-inner\" style=\"padding-left:140px\"><div class=\"a-fixed-left-grid-col a-col-left\" style=\"width:140px;margin-left:-140px;float:left;\"><span class=\"a-color-secondary\"> Details\n",
    "</span></div><div class=\"a-fixed-left-grid-col a-col-right\" style=\"padding-left:0%;float:left;\"><span>\n",
    "Mar\n",
    "26,\n",
    "1979<span class=\"a-color-secondary\"> (age 42)\n",
    "</span>\n",
    "|\n",
    "5' 7\"\n",
    "<span class=\"a-color-secondary\"> (1.70m)\n",
    "</span>\n",
    "</span></div></div></div>\n",
    "<div class=\"a-fixed-left-grid a-spacing-base\"><div class=\"a-fixed-left-grid-inner\" style=\"padding-left:140px\"><div class=\"a-fixed-left-grid-col a-col-left\" style=\"width:140px;margin-left:-140px;float:left;\"><span class=\"a-color-secondary\"> External links\n",
    "</span></div><div class=\"a-fixed-left-grid-col a-col-right\" style=\"padding-left:0%;float:left;\"><span class=\"a-color-secondary\">\n",
    "<span class=\"a-declarative\" data-action=\"open_standalone_page\" data-open_standalone_page=\"{&quot;url&quot;: &quot;https://pro.imdb.com/name/nm0655945/websites?ref_=nm_med_sites&quot;}\"><a class=\"a-size- a-align- a-link-\" href=\"https://pro.imdb.com/name/nm0655945/websites?ref_=nm_med_sites\"> 3 official web\n",
    "sites &amp; 9 more\n",
    "links</a></span></span></div></div></div>\n",
    "<span class=\"a-text-bold\"> Images\n",
    "</span>\n",
    "<span class=\"a-declarative\" data-action=\"auto_scroll\" data-auto_scroll=\"{&quot;tab&quot;: &quot;images&quot;, &quot;sort&quot;: &quot;DEFAULT&quot;, &quot;filter&quot;: &quot;DEFAULT&quot;, &quot;refmarker&quot;: &quot;nm_poster_photos&quot;}\"><a class=\"a-size- a-align- a-link-\" href=\"https://pro.imdb.com/name/nm0655945/images?ref_=nm_poster_photos\"> (18)\n",
    "</a></span>\n",
    "<div id=\"featured_photo_set\" class=\"a-section a-spacing-top-micro\"><a data-source-const=\"nm0655945\" class=\"a-size- a-align- a-link- photoSlideshow featured_image aok-inline-block\" href=\"https://pro.imdb.com/name/nm0655945/#rmConst=rm1357798144\"><img alt=\"Still of Juliana Paes and Elizângela in Edge of Desire and Episode #1.172\" src=\"https://m.media-amazon.com/images/M/MV5BNjM5MjczMGEtMTBlNi00YzcxLWFiOGYtODcwMmNjMDM4MDc2XkEyXkFqcGdeQXVyNjI0NDkwNjE@._V1_UY160_CR45,0,160,160_.jpg\" height=\"80\" width=\"80\" title=\"Still of Juliana Paes and Elizângela in Edge of Desire and Episode #1.172\"></a><a data-source-const=\"nm0655945\" class=\"a-size- a-align- a-link- photoSlideshow featured_image aok-inline-block\" href=\"https://pro.imdb.com/name/nm0655945/#rmConst=rm1408129792\"><img alt=\"Still of Juliana Paes in Edge of Desire and Episode #1.172\" src=\"https://m.media-amazon.com/images/M/MV5BOTgwYTU0NGMtMTYwYi00MDgzLTk0ZWItZWYxNDI2ZWQ5OWJiXkEyXkFqcGdeQXVyNjI0NDkwNjE@._V1_UY160_CR45,0,160,160_.jpg\" height=\"80\" width=\"80\" title=\"Still of Juliana Paes in Edge of Desire and Episode #1.172\"></a><a data-source-const=\"nm0655945\" class=\"a-size- a-align- a-link- photoSlideshow featured_image aok-inline-block\" href=\"https://pro.imdb.com/name/nm0655945/#rmConst=rm1827560192\"><img alt=\"Still of Juliana Paes in Edge of Desire and Episode #1.172\" src=\"https://m.media-amazon.com/images/M/MV5BNjE5ZGQ5YjAtZTk0OC00MzU3LThjZTEtOWZlYzAxZTZhZTA3XkEyXkFqcGdeQXVyNjI0NDkwNjE@._V1_UY160_CR62,0,160,160_.jpg\" height=\"80\" width=\"80\" title=\"Still of Juliana Paes in Edge of Desire and Episode #1.172\"></a><a data-source-const=\"nm0655945\" class=\"a-size- a-align- a-link- photoSlideshow featured_image aok-inline-block\" href=\"https://pro.imdb.com/name/nm0655945/#rmConst=rm278384128\"><img alt=\"Still of Juliana Paes and Nelson Xavier in Farewell\" src=\"https://m.media-amazon.com/images/M/MV5BMjExMjA0NDU0MV5BMl5BanBnXkFtZTgwNzMyNDY3MTE@._V1_UY160_CR62,0,160,160_.jpg\" height=\"80\" width=\"80\" title=\"Still of Juliana Paes and Nelson Xavier in Farewell\"></a><a data-source-const=\"nm0655945\" class=\"a-size- a-align- a-link- photoSlideshow featured_image aok-inline-block\" href=\"https://pro.imdb.com/name/nm0655945/#rmConst=rm311938560\"><img alt=\"Still of Juliana Paes and Nelson Xavier in Farewell\" src=\"https://m.media-amazon.com/images/M/MV5BMjI0OTE2Njc3OV5BMl5BanBnXkFtZTgwNTMyNDY3MTE@._V1_UY160_CR62,0,160,160_.jpg\" height=\"80\" width=\"80\" title=\"Still of Juliana Paes and Nelson Xavier in Farewell\"></a><a data-source-const=\"nm0655945\" class=\"a-size- a-align- a-link- photoSlideshow featured_image aok-inline-block\" href=\"https://pro.imdb.com/name/nm0655945/#rmConst=rm295161344\"><img alt=\"Still of Juliana Paes and Nelson Xavier in Farewell\" src=\"https://m.media-amazon.com/images/M/MV5BMTk3OTgwMTA0NV5BMl5BanBnXkFtZTgwNjMyNDY3MTE@._V1_UY160_CR62,0,160,160_.jpg\" height=\"80\" width=\"80\" title=\"Still of Juliana Paes and Nelson Xavier in Farewell\"></a></div>\n",
    "<div class=\"a-section a-spacing-top-medium\">\n",
    "Find more <span class=\"a-text-bold\">actresses</span> with\n",
    "<a class=\"a-size- a-align- a-link-\" href=\"https://pro.imdb.com/discover?redirectUrl=%2Fdiscover%2Fpeople%3Fprofession%3Dactress&amp;ref_=nm_dsc_pe_ingress\"><span class=\"a-declarative\" data-action=\"log_event\" data-log_event=\"{&quot;pageAction&quot;: &quot;nm-dsc-pe-ingress&quot;}\">Discover People</span></a>.</div>\n",
    "</div>\n",
    "\"\"\"\n",
    "\n",
    "response = Selector(text=text) \n",
    "\n",
    "divs = response.xpath(\"//div[@class='a-row a-spacing-medium known_for']\")\n",
    "\n",
    "print(f\"divs len: {len(divs)}\")\n",
    "\n",
    "\n",
    "spans = divs.xpath(\"//a/span\")\n",
    "\n",
    "print(f\"spans len: {len(spans)}\")\n",
    "for span in spans:\n",
    "    \n",
    "    #print(span.xpath(\"./text()\").getall())\n",
    "    txts = span.xpath(\"./text()\").getall()\n",
    "    \n",
    "    for txt in txts:\n",
    "        \n",
    "        film_title = txt.xpath(\".text()\").get()\n",
    "        film_link =  txt.xpath(\"../a/text()\").get()\n",
    "        \n",
    "    "
   ]
  },
  {
   "cell_type": "markdown",
   "id": "65245e0d",
   "metadata": {},
   "source": [
    "## Dealing with login and credentials"
   ]
  },
  {
   "cell_type": "markdown",
   "id": "a9fa6aa7",
   "metadata": {},
   "source": [
    "refs:\n",
    "\n",
    "* https://quotes.toscrape.com/login\n",
    "* https://www.youtube.com/watch?v=I_vAGDZeg5Q\n",
    "\n"
   ]
  },
  {
   "cell_type": "markdown",
   "id": "86a9d952",
   "metadata": {},
   "source": [
    "Steps:\n",
    "* Inspecting the page login\n",
    "\n",
    "    1. Do one time the login and under the tab Network discovery the token variable name under **FormData**\n",
    "    \n",
    "        * Look the variable: **csrf_token: DLIyfMtmuZjQJHSWCdhlsKiBPozwVbvREOqxFeUnNrTYAXGakpgc**\n",
    "\n",
    "\n",
    "<img src=\"images/inspecting_login_network_tab.png\" style=\"float:left\" width=\"1000\" align=\"right\">"
   ]
  },
  {
   "cell_type": "markdown",
   "id": "694136dd",
   "metadata": {},
   "source": [
    "\n",
    "* Inspecting the page login under tab Elements \n",
    "    * find the metadata for the token value\n",
    "\n",
    "```html\n",
    "<form action=\"/login\" method=\"post\" accept-charset=\"utf-8\">\n",
    "        <input type=\"hidden\" name=\"csrf_token\" value=\"DLIyfMtmuZjQJHSWCdhlsKiBPozwVbvREOqxFeUnNrTYAXGakpgc\">\n",
    "        <div class=\"row\">\n",
    "            <div class=\"form-group col-xs-3\">\n",
    "                <label for=\"username\">Username</label>\n",
    "                <input type=\"text\" class=\"form-control\" id=\"username\" name=\"username\">\n",
    "            </div>\n",
    "        </div>\n",
    "        <div class=\"row\">\n",
    "            <div class=\"form-group col-xs-3\">\n",
    "                <label for=\"username\">Password</label>\n",
    "                <input type=\"password\" class=\"form-control\" id=\"password\" name=\"password\">\n",
    "            </div>\n",
    "        </div>\n",
    "        <input type=\"submit\" value=\"Login\" class=\"btn btn-primary\">\n",
    "        \n",
    "    </form>\n",
    "```\n",
    "\n",
    "<img src=\"images/scrap_with_login_page.png\" style=\"float:left\" width=\"1000\" align=\"right\">"
   ]
  },
  {
   "cell_type": "markdown",
   "id": "8268a864",
   "metadata": {},
   "source": [
    "* Use `FormRequest` from scrapy.\n",
    "\n",
    "\n",
    "```python\n",
    "\n",
    "from tutorial.items import QuoteItem\n",
    "from scrapy.loader import ItemLoader\n",
    "\n",
    "class QuotesSpider(scrapy.Spider):\n",
    "\n",
    "    name = 'quotes-login'\n",
    "\n",
    "    start_urls = ['http://quotes.toscrape.com/login']\n",
    "\n",
    "    def start_scrap(self,response):\n",
    "\n",
    "        self.logger.info('========== Start scrapping =========== ')\n",
    "               \n",
    "        if response.status != 200:\n",
    "            \n",
    "            self.logger.error(\"Login failed!\")\n",
    "            \n",
    "            return \n",
    "        \n",
    "        quotes = response.css(\"div.quote\")\n",
    "\n",
    "   \n",
    "        quote_item = QuoteItem()\n",
    "        \n",
    "    \n",
    "        for quote in quotes:\n",
    "\n",
    "            text = quote.css('.text::text').get()\n",
    "            author = quote.css('.author::text').get()\n",
    "            tags = quote.css(\".tag::text\").getall()\n",
    "\n",
    "            loader = ItemLoader(item=QuoteItem(), selector=quote)\n",
    "        \n",
    "            loader.add_css('quote_content', '.text::text')\n",
    "            loader.add_css('tags', '.tag::text')\n",
    "            quote_item = loader.load_item()\n",
    "        \n",
    "           \n",
    "            self.logger.info(f'text: {text}')\n",
    "            self.logger.info(f'author: {author}')\n",
    "            self.logger.info(f'tags: {tags}')\n",
    "\n",
    "            self.logger.debug(\"-------------------------\")\n",
    "\n",
    "    def parse(self, response):\n",
    "    \n",
    "        # get the token value (the token expiration shoud define the end of section I guess)\n",
    "        token = response.css('form input::attr(value)').get()\n",
    "        \n",
    "        self.logger.info(f\"token: {token}\")\n",
    "\n",
    "        return FormRequest.from_response(response,formdata={\n",
    "            'csrf_token': token, \n",
    "            'username': 'leandro@gmail.com',\n",
    "            'password': 'dadisgood'\n",
    "        }, callback=self.start_scrap)\n",
    "\n",
    "```\n",
    "\n",
    "\n"
   ]
  },
  {
   "cell_type": "markdown",
   "id": "4702a59d",
   "metadata": {},
   "source": [
    "## How to ignore robots.txt for Scrapy spiders"
   ]
  },
  {
   "cell_type": "markdown",
   "id": "7b2ac658",
   "metadata": {},
   "source": [
    "Website owners tell web spiders such as Googlebot what can and can't be crawled on their websites with the use of robots.txt file. The file resides on the root directory of a website and contain contain rules such as the followings;\n",
    "\n",
    "Steps for ignoring:\n",
    "\n",
    "\n",
    "1. set ignore robottxt rules in CLI\n",
    "\n",
    "```sh\n",
    "\n",
    "# when calling crawler\n",
    "scrapy crawl --set=ROBOTSTXT_OBEY='False' quotes\n",
    "\n",
    "# when start scrapy shell\n",
    "scrapy shell  --set=\"ROBOTSTXT_OBEY=False\"\n",
    "\n",
    "```\n",
    "\n",
    "1. ignore change conf file: edit settings.py\n",
    "\n",
    "\n",
    "```yaml\n",
    "# Obey robots.txt rules\n",
    "ROBOTSTXT_OBEY = False\n",
    "```\n"
   ]
  },
  {
   "cell_type": "markdown",
   "id": "5c5bdeb8",
   "metadata": {},
   "source": [
    "## Passing user pamarameters to crawler"
   ]
  },
  {
   "cell_type": "markdown",
   "id": "9366916a",
   "metadata": {},
   "source": [
    "\n",
    "```sh\n",
    "scrapy crawl imdb --set=ROBOTSTXT_OBEY='False' -a actor='juliana paes'\n",
    "```\n",
    "\n",
    "\n",
    "```python \n",
    "class ImdbSpider(scrapy.Spider):\n",
    "    name = 'imdb'\n",
    "\n",
    "    start_urls = ['https://secure.imdb.com/ap/signin?openid.pape.max_auth_age=0&openid.return_to=https%3A%2F%2Fwww.imdb.com%2Fregistration%2Fap-signin-handler%2Fimdb_pro_us&openid.identity=http%3A%2F%2Fspecs.openid.net%2Fauth%2F2.0%2Fidentifier_select&openid.assoc_handle=imdb_pro_us&openid.mode=checkid_setup&siteState=eyJvcGVuaWQuYXNzb2NfaGFuZGxlIjoiaW1kYl9wcm9fdXMiLCJyZWRpcmVjdFRvIjoiaHR0cHM6Ly9wcm8uaW1kYi5jb20vIn0&openid.claimed_id=http%3A%2F%2Fspecs.openid.net%2Fauth%2F2.0%2Fidentifier_select&openid.ns=http%3A%2F%2Fspecs.openid.net%2Fauth%2F2.0']\n",
    "\n",
    "    def __init__(self, actor='', **kwargs):\n",
    "\n",
    "        super().__init__(**kwargs)  # python3\n",
    "\n",
    "        self.logger.info(f'init spider for actor: {actor}')\n",
    "```\n"
   ]
  },
  {
   "cell_type": "markdown",
   "id": "5ae5d5e7",
   "metadata": {},
   "source": [
    "## Dealing with cookies"
   ]
  },
  {
   "cell_type": "code",
   "execution_count": 42,
   "id": "c849d599",
   "metadata": {},
   "outputs": [],
   "source": [
    "def after_login(self, response):\n",
    "\n",
    "    if response.status != 200:\n",
    "        \n",
    "        self.logger.error(\"Login failed!\")\n",
    "        \n",
    "        return \n",
    "\n",
    "    cookie = response.headers.getlist('Set-Cookie')\n",
    "    self.logger.info(f\"cookies: {cookie}\")"
   ]
  },
  {
   "cell_type": "markdown",
   "id": "41f6c576",
   "metadata": {},
   "source": [
    "## Debbug and develop"
   ]
  },
  {
   "cell_type": "markdown",
   "id": "5c1f09a5",
   "metadata": {},
   "source": [
    "* Use selector"
   ]
  },
  {
   "cell_type": "code",
   "execution_count": 30,
   "id": "97f8e9d7",
   "metadata": {},
   "outputs": [
    {
     "name": "stdout",
     "output_type": "stream",
     "text": [
      "extract all text\n"
     ]
    },
    {
     "data": {
      "text/plain": [
       "['\\n                ',\n",
       " ' Talent Agent',\n",
       " '\\n                ',\n",
       " '\\n                ',\n",
       " '+1 310 288 8000',\n",
       " ' phone',\n",
       " '\\n                ',\n",
       " '\\n            ']"
      ]
     },
     "execution_count": 30,
     "metadata": {},
     "output_type": "execute_result"
    },
    {
     "name": "stdout",
     "output_type": "stream",
     "text": [
      "extract current text\n"
     ]
    },
    {
     "data": {
      "text/plain": [
       "[' phone']"
      ]
     },
     "execution_count": 30,
     "metadata": {},
     "output_type": "execute_result"
    },
    {
     "name": "stdout",
     "output_type": "stream",
     "text": [
      "extract parent text\n"
     ]
    },
    {
     "data": {
      "text/plain": [
       "['+1 310 288 8000', '\\n                ']"
      ]
     },
     "execution_count": 30,
     "metadata": {},
     "output_type": "execute_result"
    }
   ],
   "source": [
    "val = Selector(text = \"\"\"\n",
    "            <div id=\"contacts\" class=\"a-section\">\n",
    "                <div class=\"a-column a-span12 a-span-last\"><span class=\"a-size-base a-text-bold\"> Talent Agent</span></div>\n",
    "                <span class=\"a-list-item\"></span>\n",
    "                <span class=\"a-list-item\">+1 310 288 8000<span class=\"a-color-secondary\"> phone</span>\n",
    "                </span>\n",
    "            </div>\n",
    "          \"\"\")\n",
    "\n",
    "divs = val.xpath(\"//div[@id='contacts']\")\n",
    "spans = divs.xpath(\"//span[@class='a-color-secondary']\")\n",
    "\n",
    "print(\"extract all text\")\n",
    "spans.xpath(\"//text()\").getall()\n",
    "\n",
    "print(\"extract current text\")\n",
    "spans.xpath(\"./text()\").getall()\n",
    "\n",
    "print(\"extract parent text\")\n",
    "spans.xpath(\"//span[@class='a-color-secondary']/../text()\").getall()\n"
   ]
  },
  {
   "cell_type": "markdown",
   "id": "1a423540",
   "metadata": {},
   "source": [
    "* Open requested page on Browser"
   ]
  },
  {
   "cell_type": "code",
   "execution_count": 41,
   "id": "aba93654",
   "metadata": {},
   "outputs": [],
   "source": [
    "from scrapy.utils.response import response_status_message, open_in_browser\n",
    "\n",
    "\n",
    "def parse_something(self, response):\n",
    "    \n",
    "    open_in_browser(response)\n",
    "    self.logger.error(response.body)\n",
    "    \n",
    "    return"
   ]
  }
 ],
 "metadata": {
  "kernelspec": {
   "display_name": "Python 3",
   "language": "python",
   "name": "python3"
  },
  "language_info": {
   "codemirror_mode": {
    "name": "ipython",
    "version": 3
   },
   "file_extension": ".py",
   "mimetype": "text/x-python",
   "name": "python",
   "nbconvert_exporter": "python",
   "pygments_lexer": "ipython3",
   "version": "3.9.5"
  },
  "latex_envs": {
   "LaTeX_envs_menu_present": true,
   "autoclose": false,
   "autocomplete": true,
   "bibliofile": "biblio.bib",
   "cite_by": "apalike",
   "current_citInitial": 1,
   "eqLabelWithNumbers": true,
   "eqNumInitial": 1,
   "hotkeys": {
    "equation": "Ctrl-E",
    "itemize": "Ctrl-I"
   },
   "labels_anchors": false,
   "latex_user_defs": false,
   "report_style_numbering": false,
   "user_envs_cfg": false
  },
  "toc": {
   "base_numbering": 1,
   "nav_menu": {},
   "number_sections": true,
   "sideBar": true,
   "skip_h1_title": true,
   "title_cell": "Table of Contents",
   "title_sidebar": "Contents",
   "toc_cell": false,
   "toc_position": {
    "height": "calc(100% - 180px)",
    "left": "10px",
    "top": "150px",
    "width": "231.8566131591797px"
   },
   "toc_section_display": true,
   "toc_window_display": true
  }
 },
 "nbformat": 4,
 "nbformat_minor": 5
}
