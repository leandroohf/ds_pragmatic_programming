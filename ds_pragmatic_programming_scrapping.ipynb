{
 "cells": [
  {
   "cell_type": "markdown",
   "id": "9951422f",
   "metadata": {},
   "source": [
    "# Scraping\n",
    "\n",
    "refs:\n",
    "\n",
    "* https://docs.scrapy.org/en/latest/topics/shell.html\n",
    "* https://towardsdatascience.com/a-minimalist-end-to-end-scrapy-tutorial-part-i-11e350bcdec0\n",
    "    * `git clone https://github.com/harrywang/scrapy-tutorial-starter.git`\n",
    "* https://towardsdatascience.com/scrapy-this-is-how-to-successfully-login-with-ease-ea980e2c5901\n"
   ]
  },
  {
   "cell_type": "markdown",
   "id": "159efe24",
   "metadata": {},
   "source": [
    "## Scrap shell"
   ]
  },
  {
   "cell_type": "markdown",
   "id": "f4a12011",
   "metadata": {},
   "source": [
    "* It is also a regular iPython shell\n",
    "* Use for testing XPath or CSS expressions and what data they extracting (DEBUG)\n",
    "* Web site example:\n",
    "    * http://quotes.toscrape.com/\n",
    "    * https://www.beerwulf.com/en-gb/c/mixedbeercases  <===\n",
    "\n",
    "\n",
    "```shell\n",
    "# scrapy shell <url>\n",
    "scrapy shell http://quotes.toscrape.com/\n",
    "\n",
    "# file examples\n",
    "# UNIX-style\n",
    "scrapy shell ./path/to/file.html\n",
    "\n",
    "# File URI\n",
    "scrapy shell file:///absolute/path/to/file.html\n",
    "\n",
    "```\n",
    "\n",
    "How to use: \n",
    "\n",
    "```shell\n",
    "scrapy shell\n",
    "\n",
    "```\n",
    "\n",
    "Run inside the shell \n",
    "\n",
    "```python\n",
    "\n",
    "# inside scrapy shell  <======\n",
    "# inspecting settings object\n",
    "seettings\n",
    "\n",
    "# fetch the page\n",
    "fetch('https://www.beerwulf.com/en-gb/c/mixedbeercases')\n",
    "\n",
    "\n",
    "# check response object\n",
    "response\n",
    "\n",
    "response.status\n",
    "\n",
    "from pprint import pprint\n",
    "pprint(response.headers)\n",
    "\n",
    "# > Out[2]: <200 https://www.beerwulf.com/en-gb/c/mixedbeercases>\n",
    "\n",
    "# inspect html code \n",
    "response.body\n",
    "response.body_as_unicode()\n",
    "\n",
    "# extract title using css xpath \n",
    "response.css('title::text').get()  # get the first results\n",
    "#> Out[12]: 'Mixed Beer Cases  | Discover our beers | Beerwulf'\n",
    "\n",
    "# get all beers\n",
    "response.css('h4::text').getall()  \n",
    "\n",
    "# Out[13]:\n",
    "#[' Search results',\n",
    "# 'THE SUB  (2L)',\n",
    "# 'BLADE  (8L)',\n",
    "# 'Beer Tap Starter Packs',\n",
    "# 'All Beer Taps',\n",
    "# 'SUB Kegs',\n",
    "# ...]\n",
    "\n",
    "# inspect the object crawler\n",
    "crawler.stats.get_stats()\n",
    "\n",
    "```\n"
   ]
  },
  {
   "cell_type": "markdown",
   "id": "5e666d74",
   "metadata": {
    "heading_collapsed": true
   },
   "source": [
    "## Project folder struture\n"
   ]
  },
  {
   "cell_type": "markdown",
   "id": "96e83d05",
   "metadata": {
    "hidden": true
   },
   "source": [
    "* Create project\n",
    "\n",
    "\n",
    "```shell\n",
    "scrapy startproject tutorial # project-name \n",
    "```\n",
    "\n",
    "Folder explained:\n",
    "\n",
    "* scrapy.cfg: the project configuration file\n",
    "* tutorial/: the project’s python module, you’ll later import your code from here.\n",
    "* tutorial/items.py: the project’s items file.\n",
    "* tutorial/pipelines.py: the project’s pipelines file.\n",
    "* tutorial/settings.py: the project’s settings file.\n",
    "* tutorial/spiders/: a directory where you’ll later put your spiders.\n",
    "\n",
    "\n",
    "<img src=\"images/scrapy_project_folder_struture.png\" style=\"float:left\" width=\"300\" align=\"right\">"
   ]
  },
  {
   "cell_type": "markdown",
   "id": "fcec03c8",
   "metadata": {
    "hidden": true
   },
   "source": [
    "* Run scrawler\n",
    "\n",
    "\n",
    "```shell\n",
    "# run the crwaler called quotes\n",
    "scrapy crawl quotes\n",
    "```\n",
    "\n"
   ]
  },
  {
   "cell_type": "markdown",
   "id": "3c6a25c4",
   "metadata": {
    "heading_collapsed": true
   },
   "source": [
    "## Xpath and css selectors\n",
    "\n",
    "* https://www.w3schools.com/xml/xpath_syntax.asp\n",
    "* https://www.w3schools.com/cssref/css_selectors.asp"
   ]
  },
  {
   "cell_type": "markdown",
   "id": "0f0bf357",
   "metadata": {
    "hidden": true
   },
   "source": [
    "\n",
    "HTML example\n",
    "\n",
    "```html\n",
    "<?xml version=\"1.0\" encoding=\"UTF-8\"?>\n",
    "\n",
    "<bookstore>\n",
    "\n",
    "<book>\n",
    "  <title lang=\"en\">Harry Potter</title>\n",
    "  <price>29.99</price>\n",
    "</book>\n",
    "\n",
    "<book>\n",
    "  <title lang=\"en\">Learning XML</title>\n",
    "  <price>39.95</price>\n",
    "</book>\n",
    "\n",
    "</bookstore>\n",
    "```\n",
    "\n",
    "* Selecting nodes\n",
    "    * bookstore: select all nodes called bookstore\n",
    "    * /bookstore: start from root\n",
    "    * bookstore/book: Selects all book elements that are children of bookstore\n",
    "    * //book: Selects all book elements no matter where they are in the document\n",
    "    * bookstore//book: select all book that is child of bookstore no matter where they are under bookstore umbrela\n",
    "\n",
    "* Predicate (positioning)\n",
    "\n",
    "    * /bookstore/book[1]: select first\n",
    "    * /bookstore/book[last()]\n",
    "    * /bookstore/book[position()<3]\n",
    "    * /bookstore/*: select all child\n",
    "    \n",
    "* Select multiple paths\n",
    "\n",
    "    * //book/title | //book/price: title AND proce\n",
    "    * //title | //price: title OR price"
   ]
  },
  {
   "cell_type": "markdown",
   "id": "5ea66304",
   "metadata": {},
   "source": [
    "## Dealing woth login and credentials"
   ]
  },
  {
   "cell_type": "markdown",
   "id": "f5ebd322",
   "metadata": {},
   "source": [
    "refs:\n",
    "\n",
    "* https://quotes.toscrape.com/login\n",
    "* https://www.youtube.com/watch?v=I_vAGDZeg5Q\n",
    "\n"
   ]
  },
  {
   "cell_type": "markdown",
   "id": "91d6940a",
   "metadata": {},
   "source": [
    "Steps:\n",
    "* Inspecting the page login\n",
    "* find the metadata for the token value\n",
    "\n",
    "```html\n",
    "<form action=\"/login\" method=\"post\" accept-charset=\"utf-8\">\n",
    "        <input type=\"hidden\" name=\"csrf_token\" value=\"DLIyfMtmuZjQJHSWCdhlsKiBPozwVbvREOqxFeUnNrTYAXGakpgc\">\n",
    "        <div class=\"row\">\n",
    "            <div class=\"form-group col-xs-3\">\n",
    "                <label for=\"username\">Username</label>\n",
    "                <input type=\"text\" class=\"form-control\" id=\"username\" name=\"username\">\n",
    "            </div>\n",
    "        </div>\n",
    "        <div class=\"row\">\n",
    "            <div class=\"form-group col-xs-3\">\n",
    "                <label for=\"username\">Password</label>\n",
    "                <input type=\"password\" class=\"form-control\" id=\"password\" name=\"password\">\n",
    "            </div>\n",
    "        </div>\n",
    "        <input type=\"submit\" value=\"Login\" class=\"btn btn-primary\">\n",
    "        \n",
    "    </form>\n",
    "```\n",
    "\n",
    "<img src=\"images/scrap_with_login_page.png\" style=\"float:left\" width=\"1000\" align=\"right\">"
   ]
  },
  {
   "cell_type": "markdown",
   "id": "b8400bfe",
   "metadata": {},
   "source": [
    "* Use `FormRequest` from scrapy.\n",
    "\n",
    "\n",
    "```python\n",
    "\n",
    "from tutorial.items import QuoteItem\n",
    "from scrapy.loader import ItemLoader\n",
    "\n",
    "class QuotesSpider(scrapy.Spider):\n",
    "\n",
    "    name = 'quotes-login'\n",
    "\n",
    "    start_urls = ['http://quotes.toscrape.com/login']\n",
    "\n",
    "    def start_scrap(self,response):\n",
    "\n",
    "        self.logger.info('========== Start scrapping =========== ')\n",
    "               \n",
    "        if response.status != 200:\n",
    "            \n",
    "            self.logger.error(\"Login failed!\")\n",
    "            \n",
    "            return \n",
    "        \n",
    "        quotes = response.css(\"div.quote\")\n",
    "\n",
    "   \n",
    "        quote_item = QuoteItem()\n",
    "        \n",
    "    \n",
    "        for quote in quotes:\n",
    "\n",
    "            text = quote.css('.text::text').get()\n",
    "            author = quote.css('.author::text').get()\n",
    "            tags = quote.css(\".tag::text\").getall()\n",
    "\n",
    "            loader = ItemLoader(item=QuoteItem(), selector=quote)\n",
    "        \n",
    "            loader.add_css('quote_content', '.text::text')\n",
    "            loader.add_css('tags', '.tag::text')\n",
    "            quote_item = loader.load_item()\n",
    "        \n",
    "           \n",
    "            self.logger.info(f'text: {text}')\n",
    "            self.logger.info(f'author: {author}')\n",
    "            self.logger.info(f'tags: {tags}')\n",
    "\n",
    "            self.logger.debug(\"-------------------------\")\n",
    "\n",
    "    def parse(self, response):\n",
    "    \n",
    "        # get the token value (the token expiration shoud define the end of section I guess)\n",
    "        token = response.css('form input::attr(value)').get()\n",
    "        \n",
    "        self.logger.info(f\"token: {token}\")\n",
    "\n",
    "        return FormRequest.from_response(response,formdata={\n",
    "            'csrf_token': token, \n",
    "            'username': 'leandro@gmail.com',\n",
    "            'password': 'dadisgood'\n",
    "        }, callback=self.start_scrap)\n",
    "\n",
    "```\n",
    "\n",
    "\n"
   ]
  },
  {
   "cell_type": "markdown",
   "id": "ef8c1570",
   "metadata": {},
   "source": [
    "## Dealing with cookies"
   ]
  },
  {
   "cell_type": "code",
   "execution_count": null,
   "id": "92ad3975",
   "metadata": {},
   "outputs": [],
   "source": []
  }
 ],
 "metadata": {
  "kernelspec": {
   "display_name": "Python 3",
   "language": "python",
   "name": "python3"
  },
  "language_info": {
   "codemirror_mode": {
    "name": "ipython",
    "version": 3
   },
   "file_extension": ".py",
   "mimetype": "text/x-python",
   "name": "python",
   "nbconvert_exporter": "python",
   "pygments_lexer": "ipython3",
   "version": "3.9.5"
  },
  "latex_envs": {
   "LaTeX_envs_menu_present": true,
   "autoclose": false,
   "autocomplete": true,
   "bibliofile": "biblio.bib",
   "cite_by": "apalike",
   "current_citInitial": 1,
   "eqLabelWithNumbers": true,
   "eqNumInitial": 1,
   "hotkeys": {
    "equation": "Ctrl-E",
    "itemize": "Ctrl-I"
   },
   "labels_anchors": false,
   "latex_user_defs": false,
   "report_style_numbering": false,
   "user_envs_cfg": false
  },
  "toc": {
   "base_numbering": 1,
   "nav_menu": {},
   "number_sections": true,
   "sideBar": true,
   "skip_h1_title": true,
   "title_cell": "Table of Contents",
   "title_sidebar": "Contents",
   "toc_cell": false,
   "toc_position": {},
   "toc_section_display": true,
   "toc_window_display": true
  }
 },
 "nbformat": 4,
 "nbformat_minor": 5
}
