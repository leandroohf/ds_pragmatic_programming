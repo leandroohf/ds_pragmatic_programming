{
 "cells": [
  {
   "cell_type": "markdown",
   "metadata": {
    "ExecuteTime": {
     "end_time": "2018-09-11T18:09:18.303884Z",
     "start_time": "2018-09-11T18:09:18.300979Z"
    }
   },
   "source": [
    "# Data Science Pragmatic programming in Python: Visualizations\n",
    "\n",
    "\n",
    "Code snippets for quick consult (copy n paste)"
   ]
  },
  {
   "cell_type": "code",
   "execution_count": 1,
   "metadata": {
    "ExecuteTime": {
     "end_time": "2019-10-21T20:06:24.606614Z",
     "start_time": "2019-10-21T20:06:22.683120Z"
    }
   },
   "outputs": [],
   "source": [
    "import numpy as np\n",
    "import pandas as pd\n",
    "\n",
    "from scipy import stats\n",
    "\n",
    "import matplotlib\n",
    "import matplotlib.pyplot as plt\n",
    "%matplotlib inline \n",
    "\n",
    "import IPython\n",
    "from IPython.core.interactiveshell import InteractiveShell\n",
    "InteractiveShell.ast_node_interactivity = \"all\"\n"
   ]
  },
  {
   "cell_type": "code",
   "execution_count": 2,
   "metadata": {
    "ExecuteTime": {
     "end_time": "2019-10-21T20:06:24.729332Z",
     "start_time": "2019-10-21T20:06:24.608407Z"
    }
   },
   "outputs": [
    {
     "name": "stdout",
     "output_type": "stream",
     "text": [
      "/mnt/sdb1/leandro/ds_pragmatic_programming\r\n"
     ]
    }
   ],
   "source": [
    "!pwd"
   ]
  },
  {
   "cell_type": "markdown",
   "metadata": {
    "ExecuteTime": {
     "end_time": "2018-10-27T00:05:22.990380Z",
     "start_time": "2018-10-27T00:05:22.977717Z"
    }
   },
   "source": [
    "## Visualizations\n"
   ]
  },
  {
   "cell_type": "markdown",
   "metadata": {},
   "source": [
    "\n",
    "Plotly does not work vercy well with large data (too slow), at least with jupyter  notebook\n",
    "https://plot.ly/python/ipython-notebook-tutorial/\n",
    "\n",
    "about license offiline plotly\n",
    "https://stackoverflow.com/questions/35511111/plotly-python-totally-free\n",
    "\n",
    "1. free\n",
    "2. open source\n",
    "\n",
    "All the libraries API; Matlab, Python n R alwasy were free. pltly.js only form 2015\n",
    "\n",
    "The Accounts you can create on their website are just to host graphs online. Like with a free account you can host one private graph, with a professional account you can host unlimited private/public graphs\n",
    "\n",
    "\n",
    "### Interactive plots  (good to examine the data)\n",
    "\n",
    "    1. Scatter plot\n",
    "    2. Boxplot per category n try the width is sample size\n",
    "    3. Histograms subplot\n",
    "    4. financial data https://help.plot.ly/make-a-candlestick/ candles and select periodo tool\n",
    "    5. maps (geo located plots)\n",
    "    6. tables with filters \n",
    "    7. mini plot inside a plot https://help.plot.ly/getting-data/\n",
    "    8. network graphs: https://plot.ly/python/network-graphs/\n",
    "\n",
    "\n",
    "### Analysis plots\n",
    "\n",
    "    1. correlation matrix with scatter plot\n",
    "    2. pair plot"
   ]
  },
  {
   "cell_type": "markdown",
   "metadata": {},
   "source": [
    "### Load data"
   ]
  },
  {
   "cell_type": "code",
   "execution_count": 3,
   "metadata": {
    "ExecuteTime": {
     "end_time": "2019-10-21T20:06:28.779961Z",
     "start_time": "2019-10-21T20:06:28.539240Z"
    }
   },
   "outputs": [
    {
     "data": {
      "text/plain": [
       "Index(['sepal length (cm)', 'sepal width (cm)', 'petal length (cm)',\n",
       "       'petal width (cm)', 'target', 'target_name'],\n",
       "      dtype='object')"
      ]
     },
     "execution_count": 3,
     "metadata": {},
     "output_type": "execute_result"
    },
    {
     "data": {
      "text/html": [
       "<div>\n",
       "<style scoped>\n",
       "    .dataframe tbody tr th:only-of-type {\n",
       "        vertical-align: middle;\n",
       "    }\n",
       "\n",
       "    .dataframe tbody tr th {\n",
       "        vertical-align: top;\n",
       "    }\n",
       "\n",
       "    .dataframe thead th {\n",
       "        text-align: right;\n",
       "    }\n",
       "</style>\n",
       "<table border=\"1\" class=\"dataframe\">\n",
       "  <thead>\n",
       "    <tr style=\"text-align: right;\">\n",
       "      <th></th>\n",
       "      <th>sepal length (cm)</th>\n",
       "      <th>sepal width (cm)</th>\n",
       "      <th>petal length (cm)</th>\n",
       "      <th>petal width (cm)</th>\n",
       "      <th>target</th>\n",
       "      <th>target_name</th>\n",
       "    </tr>\n",
       "  </thead>\n",
       "  <tbody>\n",
       "    <tr>\n",
       "      <td>0</td>\n",
       "      <td>5.1</td>\n",
       "      <td>3.5</td>\n",
       "      <td>1.4</td>\n",
       "      <td>0.2</td>\n",
       "      <td>0</td>\n",
       "      <td>setosa</td>\n",
       "    </tr>\n",
       "    <tr>\n",
       "      <td>1</td>\n",
       "      <td>4.9</td>\n",
       "      <td>3.0</td>\n",
       "      <td>1.4</td>\n",
       "      <td>0.2</td>\n",
       "      <td>0</td>\n",
       "      <td>setosa</td>\n",
       "    </tr>\n",
       "    <tr>\n",
       "      <td>2</td>\n",
       "      <td>4.7</td>\n",
       "      <td>3.2</td>\n",
       "      <td>1.3</td>\n",
       "      <td>0.2</td>\n",
       "      <td>0</td>\n",
       "      <td>setosa</td>\n",
       "    </tr>\n",
       "  </tbody>\n",
       "</table>\n",
       "</div>"
      ],
      "text/plain": [
       "   sepal length (cm)  sepal width (cm)  petal length (cm)  petal width (cm)  \\\n",
       "0                5.1               3.5                1.4               0.2   \n",
       "1                4.9               3.0                1.4               0.2   \n",
       "2                4.7               3.2                1.3               0.2   \n",
       "\n",
       "   target target_name  \n",
       "0       0      setosa  \n",
       "1       0      setosa  \n",
       "2       0      setosa  "
      ]
     },
     "execution_count": 3,
     "metadata": {},
     "output_type": "execute_result"
    }
   ],
   "source": [
    "from sklearn.datasets import load_iris\n",
    "\n",
    "# Load the Iris flower dataset:\n",
    "iris = load_iris()\n",
    "\n",
    "iris_df = pd.DataFrame(iris.data)\n",
    "iris_df.columns = iris.feature_names\n",
    "\n",
    "iris_df['target'] = iris.target\n",
    "\n",
    "iris_df['target_name'] = iris_df.target.map(lambda t: iris.target_names[int(t)])\n",
    "\n",
    "iris_df.columns\n",
    "iris_df.head(3)"
   ]
  },
  {
   "cell_type": "markdown",
   "metadata": {},
   "source": [
    "### Corr plots, pair plots and heat map plots"
   ]
  },
  {
   "cell_type": "code",
   "execution_count": 4,
   "metadata": {
    "ExecuteTime": {
     "end_time": "2019-10-21T20:06:53.271483Z",
     "start_time": "2019-10-21T20:06:48.330385Z"
    }
   },
   "outputs": [
    {
     "data": {
      "text/plain": [
       "<seaborn.axisgrid.PairGrid at 0x7f042057f310>"
      ]
     },
     "execution_count": 4,
     "metadata": {},
     "output_type": "execute_result"
    },
    {
     "data": {
      "image/png": "[encoded data removed]",
      "text/plain": [
       "<Figure size 720x720 with 20 Axes>"
      ]
     },
     "metadata": {
      "needs_background": "light"
     },
     "output_type": "display_data"
    }
   ],
   "source": [
    "import seaborn as sns\n",
    "\n",
    "sns.pairplot(iris_df.loc[:,iris_df.dtypes == 'float64'])"
   ]
  },
  {
   "cell_type": "code",
   "execution_count": 5,
   "metadata": {
    "ExecuteTime": {
     "end_time": "2019-10-21T20:07:33.368555Z",
     "start_time": "2019-10-21T20:07:33.242180Z"
    }
   },
   "outputs": [
    {
     "data": {
      "text/plain": [
       "<matplotlib.axes._subplots.AxesSubplot at 0x7f041dd7f410>"
      ]
     },
     "execution_count": 5,
     "metadata": {},
     "output_type": "execute_result"
    },
    {
     "data": {
      "image/png": "[encoded data removed]",
      "text/plain": [
       "<Figure size 432x288 with 2 Axes>"
      ]
     },
     "metadata": {
      "needs_background": "light"
     },
     "output_type": "display_data"
    }
   ],
   "source": [
    "corr = iris_df.loc[:,iris_df.dtypes == 'float64'].corr()\n",
    "\n",
    "sns.heatmap(corr, xticklabels=corr.columns, yticklabels=corr.columns, \n",
    "            cmap=sns.diverging_palette(220, 10, as_cmap=True))"
   ]
  },
  {
   "cell_type": "markdown",
   "metadata": {},
   "source": []
  },
  {
   "cell_type": "markdown",
   "metadata": {},
   "source": [
    "### Boxplot"
   ]
  },
  {
   "cell_type": "markdown",
   "metadata": {},
   "source": [
    "**plotly does not support boxplot width proportional to variable or sample size**"
   ]
  },
  {
   "cell_type": "code",
   "execution_count": 6,
   "metadata": {
    "ExecuteTime": {
     "end_time": "2019-10-21T20:09:15.931921Z",
     "start_time": "2019-10-21T20:09:12.170484Z"
    }
   },
   "outputs": [
    {
     "ename": "ModuleNotFoundError",
     "evalue": "No module named 'plotly'",
     "output_type": "error",
     "traceback": [
      "\u001b[0;31m---------------------------------------------------------------------------\u001b[0m",
      "\u001b[0;31mModuleNotFoundError\u001b[0m                       Traceback (most recent call last)",
      "\u001b[0;32m<ipython-input-6-76115ba587a3>\u001b[0m in \u001b[0;36m<module>\u001b[0;34m\u001b[0m\n\u001b[1;32m      1\u001b[0m \u001b[0;31m## offline plot\u001b[0m\u001b[0;34m\u001b[0m\u001b[0;34m\u001b[0m\u001b[0;34m\u001b[0m\u001b[0m\n\u001b[0;32m----> 2\u001b[0;31m \u001b[0;32mimport\u001b[0m \u001b[0mplotly\u001b[0m\u001b[0;34m\u001b[0m\u001b[0;34m\u001b[0m\u001b[0m\n\u001b[0m\u001b[1;32m      3\u001b[0m \u001b[0;32mimport\u001b[0m \u001b[0mplotly\u001b[0m\u001b[0;34m.\u001b[0m\u001b[0mgraph_objs\u001b[0m \u001b[0;32mas\u001b[0m \u001b[0mgo\u001b[0m\u001b[0;34m\u001b[0m\u001b[0;34m\u001b[0m\u001b[0m\n\u001b[1;32m      4\u001b[0m \u001b[0;32mfrom\u001b[0m \u001b[0mplotly\u001b[0m\u001b[0;34m.\u001b[0m\u001b[0moffline\u001b[0m \u001b[0;32mimport\u001b[0m \u001b[0mdownload_plotlyjs\u001b[0m\u001b[0;34m,\u001b[0m \u001b[0minit_notebook_mode\u001b[0m\u001b[0;34m,\u001b[0m \u001b[0mplot\u001b[0m\u001b[0;34m,\u001b[0m \u001b[0miplot\u001b[0m\u001b[0;34m\u001b[0m\u001b[0;34m\u001b[0m\u001b[0m\n\u001b[1;32m      5\u001b[0m \u001b[0;34m\u001b[0m\u001b[0m\n",
      "\u001b[0;31mModuleNotFoundError\u001b[0m: No module named 'plotly'"
     ]
    }
   ],
   "source": [
    "## offline plot\n",
    "import plotly\n",
    "import plotly.graph_objs as go\n",
    "from plotly.offline import download_plotlyjs, init_notebook_mode, plot, iplot\n",
    "\n",
    "init_notebook_mode(connected=True)\n",
    "\n",
    "data = []\n",
    "\n",
    "for tn in iris_df.target_name.unique():\n",
    "    \n",
    "    df = iris_df[iris_df.target_name == tn]\n",
    "    print('size of group {}: {}'.format(tn, df.shape[0]))\n",
    "    \n",
    "    data.append(  go.Box( y=df['sepal length (cm)'] , name=str(tn), showlegend=False ) )\n",
    "\n",
    "plotly.offline.iplot(data)"
   ]
  },
  {
   "cell_type": "code",
   "execution_count": 11,
   "metadata": {
    "ExecuteTime": {
     "end_time": "2019-10-21T20:09:19.053547Z",
     "start_time": "2019-10-21T20:09:18.985824Z"
    }
   },
   "outputs": [
    {
     "name": "stdout",
     "output_type": "stream",
     "text": [
      "size of group setosa: 50\n",
      "size of group versicolor: 50\n",
      "size of group virginica: 50\n"
     ]
    },
    {
     "data": {
      "application/vnd.plotly.v1+json": {
       "data": [
        {
         "name": "setosa",
         "showlegend": false,
         "type": "box",
         "uid": "aa136924-f43e-11e9-969b-9fcd60bf4149",
         "x": [
          5.1,
          4.9,
          4.7,
          4.6,
          5,
          5.4,
          4.6,
          5,
          4.4,
          4.9,
          5.4,
          4.8,
          4.8,
          4.3,
          5.8,
          5.7,
          5.4,
          5.1,
          5.7,
          5.1,
          5.4,
          5.1,
          4.6,
          5.1,
          4.8,
          5,
          5,
          5.2,
          5.2,
          4.7,
          4.8,
          5.4,
          5.2,
          5.5,
          4.9,
          5,
          5.5,
          4.9,
          4.4,
          5.1,
          5,
          4.5,
          4.4,
          5,
          5.1,
          4.8,
          5.1,
          4.6,
          5.3,
          5
         ]
        },
        {
         "name": "versicolor",
         "showlegend": false,
         "type": "box",
         "uid": "aa136b68-f43e-11e9-969b-9fcd60bf4149",
         "x": [
          7,
          6.4,
          6.9,
          5.5,
          6.5,
          5.7,
          6.3,
          4.9,
          6.6,
          5.2,
          5,
          5.9,
          6,
          6.1,
          5.6,
          6.7,
          5.6,
          5.8,
          6.2,
          5.6,
          5.9,
          6.1,
          6.3,
          6.1,
          6.4,
          6.6,
          6.8,
          6.7,
          6,
          5.7,
          5.5,
          5.5,
          5.8,
          6,
          5.4,
          6,
          6.7,
          6.3,
          5.6,
          5.5,
          5.5,
          6.1,
          5.8,
          5,
          5.6,
          5.7,
          5.7,
          6.2,
          5.1,
          5.7
         ]
        },
        {
         "name": "virginica",
         "showlegend": false,
         "type": "box",
         "uid": "aa136cc6-f43e-11e9-969b-9fcd60bf4149",
         "x": [
          6.3,
          5.8,
          7.1,
          6.3,
          6.5,
          7.6,
          4.9,
          7.3,
          6.7,
          7.2,
          6.5,
          6.4,
          6.8,
          5.7,
          5.8,
          6.4,
          6.5,
          7.7,
          7.7,
          6,
          6.9,
          5.6,
          7.7,
          6.3,
          6.7,
          7.2,
          6.2,
          6.1,
          6.4,
          7.2,
          7.4,
          7.9,
          6.4,
          6.3,
          6.1,
          7.7,
          6.3,
          6.4,
          6,
          6.9,
          6.7,
          6.9,
          5.8,
          6.8,
          6.7,
          6.7,
          6.3,
          6.5,
          6.2,
          5.9
         ]
        }
       ],
       "layout": {}
      },
      "text/html": [
       "<div id=\"c9dfe960-6176-4422-826d-72bf2dbf7037\" style=\"height: 525px; width: 100%;\" class=\"plotly-graph-div\"></div><script type=\"text/javascript\">require([\"plotly\"], function(Plotly) { window.PLOTLYENV=window.PLOTLYENV || {};window.PLOTLYENV.BASE_URL=\"https://plot.ly\";Plotly.newPlot(\"c9dfe960-6176-4422-826d-72bf2dbf7037\", [{\"name\": \"setosa\", \"showlegend\": false, \"x\": [5.1, 4.9, 4.7, 4.6, 5.0, 5.4, 4.6, 5.0, 4.4, 4.9, 5.4, 4.8, 4.8, 4.3, 5.8, 5.7, 5.4, 5.1, 5.7, 5.1, 5.4, 5.1, 4.6, 5.1, 4.8, 5.0, 5.0, 5.2, 5.2, 4.7, 4.8, 5.4, 5.2, 5.5, 4.9, 5.0, 5.5, 4.9, 4.4, 5.1, 5.0, 4.5, 4.4, 5.0, 5.1, 4.8, 5.1, 4.6, 5.3, 5.0], \"type\": \"box\", \"uid\": \"aa1747f6-f43e-11e9-969b-9fcd60bf4149\"}, {\"name\": \"versicolor\", \"showlegend\": false, \"x\": [7.0, 6.4, 6.9, 5.5, 6.5, 5.7, 6.3, 4.9, 6.6, 5.2, 5.0, 5.9, 6.0, 6.1, 5.6, 6.7, 5.6, 5.8, 6.2, 5.6, 5.9, 6.1, 6.3, 6.1, 6.4, 6.6, 6.8, 6.7, 6.0, 5.7, 5.5, 5.5, 5.8, 6.0, 5.4, 6.0, 6.7, 6.3, 5.6, 5.5, 5.5, 6.1, 5.8, 5.0, 5.6, 5.7, 5.7, 6.2, 5.1, 5.7], \"type\": \"box\", \"uid\": \"aa174972-f43e-11e9-969b-9fcd60bf4149\"}, {\"name\": \"virginica\", \"showlegend\": false, \"x\": [6.3, 5.8, 7.1, 6.3, 6.5, 7.6, 4.9, 7.3, 6.7, 7.2, 6.5, 6.4, 6.8, 5.7, 5.8, 6.4, 6.5, 7.7, 7.7, 6.0, 6.9, 5.6, 7.7, 6.3, 6.7, 7.2, 6.2, 6.1, 6.4, 7.2, 7.4, 7.9, 6.4, 6.3, 6.1, 7.7, 6.3, 6.4, 6.0, 6.9, 6.7, 6.9, 5.8, 6.8, 6.7, 6.7, 6.3, 6.5, 6.2, 5.9], \"type\": \"box\", \"uid\": \"aa174b20-f43e-11e9-969b-9fcd60bf4149\"}], {}, {\"showLink\": true, \"linkText\": \"Export to plot.ly\"})});</script>"
      ],
      "text/vnd.plotly.v1+html": [
       "<div id=\"c9dfe960-6176-4422-826d-72bf2dbf7037\" style=\"height: 525px; width: 100%;\" class=\"plotly-graph-div\"></div><script type=\"text/javascript\">require([\"plotly\"], function(Plotly) { window.PLOTLYENV=window.PLOTLYENV || {};window.PLOTLYENV.BASE_URL=\"https://plot.ly\";Plotly.newPlot(\"c9dfe960-6176-4422-826d-72bf2dbf7037\", [{\"name\": \"setosa\", \"showlegend\": false, \"x\": [5.1, 4.9, 4.7, 4.6, 5.0, 5.4, 4.6, 5.0, 4.4, 4.9, 5.4, 4.8, 4.8, 4.3, 5.8, 5.7, 5.4, 5.1, 5.7, 5.1, 5.4, 5.1, 4.6, 5.1, 4.8, 5.0, 5.0, 5.2, 5.2, 4.7, 4.8, 5.4, 5.2, 5.5, 4.9, 5.0, 5.5, 4.9, 4.4, 5.1, 5.0, 4.5, 4.4, 5.0, 5.1, 4.8, 5.1, 4.6, 5.3, 5.0], \"type\": \"box\", \"uid\": \"aa1747f6-f43e-11e9-969b-9fcd60bf4149\"}, {\"name\": \"versicolor\", \"showlegend\": false, \"x\": [7.0, 6.4, 6.9, 5.5, 6.5, 5.7, 6.3, 4.9, 6.6, 5.2, 5.0, 5.9, 6.0, 6.1, 5.6, 6.7, 5.6, 5.8, 6.2, 5.6, 5.9, 6.1, 6.3, 6.1, 6.4, 6.6, 6.8, 6.7, 6.0, 5.7, 5.5, 5.5, 5.8, 6.0, 5.4, 6.0, 6.7, 6.3, 5.6, 5.5, 5.5, 6.1, 5.8, 5.0, 5.6, 5.7, 5.7, 6.2, 5.1, 5.7], \"type\": \"box\", \"uid\": \"aa174972-f43e-11e9-969b-9fcd60bf4149\"}, {\"name\": \"virginica\", \"showlegend\": false, \"x\": [6.3, 5.8, 7.1, 6.3, 6.5, 7.6, 4.9, 7.3, 6.7, 7.2, 6.5, 6.4, 6.8, 5.7, 5.8, 6.4, 6.5, 7.7, 7.7, 6.0, 6.9, 5.6, 7.7, 6.3, 6.7, 7.2, 6.2, 6.1, 6.4, 7.2, 7.4, 7.9, 6.4, 6.3, 6.1, 7.7, 6.3, 6.4, 6.0, 6.9, 6.7, 6.9, 5.8, 6.8, 6.7, 6.7, 6.3, 6.5, 6.2, 5.9], \"type\": \"box\", \"uid\": \"aa174b20-f43e-11e9-969b-9fcd60bf4149\"}], {}, {\"showLink\": true, \"linkText\": \"Export to plot.ly\"})});</script>"
      ]
     },
     "metadata": {},
     "output_type": "display_data"
    }
   ],
   "source": [
    "data = []\n",
    "\n",
    "for tn in iris_df.target_name.unique():\n",
    "    \n",
    "    df = iris_df[iris_df.target_name == tn]\n",
    "    print('size of group {}: {}'.format(tn, df.shape[0]))\n",
    "    \n",
    "    data.append(  go.Box( x=df['sepal length (cm)'] , name=str(tn), showlegend=False ) )\n",
    "\n",
    "plotly.offline.iplot(data)"
   ]
  },
  {
   "cell_type": "code",
   "execution_count": 7,
   "metadata": {
    "ExecuteTime": {
     "end_time": "2019-10-21T20:09:23.856400Z",
     "start_time": "2019-10-21T20:09:21.738308Z"
    }
   },
   "outputs": [
    {
     "name": "stdout",
     "output_type": "stream",
     "text": [
      "\n",
      "\n"
     ]
    },
    {
     "data": {
      "image/png": "[encoded data removed]",
      "text/plain": [
       "<Figure size 720x288 with 1 Axes>"
      ]
     },
     "metadata": {
      "needs_background": "light"
     },
     "output_type": "display_data"
    },
    {
     "data": {
      "image/png": "[encoded data removed]",
      "text/plain": [
       "<Figure size 720x288 with 1 Axes>"
      ]
     },
     "metadata": {
      "needs_background": "light"
     },
     "output_type": "display_data"
    },
    {
     "data": {
      "image/png": "[encoded data removed]",
      "text/plain": [
       "<Figure size 720x576 with 4 Axes>"
      ]
     },
     "metadata": {
      "needs_background": "light"
     },
     "output_type": "display_data"
    }
   ],
   "source": [
    "iris_df.boxplot(column=['sepal length (cm)', 'sepal width (cm)', 'petal length (cm)'],\n",
    "               figsize=(10,4));\n",
    "\n",
    "print()\n",
    "# The iris is not a good example for this visualization because the classes are balanced\n",
    "# This is better in ggplot n R\n",
    "dfg = iris_df.groupby('target_name')\n",
    "\n",
    "counts = [len(v) for k, v in dfg]\n",
    "total = float(sum(counts))\n",
    "cases = len(counts)\n",
    "\n",
    "widths = [c/total for c in counts] \n",
    "\n",
    "ax = iris_df.boxplot(by='target_name', \n",
    "                column=['sepal length (cm)'],\n",
    "                widths=widths,\n",
    "                   figsize=(10,4));\n",
    "\n",
    "ax.set_xticklabels(['%s\\n$n$=%d'%(k, len(v)) for k, v in dfg])\n",
    "\n",
    "print()\n",
    "ax = iris_df.boxplot(by='target_name', \n",
    "                column=['sepal length (cm)', 'sepal width (cm)', 'petal length (cm)'],\n",
    "               figsize=(10,8));"
   ]
  },
  {
   "cell_type": "markdown",
   "metadata": {},
   "source": [
    "### Histograms"
   ]
  },
  {
   "cell_type": "code",
   "execution_count": 13,
   "metadata": {
    "ExecuteTime": {
     "end_time": "2019-10-21T20:09:29.453537Z",
     "start_time": "2019-10-21T20:09:29.097171Z"
    }
   },
   "outputs": [
    {
     "data": {
      "application/vnd.plotly.v1+json": {
       "data": [
        {
         "nbinsx": 8,
         "type": "histogram",
         "uid": "b03a54a2-f43e-11e9-969b-9fcd60bf4149",
         "x": [
          5.1,
          4.9,
          4.7,
          4.6,
          5,
          5.4,
          4.6,
          5,
          4.4,
          4.9,
          5.4,
          4.8,
          4.8,
          4.3,
          5.8,
          5.7,
          5.4,
          5.1,
          5.7,
          5.1,
          5.4,
          5.1,
          4.6,
          5.1,
          4.8,
          5,
          5,
          5.2,
          5.2,
          4.7,
          4.8,
          5.4,
          5.2,
          5.5,
          4.9,
          5,
          5.5,
          4.9,
          4.4,
          5.1,
          5,
          4.5,
          4.4,
          5,
          5.1,
          4.8,
          5.1,
          4.6,
          5.3,
          5,
          7,
          6.4,
          6.9,
          5.5,
          6.5,
          5.7,
          6.3,
          4.9,
          6.6,
          5.2,
          5,
          5.9,
          6,
          6.1,
          5.6,
          6.7,
          5.6,
          5.8,
          6.2,
          5.6,
          5.9,
          6.1,
          6.3,
          6.1,
          6.4,
          6.6,
          6.8,
          6.7,
          6,
          5.7,
          5.5,
          5.5,
          5.8,
          6,
          5.4,
          6,
          6.7,
          6.3,
          5.6,
          5.5,
          5.5,
          6.1,
          5.8,
          5,
          5.6,
          5.7,
          5.7,
          6.2,
          5.1,
          5.7,
          6.3,
          5.8,
          7.1,
          6.3,
          6.5,
          7.6,
          4.9,
          7.3,
          6.7,
          7.2,
          6.5,
          6.4,
          6.8,
          5.7,
          5.8,
          6.4,
          6.5,
          7.7,
          7.7,
          6,
          6.9,
          5.6,
          7.7,
          6.3,
          6.7,
          7.2,
          6.2,
          6.1,
          6.4,
          7.2,
          7.4,
          7.9,
          6.4,
          6.3,
          6.1,
          7.7,
          6.3,
          6.4,
          6,
          6.9,
          6.7,
          6.9,
          5.8,
          6.8,
          6.7,
          6.7,
          6.3,
          6.5,
          6.2,
          5.9
         ]
        }
       ],
       "layout": {}
      },
      "text/html": [
       "<div id=\"9a896975-b86a-4f4f-be5f-d30c3678c5a5\" style=\"height: 525px; width: 100%;\" class=\"plotly-graph-div\"></div><script type=\"text/javascript\">require([\"plotly\"], function(Plotly) { window.PLOTLYENV=window.PLOTLYENV || {};window.PLOTLYENV.BASE_URL=\"https://plot.ly\";Plotly.newPlot(\"9a896975-b86a-4f4f-be5f-d30c3678c5a5\", [{\"nbinsx\": 8, \"x\": [5.1, 4.9, 4.7, 4.6, 5.0, 5.4, 4.6, 5.0, 4.4, 4.9, 5.4, 4.8, 4.8, 4.3, 5.8, 5.7, 5.4, 5.1, 5.7, 5.1, 5.4, 5.1, 4.6, 5.1, 4.8, 5.0, 5.0, 5.2, 5.2, 4.7, 4.8, 5.4, 5.2, 5.5, 4.9, 5.0, 5.5, 4.9, 4.4, 5.1, 5.0, 4.5, 4.4, 5.0, 5.1, 4.8, 5.1, 4.6, 5.3, 5.0, 7.0, 6.4, 6.9, 5.5, 6.5, 5.7, 6.3, 4.9, 6.6, 5.2, 5.0, 5.9, 6.0, 6.1, 5.6, 6.7, 5.6, 5.8, 6.2, 5.6, 5.9, 6.1, 6.3, 6.1, 6.4, 6.6, 6.8, 6.7, 6.0, 5.7, 5.5, 5.5, 5.8, 6.0, 5.4, 6.0, 6.7, 6.3, 5.6, 5.5, 5.5, 6.1, 5.8, 5.0, 5.6, 5.7, 5.7, 6.2, 5.1, 5.7, 6.3, 5.8, 7.1, 6.3, 6.5, 7.6, 4.9, 7.3, 6.7, 7.2, 6.5, 6.4, 6.8, 5.7, 5.8, 6.4, 6.5, 7.7, 7.7, 6.0, 6.9, 5.6, 7.7, 6.3, 6.7, 7.2, 6.2, 6.1, 6.4, 7.2, 7.4, 7.9, 6.4, 6.3, 6.1, 7.7, 6.3, 6.4, 6.0, 6.9, 6.7, 6.9, 5.8, 6.8, 6.7, 6.7, 6.3, 6.5, 6.2, 5.9], \"type\": \"histogram\", \"uid\": \"b03d8852-f43e-11e9-969b-9fcd60bf4149\"}], {}, {\"showLink\": true, \"linkText\": \"Export to plot.ly\"})});</script>"
      ],
      "text/vnd.plotly.v1+html": [
       "<div id=\"9a896975-b86a-4f4f-be5f-d30c3678c5a5\" style=\"height: 525px; width: 100%;\" class=\"plotly-graph-div\"></div><script type=\"text/javascript\">require([\"plotly\"], function(Plotly) { window.PLOTLYENV=window.PLOTLYENV || {};window.PLOTLYENV.BASE_URL=\"https://plot.ly\";Plotly.newPlot(\"9a896975-b86a-4f4f-be5f-d30c3678c5a5\", [{\"nbinsx\": 8, \"x\": [5.1, 4.9, 4.7, 4.6, 5.0, 5.4, 4.6, 5.0, 4.4, 4.9, 5.4, 4.8, 4.8, 4.3, 5.8, 5.7, 5.4, 5.1, 5.7, 5.1, 5.4, 5.1, 4.6, 5.1, 4.8, 5.0, 5.0, 5.2, 5.2, 4.7, 4.8, 5.4, 5.2, 5.5, 4.9, 5.0, 5.5, 4.9, 4.4, 5.1, 5.0, 4.5, 4.4, 5.0, 5.1, 4.8, 5.1, 4.6, 5.3, 5.0, 7.0, 6.4, 6.9, 5.5, 6.5, 5.7, 6.3, 4.9, 6.6, 5.2, 5.0, 5.9, 6.0, 6.1, 5.6, 6.7, 5.6, 5.8, 6.2, 5.6, 5.9, 6.1, 6.3, 6.1, 6.4, 6.6, 6.8, 6.7, 6.0, 5.7, 5.5, 5.5, 5.8, 6.0, 5.4, 6.0, 6.7, 6.3, 5.6, 5.5, 5.5, 6.1, 5.8, 5.0, 5.6, 5.7, 5.7, 6.2, 5.1, 5.7, 6.3, 5.8, 7.1, 6.3, 6.5, 7.6, 4.9, 7.3, 6.7, 7.2, 6.5, 6.4, 6.8, 5.7, 5.8, 6.4, 6.5, 7.7, 7.7, 6.0, 6.9, 5.6, 7.7, 6.3, 6.7, 7.2, 6.2, 6.1, 6.4, 7.2, 7.4, 7.9, 6.4, 6.3, 6.1, 7.7, 6.3, 6.4, 6.0, 6.9, 6.7, 6.9, 5.8, 6.8, 6.7, 6.7, 6.3, 6.5, 6.2, 5.9], \"type\": \"histogram\", \"uid\": \"b03d8852-f43e-11e9-969b-9fcd60bf4149\"}], {}, {\"showLink\": true, \"linkText\": \"Export to plot.ly\"})});</script>"
      ]
     },
     "metadata": {},
     "output_type": "display_data"
    }
   ],
   "source": [
    "x = iris_df['sepal length (cm)']\n",
    "data = [ go.Histogram(x=x, nbinsx=8) ]\n",
    "\n",
    "# trace3 = go.Histogram(\n",
    "#     x=x,\n",
    "#     xbins=dict(\n",
    "#         start='1969-11-15',\n",
    "#         end='1972-03-31',\n",
    "#         size= 'M18'),\n",
    "#     autobinx = False\n",
    "# )\n",
    "\n",
    "plotly.offline.iplot(data)"
   ]
  },
  {
   "cell_type": "code",
   "execution_count": 8,
   "metadata": {
    "ExecuteTime": {
     "end_time": "2019-10-21T20:09:33.177551Z",
     "start_time": "2019-10-21T20:09:33.168646Z"
    }
   },
   "outputs": [
    {
     "data": {
      "text/plain": [
       "array([0.16666667, 0.42592593, 0.25925926, 0.5       , 0.2962963 ,\n",
       "       0.48148148, 0.33333333, 0.11111111, 0.09259259, 0.11111111])"
      ]
     },
     "execution_count": 8,
     "metadata": {},
     "output_type": "execute_result"
    },
    {
     "data": {
      "text/plain": [
       "array([4.3 , 4.66, 5.02, 5.38, 5.74, 6.1 , 6.46, 6.82, 7.18, 7.54, 7.9 ])"
      ]
     },
     "execution_count": 8,
     "metadata": {},
     "output_type": "execute_result"
    }
   ],
   "source": [
    "# Get the hist n bind edges\n",
    "hist, bin_edges = np.histogram(iris_df['sepal length (cm)'], density=True)\n",
    "\n",
    "hist\n",
    "bin_edges"
   ]
  },
  {
   "cell_type": "code",
   "execution_count": 9,
   "metadata": {
    "ExecuteTime": {
     "end_time": "2019-10-21T20:09:43.635325Z",
     "start_time": "2019-10-21T20:09:43.384530Z"
    }
   },
   "outputs": [
    {
     "data": {
      "text/plain": [
       "(array([11., 34., 28., 26., 31., 12.,  7.,  1.]),\n",
       " array([4.3, 4.8, 5.3, 5.8, 6.3, 6.8, 7.3, 7.8, 8.3]),\n",
       " <a list of 8 Patch objects>)"
      ]
     },
     "execution_count": 9,
     "metadata": {},
     "output_type": "execute_result"
    },
    {
     "data": {
      "image/png": "[encoded data removed]",
      "text/plain": [
       "<Figure size 432x288 with 1 Axes>"
      ]
     },
     "metadata": {
      "needs_background": "light"
     },
     "output_type": "display_data"
    }
   ],
   "source": [
    "binwidth = 0.5\n",
    "\n",
    "data = iris_df['sepal length (cm)'].tolist()\n",
    "\n",
    "plt.hist(data, bins=np.arange(min(data), max(data) + binwidth, binwidth))"
   ]
  },
  {
   "cell_type": "code",
   "execution_count": 28,
   "metadata": {
    "ExecuteTime": {
     "end_time": "2019-05-08T23:32:42.406228Z",
     "start_time": "2019-05-08T23:32:42.276540Z"
    }
   },
   "outputs": [
    {
     "data": {
      "application/vnd.plotly.v1+json": {
       "data": [
        {
         "opacity": 0.75,
         "type": "histogram",
         "uid": "933eb7aa-71e9-11e9-a66b-080027daca25",
         "x": [
          1.363354675053579,
          0.37037373669607243,
          1.8025387777810644,
          0.5431667166923291,
          -0.2952018962001323,
          0.3997745482098436,
          1.3252490425192258,
          -1.2269191074648391,
          0.6193590805500704,
          -0.19475360936261565,
          0.37177073885352574,
          0.49831170987802026,
          1.0884670346458805,
          -0.6476501930173193,
          -2.4391361916001406,
          0.5660974431695849,
          -0.1716296624708535,
          1.1841063408163661,
          -0.9702336536719415,
          -0.3942406659129967,
          1.8155561592007248,
          0.9813013544751799,
          -1.110201831148372,
          0.9254583769497392,
          -0.6489677343866264,
          -0.19733972980445394,
          1.1174390249806043,
          -0.1288236691306449,
          1.029207145943008,
          -0.2620417598002784,
          1.1937738098733646,
          0.1648187710499687,
          0.503457152624006,
          1.8441166854937707,
          0.8845614205707653,
          -0.5771388119925238,
          -0.9657064406958331,
          1.706529328382394,
          0.500781287035399,
          1.0529075537127044,
          -0.849765434542383,
          0.24127707507919183,
          0.23115576434237603,
          0.22466244518792863,
          -0.812452396788963,
          0.2835172862985894,
          0.2858256235463972,
          0.11731563831310327,
          -0.06213076204288248,
          0.024041223655936188,
          -0.17286655469363835,
          1.7380678355317667,
          -0.6473573401051232,
          1.0758635079761207,
          0.0573474119167429,
          -0.8589164606890728,
          1.1473506221071474,
          -0.800831897678953,
          1.4390933718776528,
          1.2728117123508391,
          -0.5709567710929709,
          -0.776143727456773,
          -0.25831358521950276,
          -0.7679605799902463,
          -1.0605920101010011,
          -1.1967355921894614,
          0.4516027948524599,
          0.19758176532370147,
          -1.3461805469283898,
          1.140955626898326,
          0.15519149824873965,
          -1.3262934004839892,
          -0.854247300789427,
          -0.9860484942557685,
          -0.394433622227211,
          1.7593894747661747,
          0.09677310512515287,
          0.05308200787820391,
          0.43343013493353194,
          -0.9691475207272302,
          1.1591865220376159,
          -0.40102419401002315,
          -0.9956548341859732,
          -0.06498292613215702,
          -1.4296466052365318,
          0.07039409255131891,
          1.3279673261644098,
          -0.5820592766016783,
          0.3288503299037526,
          0.048700175515189265,
          -1.2955104274630795,
          -1.0577261334625438,
          0.10938352701782844,
          -0.6688780973262497,
          2.997788191519507,
          0.1623229798511294,
          0.04189086623504852,
          1.3613134533932492,
          0.851563265386364,
          0.3991889658307161,
          0.22733647654789443,
          0.3551223816167941,
          1.7008248698439203,
          -0.8914020001413491,
          0.6088308191710153,
          -0.6026644346176188,
          0.02200759322964436,
          -0.35781345544160215,
          -0.336883956045123,
          -1.1609301976546271,
          0.7067415155825887,
          1.9782274289281443,
          -0.5816870765820022,
          0.2644316431661907,
          0.5190897810791671,
          0.37236422525153356,
          -1.529956597513317,
          0.4326043409760244,
          -1.445282003688883,
          -0.9563276077264627,
          -1.1310230694431604,
          -1.57125604840313,
          -1.4186303068434267,
          -0.8689514299720043,
          -1.9331080064461836,
          0.7165506735653889,
          1.0826741978082592,
          1.997456830484934,
          1.0210152351699084,
          -0.4578904550029354,
          1.7054354115871466,
          -1.3082111326567583,
          -1.5334373528897096,
          1.2529371584787627,
          -0.6629932945303432,
          -0.675658513476474,
          -1.573457285378153,
          0.2578147786904569,
          -1.7737335888831025,
          2.1326153889793944,
          0.7213954481829798,
          0.9437109086276178,
          -0.8367776308635695,
          1.9757214053656644,
          0.47806581888077765,
          0.17420811747921464,
          1.5306711872883263,
          -0.06077350715388326,
          -0.7702033247644302,
          -1.633328837145923,
          0.15952637328307342,
          0.14926983091857954,
          -0.008344888035634058,
          1.2388322216350776,
          -0.3939303543274484,
          0.014799824713591482,
          0.44048109001812635,
          -0.3649155781554246,
          -0.038456090115534254,
          0.4857620260857608,
          -0.18435456364176972,
          0.6007541745545931,
          1.283312686833576,
          -1.1042811411809994,
          1.1190182601011713,
          -2.0354954276362554,
          -0.09224406256584962,
          -0.7838276983882053,
          -1.327726045201012,
          -1.1104413920082432,
          -2.022128049728086,
          1.4213217813610706,
          -0.6971245132847467,
          -0.08133576283798988,
          0.5181186939261215,
          -0.7583024030855332,
          -0.11644202052236723,
          -0.16075074537407805,
          -0.6952184122755853,
          0.21265671678377016,
          -1.4762593618349047,
          -0.6634982757653118,
          -0.9530518067925704,
          -0.5842241072059636,
          -2.4096492911297123,
          0.9500315050423347,
          1.3479631179103626,
          0.08164740321359815,
          -0.30178362384182483,
          0.3426775953214476,
          -0.6000782620174744,
          0.28270627636587087,
          -2.0232851841635386,
          0.6309248926164683,
          0.3477822495242441,
          1.143964407647213,
          1.2738062454620465,
          0.6543903102406853,
          0.36761137851493664,
          2.0772936067305694,
          -0.1238362035274778,
          0.5539004788671853,
          -0.2220999797910328,
          -0.7899623698228992,
          0.2500260081885006,
          0.555182082815737,
          1.2933664075215017,
          0.9619811973081093,
          0.9177173495765321,
          -0.627682891573558,
          1.0740984477280278,
          0.2831394589317502,
          -0.11355411046818402,
          0.4776901655557037,
          -0.45293169213322126,
          -1.5042024915795844,
          0.8138317741735629,
          -1.644644903105087,
          -1.4021732541858205,
          0.14414631604458797,
          0.31149864458099413,
          0.06529283020635097,
          -0.353649338868037,
          0.5527502537543518,
          0.45916214481986667,
          -0.044817568358282996,
          0.14553106585656328,
          -1.9131054125395064,
          0.8846831897623499,
          -0.6284901621820426,
          1.8796798989439514,
          -0.20110655784212084,
          0.44030280726216803,
          -1.1333625145507746,
          -0.8145295447830884,
          0.5046080473149652,
          -1.2440032476798497,
          0.2785450384588997,
          -1.2992179301992657,
          -0.2966000258724522,
          0.6230305813492601,
          -1.0122716698899161,
          0.42929548631046316,
          -0.6650076749004534,
          -2.4976622169573552,
          0.1673713006417486,
          0.3639170821155926,
          0.44517192696158914,
          -1.013787845525098,
          -0.5604337474829132,
          1.8257572466993652,
          0.40023051044266933,
          0.381891512998323,
          -1.4529733705934986,
          -0.43285624059046923,
          -0.6633886518553009,
          1.1088601840611465,
          0.43384835405173805,
          -0.270806999448132,
          -0.6925528887817746,
          0.4655813192518407,
          0.9991775403385431,
          0.07257723247856282,
          0.7963735936335634,
          1.6987841388218616,
          0.8583430884711588,
          0.4290025056849287,
          -0.1452322869541989,
          -0.7521230669708923,
          0.19118276342728685,
          0.2949139754383989,
          -1.8626809321514108,
          -0.8988806283146829,
          -0.7648583328467093,
          0.24001413433679036,
          -0.4952876601126541,
          0.017614084412073065,
          -0.038543754187548455,
          -1.1979412063351522,
          -0.030163208640146263,
          1.1097450116270338,
          0.12405844155148829,
          -0.7788951639165451,
          0.8841848449721927,
          -0.7687919536808389,
          -2.0415277586651954,
          -0.385291116898796,
          2.5550460284904095,
          -1.0863592169907952,
          1.0816850188002758,
          -0.06089700000267414,
          -2.0706285641578224,
          0.23350610988094037,
          -1.9798128471019443,
          0.21837012831522662,
          -0.16823114092668326,
          0.3862905479890804,
          -1.0529528020218046,
          -1.033437193161359,
          -0.14015654885550424,
          0.5777446745164624,
          0.24614656808514232,
          -2.100105437532079,
          0.04557996241895597,
          -1.3955771287679046,
          1.2471955504611005,
          0.3231821957322638,
          -1.7079397840401844,
          -0.3284219424915444,
          0.015919096399478277,
          -1.6476535379645456,
          1.4665171309068046,
          -1.0404736539915513,
          0.16046707265978064,
          -0.13705182086079343,
          -1.2173912450520374,
          -0.30664392930980644,
          0.638790216615091,
          0.5372589614762899,
          0.14382688978467917,
          0.9324991714564095,
          -0.9279636550194481,
          -0.7711309178660104,
          0.6784078048966293,
          -0.6212625339628441,
          0.17987130700800288,
          0.8485924379526659,
          -1.3380114741042783,
          -2.3348954505954858,
          0.02998257235683646,
          -0.6944716375425293,
          0.8715662439718737,
          1.5096633074992774,
          1.5921495037508837,
          -1.0001971190713865,
          -2.05830510120212,
          0.04863140282671993,
          0.6326283604438442,
          -1.2364457585619866,
          -0.12538960893861503,
          -1.6472505192682583,
          -0.42153970678661695,
          0.6018002278947173,
          -1.1894934675488888,
          1.9510600361310844,
          -0.4729886534815974,
          -0.9595810407186798,
          -2.414381607265881,
          -0.1207478382520475,
          -0.5719209317944413,
          -0.9633096316312807,
          -0.4809367784604703,
          -0.5339071180585259,
          0.2732674215051664,
          -1.038032363589026,
          -0.1810441208409041,
          -0.8587225287022775,
          0.22256412799051545,
          -1.9971690192328895,
          0.12836987926167165,
          1.515480601945393,
          -0.29758789963844084,
          1.6645376780489756,
          1.0321491106690515,
          -2.2154429685091745,
          1.2171114556749194,
          -0.5562158998790788,
          0.43869727452603424,
          -1.0050032405241378,
          1.1709773819422826,
          -0.25370315048827785,
          1.1333408361930968,
          -0.6447091295849448,
          -0.821530197501847,
          -0.37934494230936827,
          0.9632147140768158,
          -0.13884163091293886,
          1.314701914831258,
          0.06663359153840105,
          0.2959934808922778,
          -0.2556360363496662,
          0.40210070762007577,
          -0.432619077467642,
          -0.04950558335011098,
          -0.3994489373356718,
          -1.1628763827201105,
          -0.5602180798998141,
          0.677184801692127,
          0.3547583568098192,
          -1.80937844065342,
          -0.3576993296903351,
          -0.40627370829312953,
          -1.2553793429858067,
          0.8714962780477805,
          -0.38499506192228306,
          -0.9131808457127832,
          0.4189829389204372,
          -0.7564218700455148,
          0.2061103971087038,
          0.2587393403968093,
          0.8431797749543677,
          -1.0440427296603598,
          -1.6913020466454467,
          -1.1682281178893883,
          1.569762553317922,
          -0.6734480214578072,
          0.0855655119431908,
          1.1966287217738936,
          0.5948926455770267,
          0.0062807878931338615,
          1.7320977671193885,
          -0.16846986112753645,
          -0.06156749000418189,
          0.7544240235278854,
          -0.8480888228721605,
          -0.4394825188656418,
          0.6310461233925744,
          -0.5765044483701804,
          1.1622005799741133,
          -1.6864469556968436,
          -0.36849511011884567,
          -0.2028942827342588,
          1.341512792886493,
          -1.3572084987624817,
          0.2694686627529087,
          -1.5781626470191936,
          0.04589601782655753,
          -1.5418182556223556,
          -0.7012467707820036,
          -0.4745940885792468,
          -0.16358974248200242,
          0.2642558888106013,
          -0.7424836556172135,
          -0.4065909365243301,
          0.988365146506127,
          0.6277653553763198,
          1.3698814167523627,
          -1.1159725649737047,
          0.06256145474736491,
          0.7971404045451141,
          0.4226253769048038,
          -1.0096378766565823,
          -0.6719483247992668,
          -0.3753188380029045,
          -0.9011656051408036,
          -0.7195631815339454,
          -0.09466479962024463,
          -0.7809231572838585,
          1.9445004861045847,
          -0.7231897910219969,
          -0.12246910299371679,
          -0.3579072988609733,
          0.4402668070126352,
          0.6082644913353227,
          -1.7150595355199496,
          0.2885599053037362,
          -1.29262380237797,
          -0.0030720576315192132,
          0.32065805241581996,
          -1.240271431770994,
          0.48540938496904296,
          -0.42467610352099594,
          1.2961747192162345,
          0.7558540858512451,
          1.1575450488596577,
          -0.7013822052684242,
          -0.6548268006145924,
          -0.009378987224307975,
          -1.0880134776703814,
          0.5715272893729745,
          -0.2891283323481794,
          0.3657734426517069,
          0.2571321031143463,
          0.11184747424602547,
          -0.4545116636263443,
          1.7743106510570537,
          0.5620366593457488,
          -1.5151557301197511,
          -0.5960828041751708,
          -0.7895666530889416,
          0.6196863767589463,
          -0.33753806374353124,
          0.7927070398388536,
          -1.3512718590948747,
          -0.3542143794400001,
          0.14980595464522048,
          -1.2697155081084943,
          0.939918726181403,
          -0.274748782913209,
          -0.8562724042057802,
          0.5764213923207506,
          -0.781621157048867,
          -0.12522444112157838,
          -0.6154781970117397,
          -0.7647169637615172,
          0.3110818719423319,
          0.37297827213030793,
          -0.9791972360580089,
          -0.6951566471065661,
          -0.24594044235356832
         ]
        },
        {
         "opacity": 0.75,
         "type": "histogram",
         "uid": "933eb7ab-71e9-11e9-a66b-080027daca25",
         "x": [
          3.033682763398971,
          2.788180997438143,
          -0.20234700288971652,
          1.9704189336147948,
          0.9572056928555378,
          2.195899518957977,
          0.7828988820748679,
          2.435978351910989,
          2.030849528642208,
          1.4303266686535547,
          1.2875523051910722,
          0.8244692951760177,
          2.970703683307434,
          2.2200539822390497,
          1.1258884823213937,
          1.027766777050577,
          1.166835832804867,
          2.1397529196333354,
          1.2980404444755562,
          1.84029305774327,
          1.0749203955584135,
          2.3024094846205796,
          2.769997001671837,
          3.0293945649848526,
          2.0660531195066865,
          2.8694901789353073,
          1.8547890977902584,
          1.5064817724534239,
          1.6535006037796383,
          1.0671750905580268,
          1.3836700030561655,
          1.2020411609919157,
          1.3944044754063156,
          0.2754253410011134,
          1.4657551786774097,
          1.414529719248189,
          2.358883265649469,
          1.220155206422761,
          0.18092663813458087,
          0.5474172569653155,
          1.3025100034158221,
          0.41787016596630355,
          1.3571505533109232,
          1.6724879697488688,
          2.6013557370509144,
          1.4834437240593887,
          1.3237009697079805,
          1.232922329077067,
          3.145815126697061,
          2.5472595038529784,
          1.7947824350245043,
          0.4077504646248651,
          3.0409606083942884,
          1.5443137395340845,
          0.6468255452955056,
          3.124025505702382,
          3.161005324386954,
          1.2188010210583295,
          0.3298433719709015,
          0.9011377087556943,
          2.1399006012222412,
          -0.004877267223959647,
          1.5550522646691478,
          1.3595988185492607,
          1.0932705667891438,
          0.8068162635656663,
          1.2584935493239748,
          1.8610402912671256,
          1.9590682126062071,
          1.5702932143942019,
          3.6643729553893407,
          2.235033944694546,
          2.236282320434814,
          2.3617925685149666,
          0.6132549125333118,
          -0.12888776200054197,
          1.7001330503643501,
          2.0029782915247307,
          -0.21275052887897083,
          0.5822994142657726,
          1.3318952980586842,
          -0.2490078934680695,
          0.006825636471821328,
          1.7186394691575737,
          1.772950922736675,
          1.2499628077014606,
          2.2016985861116622,
          1.9566093906143305,
          1.8201594786891997,
          0.16891376094265742,
          2.933381125481547,
          3.2303245464357864,
          0.7172960213986908,
          1.8837724487497405,
          0.8015699661385811,
          2.2973683510456655,
          1.4699585588278545,
          0.5711179588537042,
          0.35933607380147814,
          2.1993455051928104,
          1.2724086021773564,
          0.369250157950364,
          0.6831377367789812,
          0.4611919259002395,
          0.3077184963901054,
          -0.08888528395951822,
          -0.6015690659063844,
          1.807900828351492,
          3.566472292131059,
          0.8794702772864422,
          2.9953212863650602,
          0.5807759073419384,
          2.527969472726512,
          -0.6581782114459638,
          0.4445022989259224,
          -0.7970757823878398,
          2.337887864458499,
          1.995040390187538,
          2.0087530352528717,
          0.7227501123564944,
          0.5603182811017751,
          2.208859130456267,
          -0.012863152304440684,
          2.4278119780792906,
          1.880529023155817,
          2.939722937109557,
          2.365567095513227,
          0.3114822935265267,
          1.2254533263527847,
          2.4428870564473493,
          0.6867804120965928,
          1.6072241985775497,
          2.638082348565601,
          1.5445910735651138,
          0.8605060610327351,
          0.9859995183702898,
          0.4521248179854611,
          2.340727262965166,
          1.6931192695150619,
          0.6871233527744344,
          0.9983420886542104,
          1.3436622806636007,
          2.2259210641018465,
          1.758385066355755,
          1.5889310971080954,
          0.735338776150967,
          0.38140936825266936,
          0.7637888095066621,
          3.29422313216255,
          0.6650665533260064,
          1.5802556598706599,
          2.761821384465482,
          -0.680025536082995,
          2.277673558243018,
          0.9272784792153578,
          1.87113831036097,
          2.0168036602943973,
          2.86541362862324,
          1.7595066633726382,
          0.8439812338675226,
          1.5665246702732776,
          0.3396177630323647,
          1.274093045244269,
          0.7317256727461751,
          1.02622057804826,
          0.7900320602419526,
          1.093526639040372,
          1.118983095859936,
          1.0655375602940274,
          1.9299548363718828,
          -0.008452335162176361,
          2.3362234815635055,
          2.9864828549136604,
          0.22080850759142612,
          2.5433989324248607,
          2.078277299027535,
          2.325196183323173,
          -0.056913794996000355,
          0.872544934724343,
          0.8645390582725205,
          2.5824800385191526,
          0.3992555960044921,
          0.7712893461604564,
          1.0152067546133827,
          2.558216230697668,
          1.0066202591929472,
          2.7969701214382034,
          0.13817106492981246,
          1.691571609337469,
          0.25370512454583016,
          2.483276548582475,
          2.6305473282150116,
          1.3805661627043215,
          2.426266714032867,
          1.3857165224498456,
          3.0398693177814073,
          1.0465808110379364,
          -0.47901750450524316,
          0.546477347002195,
          2.2677426701913475,
          2.108665063694711,
          2.743268803149779,
          2.3381277673852043,
          2.813857654680312,
          1.4533304738159243,
          2.299613727558464,
          1.7757885134063471,
          -0.34988196722047893,
          -0.07520269389551215,
          4.163445276082808,
          1.2568552059527125,
          1.9729709769700217,
          1.5143760725352156,
          1.8625823259639154,
          1.0508131170596393,
          1.1842158945686412,
          2.030377009546549,
          0.5875044672092454,
          0.7617988576743678,
          3.630488084088722,
          1.3321647377649908,
          2.344427679529525,
          2.633428544908547,
          2.0185298393496125,
          1.345029535833806,
          1.2066316041897145,
          1.5562163226550174,
          2.2135172631733404,
          0.9973569537496866,
          -0.1989819684103893,
          2.658835340947891,
          1.784788753011901,
          1.0349424677831263,
          1.2071668602637569,
          1.2718108746750714,
          4.049429235480897,
          1.880207801703024,
          1.4386127110501332,
          2.960981740206559,
          4.0396046986189384,
          1.6963455258151707,
          1.8270305989891396,
          1.2307102483345258,
          2.3297235603867925,
          2.2957693539060218,
          0.6763518220096354,
          1.0241471497529915,
          2.9050229427788894,
          2.383706222981675,
          1.1047878825454318,
          1.8087427623013488,
          2.2967123190792536,
          1.366510696834839,
          1.050669041022315,
          2.627222826081137,
          -0.20575691041055544,
          2.484665962600085,
          0.4955182651889971,
          2.2429791771691487,
          3.141364827320899,
          1.095130766099417,
          1.1792216215108478,
          1.8434270729722693,
          1.6582850423894167,
          1.5523404271301642,
          0.9644724015411638,
          1.073590885709847,
          0.021073887986188478,
          3.027076035251951,
          -0.24968693544343679,
          -0.2952755392454598,
          0.0038488694539324797,
          0.20002879608340862,
          2.4140311176670806,
          2.7081986533365803,
          2.6860407154999093,
          0.18523987178677737,
          0.6258723220554335,
          1.04027840566574,
          1.4843819140894678,
          1.6444288446537012,
          2.1935520354740063,
          0.9140355484819263,
          0.7872237710009742,
          0.6772279672851255,
          1.8356553464691916,
          1.6287201582095339,
          1.3299751082430367,
          2.6046123994070287,
          0.8619727556902568,
          0.39270946779937477,
          3.0287209091937393,
          3.1930007901774093,
          0.47549627980411313,
          0.28593858613132617,
          1.3678158002127185,
          0.9068148423055226,
          -0.2507059433155465,
          2.0171991790878243,
          1.6299803212195951,
          1.338204752742754,
          3.435224507065941,
          1.977405841351363,
          1.2728824778331997,
          -0.20233067758150503,
          1.8551300489144962,
          0.701190247438792,
          0.2630954606418223,
          2.5010292949514685,
          -0.16913363406885207,
          1.3379582091981408,
          2.403672525444165,
          1.7812851490778947,
          0.6113637331179638,
          1.1139740228711452,
          1.2632303222669146,
          1.5723603653913076,
          0.45638833215342256,
          2.177706089644702,
          1.1293205782116458,
          2.6935591717729706,
          3.8170282209004824,
          2.811872793878118,
          1.9910990069505785,
          2.3597951734360016,
          1.678165053246916,
          -0.04623873157211311,
          0.5857685219320131,
          2.353082962511984,
          1.9564830246285745,
          1.1898820433469666,
          0.3906414270041725,
          2.2901369300798105,
          3.2136769352969727,
          1.4647429199198407,
          1.526844755461629,
          1.5936498694045078,
          0.5117474326670971,
          1.4911401054358637,
          1.801320637971705,
          2.514091760126964,
          1.2929835551032838,
          0.5269249718654185,
          1.3775409335293585,
          0.07852751536585645,
          0.654417687427058,
          0.06417048753248356,
          0.22515917085218762,
          1.9003911543407277,
          4.3508414315748904,
          -0.023937217082233397,
          0.4809395979208648,
          2.7126109192322456,
          1.4995809004681395,
          1.3004843794511134,
          2.331619871252647,
          1.788959805419281,
          1.7764290529178568,
          2.19931209973504,
          1.16348568983588,
          -0.30747754735770316,
          0.7732197517782274,
          0.3485763239378139,
          1.0056250916893283,
          0.9179089622096787,
          2.2207685167703124,
          2.7979528936517406,
          3.640396177071941,
          1.9638298691741665,
          3.5635673212826213,
          1.1827766770280743,
          1.0909907612455216,
          0.5623962973780176,
          1.9497546624410607,
          1.0419410250954557,
          1.5749689023838807,
          0.39222947217482673,
          1.8009136546681086,
          0.2369302041584671,
          3.1845079307935036,
          3.0162157300547667,
          0.8484515478390809,
          2.2872209136374404,
          0.7058505189570278,
          -0.29095858009224895,
          0.39963484831665763,
          1.2260149081654266,
          0.972570546856314,
          0.6630888506966269,
          0.1476412004079739,
          1.2448597413479194,
          1.700758227911895,
          1.4520063456567032,
          0.7336857950796133,
          0.8685374180181467,
          -0.5019796900507849,
          3.1013596988433534,
          1.1571222925909288,
          1.9577630138416136,
          0.6310371966521621,
          -0.16146124154186325,
          2.6807049903036613,
          0.08810848260058712,
          1.1112542785716437,
          0.9936490887990966,
          0.01835581787172691,
          1.2040392884323516,
          2.285295787276187,
          1.8206088642743605,
          2.1040192821817225,
          0.6029961446904222,
          2.2480290257716793,
          1.5476547565044083,
          2.1863823595498935,
          1.5254574085589583,
          1.8596955105971704,
          1.5692225948682774,
          0.8953496841458581,
          -0.4652464348421681,
          1.9445060772836673,
          0.7438579477772133,
          1.5314751646211784,
          1.2589435261879895,
          0.7404734066424562,
          2.7869090237701437,
          0.8501435100293689,
          1.2266584209310865,
          2.2404858521844173,
          2.6023056579302555,
          1.2680846663877108,
          0.980641222915074,
          1.9263478439474195,
          2.5734279853075814,
          2.2747451024634313,
          1.3668666070914395,
          -0.3640834098803625,
          0.8123320648146705,
          1.322821877880452,
          0.6554338518183755,
          3.5965513510902687,
          1.0263457059743812,
          1.6036351009151,
          2.045552234717672,
          1.8608132384484695,
          2.241984654123547,
          1.6309253563627364,
          0.08645458402097561,
          1.1135531384002517,
          1.21931469584251,
          2.5044485663927247,
          3.278988797435633,
          1.0330383242493482,
          0.8264615275229885,
          3.111923202266325,
          2.084311193987807,
          1.8512020408880423,
          0.8982239820321728,
          2.1102350710651545,
          1.4244764714308606,
          2.5307074968474392,
          4.168625924142251,
          0.6354648781168495,
          2.4476080722014455,
          1.7684557157791048,
          1.75909771655306,
          2.2465327901200283,
          -1.0463024716271492,
          1.4738790050712174,
          1.4320823595715657,
          3.379403755249214,
          0.7469895755813625,
          -1.0531813322366763,
          2.2704431366950644,
          1.7791024207114545,
          1.0613799822480101,
          0.6738481010071882,
          1.8603797063995313,
          0.6672020525042036,
          0.7360796311086406,
          2.0047321717662605,
          2.0942228998604584,
          -0.7499908200234828,
          1.0737996605142635,
          2.64431619831579,
          0.13498113826841296,
          2.1863041513934385,
          1.0909136518135734,
          2.9844184828890263,
          1.7219266853816755,
          2.5820664787216323,
          1.183265696347724,
          0.7671637085108824,
          2.3877662069424597,
          2.4734689533769947,
          1.2333909846415552,
          3.465379711881374,
          1.9753226638230987,
          1.7897556364470804,
          2.1749248040432096,
          2.466023722531368
         ]
        }
       ],
       "layout": {}
      },
      "text/html": [
       "<div id=\"e8fb7f41-c313-4360-af42-82b94e9f84a7\" style=\"height: 525px; width: 100%;\" class=\"plotly-graph-div\"></div><script type=\"text/javascript\">require([\"plotly\"], function(Plotly) { window.PLOTLYENV=window.PLOTLYENV || {};window.PLOTLYENV.BASE_URL=\"https://plot.ly\";Plotly.newPlot(\"e8fb7f41-c313-4360-af42-82b94e9f84a7\", [{\"opacity\": 0.75, \"x\": [1.363354675053579, 0.37037373669607243, 1.8025387777810644, 0.5431667166923291, -0.2952018962001323, 0.3997745482098436, 1.3252490425192258, -1.2269191074648391, 0.6193590805500704, -0.19475360936261565, 0.37177073885352574, 0.49831170987802026, 1.0884670346458805, -0.6476501930173193, -2.4391361916001406, 0.5660974431695849, -0.1716296624708535, 1.1841063408163661, -0.9702336536719415, -0.3942406659129967, 1.8155561592007248, 0.9813013544751799, -1.110201831148372, 0.9254583769497392, -0.6489677343866264, -0.19733972980445394, 1.1174390249806043, -0.1288236691306449, 1.029207145943008, -0.2620417598002784, 1.1937738098733646, 0.1648187710499687, 0.503457152624006, 1.8441166854937707, 0.8845614205707653, -0.5771388119925238, -0.9657064406958331, 1.706529328382394, 0.500781287035399, 1.0529075537127044, -0.849765434542383, 0.24127707507919183, 0.23115576434237603, 0.22466244518792863, -0.812452396788963, 0.2835172862985894, 0.2858256235463972, 0.11731563831310327, -0.06213076204288248, 0.024041223655936188, -0.17286655469363835, 1.7380678355317667, -0.6473573401051232, 1.0758635079761207, 0.0573474119167429, -0.8589164606890728, 1.1473506221071474, -0.800831897678953, 1.4390933718776528, 1.2728117123508391, -0.5709567710929709, -0.776143727456773, -0.25831358521950276, -0.7679605799902463, -1.0605920101010011, -1.1967355921894614, 0.4516027948524599, 0.19758176532370147, -1.3461805469283898, 1.140955626898326, 0.15519149824873965, -1.3262934004839892, -0.854247300789427, -0.9860484942557685, -0.394433622227211, 1.7593894747661747, 0.09677310512515287, 0.05308200787820391, 0.43343013493353194, -0.9691475207272302, 1.1591865220376159, -0.40102419401002315, -0.9956548341859732, -0.06498292613215702, -1.4296466052365318, 0.07039409255131891, 1.3279673261644098, -0.5820592766016783, 0.3288503299037526, 0.048700175515189265, -1.2955104274630795, -1.0577261334625438, 0.10938352701782844, -0.6688780973262497, 2.997788191519507, 0.1623229798511294, 0.04189086623504852, 1.3613134533932492, 0.851563265386364, 0.3991889658307161, 0.22733647654789443, 0.3551223816167941, 1.7008248698439203, -0.8914020001413491, 0.6088308191710153, -0.6026644346176188, 0.02200759322964436, -0.35781345544160215, -0.336883956045123, -1.1609301976546271, 0.7067415155825887, 1.9782274289281443, -0.5816870765820022, 0.2644316431661907, 0.5190897810791671, 0.37236422525153356, -1.529956597513317, 0.4326043409760244, -1.445282003688883, -0.9563276077264627, -1.1310230694431604, -1.57125604840313, -1.4186303068434267, -0.8689514299720043, -1.9331080064461836, 0.7165506735653889, 1.0826741978082592, 1.997456830484934, 1.0210152351699084, -0.4578904550029354, 1.7054354115871466, -1.3082111326567583, -1.5334373528897096, 1.2529371584787627, -0.6629932945303432, -0.675658513476474, -1.573457285378153, 0.2578147786904569, -1.7737335888831025, 2.1326153889793944, 0.7213954481829798, 0.9437109086276178, -0.8367776308635695, 1.9757214053656644, 0.47806581888077765, 0.17420811747921464, 1.5306711872883263, -0.06077350715388326, -0.7702033247644302, -1.633328837145923, 0.15952637328307342, 0.14926983091857954, -0.008344888035634058, 1.2388322216350776, -0.3939303543274484, 0.014799824713591482, 0.44048109001812635, -0.3649155781554246, -0.038456090115534254, 0.4857620260857608, -0.18435456364176972, 0.6007541745545931, 1.283312686833576, -1.1042811411809994, 1.1190182601011713, -2.0354954276362554, -0.09224406256584962, -0.7838276983882053, -1.327726045201012, -1.1104413920082432, -2.022128049728086, 1.4213217813610706, -0.6971245132847467, -0.08133576283798988, 0.5181186939261215, -0.7583024030855332, -0.11644202052236723, -0.16075074537407805, -0.6952184122755853, 0.21265671678377016, -1.4762593618349047, -0.6634982757653118, -0.9530518067925704, -0.5842241072059636, -2.4096492911297123, 0.9500315050423347, 1.3479631179103626, 0.08164740321359815, -0.30178362384182483, 0.3426775953214476, -0.6000782620174744, 0.28270627636587087, -2.0232851841635386, 0.6309248926164683, 0.3477822495242441, 1.143964407647213, 1.2738062454620465, 0.6543903102406853, 0.36761137851493664, 2.0772936067305694, -0.1238362035274778, 0.5539004788671853, -0.2220999797910328, -0.7899623698228992, 0.2500260081885006, 0.555182082815737, 1.2933664075215017, 0.9619811973081093, 0.9177173495765321, -0.627682891573558, 1.0740984477280278, 0.2831394589317502, -0.11355411046818402, 0.4776901655557037, -0.45293169213322126, -1.5042024915795844, 0.8138317741735629, -1.644644903105087, -1.4021732541858205, 0.14414631604458797, 0.31149864458099413, 0.06529283020635097, -0.353649338868037, 0.5527502537543518, 0.45916214481986667, -0.044817568358282996, 0.14553106585656328, -1.9131054125395064, 0.8846831897623499, -0.6284901621820426, 1.8796798989439514, -0.20110655784212084, 0.44030280726216803, -1.1333625145507746, -0.8145295447830884, 0.5046080473149652, -1.2440032476798497, 0.2785450384588997, -1.2992179301992657, -0.2966000258724522, 0.6230305813492601, -1.0122716698899161, 0.42929548631046316, -0.6650076749004534, -2.4976622169573552, 0.1673713006417486, 0.3639170821155926, 0.44517192696158914, -1.013787845525098, -0.5604337474829132, 1.8257572466993652, 0.40023051044266933, 0.381891512998323, -1.4529733705934986, -0.43285624059046923, -0.6633886518553009, 1.1088601840611465, 0.43384835405173805, -0.270806999448132, -0.6925528887817746, 0.4655813192518407, 0.9991775403385431, 0.07257723247856282, 0.7963735936335634, 1.6987841388218616, 0.8583430884711588, 0.4290025056849287, -0.1452322869541989, -0.7521230669708923, 0.19118276342728685, 0.2949139754383989, -1.8626809321514108, -0.8988806283146829, -0.7648583328467093, 0.24001413433679036, -0.4952876601126541, 0.017614084412073065, -0.038543754187548455, -1.1979412063351522, -0.030163208640146263, 1.1097450116270338, 0.12405844155148829, -0.7788951639165451, 0.8841848449721927, -0.7687919536808389, -2.0415277586651954, -0.385291116898796, 2.5550460284904095, -1.0863592169907952, 1.0816850188002758, -0.06089700000267414, -2.0706285641578224, 0.23350610988094037, -1.9798128471019443, 0.21837012831522662, -0.16823114092668326, 0.3862905479890804, -1.0529528020218046, -1.033437193161359, -0.14015654885550424, 0.5777446745164624, 0.24614656808514232, -2.100105437532079, 0.04557996241895597, -1.3955771287679046, 1.2471955504611005, 0.3231821957322638, -1.7079397840401844, -0.3284219424915444, 0.015919096399478277, -1.6476535379645456, 1.4665171309068046, -1.0404736539915513, 0.16046707265978064, -0.13705182086079343, -1.2173912450520374, -0.30664392930980644, 0.638790216615091, 0.5372589614762899, 0.14382688978467917, 0.9324991714564095, -0.9279636550194481, -0.7711309178660104, 0.6784078048966293, -0.6212625339628441, 0.17987130700800288, 0.8485924379526659, -1.3380114741042783, -2.3348954505954858, 0.02998257235683646, -0.6944716375425293, 0.8715662439718737, 1.5096633074992774, 1.5921495037508837, -1.0001971190713865, -2.05830510120212, 0.04863140282671993, 0.6326283604438442, -1.2364457585619866, -0.12538960893861503, -1.6472505192682583, -0.42153970678661695, 0.6018002278947173, -1.1894934675488888, 1.9510600361310844, -0.4729886534815974, -0.9595810407186798, -2.414381607265881, -0.1207478382520475, -0.5719209317944413, -0.9633096316312807, -0.4809367784604703, -0.5339071180585259, 0.2732674215051664, -1.038032363589026, -0.1810441208409041, -0.8587225287022775, 0.22256412799051545, -1.9971690192328895, 0.12836987926167165, 1.515480601945393, -0.29758789963844084, 1.6645376780489756, 1.0321491106690515, -2.2154429685091745, 1.2171114556749194, -0.5562158998790788, 0.43869727452603424, -1.0050032405241378, 1.1709773819422826, -0.25370315048827785, 1.1333408361930968, -0.6447091295849448, -0.821530197501847, -0.37934494230936827, 0.9632147140768158, -0.13884163091293886, 1.314701914831258, 0.06663359153840105, 0.2959934808922778, -0.2556360363496662, 0.40210070762007577, -0.432619077467642, -0.04950558335011098, -0.3994489373356718, -1.1628763827201105, -0.5602180798998141, 0.677184801692127, 0.3547583568098192, -1.80937844065342, -0.3576993296903351, -0.40627370829312953, -1.2553793429858067, 0.8714962780477805, -0.38499506192228306, -0.9131808457127832, 0.4189829389204372, -0.7564218700455148, 0.2061103971087038, 0.2587393403968093, 0.8431797749543677, -1.0440427296603598, -1.6913020466454467, -1.1682281178893883, 1.569762553317922, -0.6734480214578072, 0.0855655119431908, 1.1966287217738936, 0.5948926455770267, 0.0062807878931338615, 1.7320977671193885, -0.16846986112753645, -0.06156749000418189, 0.7544240235278854, -0.8480888228721605, -0.4394825188656418, 0.6310461233925744, -0.5765044483701804, 1.1622005799741133, -1.6864469556968436, -0.36849511011884567, -0.2028942827342588, 1.341512792886493, -1.3572084987624817, 0.2694686627529087, -1.5781626470191936, 0.04589601782655753, -1.5418182556223556, -0.7012467707820036, -0.4745940885792468, -0.16358974248200242, 0.2642558888106013, -0.7424836556172135, -0.4065909365243301, 0.988365146506127, 0.6277653553763198, 1.3698814167523627, -1.1159725649737047, 0.06256145474736491, 0.7971404045451141, 0.4226253769048038, -1.0096378766565823, -0.6719483247992668, -0.3753188380029045, -0.9011656051408036, -0.7195631815339454, -0.09466479962024463, -0.7809231572838585, 1.9445004861045847, -0.7231897910219969, -0.12246910299371679, -0.3579072988609733, 0.4402668070126352, 0.6082644913353227, -1.7150595355199496, 0.2885599053037362, -1.29262380237797, -0.0030720576315192132, 0.32065805241581996, -1.240271431770994, 0.48540938496904296, -0.42467610352099594, 1.2961747192162345, 0.7558540858512451, 1.1575450488596577, -0.7013822052684242, -0.6548268006145924, -0.009378987224307975, -1.0880134776703814, 0.5715272893729745, -0.2891283323481794, 0.3657734426517069, 0.2571321031143463, 0.11184747424602547, -0.4545116636263443, 1.7743106510570537, 0.5620366593457488, -1.5151557301197511, -0.5960828041751708, -0.7895666530889416, 0.6196863767589463, -0.33753806374353124, 0.7927070398388536, -1.3512718590948747, -0.3542143794400001, 0.14980595464522048, -1.2697155081084943, 0.939918726181403, -0.274748782913209, -0.8562724042057802, 0.5764213923207506, -0.781621157048867, -0.12522444112157838, -0.6154781970117397, -0.7647169637615172, 0.3110818719423319, 0.37297827213030793, -0.9791972360580089, -0.6951566471065661, -0.24594044235356832], \"type\": \"histogram\", \"uid\": \"933eb7ac-71e9-11e9-a66b-080027daca25\"}, {\"opacity\": 0.75, \"x\": [3.033682763398971, 2.788180997438143, -0.20234700288971652, 1.9704189336147948, 0.9572056928555378, 2.195899518957977, 0.7828988820748679, 2.435978351910989, 2.030849528642208, 1.4303266686535547, 1.2875523051910722, 0.8244692951760177, 2.970703683307434, 2.2200539822390497, 1.1258884823213937, 1.027766777050577, 1.166835832804867, 2.1397529196333354, 1.2980404444755562, 1.84029305774327, 1.0749203955584135, 2.3024094846205796, 2.769997001671837, 3.0293945649848526, 2.0660531195066865, 2.8694901789353073, 1.8547890977902584, 1.5064817724534239, 1.6535006037796383, 1.0671750905580268, 1.3836700030561655, 1.2020411609919157, 1.3944044754063156, 0.2754253410011134, 1.4657551786774097, 1.414529719248189, 2.358883265649469, 1.220155206422761, 0.18092663813458087, 0.5474172569653155, 1.3025100034158221, 0.41787016596630355, 1.3571505533109232, 1.6724879697488688, 2.6013557370509144, 1.4834437240593887, 1.3237009697079805, 1.232922329077067, 3.145815126697061, 2.5472595038529784, 1.7947824350245043, 0.4077504646248651, 3.0409606083942884, 1.5443137395340845, 0.6468255452955056, 3.124025505702382, 3.161005324386954, 1.2188010210583295, 0.3298433719709015, 0.9011377087556943, 2.1399006012222412, -0.004877267223959647, 1.5550522646691478, 1.3595988185492607, 1.0932705667891438, 0.8068162635656663, 1.2584935493239748, 1.8610402912671256, 1.9590682126062071, 1.5702932143942019, 3.6643729553893407, 2.235033944694546, 2.236282320434814, 2.3617925685149666, 0.6132549125333118, -0.12888776200054197, 1.7001330503643501, 2.0029782915247307, -0.21275052887897083, 0.5822994142657726, 1.3318952980586842, -0.2490078934680695, 0.006825636471821328, 1.7186394691575737, 1.772950922736675, 1.2499628077014606, 2.2016985861116622, 1.9566093906143305, 1.8201594786891997, 0.16891376094265742, 2.933381125481547, 3.2303245464357864, 0.7172960213986908, 1.8837724487497405, 0.8015699661385811, 2.2973683510456655, 1.4699585588278545, 0.5711179588537042, 0.35933607380147814, 2.1993455051928104, 1.2724086021773564, 0.369250157950364, 0.6831377367789812, 0.4611919259002395, 0.3077184963901054, -0.08888528395951822, -0.6015690659063844, 1.807900828351492, 3.566472292131059, 0.8794702772864422, 2.9953212863650602, 0.5807759073419384, 2.527969472726512, -0.6581782114459638, 0.4445022989259224, -0.7970757823878398, 2.337887864458499, 1.995040390187538, 2.0087530352528717, 0.7227501123564944, 0.5603182811017751, 2.208859130456267, -0.012863152304440684, 2.4278119780792906, 1.880529023155817, 2.939722937109557, 2.365567095513227, 0.3114822935265267, 1.2254533263527847, 2.4428870564473493, 0.6867804120965928, 1.6072241985775497, 2.638082348565601, 1.5445910735651138, 0.8605060610327351, 0.9859995183702898, 0.4521248179854611, 2.340727262965166, 1.6931192695150619, 0.6871233527744344, 0.9983420886542104, 1.3436622806636007, 2.2259210641018465, 1.758385066355755, 1.5889310971080954, 0.735338776150967, 0.38140936825266936, 0.7637888095066621, 3.29422313216255, 0.6650665533260064, 1.5802556598706599, 2.761821384465482, -0.680025536082995, 2.277673558243018, 0.9272784792153578, 1.87113831036097, 2.0168036602943973, 2.86541362862324, 1.7595066633726382, 0.8439812338675226, 1.5665246702732776, 0.3396177630323647, 1.274093045244269, 0.7317256727461751, 1.02622057804826, 0.7900320602419526, 1.093526639040372, 1.118983095859936, 1.0655375602940274, 1.9299548363718828, -0.008452335162176361, 2.3362234815635055, 2.9864828549136604, 0.22080850759142612, 2.5433989324248607, 2.078277299027535, 2.325196183323173, -0.056913794996000355, 0.872544934724343, 0.8645390582725205, 2.5824800385191526, 0.3992555960044921, 0.7712893461604564, 1.0152067546133827, 2.558216230697668, 1.0066202591929472, 2.7969701214382034, 0.13817106492981246, 1.691571609337469, 0.25370512454583016, 2.483276548582475, 2.6305473282150116, 1.3805661627043215, 2.426266714032867, 1.3857165224498456, 3.0398693177814073, 1.0465808110379364, -0.47901750450524316, 0.546477347002195, 2.2677426701913475, 2.108665063694711, 2.743268803149779, 2.3381277673852043, 2.813857654680312, 1.4533304738159243, 2.299613727558464, 1.7757885134063471, -0.34988196722047893, -0.07520269389551215, 4.163445276082808, 1.2568552059527125, 1.9729709769700217, 1.5143760725352156, 1.8625823259639154, 1.0508131170596393, 1.1842158945686412, 2.030377009546549, 0.5875044672092454, 0.7617988576743678, 3.630488084088722, 1.3321647377649908, 2.344427679529525, 2.633428544908547, 2.0185298393496125, 1.345029535833806, 1.2066316041897145, 1.5562163226550174, 2.2135172631733404, 0.9973569537496866, -0.1989819684103893, 2.658835340947891, 1.784788753011901, 1.0349424677831263, 1.2071668602637569, 1.2718108746750714, 4.049429235480897, 1.880207801703024, 1.4386127110501332, 2.960981740206559, 4.0396046986189384, 1.6963455258151707, 1.8270305989891396, 1.2307102483345258, 2.3297235603867925, 2.2957693539060218, 0.6763518220096354, 1.0241471497529915, 2.9050229427788894, 2.383706222981675, 1.1047878825454318, 1.8087427623013488, 2.2967123190792536, 1.366510696834839, 1.050669041022315, 2.627222826081137, -0.20575691041055544, 2.484665962600085, 0.4955182651889971, 2.2429791771691487, 3.141364827320899, 1.095130766099417, 1.1792216215108478, 1.8434270729722693, 1.6582850423894167, 1.5523404271301642, 0.9644724015411638, 1.073590885709847, 0.021073887986188478, 3.027076035251951, -0.24968693544343679, -0.2952755392454598, 0.0038488694539324797, 0.20002879608340862, 2.4140311176670806, 2.7081986533365803, 2.6860407154999093, 0.18523987178677737, 0.6258723220554335, 1.04027840566574, 1.4843819140894678, 1.6444288446537012, 2.1935520354740063, 0.9140355484819263, 0.7872237710009742, 0.6772279672851255, 1.8356553464691916, 1.6287201582095339, 1.3299751082430367, 2.6046123994070287, 0.8619727556902568, 0.39270946779937477, 3.0287209091937393, 3.1930007901774093, 0.47549627980411313, 0.28593858613132617, 1.3678158002127185, 0.9068148423055226, -0.2507059433155465, 2.0171991790878243, 1.6299803212195951, 1.338204752742754, 3.435224507065941, 1.977405841351363, 1.2728824778331997, -0.20233067758150503, 1.8551300489144962, 0.701190247438792, 0.2630954606418223, 2.5010292949514685, -0.16913363406885207, 1.3379582091981408, 2.403672525444165, 1.7812851490778947, 0.6113637331179638, 1.1139740228711452, 1.2632303222669146, 1.5723603653913076, 0.45638833215342256, 2.177706089644702, 1.1293205782116458, 2.6935591717729706, 3.8170282209004824, 2.811872793878118, 1.9910990069505785, 2.3597951734360016, 1.678165053246916, -0.04623873157211311, 0.5857685219320131, 2.353082962511984, 1.9564830246285745, 1.1898820433469666, 0.3906414270041725, 2.2901369300798105, 3.2136769352969727, 1.4647429199198407, 1.526844755461629, 1.5936498694045078, 0.5117474326670971, 1.4911401054358637, 1.801320637971705, 2.514091760126964, 1.2929835551032838, 0.5269249718654185, 1.3775409335293585, 0.07852751536585645, 0.654417687427058, 0.06417048753248356, 0.22515917085218762, 1.9003911543407277, 4.3508414315748904, -0.023937217082233397, 0.4809395979208648, 2.7126109192322456, 1.4995809004681395, 1.3004843794511134, 2.331619871252647, 1.788959805419281, 1.7764290529178568, 2.19931209973504, 1.16348568983588, -0.30747754735770316, 0.7732197517782274, 0.3485763239378139, 1.0056250916893283, 0.9179089622096787, 2.2207685167703124, 2.7979528936517406, 3.640396177071941, 1.9638298691741665, 3.5635673212826213, 1.1827766770280743, 1.0909907612455216, 0.5623962973780176, 1.9497546624410607, 1.0419410250954557, 1.5749689023838807, 0.39222947217482673, 1.8009136546681086, 0.2369302041584671, 3.1845079307935036, 3.0162157300547667, 0.8484515478390809, 2.2872209136374404, 0.7058505189570278, -0.29095858009224895, 0.39963484831665763, 1.2260149081654266, 0.972570546856314, 0.6630888506966269, 0.1476412004079739, 1.2448597413479194, 1.700758227911895, 1.4520063456567032, 0.7336857950796133, 0.8685374180181467, -0.5019796900507849, 3.1013596988433534, 1.1571222925909288, 1.9577630138416136, 0.6310371966521621, -0.16146124154186325, 2.6807049903036613, 0.08810848260058712, 1.1112542785716437, 0.9936490887990966, 0.01835581787172691, 1.2040392884323516, 2.285295787276187, 1.8206088642743605, 2.1040192821817225, 0.6029961446904222, 2.2480290257716793, 1.5476547565044083, 2.1863823595498935, 1.5254574085589583, 1.8596955105971704, 1.5692225948682774, 0.8953496841458581, -0.4652464348421681, 1.9445060772836673, 0.7438579477772133, 1.5314751646211784, 1.2589435261879895, 0.7404734066424562, 2.7869090237701437, 0.8501435100293689, 1.2266584209310865, 2.2404858521844173, 2.6023056579302555, 1.2680846663877108, 0.980641222915074, 1.9263478439474195, 2.5734279853075814, 2.2747451024634313, 1.3668666070914395, -0.3640834098803625, 0.8123320648146705, 1.322821877880452, 0.6554338518183755, 3.5965513510902687, 1.0263457059743812, 1.6036351009151, 2.045552234717672, 1.8608132384484695, 2.241984654123547, 1.6309253563627364, 0.08645458402097561, 1.1135531384002517, 1.21931469584251, 2.5044485663927247, 3.278988797435633, 1.0330383242493482, 0.8264615275229885, 3.111923202266325, 2.084311193987807, 1.8512020408880423, 0.8982239820321728, 2.1102350710651545, 1.4244764714308606, 2.5307074968474392, 4.168625924142251, 0.6354648781168495, 2.4476080722014455, 1.7684557157791048, 1.75909771655306, 2.2465327901200283, -1.0463024716271492, 1.4738790050712174, 1.4320823595715657, 3.379403755249214, 0.7469895755813625, -1.0531813322366763, 2.2704431366950644, 1.7791024207114545, 1.0613799822480101, 0.6738481010071882, 1.8603797063995313, 0.6672020525042036, 0.7360796311086406, 2.0047321717662605, 2.0942228998604584, -0.7499908200234828, 1.0737996605142635, 2.64431619831579, 0.13498113826841296, 2.1863041513934385, 1.0909136518135734, 2.9844184828890263, 1.7219266853816755, 2.5820664787216323, 1.183265696347724, 0.7671637085108824, 2.3877662069424597, 2.4734689533769947, 1.2333909846415552, 3.465379711881374, 1.9753226638230987, 1.7897556364470804, 2.1749248040432096, 2.466023722531368], \"type\": \"histogram\", \"uid\": \"933eb7ad-71e9-11e9-a66b-080027daca25\"}], {}, {\"showLink\": true, \"linkText\": \"Export to plot.ly\"})});</script>"
      ],
      "text/vnd.plotly.v1+html": [
       "<div id=\"e8fb7f41-c313-4360-af42-82b94e9f84a7\" style=\"height: 525px; width: 100%;\" class=\"plotly-graph-div\"></div><script type=\"text/javascript\">require([\"plotly\"], function(Plotly) { window.PLOTLYENV=window.PLOTLYENV || {};window.PLOTLYENV.BASE_URL=\"https://plot.ly\";Plotly.newPlot(\"e8fb7f41-c313-4360-af42-82b94e9f84a7\", [{\"opacity\": 0.75, \"x\": [1.363354675053579, 0.37037373669607243, 1.8025387777810644, 0.5431667166923291, -0.2952018962001323, 0.3997745482098436, 1.3252490425192258, -1.2269191074648391, 0.6193590805500704, -0.19475360936261565, 0.37177073885352574, 0.49831170987802026, 1.0884670346458805, -0.6476501930173193, -2.4391361916001406, 0.5660974431695849, -0.1716296624708535, 1.1841063408163661, -0.9702336536719415, -0.3942406659129967, 1.8155561592007248, 0.9813013544751799, -1.110201831148372, 0.9254583769497392, -0.6489677343866264, -0.19733972980445394, 1.1174390249806043, -0.1288236691306449, 1.029207145943008, -0.2620417598002784, 1.1937738098733646, 0.1648187710499687, 0.503457152624006, 1.8441166854937707, 0.8845614205707653, -0.5771388119925238, -0.9657064406958331, 1.706529328382394, 0.500781287035399, 1.0529075537127044, -0.849765434542383, 0.24127707507919183, 0.23115576434237603, 0.22466244518792863, -0.812452396788963, 0.2835172862985894, 0.2858256235463972, 0.11731563831310327, -0.06213076204288248, 0.024041223655936188, -0.17286655469363835, 1.7380678355317667, -0.6473573401051232, 1.0758635079761207, 0.0573474119167429, -0.8589164606890728, 1.1473506221071474, -0.800831897678953, 1.4390933718776528, 1.2728117123508391, -0.5709567710929709, -0.776143727456773, -0.25831358521950276, -0.7679605799902463, -1.0605920101010011, -1.1967355921894614, 0.4516027948524599, 0.19758176532370147, -1.3461805469283898, 1.140955626898326, 0.15519149824873965, -1.3262934004839892, -0.854247300789427, -0.9860484942557685, -0.394433622227211, 1.7593894747661747, 0.09677310512515287, 0.05308200787820391, 0.43343013493353194, -0.9691475207272302, 1.1591865220376159, -0.40102419401002315, -0.9956548341859732, -0.06498292613215702, -1.4296466052365318, 0.07039409255131891, 1.3279673261644098, -0.5820592766016783, 0.3288503299037526, 0.048700175515189265, -1.2955104274630795, -1.0577261334625438, 0.10938352701782844, -0.6688780973262497, 2.997788191519507, 0.1623229798511294, 0.04189086623504852, 1.3613134533932492, 0.851563265386364, 0.3991889658307161, 0.22733647654789443, 0.3551223816167941, 1.7008248698439203, -0.8914020001413491, 0.6088308191710153, -0.6026644346176188, 0.02200759322964436, -0.35781345544160215, -0.336883956045123, -1.1609301976546271, 0.7067415155825887, 1.9782274289281443, -0.5816870765820022, 0.2644316431661907, 0.5190897810791671, 0.37236422525153356, -1.529956597513317, 0.4326043409760244, -1.445282003688883, -0.9563276077264627, -1.1310230694431604, -1.57125604840313, -1.4186303068434267, -0.8689514299720043, -1.9331080064461836, 0.7165506735653889, 1.0826741978082592, 1.997456830484934, 1.0210152351699084, -0.4578904550029354, 1.7054354115871466, -1.3082111326567583, -1.5334373528897096, 1.2529371584787627, -0.6629932945303432, -0.675658513476474, -1.573457285378153, 0.2578147786904569, -1.7737335888831025, 2.1326153889793944, 0.7213954481829798, 0.9437109086276178, -0.8367776308635695, 1.9757214053656644, 0.47806581888077765, 0.17420811747921464, 1.5306711872883263, -0.06077350715388326, -0.7702033247644302, -1.633328837145923, 0.15952637328307342, 0.14926983091857954, -0.008344888035634058, 1.2388322216350776, -0.3939303543274484, 0.014799824713591482, 0.44048109001812635, -0.3649155781554246, -0.038456090115534254, 0.4857620260857608, -0.18435456364176972, 0.6007541745545931, 1.283312686833576, -1.1042811411809994, 1.1190182601011713, -2.0354954276362554, -0.09224406256584962, -0.7838276983882053, -1.327726045201012, -1.1104413920082432, -2.022128049728086, 1.4213217813610706, -0.6971245132847467, -0.08133576283798988, 0.5181186939261215, -0.7583024030855332, -0.11644202052236723, -0.16075074537407805, -0.6952184122755853, 0.21265671678377016, -1.4762593618349047, -0.6634982757653118, -0.9530518067925704, -0.5842241072059636, -2.4096492911297123, 0.9500315050423347, 1.3479631179103626, 0.08164740321359815, -0.30178362384182483, 0.3426775953214476, -0.6000782620174744, 0.28270627636587087, -2.0232851841635386, 0.6309248926164683, 0.3477822495242441, 1.143964407647213, 1.2738062454620465, 0.6543903102406853, 0.36761137851493664, 2.0772936067305694, -0.1238362035274778, 0.5539004788671853, -0.2220999797910328, -0.7899623698228992, 0.2500260081885006, 0.555182082815737, 1.2933664075215017, 0.9619811973081093, 0.9177173495765321, -0.627682891573558, 1.0740984477280278, 0.2831394589317502, -0.11355411046818402, 0.4776901655557037, -0.45293169213322126, -1.5042024915795844, 0.8138317741735629, -1.644644903105087, -1.4021732541858205, 0.14414631604458797, 0.31149864458099413, 0.06529283020635097, -0.353649338868037, 0.5527502537543518, 0.45916214481986667, -0.044817568358282996, 0.14553106585656328, -1.9131054125395064, 0.8846831897623499, -0.6284901621820426, 1.8796798989439514, -0.20110655784212084, 0.44030280726216803, -1.1333625145507746, -0.8145295447830884, 0.5046080473149652, -1.2440032476798497, 0.2785450384588997, -1.2992179301992657, -0.2966000258724522, 0.6230305813492601, -1.0122716698899161, 0.42929548631046316, -0.6650076749004534, -2.4976622169573552, 0.1673713006417486, 0.3639170821155926, 0.44517192696158914, -1.013787845525098, -0.5604337474829132, 1.8257572466993652, 0.40023051044266933, 0.381891512998323, -1.4529733705934986, -0.43285624059046923, -0.6633886518553009, 1.1088601840611465, 0.43384835405173805, -0.270806999448132, -0.6925528887817746, 0.4655813192518407, 0.9991775403385431, 0.07257723247856282, 0.7963735936335634, 1.6987841388218616, 0.8583430884711588, 0.4290025056849287, -0.1452322869541989, -0.7521230669708923, 0.19118276342728685, 0.2949139754383989, -1.8626809321514108, -0.8988806283146829, -0.7648583328467093, 0.24001413433679036, -0.4952876601126541, 0.017614084412073065, -0.038543754187548455, -1.1979412063351522, -0.030163208640146263, 1.1097450116270338, 0.12405844155148829, -0.7788951639165451, 0.8841848449721927, -0.7687919536808389, -2.0415277586651954, -0.385291116898796, 2.5550460284904095, -1.0863592169907952, 1.0816850188002758, -0.06089700000267414, -2.0706285641578224, 0.23350610988094037, -1.9798128471019443, 0.21837012831522662, -0.16823114092668326, 0.3862905479890804, -1.0529528020218046, -1.033437193161359, -0.14015654885550424, 0.5777446745164624, 0.24614656808514232, -2.100105437532079, 0.04557996241895597, -1.3955771287679046, 1.2471955504611005, 0.3231821957322638, -1.7079397840401844, -0.3284219424915444, 0.015919096399478277, -1.6476535379645456, 1.4665171309068046, -1.0404736539915513, 0.16046707265978064, -0.13705182086079343, -1.2173912450520374, -0.30664392930980644, 0.638790216615091, 0.5372589614762899, 0.14382688978467917, 0.9324991714564095, -0.9279636550194481, -0.7711309178660104, 0.6784078048966293, -0.6212625339628441, 0.17987130700800288, 0.8485924379526659, -1.3380114741042783, -2.3348954505954858, 0.02998257235683646, -0.6944716375425293, 0.8715662439718737, 1.5096633074992774, 1.5921495037508837, -1.0001971190713865, -2.05830510120212, 0.04863140282671993, 0.6326283604438442, -1.2364457585619866, -0.12538960893861503, -1.6472505192682583, -0.42153970678661695, 0.6018002278947173, -1.1894934675488888, 1.9510600361310844, -0.4729886534815974, -0.9595810407186798, -2.414381607265881, -0.1207478382520475, -0.5719209317944413, -0.9633096316312807, -0.4809367784604703, -0.5339071180585259, 0.2732674215051664, -1.038032363589026, -0.1810441208409041, -0.8587225287022775, 0.22256412799051545, -1.9971690192328895, 0.12836987926167165, 1.515480601945393, -0.29758789963844084, 1.6645376780489756, 1.0321491106690515, -2.2154429685091745, 1.2171114556749194, -0.5562158998790788, 0.43869727452603424, -1.0050032405241378, 1.1709773819422826, -0.25370315048827785, 1.1333408361930968, -0.6447091295849448, -0.821530197501847, -0.37934494230936827, 0.9632147140768158, -0.13884163091293886, 1.314701914831258, 0.06663359153840105, 0.2959934808922778, -0.2556360363496662, 0.40210070762007577, -0.432619077467642, -0.04950558335011098, -0.3994489373356718, -1.1628763827201105, -0.5602180798998141, 0.677184801692127, 0.3547583568098192, -1.80937844065342, -0.3576993296903351, -0.40627370829312953, -1.2553793429858067, 0.8714962780477805, -0.38499506192228306, -0.9131808457127832, 0.4189829389204372, -0.7564218700455148, 0.2061103971087038, 0.2587393403968093, 0.8431797749543677, -1.0440427296603598, -1.6913020466454467, -1.1682281178893883, 1.569762553317922, -0.6734480214578072, 0.0855655119431908, 1.1966287217738936, 0.5948926455770267, 0.0062807878931338615, 1.7320977671193885, -0.16846986112753645, -0.06156749000418189, 0.7544240235278854, -0.8480888228721605, -0.4394825188656418, 0.6310461233925744, -0.5765044483701804, 1.1622005799741133, -1.6864469556968436, -0.36849511011884567, -0.2028942827342588, 1.341512792886493, -1.3572084987624817, 0.2694686627529087, -1.5781626470191936, 0.04589601782655753, -1.5418182556223556, -0.7012467707820036, -0.4745940885792468, -0.16358974248200242, 0.2642558888106013, -0.7424836556172135, -0.4065909365243301, 0.988365146506127, 0.6277653553763198, 1.3698814167523627, -1.1159725649737047, 0.06256145474736491, 0.7971404045451141, 0.4226253769048038, -1.0096378766565823, -0.6719483247992668, -0.3753188380029045, -0.9011656051408036, -0.7195631815339454, -0.09466479962024463, -0.7809231572838585, 1.9445004861045847, -0.7231897910219969, -0.12246910299371679, -0.3579072988609733, 0.4402668070126352, 0.6082644913353227, -1.7150595355199496, 0.2885599053037362, -1.29262380237797, -0.0030720576315192132, 0.32065805241581996, -1.240271431770994, 0.48540938496904296, -0.42467610352099594, 1.2961747192162345, 0.7558540858512451, 1.1575450488596577, -0.7013822052684242, -0.6548268006145924, -0.009378987224307975, -1.0880134776703814, 0.5715272893729745, -0.2891283323481794, 0.3657734426517069, 0.2571321031143463, 0.11184747424602547, -0.4545116636263443, 1.7743106510570537, 0.5620366593457488, -1.5151557301197511, -0.5960828041751708, -0.7895666530889416, 0.6196863767589463, -0.33753806374353124, 0.7927070398388536, -1.3512718590948747, -0.3542143794400001, 0.14980595464522048, -1.2697155081084943, 0.939918726181403, -0.274748782913209, -0.8562724042057802, 0.5764213923207506, -0.781621157048867, -0.12522444112157838, -0.6154781970117397, -0.7647169637615172, 0.3110818719423319, 0.37297827213030793, -0.9791972360580089, -0.6951566471065661, -0.24594044235356832], \"type\": \"histogram\", \"uid\": \"933eb7ac-71e9-11e9-a66b-080027daca25\"}, {\"opacity\": 0.75, \"x\": [3.033682763398971, 2.788180997438143, -0.20234700288971652, 1.9704189336147948, 0.9572056928555378, 2.195899518957977, 0.7828988820748679, 2.435978351910989, 2.030849528642208, 1.4303266686535547, 1.2875523051910722, 0.8244692951760177, 2.970703683307434, 2.2200539822390497, 1.1258884823213937, 1.027766777050577, 1.166835832804867, 2.1397529196333354, 1.2980404444755562, 1.84029305774327, 1.0749203955584135, 2.3024094846205796, 2.769997001671837, 3.0293945649848526, 2.0660531195066865, 2.8694901789353073, 1.8547890977902584, 1.5064817724534239, 1.6535006037796383, 1.0671750905580268, 1.3836700030561655, 1.2020411609919157, 1.3944044754063156, 0.2754253410011134, 1.4657551786774097, 1.414529719248189, 2.358883265649469, 1.220155206422761, 0.18092663813458087, 0.5474172569653155, 1.3025100034158221, 0.41787016596630355, 1.3571505533109232, 1.6724879697488688, 2.6013557370509144, 1.4834437240593887, 1.3237009697079805, 1.232922329077067, 3.145815126697061, 2.5472595038529784, 1.7947824350245043, 0.4077504646248651, 3.0409606083942884, 1.5443137395340845, 0.6468255452955056, 3.124025505702382, 3.161005324386954, 1.2188010210583295, 0.3298433719709015, 0.9011377087556943, 2.1399006012222412, -0.004877267223959647, 1.5550522646691478, 1.3595988185492607, 1.0932705667891438, 0.8068162635656663, 1.2584935493239748, 1.8610402912671256, 1.9590682126062071, 1.5702932143942019, 3.6643729553893407, 2.235033944694546, 2.236282320434814, 2.3617925685149666, 0.6132549125333118, -0.12888776200054197, 1.7001330503643501, 2.0029782915247307, -0.21275052887897083, 0.5822994142657726, 1.3318952980586842, -0.2490078934680695, 0.006825636471821328, 1.7186394691575737, 1.772950922736675, 1.2499628077014606, 2.2016985861116622, 1.9566093906143305, 1.8201594786891997, 0.16891376094265742, 2.933381125481547, 3.2303245464357864, 0.7172960213986908, 1.8837724487497405, 0.8015699661385811, 2.2973683510456655, 1.4699585588278545, 0.5711179588537042, 0.35933607380147814, 2.1993455051928104, 1.2724086021773564, 0.369250157950364, 0.6831377367789812, 0.4611919259002395, 0.3077184963901054, -0.08888528395951822, -0.6015690659063844, 1.807900828351492, 3.566472292131059, 0.8794702772864422, 2.9953212863650602, 0.5807759073419384, 2.527969472726512, -0.6581782114459638, 0.4445022989259224, -0.7970757823878398, 2.337887864458499, 1.995040390187538, 2.0087530352528717, 0.7227501123564944, 0.5603182811017751, 2.208859130456267, -0.012863152304440684, 2.4278119780792906, 1.880529023155817, 2.939722937109557, 2.365567095513227, 0.3114822935265267, 1.2254533263527847, 2.4428870564473493, 0.6867804120965928, 1.6072241985775497, 2.638082348565601, 1.5445910735651138, 0.8605060610327351, 0.9859995183702898, 0.4521248179854611, 2.340727262965166, 1.6931192695150619, 0.6871233527744344, 0.9983420886542104, 1.3436622806636007, 2.2259210641018465, 1.758385066355755, 1.5889310971080954, 0.735338776150967, 0.38140936825266936, 0.7637888095066621, 3.29422313216255, 0.6650665533260064, 1.5802556598706599, 2.761821384465482, -0.680025536082995, 2.277673558243018, 0.9272784792153578, 1.87113831036097, 2.0168036602943973, 2.86541362862324, 1.7595066633726382, 0.8439812338675226, 1.5665246702732776, 0.3396177630323647, 1.274093045244269, 0.7317256727461751, 1.02622057804826, 0.7900320602419526, 1.093526639040372, 1.118983095859936, 1.0655375602940274, 1.9299548363718828, -0.008452335162176361, 2.3362234815635055, 2.9864828549136604, 0.22080850759142612, 2.5433989324248607, 2.078277299027535, 2.325196183323173, -0.056913794996000355, 0.872544934724343, 0.8645390582725205, 2.5824800385191526, 0.3992555960044921, 0.7712893461604564, 1.0152067546133827, 2.558216230697668, 1.0066202591929472, 2.7969701214382034, 0.13817106492981246, 1.691571609337469, 0.25370512454583016, 2.483276548582475, 2.6305473282150116, 1.3805661627043215, 2.426266714032867, 1.3857165224498456, 3.0398693177814073, 1.0465808110379364, -0.47901750450524316, 0.546477347002195, 2.2677426701913475, 2.108665063694711, 2.743268803149779, 2.3381277673852043, 2.813857654680312, 1.4533304738159243, 2.299613727558464, 1.7757885134063471, -0.34988196722047893, -0.07520269389551215, 4.163445276082808, 1.2568552059527125, 1.9729709769700217, 1.5143760725352156, 1.8625823259639154, 1.0508131170596393, 1.1842158945686412, 2.030377009546549, 0.5875044672092454, 0.7617988576743678, 3.630488084088722, 1.3321647377649908, 2.344427679529525, 2.633428544908547, 2.0185298393496125, 1.345029535833806, 1.2066316041897145, 1.5562163226550174, 2.2135172631733404, 0.9973569537496866, -0.1989819684103893, 2.658835340947891, 1.784788753011901, 1.0349424677831263, 1.2071668602637569, 1.2718108746750714, 4.049429235480897, 1.880207801703024, 1.4386127110501332, 2.960981740206559, 4.0396046986189384, 1.6963455258151707, 1.8270305989891396, 1.2307102483345258, 2.3297235603867925, 2.2957693539060218, 0.6763518220096354, 1.0241471497529915, 2.9050229427788894, 2.383706222981675, 1.1047878825454318, 1.8087427623013488, 2.2967123190792536, 1.366510696834839, 1.050669041022315, 2.627222826081137, -0.20575691041055544, 2.484665962600085, 0.4955182651889971, 2.2429791771691487, 3.141364827320899, 1.095130766099417, 1.1792216215108478, 1.8434270729722693, 1.6582850423894167, 1.5523404271301642, 0.9644724015411638, 1.073590885709847, 0.021073887986188478, 3.027076035251951, -0.24968693544343679, -0.2952755392454598, 0.0038488694539324797, 0.20002879608340862, 2.4140311176670806, 2.7081986533365803, 2.6860407154999093, 0.18523987178677737, 0.6258723220554335, 1.04027840566574, 1.4843819140894678, 1.6444288446537012, 2.1935520354740063, 0.9140355484819263, 0.7872237710009742, 0.6772279672851255, 1.8356553464691916, 1.6287201582095339, 1.3299751082430367, 2.6046123994070287, 0.8619727556902568, 0.39270946779937477, 3.0287209091937393, 3.1930007901774093, 0.47549627980411313, 0.28593858613132617, 1.3678158002127185, 0.9068148423055226, -0.2507059433155465, 2.0171991790878243, 1.6299803212195951, 1.338204752742754, 3.435224507065941, 1.977405841351363, 1.2728824778331997, -0.20233067758150503, 1.8551300489144962, 0.701190247438792, 0.2630954606418223, 2.5010292949514685, -0.16913363406885207, 1.3379582091981408, 2.403672525444165, 1.7812851490778947, 0.6113637331179638, 1.1139740228711452, 1.2632303222669146, 1.5723603653913076, 0.45638833215342256, 2.177706089644702, 1.1293205782116458, 2.6935591717729706, 3.8170282209004824, 2.811872793878118, 1.9910990069505785, 2.3597951734360016, 1.678165053246916, -0.04623873157211311, 0.5857685219320131, 2.353082962511984, 1.9564830246285745, 1.1898820433469666, 0.3906414270041725, 2.2901369300798105, 3.2136769352969727, 1.4647429199198407, 1.526844755461629, 1.5936498694045078, 0.5117474326670971, 1.4911401054358637, 1.801320637971705, 2.514091760126964, 1.2929835551032838, 0.5269249718654185, 1.3775409335293585, 0.07852751536585645, 0.654417687427058, 0.06417048753248356, 0.22515917085218762, 1.9003911543407277, 4.3508414315748904, -0.023937217082233397, 0.4809395979208648, 2.7126109192322456, 1.4995809004681395, 1.3004843794511134, 2.331619871252647, 1.788959805419281, 1.7764290529178568, 2.19931209973504, 1.16348568983588, -0.30747754735770316, 0.7732197517782274, 0.3485763239378139, 1.0056250916893283, 0.9179089622096787, 2.2207685167703124, 2.7979528936517406, 3.640396177071941, 1.9638298691741665, 3.5635673212826213, 1.1827766770280743, 1.0909907612455216, 0.5623962973780176, 1.9497546624410607, 1.0419410250954557, 1.5749689023838807, 0.39222947217482673, 1.8009136546681086, 0.2369302041584671, 3.1845079307935036, 3.0162157300547667, 0.8484515478390809, 2.2872209136374404, 0.7058505189570278, -0.29095858009224895, 0.39963484831665763, 1.2260149081654266, 0.972570546856314, 0.6630888506966269, 0.1476412004079739, 1.2448597413479194, 1.700758227911895, 1.4520063456567032, 0.7336857950796133, 0.8685374180181467, -0.5019796900507849, 3.1013596988433534, 1.1571222925909288, 1.9577630138416136, 0.6310371966521621, -0.16146124154186325, 2.6807049903036613, 0.08810848260058712, 1.1112542785716437, 0.9936490887990966, 0.01835581787172691, 1.2040392884323516, 2.285295787276187, 1.8206088642743605, 2.1040192821817225, 0.6029961446904222, 2.2480290257716793, 1.5476547565044083, 2.1863823595498935, 1.5254574085589583, 1.8596955105971704, 1.5692225948682774, 0.8953496841458581, -0.4652464348421681, 1.9445060772836673, 0.7438579477772133, 1.5314751646211784, 1.2589435261879895, 0.7404734066424562, 2.7869090237701437, 0.8501435100293689, 1.2266584209310865, 2.2404858521844173, 2.6023056579302555, 1.2680846663877108, 0.980641222915074, 1.9263478439474195, 2.5734279853075814, 2.2747451024634313, 1.3668666070914395, -0.3640834098803625, 0.8123320648146705, 1.322821877880452, 0.6554338518183755, 3.5965513510902687, 1.0263457059743812, 1.6036351009151, 2.045552234717672, 1.8608132384484695, 2.241984654123547, 1.6309253563627364, 0.08645458402097561, 1.1135531384002517, 1.21931469584251, 2.5044485663927247, 3.278988797435633, 1.0330383242493482, 0.8264615275229885, 3.111923202266325, 2.084311193987807, 1.8512020408880423, 0.8982239820321728, 2.1102350710651545, 1.4244764714308606, 2.5307074968474392, 4.168625924142251, 0.6354648781168495, 2.4476080722014455, 1.7684557157791048, 1.75909771655306, 2.2465327901200283, -1.0463024716271492, 1.4738790050712174, 1.4320823595715657, 3.379403755249214, 0.7469895755813625, -1.0531813322366763, 2.2704431366950644, 1.7791024207114545, 1.0613799822480101, 0.6738481010071882, 1.8603797063995313, 0.6672020525042036, 0.7360796311086406, 2.0047321717662605, 2.0942228998604584, -0.7499908200234828, 1.0737996605142635, 2.64431619831579, 0.13498113826841296, 2.1863041513934385, 1.0909136518135734, 2.9844184828890263, 1.7219266853816755, 2.5820664787216323, 1.183265696347724, 0.7671637085108824, 2.3877662069424597, 2.4734689533769947, 1.2333909846415552, 3.465379711881374, 1.9753226638230987, 1.7897556364470804, 2.1749248040432096, 2.466023722531368], \"type\": \"histogram\", \"uid\": \"933eb7ad-71e9-11e9-a66b-080027daca25\"}], {}, {\"showLink\": true, \"linkText\": \"Export to plot.ly\"})});</script>"
      ]
     },
     "metadata": {},
     "output_type": "display_data"
    }
   ],
   "source": [
    "x0 = np.random.randn(500)\n",
    "x1 = np.random.randn(500) + 1.5\n",
    "\n",
    "trace1 = go.Histogram(\n",
    "    x=x0,\n",
    "    opacity=0.75\n",
    ")\n",
    "\n",
    "trace2 = go.Histogram(\n",
    "    x=x1,\n",
    "    opacity=0.75\n",
    ")\n",
    "\n",
    "data = [ trace1, trace2 ]\n",
    "layout = go.Layout(barmode='overlay')\n",
    "fig = go.Figure(data=data, layout=layout)\n",
    "\n",
    "plotly.offline.iplot(data)"
   ]
  },
  {
   "cell_type": "markdown",
   "metadata": {},
   "source": [
    "### Subplot"
   ]
  },
  {
   "cell_type": "code",
   "execution_count": 10,
   "metadata": {
    "ExecuteTime": {
     "end_time": "2019-06-03T23:05:06.496965Z",
     "start_time": "2019-06-03T23:05:06.309676Z"
    }
   },
   "outputs": [
    {
     "data": {
      "text/plain": [
       "<matplotlib.axes._subplots.AxesSubplot at 0x7f041c4b9950>"
      ]
     },
     "execution_count": 10,
     "metadata": {},
     "output_type": "execute_result"
    },
    {
     "data": {
      "text/plain": [
       "[<matplotlib.lines.Line2D at 0x7f0416603650>]"
      ]
     },
     "execution_count": 10,
     "metadata": {},
     "output_type": "execute_result"
    },
    {
     "data": {
      "text/plain": [
       "<matplotlib.axes._subplots.AxesSubplot at 0x7f0416793f90>"
      ]
     },
     "execution_count": 10,
     "metadata": {},
     "output_type": "execute_result"
    },
    {
     "data": {
      "image/png": "[encoded data removed]",
      "text/plain": [
       "<Figure size 432x288 with 2 Axes>"
      ]
     },
     "metadata": {
      "needs_background": "light"
     },
     "output_type": "display_data"
    }
   ],
   "source": [
    "\n",
    "# Fixing random state for reproducibility\n",
    "np.random.seed(2019)\n",
    "\n",
    "dt = 0.01\n",
    "t = np.arange(0, 10, dt)\n",
    "nse = np.random.randn(len(t))\n",
    "r = np.exp(-t / 0.05)\n",
    "\n",
    "cnse = np.convolve(nse, r) * dt\n",
    "cnse = cnse[:len(t)]\n",
    "s = 0.1 * np.sin(2 * np.pi * t) + cnse\n",
    "\n",
    "plt.subplot(211)\n",
    "plt.plot(t, s)\n",
    "plt.subplot(212)\n",
    "psd = plt.psd(s, 512, 1 / dt);\n",
    "\n",
    "plt.show()"
   ]
  },
  {
   "cell_type": "markdown",
   "metadata": {},
   "source": [
    "### Barplot"
   ]
  },
  {
   "cell_type": "code",
   "execution_count": 23,
   "metadata": {},
   "outputs": [
    {
     "data": {
      "text/plain": [
       "<matplotlib.axes._subplots.AxesSubplot at 0x7f0412fc7650>"
      ]
     },
     "execution_count": 23,
     "metadata": {},
     "output_type": "execute_result"
    },
    {
     "data": {
      "text/plain": [
       "Text(0, 0.5, 'GDP per capita')"
      ]
     },
     "execution_count": 23,
     "metadata": {},
     "output_type": "execute_result"
    },
    {
     "data": {
      "image/png": "[encoded data removed]",
      "text/plain": [
       "<Figure size 432x288 with 1 Axes>"
      ]
     },
     "metadata": {},
     "output_type": "display_data"
    }
   ],
   "source": [
    "plt.style.use('ggplot')\n",
    "iris_df.loc[0:5,['sepal length (cm)','sepal width (cm)','petal length (cm)']].T.plot(kind='bar')\n",
    "plt.ylabel('Iris database first 5 samples')"
   ]
  },
  {
   "cell_type": "code",
   "execution_count": 25,
   "metadata": {},
   "outputs": [
    {
     "data": {
      "text/plain": [
       "<matplotlib.axes._subplots.AxesSubplot at 0x7f0412f85290>"
      ]
     },
     "execution_count": 25,
     "metadata": {},
     "output_type": "execute_result"
    },
    {
     "data": {
      "text/plain": [
       "Text(0, 0.5, 'Iris database first 5 samples')"
      ]
     },
     "execution_count": 25,
     "metadata": {},
     "output_type": "execute_result"
    },
    {
     "data": {
      "image/png": "[encoded data removed]",
      "text/plain": [
       "<Figure size 432x288 with 1 Axes>"
      ]
     },
     "metadata": {},
     "output_type": "display_data"
    }
   ],
   "source": [
    "plt.style.use('ggplot')\n",
    "iris_df.loc[0:5,['sepal length (cm)','sepal width (cm)','petal length (cm)']].plot(kind='bar')\n",
    "plt.ylabel('Iris database first 5 samples')"
   ]
  },
  {
   "cell_type": "code",
   "execution_count": 17,
   "metadata": {},
   "outputs": [
    {
     "data": {
      "text/plain": [
       "Index(['sepal length (cm)', 'sepal width (cm)', 'petal length (cm)',\n",
       "       'petal width (cm)', 'target', 'target_name'],\n",
       "      dtype='object')"
      ]
     },
     "execution_count": 17,
     "metadata": {},
     "output_type": "execute_result"
    }
   ],
   "source": [
    "iris_df.columns"
   ]
  },
  {
   "cell_type": "markdown",
   "metadata": {},
   "source": [
    "### Scatter plot\n",
    "\n",
    "* text\n",
    "* vline n hline\n",
    "* legends\n",
    "* xlabel n ylabel\n",
    "* title"
   ]
  },
  {
   "cell_type": "code",
   "execution_count": 11,
   "metadata": {
    "ExecuteTime": {
     "end_time": "2019-05-08T23:32:58.716715Z",
     "start_time": "2019-05-08T23:32:58.518563Z"
    }
   },
   "outputs": [
    {
     "data": {
      "text/plain": [
       "Index(['sepal length (cm)', 'sepal width (cm)', 'petal length (cm)',\n",
       "       'petal width (cm)', 'target', 'target_name'],\n",
       "      dtype='object')"
      ]
     },
     "execution_count": 11,
     "metadata": {},
     "output_type": "execute_result"
    },
    {
     "data": {
      "text/plain": [
       "<matplotlib.axes._subplots.AxesSubplot at 0x7f04165bb250>"
      ]
     },
     "execution_count": 11,
     "metadata": {},
     "output_type": "execute_result"
    },
    {
     "data": {
      "image/png": "[encoded data removed]",
      "text/plain": [
       "<Figure size 720x360 with 1 Axes>"
      ]
     },
     "metadata": {
      "needs_background": "light"
     },
     "output_type": "display_data"
    }
   ],
   "source": [
    "iris_df.columns\n",
    "iris_df.plot(x='sepal length (cm)', y=['sepal width (cm)', 'petal length (cm)'], \n",
    "             style='o',\n",
    "             figsize=(10,5), \n",
    "             grid=True)"
   ]
  },
  {
   "cell_type": "code",
   "execution_count": 12,
   "metadata": {
    "ExecuteTime": {
     "end_time": "2019-05-08T23:33:03.549289Z",
     "start_time": "2019-05-08T23:33:03.317703Z"
    }
   },
   "outputs": [
    {
     "data": {
      "text/html": [
       "<div>\n",
       "<style scoped>\n",
       "    .dataframe tbody tr th:only-of-type {\n",
       "        vertical-align: middle;\n",
       "    }\n",
       "\n",
       "    .dataframe tbody tr th {\n",
       "        vertical-align: top;\n",
       "    }\n",
       "\n",
       "    .dataframe thead th {\n",
       "        text-align: right;\n",
       "    }\n",
       "</style>\n",
       "<table border=\"1\" class=\"dataframe\">\n",
       "  <thead>\n",
       "    <tr style=\"text-align: right;\">\n",
       "      <th></th>\n",
       "      <th>x</th>\n",
       "      <th>y</th>\n",
       "    </tr>\n",
       "  </thead>\n",
       "  <tbody>\n",
       "    <tr>\n",
       "      <td>0</td>\n",
       "      <td>0</td>\n",
       "      <td>0</td>\n",
       "    </tr>\n",
       "    <tr>\n",
       "      <td>1</td>\n",
       "      <td>1</td>\n",
       "      <td>1</td>\n",
       "    </tr>\n",
       "    <tr>\n",
       "      <td>2</td>\n",
       "      <td>2</td>\n",
       "      <td>2</td>\n",
       "    </tr>\n",
       "    <tr>\n",
       "      <td>3</td>\n",
       "      <td>3</td>\n",
       "      <td>3</td>\n",
       "    </tr>\n",
       "    <tr>\n",
       "      <td>4</td>\n",
       "      <td>4</td>\n",
       "      <td>4</td>\n",
       "    </tr>\n",
       "  </tbody>\n",
       "</table>\n",
       "</div>"
      ],
      "text/plain": [
       "   x  y\n",
       "0  0  0\n",
       "1  1  1\n",
       "2  2  2\n",
       "3  3  3\n",
       "4  4  4"
      ]
     },
     "execution_count": 12,
     "metadata": {},
     "output_type": "execute_result"
    },
    {
     "ename": "NameError",
     "evalue": "name 'go' is not defined",
     "output_type": "error",
     "traceback": [
      "\u001b[0;31m---------------------------------------------------------------------------\u001b[0m",
      "\u001b[0;31mNameError\u001b[0m                                 Traceback (most recent call last)",
      "\u001b[0;32m<ipython-input-12-58388f5616b2>\u001b[0m in \u001b[0;36m<module>\u001b[0;34m\u001b[0m\n\u001b[1;32m      6\u001b[0m \u001b[0;34m\u001b[0m\u001b[0m\n\u001b[1;32m      7\u001b[0m \u001b[0;34m\u001b[0m\u001b[0m\n\u001b[0;32m----> 8\u001b[0;31m trace1 =     go.Scatter(\n\u001b[0m\u001b[1;32m      9\u001b[0m         \u001b[0mx\u001b[0m\u001b[0;34m=\u001b[0m\u001b[0mdf\u001b[0m\u001b[0;34m[\u001b[0m\u001b[0;34m'x'\u001b[0m\u001b[0;34m]\u001b[0m\u001b[0;34m,\u001b[0m \u001b[0;31m# assign x as the dataframe column 'x'\u001b[0m\u001b[0;34m\u001b[0m\u001b[0;34m\u001b[0m\u001b[0m\n\u001b[1;32m     10\u001b[0m         \u001b[0my\u001b[0m\u001b[0;34m=\u001b[0m\u001b[0mdf\u001b[0m\u001b[0;34m[\u001b[0m\u001b[0;34m'y'\u001b[0m\u001b[0;34m]\u001b[0m\u001b[0;34m,\u001b[0m\u001b[0;34m\u001b[0m\u001b[0;34m\u001b[0m\u001b[0m\n",
      "\u001b[0;31mNameError\u001b[0m: name 'go' is not defined"
     ]
    }
   ],
   "source": [
    "\n",
    "x=[0, 1, 2, 3, 4, 5, 6, 7, 8]\n",
    "y=[0, 1, 2, 3, 4, 5, 6, 7, 8]\n",
    "\n",
    "df = pd.DataFrame({'x': x, 'y': y})\n",
    "df.head()\n",
    "\n",
    "\n",
    "trace1 =     go.Scatter(\n",
    "        x=df['x'], # assign x as the dataframe column 'x'\n",
    "        y=df['y'],\n",
    "        name='Name of Trace 1: Using pandas'\n",
    "    )\n",
    "\n",
    "trace2 = go.Scatter(\n",
    "    x=[0, 1, 2, 3, 4, 5, 6, 7, 8],\n",
    "    y=[1, 0, 3, 2, 5, 4, 7, 6, 8],\n",
    "    name='Name of Trace 2. Not using pandas'\n",
    ")\n",
    "\n",
    "layout = go.Layout(\n",
    "    title='Ex: Line Plot with Title',\n",
    "    xaxis=dict(\n",
    "        title='x Axis',\n",
    "        titlefont=dict(\n",
    "            family='Courier New, monospace',\n",
    "            size=18,\n",
    "            color='#7f7f7f'\n",
    "        )\n",
    "    ),\n",
    "    yaxis=dict(\n",
    "        title='y Axis',\n",
    "        titlefont=dict(\n",
    "            family='Courier New, monospace',\n",
    "            size=18,\n",
    "            color='#7f7f7f'\n",
    "        )\n",
    "    )\n",
    ")\n",
    "\n",
    "data = [ trace1, trace2]\n",
    "\n",
    "fig = go.Figure(data=data, layout=layout)\n",
    "plotly.offline.iplot(fig)\n"
   ]
  },
  {
   "cell_type": "markdown",
   "metadata": {
    "ExecuteTime": {
     "end_time": "2019-05-16T17:41:08.524836Z",
     "start_time": "2019-05-16T17:41:08.521826Z"
    }
   },
   "source": [
    "### Interactive plot wioth widgets\n",
    "\n",
    "**It is like shinny. BUt looks like simple**\n",
    "\n",
    "* Example with slider change the slop n cnstant of linwe equation\n"
   ]
  },
  {
   "cell_type": "code",
   "execution_count": 18,
   "metadata": {
    "ExecuteTime": {
     "end_time": "2019-10-21T20:14:38.573317Z",
     "start_time": "2019-10-21T20:14:38.569345Z"
    }
   },
   "outputs": [],
   "source": [
    "from ipywidgets import interact, interactive, fixed, interact_manual,widgets\n",
    "import ipywidgets as widgets\n",
    "\n",
    "from ipywidgets.widgets import IntSlider, Dropdown\n",
    "plt.ion()"
   ]
  },
  {
   "cell_type": "code",
   "execution_count": 23,
   "metadata": {
    "ExecuteTime": {
     "end_time": "2019-10-21T20:15:19.380261Z",
     "start_time": "2019-10-21T20:15:19.339028Z"
    }
   },
   "outputs": [],
   "source": [
    "data = np.logspace(0, 2, 100)\n",
    "data = np.tile(data, [100, 1])\n",
    "data += np.random.randn(100, 100) * 50\n",
    "data += np.linspace(0, 1000, 100)[:, np.newaxis]"
   ]
  },
  {
   "cell_type": "code",
   "execution_count": 24,
   "metadata": {
    "ExecuteTime": {
     "end_time": "2019-10-21T20:15:21.428724Z",
     "start_time": "2019-10-21T20:15:21.210948Z"
    }
   },
   "outputs": [
    {
     "data": {
      "application/vnd.jupyter.widget-view+json": {
       "model_id": "c2b7123c4a1f43b0ae2266edd86bb24a",
       "version_major": 2,
       "version_minor": 0
      },
      "text/plain": [
       "interactive(children=(IntSlider(value=0, description='ii', max=99), Dropdown(description='cmap', options=('coo…"
      ]
     },
     "metadata": {},
     "output_type": "display_data"
    }
   ],
   "source": [
    "cmaps = ['coolwarm', 'viridis', 'magma']\n",
    "def plot_data(ii, cmap):\n",
    "    fig, ax = plt.subplots()\n",
    "    cmap = plt.get_cmap(cmap)\n",
    "    color = cmap(ii / 100.)\n",
    "    ax.plot(data[ii], color=color)\n",
    "    ax.set_ylim([0, 1000])\n",
    "    plt.show()\n",
    "    \n",
    "p = interact(plot_data, ii=IntSlider(0, 0, 99), cmap=Dropdown(options=cmaps))"
   ]
  },
  {
   "cell_type": "code",
   "execution_count": 25,
   "metadata": {
    "ExecuteTime": {
     "end_time": "2019-10-21T20:15:34.669361Z",
     "start_time": "2019-10-21T20:15:34.454644Z"
    }
   },
   "outputs": [
    {
     "data": {
      "application/vnd.jupyter.widget-view+json": {
       "model_id": "e06c4573b807455383d54d0c35b32b9a",
       "version_major": 2,
       "version_minor": 0
      },
      "text/plain": [
       "interactive(children=(FloatSlider(value=0.0, description='m', max=2.0, min=-2.0), FloatSlider(value=0.0, descr…"
      ]
     },
     "metadata": {},
     "output_type": "display_data"
    }
   ],
   "source": [
    "def f(m, b):\n",
    "    \n",
    "    plt.figure(2)\n",
    "    x = np.linspace(-10, 10, num=1000)\n",
    "    plt.plot(x, m * x + b)\n",
    "    plt.ylim(-5, 5)\n",
    "    plt.show()\n",
    "\n",
    "interactive_plot = interactive(f, m=(-2.0, 2.0), b=(-3, 3, 0.5))\n",
    "\n",
    "output = interactive_plot.children[-1] # What is this?\n",
    "output.layout.height = '350px'\n",
    "\n",
    "interactive_plot"
   ]
  },
  {
   "cell_type": "code",
   "execution_count": null,
   "metadata": {},
   "outputs": [],
   "source": []
  }
 ],
 "metadata": {
  "kernelspec": {
   "display_name": "Python 3",
   "language": "python",
   "name": "python3"
  },
  "language_info": {
   "codemirror_mode": {
    "name": "ipython",
    "version": 3
   },
   "file_extension": ".py",
   "mimetype": "text/x-python",
   "name": "python",
   "nbconvert_exporter": "python",
   "pygments_lexer": "ipython3",
   "version": "3.7.7"
  }
 },
 "nbformat": 4,
 "nbformat_minor": 2
}
