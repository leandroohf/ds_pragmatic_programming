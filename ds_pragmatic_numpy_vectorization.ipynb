{
 "cells": [
  {
   "cell_type": "markdown",
   "metadata": {},
   "source": [
    "# Numpy vectorization"
   ]
  },
  {
   "cell_type": "code",
   "execution_count": 3,
   "metadata": {},
   "outputs": [],
   "source": [
    "import numpy as np\n",
    "\n",
    "import IPython\n",
    "from IPython.core.interactiveshell import InteractiveShell\n",
    "InteractiveShell.ast_node_interactivity = \"all\""
   ]
  },
  {
   "cell_type": "markdown",
   "metadata": {
    "heading_collapsed": true
   },
   "source": [
    "## Read from files"
   ]
  },
  {
   "cell_type": "code",
   "execution_count": 40,
   "metadata": {
    "hidden": true
   },
   "outputs": [
    {
     "name": "stdout",
     "output_type": "stream",
     "text": [
      "/tmp/tmpscc_p4ds\n"
     ]
    },
    {
     "data": {
      "text/plain": [
       "array([1, 2, 3, 4, 5])"
      ]
     },
     "execution_count": 40,
     "metadata": {},
     "output_type": "execute_result"
    },
    {
     "name": "stdout",
     "output_type": "stream",
     "text": [
      "num_text: \n",
      "0 1\n",
      "2 3\n"
     ]
    },
    {
     "data": {
      "text/plain": [
       "array([[0., 1.],\n",
       "       [2., 3.]])"
      ]
     },
     "execution_count": 40,
     "metadata": {},
     "output_type": "execute_result"
    }
   ],
   "source": [
    "import tempfile\n",
    "from io import StringIO\n",
    "\n",
    "fname = tempfile.mkstemp()[1]\n",
    "print(fname)\n",
    "\n",
    "arr = np.array([1,2,3,4,5])\n",
    "\n",
    "# save\n",
    "np.save(fname, x)\n",
    "\n",
    "# load\n",
    "np.load(fname + '.npy')\n",
    "\n",
    "num_text = u\"0 1\\n2 3\"\n",
    "print(f\"num_text: \\n{num_text}\")\n",
    "\n",
    "c = StringIO(num_text)\n",
    "\n",
    "np.loadtxt(c)"
   ]
  },
  {
   "cell_type": "markdown",
   "metadata": {
    "heading_collapsed": true
   },
   "source": [
    "## Vectors Linear Algebra\n",
    "\n",
    "* norm\n",
    "* transpose\n",
    "* dot product \n"
   ]
  },
  {
   "cell_type": "code",
   "execution_count": 97,
   "metadata": {
    "hidden": true
   },
   "outputs": [
    {
     "data": {
      "text/plain": [
       "array([[0., 0.],\n",
       "       [0., 0.]])"
      ]
     },
     "execution_count": 97,
     "metadata": {},
     "output_type": "execute_result"
    },
    {
     "data": {
      "text/plain": [
       "array([[1., 1.],\n",
       "       [1., 1.],\n",
       "       [1., 1.]])"
      ]
     },
     "execution_count": 97,
     "metadata": {},
     "output_type": "execute_result"
    },
    {
     "data": {
      "text/plain": [
       "array([[1., 0., 0.],\n",
       "       [0., 1., 0.],\n",
       "       [0., 0., 1.]])"
      ]
     },
     "execution_count": 97,
     "metadata": {},
     "output_type": "execute_result"
    },
    {
     "data": {
      "text/plain": [
       "array([[1, 2, 3],\n",
       "       [4, 5, 6],\n",
       "       [7, 8, 9]])"
      ]
     },
     "execution_count": 97,
     "metadata": {},
     "output_type": "execute_result"
    },
    {
     "data": {
      "text/plain": [
       "array([1, 5, 9])"
      ]
     },
     "execution_count": 97,
     "metadata": {},
     "output_type": "execute_result"
    },
    {
     "data": {
      "text/plain": [
       "array([[1, 0, 0],\n",
       "       [0, 2, 0],\n",
       "       [0, 0, 3]])"
      ]
     },
     "execution_count": 97,
     "metadata": {},
     "output_type": "execute_result"
    },
    {
     "name": "stdout",
     "output_type": "stream",
     "text": [
      "Create empyt array. Useful for stacking\n"
     ]
    },
    {
     "data": {
      "text/plain": [
       "(2, 3)"
      ]
     },
     "execution_count": 97,
     "metadata": {},
     "output_type": "execute_result"
    },
    {
     "data": {
      "text/plain": [
       "dtype('int64')"
      ]
     },
     "execution_count": 97,
     "metadata": {},
     "output_type": "execute_result"
    }
   ],
   "source": [
    "np.zeros((2,2))\n",
    "np.ones((3,2))\n",
    "\n",
    "np.identity(3)\n",
    "\n",
    "# extract the diagonal A must be 2D array\n",
    "A = np.array([[1,2,3], [4,5,6], [7,8,9]])\n",
    "A\n",
    "np.diag(A)\n",
    "\n",
    "# build a diagonal matrix. input must be 1d array\n",
    "A = np.array([1, 2, 3])\n",
    "\n",
    "np.diag(A)\n",
    "\n",
    "print(\"Create empyt array. Useful for stacking\")\n",
    "e = np.empty((2,3), dtype=np.int)\n",
    "e.shape\n",
    "e.dtype"
   ]
  },
  {
   "cell_type": "code",
   "execution_count": 94,
   "metadata": {
    "hidden": true
   },
   "outputs": [
    {
     "data": {
      "text/plain": [
       "5.0"
      ]
     },
     "execution_count": 94,
     "metadata": {},
     "output_type": "execute_result"
    },
    {
     "data": {
      "text/plain": [
       "0.0"
      ]
     },
     "execution_count": 94,
     "metadata": {},
     "output_type": "execute_result"
    }
   ],
   "source": [
    "v1 = np.array([3.0,4.0])\n",
    "np.linalg.norm(v1)\n",
    "\n",
    "\n",
    "e1 = np.array([1.0,0.0])\n",
    "e2 = np.array([0.0,4.0])\n",
    "\n",
    "np.dot(e1,e2)"
   ]
  },
  {
   "cell_type": "code",
   "execution_count": 90,
   "metadata": {
    "hidden": true
   },
   "outputs": [
    {
     "data": {
      "text/plain": [
       "array([[1., 0.],\n",
       "       [0., 1.]])"
      ]
     },
     "execution_count": 90,
     "metadata": {},
     "output_type": "execute_result"
    },
    {
     "data": {
      "text/plain": [
       "array([[1. , 0.5],\n",
       "       [2. , 2. ]])"
      ]
     },
     "execution_count": 90,
     "metadata": {},
     "output_type": "execute_result"
    },
    {
     "data": {
      "text/plain": [
       "array([[1., 0.],\n",
       "       [0., 2.]])"
      ]
     },
     "execution_count": 90,
     "metadata": {},
     "output_type": "execute_result"
    },
    {
     "data": {
      "text/plain": [
       "array([[1., 0.],\n",
       "       [0., 2.]])"
      ]
     },
     "execution_count": 90,
     "metadata": {},
     "output_type": "execute_result"
    },
    {
     "name": "stdout",
     "output_type": "stream",
     "text": [
      "matrix multiplication\n"
     ]
    },
    {
     "data": {
      "text/plain": [
       "array([[1. , 0.5],\n",
       "       [2. , 2. ]])"
      ]
     },
     "execution_count": 90,
     "metadata": {},
     "output_type": "execute_result"
    },
    {
     "data": {
      "text/plain": [
       "array([[1. , 2. ],\n",
       "       [0.5, 2. ]])"
      ]
     },
     "execution_count": 90,
     "metadata": {},
     "output_type": "execute_result"
    }
   ],
   "source": [
    "I = np.array([[1.0,0.0],[0.0,1.0]])\n",
    "A = np.array([[1.0,0.5],[2.0,2.0]])\n",
    "I\n",
    "A\n",
    "\n",
    "# elemnt wise mutliplication\n",
    "A*I\n",
    "np.multiply(A,I)\n",
    "\n",
    "\n",
    "print(\"matrix multiplication\")\n",
    "# matrix multiplication\n",
    "np.matmul(A,I)\n",
    "\n",
    "# Transpose\n",
    "A.T"
   ]
  },
  {
   "cell_type": "markdown",
   "metadata": {
    "heading_collapsed": true
   },
   "source": [
    "## Vectorization operations"
   ]
  },
  {
   "cell_type": "code",
   "execution_count": 99,
   "metadata": {
    "hidden": true
   },
   "outputs": [
    {
     "data": {
      "text/plain": [
       "array([1, 2, 3, 4])"
      ]
     },
     "execution_count": 99,
     "metadata": {},
     "output_type": "execute_result"
    },
    {
     "data": {
      "text/plain": [
       "array([[1, 2],\n",
       "       [3, 4]])"
      ]
     },
     "execution_count": 99,
     "metadata": {},
     "output_type": "execute_result"
    },
    {
     "data": {
      "text/plain": [
       "(2, 2, 1)"
      ]
     },
     "execution_count": 99,
     "metadata": {},
     "output_type": "execute_result"
    },
    {
     "data": {
      "text/plain": [
       "array([[1., 0.],\n",
       "       [0., 4.]])"
      ]
     },
     "execution_count": 99,
     "metadata": {},
     "output_type": "execute_result"
    },
    {
     "data": {
      "text/plain": [
       "array([1., 0., 0., 4.])"
      ]
     },
     "execution_count": 99,
     "metadata": {},
     "output_type": "execute_result"
    },
    {
     "data": {
      "text/plain": [
       "array([1, 2, 3, 4])"
      ]
     },
     "execution_count": 99,
     "metadata": {},
     "output_type": "execute_result"
    }
   ],
   "source": [
    "a = np.array([1,2,3,4])\n",
    "a\n",
    "\n",
    "a.reshape((2,2))\n",
    "\n",
    "a.reshape((2,2,1)).shape\n",
    "\n",
    "\n",
    "e1 = np.array([1.0,0.0])\n",
    "e2 = np.array([0.0,4.0])\n",
    "\n",
    "np.vstack((e1,e2))\n",
    "\n",
    "np.hstack((e1,e2))\n",
    "\n",
    "A = np.array([[1,2], [3,4]])\n",
    "A.flatten()"
   ]
  },
  {
   "cell_type": "code",
   "execution_count": 26,
   "metadata": {
    "hidden": true
   },
   "outputs": [
    {
     "name": "stdout",
     "output_type": "stream",
     "text": [
      "Last element of all rows\n"
     ]
    },
    {
     "data": {
      "text/plain": [
       "array([5, 2])"
      ]
     },
     "execution_count": 26,
     "metadata": {},
     "output_type": "execute_result"
    },
    {
     "name": "stdout",
     "output_type": "stream",
     "text": [
      "Slices examples\n"
     ]
    },
    {
     "data": {
      "text/plain": [
       "array([3, 4, 5])"
      ]
     },
     "execution_count": 26,
     "metadata": {},
     "output_type": "execute_result"
    },
    {
     "data": {
      "text/plain": [
       "array([1, 2, 3, 4])"
      ]
     },
     "execution_count": 26,
     "metadata": {},
     "output_type": "execute_result"
    },
    {
     "data": {
      "text/plain": [
       "array([1, 2, 3])"
      ]
     },
     "execution_count": 26,
     "metadata": {},
     "output_type": "execute_result"
    }
   ],
   "source": [
    "arr = np.array([[1,2,3,4,5],[0,0,0,1,2]])\n",
    "\n",
    "print(\"Last element of all rows\")\n",
    "arr[:,-1]\n",
    "\n",
    "print(\"Slices examples\")\n",
    "\n",
    "## from n to last one\n",
    "arr = np.array([1,2,3,4,5])\n",
    "arr[2:]\n",
    "\n",
    "# All elements except last one \n",
    "arr[:-1]\n",
    "arr[:-2]"
   ]
  },
  {
   "cell_type": "code",
   "execution_count": 48,
   "metadata": {
    "hidden": true
   },
   "outputs": [
    {
     "data": {
      "text/plain": [
       "array([1, 2, 3, 4, 5])"
      ]
     },
     "execution_count": 48,
     "metadata": {},
     "output_type": "execute_result"
    },
    {
     "data": {
      "text/plain": [
       "array([5, 4, 3, 2, 1])"
      ]
     },
     "execution_count": 48,
     "metadata": {},
     "output_type": "execute_result"
    },
    {
     "data": {
      "text/plain": [
       "array([0.        , 1.66666667, 3.33333333, 5.        ])"
      ]
     },
     "execution_count": 48,
     "metadata": {},
     "output_type": "execute_result"
    }
   ],
   "source": [
    "# reverse \n",
    "arr\n",
    "arr[::-1]\n",
    "\n",
    "# linearspace\n",
    "np.linspace(0.0,5.0,4)"
   ]
  },
  {
   "cell_type": "code",
   "execution_count": 113,
   "metadata": {
    "hidden": true
   },
   "outputs": [
    {
     "data": {
      "text/plain": [
       "array([ 0.1, -0.1,  0. ,  0.2])"
      ]
     },
     "execution_count": 113,
     "metadata": {},
     "output_type": "execute_result"
    },
    {
     "data": {
      "text/plain": [
       "True"
      ]
     },
     "execution_count": 113,
     "metadata": {},
     "output_type": "execute_result"
    }
   ],
   "source": [
    "v = np.array([0.1,-0.1,0.0,0.2])\n",
    "v\n",
    "\n",
    "rtol = 0.20 # relative tolerance 30%\n",
    "atol = 0.3 # absolute tolerance\n",
    "np.allclose(v, np.zeros(v.shape), rtol, atol)"
   ]
  },
  {
   "cell_type": "code",
   "execution_count": 121,
   "metadata": {
    "hidden": true
   },
   "outputs": [
    {
     "data": {
      "text/plain": [
       "array([[-6,  3],\n",
       "       [ 4,  5]])"
      ]
     },
     "execution_count": 121,
     "metadata": {},
     "output_type": "execute_result"
    },
    {
     "data": {
      "text/plain": [
       "array([ 6.64078309, -2.21359436])"
      ]
     },
     "execution_count": 121,
     "metadata": {},
     "output_type": "execute_result"
    },
    {
     "data": {
      "text/plain": [
       "array([ 6.64078309, -2.21359436])"
      ]
     },
     "execution_count": 121,
     "metadata": {},
     "output_type": "execute_result"
    },
    {
     "data": {
      "text/plain": [
       "array([-1.45521375, -5.820855  ])"
      ]
     },
     "execution_count": 121,
     "metadata": {},
     "output_type": "execute_result"
    },
    {
     "data": {
      "text/plain": [
       "array([-1.45521375, -5.820855  ])"
      ]
     },
     "execution_count": 121,
     "metadata": {},
     "output_type": "execute_result"
    },
    {
     "data": {
      "text/plain": [
       "array([ 6.64078309, -2.21359436])"
      ]
     },
     "execution_count": 121,
     "metadata": {},
     "output_type": "execute_result"
    },
    {
     "data": {
      "text/plain": [
       "array([-5.69209979,  1.8973666 ])"
      ]
     },
     "execution_count": 121,
     "metadata": {},
     "output_type": "execute_result"
    }
   ],
   "source": [
    "# eigen vecotrs and values\n",
    "\n",
    "A = np.array([[-6,3],[4,5]])\n",
    "A\n",
    "\n",
    "# Av = lambda v\n",
    "eigen_vals, eigen_vecs = np.linalg.eig(A)\n",
    "\n",
    "lambda1 = eigen_vals[0]\n",
    "lambda2 =  eigen_vals[1]\n",
    "\n",
    "# eigenvecotr are the columns of the output matrix\n",
    "e1 = eigen_vecs[:, 0]\n",
    "e2 = eigen_vecs[:, 1]\n",
    "\n",
    "\n",
    "# ok \n",
    "np.matmul(A,e1)\n",
    "lambda1*e1\n",
    "\n",
    "# ok\n",
    "np.matmul(A,e2)\n",
    "lambda2*e2\n",
    "\n",
    "# fail\n",
    "np.matmul(A,e1)\n",
    "lambda2*e1"
   ]
  },
  {
   "cell_type": "markdown",
   "metadata": {
    "heading_collapsed": true
   },
   "source": [
    "## Functional programming"
   ]
  },
  {
   "cell_type": "code",
   "execution_count": 28,
   "metadata": {
    "hidden": true
   },
   "outputs": [
    {
     "data": {
      "text/plain": [
       "array([ 1,  4,  9, 16, 25])"
      ]
     },
     "execution_count": 28,
     "metadata": {},
     "output_type": "execute_result"
    },
    {
     "data": {
      "text/plain": [
       "array([ 1,  4,  9, 16, 25])"
      ]
     },
     "execution_count": 28,
     "metadata": {},
     "output_type": "execute_result"
    }
   ],
   "source": [
    "arr = np.array([1, 2, 3, 4, 5])\n",
    "squarer = lambda t: t ** 2\n",
    "\n",
    "# easy to read\n",
    "np.array([x*x for x in arr  ])\n",
    "\n",
    "vfunc = np.vectorize(squarer)\n",
    "vfunc(arr)"
   ]
  },
  {
   "cell_type": "code",
   "execution_count": 76,
   "metadata": {
    "hidden": true
   },
   "outputs": [
    {
     "data": {
      "text/plain": [
       "array([[3, 2, 1],\n",
       "       [4, 8, 6],\n",
       "       [7, 5, 9]])"
      ]
     },
     "execution_count": 76,
     "metadata": {},
     "output_type": "execute_result"
    },
    {
     "data": {
      "text/plain": [
       "array([[3, 2, 1],\n",
       "       [4, 5, 6],\n",
       "       [7, 8, 9]])"
      ]
     },
     "execution_count": 76,
     "metadata": {},
     "output_type": "execute_result"
    },
    {
     "data": {
      "text/plain": [
       "array([[1, 2, 3],\n",
       "       [4, 6, 8],\n",
       "       [5, 7, 9]])"
      ]
     },
     "execution_count": 76,
     "metadata": {},
     "output_type": "execute_result"
    }
   ],
   "source": [
    "A = np.array([[3,2,1], [4,8,6], [7,5,9]])\n",
    "A\n",
    "\n",
    "# sort all columns\n",
    "np.apply_along_axis(sorted, 0, A)\n",
    "\n",
    "# sort all rows\n",
    "np.apply_along_axis(sorted, 1, A)"
   ]
  },
  {
   "cell_type": "markdown",
   "metadata": {},
   "source": [
    "## Random numbers"
   ]
  },
  {
   "cell_type": "code",
   "execution_count": 49,
   "metadata": {},
   "outputs": [
    {
     "data": {
      "text/plain": [
       "array([3, 1, 2, 4, 1, 1, 1])"
      ]
     },
     "execution_count": 49,
     "metadata": {},
     "output_type": "execute_result"
    },
    {
     "data": {
      "text/plain": [
       "array([ 0.13862265, -0.12587612, -0.96250398, -0.91873853, -0.50422341])"
      ]
     },
     "execution_count": 49,
     "metadata": {},
     "output_type": "execute_result"
    }
   ],
   "source": [
    "np.random.seed(3)\n",
    "\n",
    "arr = np.array([1,2,3,4,5])\n",
    "\n",
    "# sample with repetition\n",
    "x = np.random.choice(arr, size=7)\n",
    "x\n",
    "\n",
    "# uniform\n",
    "s = np.random.uniform(-1,1,5)\n",
    "s\n",
    "\n",
    "# normal distribution\n",
    "mu, sigma = 0, 1.0 # mean and standard deviation\n",
    "s = np.random.normal(mu, sigma, 100)"
   ]
  },
  {
   "cell_type": "code",
   "execution_count": 60,
   "metadata": {},
   "outputs": [
    {
     "data": {
      "text/plain": [
       "array([9, 8, 7, 2, 6, 0, 1, 4, 5, 3])"
      ]
     },
     "execution_count": 60,
     "metadata": {},
     "output_type": "execute_result"
    }
   ],
   "source": [
    "# random permutation [0-10]\n",
    "np.random.permutation(10)"
   ]
  },
  {
   "cell_type": "markdown",
   "metadata": {},
   "source": [
    "## Statisics"
   ]
  },
  {
   "cell_type": "code",
   "execution_count": 72,
   "metadata": {},
   "outputs": [
    {
     "name": "stdout",
     "output_type": "stream",
     "text": [
      "[[1 2]\n",
      " [3 4]]\n"
     ]
    },
    {
     "data": {
      "text/plain": [
       "2.5"
      ]
     },
     "execution_count": 72,
     "metadata": {},
     "output_type": "execute_result"
    },
    {
     "data": {
      "text/plain": [
       "array([2., 3.])"
      ]
     },
     "execution_count": 72,
     "metadata": {},
     "output_type": "execute_result"
    },
    {
     "data": {
      "text/plain": [
       "array([1.5, 3.5])"
      ]
     },
     "execution_count": 72,
     "metadata": {},
     "output_type": "execute_result"
    },
    {
     "data": {
      "text/plain": [
       "26.4"
      ]
     },
     "execution_count": 72,
     "metadata": {},
     "output_type": "execute_result"
    },
    {
     "data": {
      "text/plain": [
       "nan"
      ]
     },
     "execution_count": 72,
     "metadata": {},
     "output_type": "execute_result"
    }
   ],
   "source": [
    "A = np.array([[1, 2], [3, 4]])\n",
    "print(A)\n",
    "\n",
    "\n",
    "# global mean\n",
    "np.mean(A)\n",
    "\n",
    "# column mean\n",
    "np.mean(A,axis=0)\n",
    "\n",
    "# row mean\n",
    "np.mean(A,axis=1)\n",
    "\n",
    "A = np.array([[20, 15, 37], [47, 13, np.nan]])  \n",
    "\n",
    "# ignore nan\n",
    "np.nanmean(A)\n",
    "np.mean(A)"
   ]
  },
  {
   "cell_type": "code",
   "execution_count": 70,
   "metadata": {},
   "outputs": [
    {
     "data": {
      "text/plain": [
       "array([50., 40., 60.])"
      ]
     },
     "execution_count": 70,
     "metadata": {},
     "output_type": "execute_result"
    },
    {
     "data": {
      "text/plain": [
       "array([50., 40., 60.])"
      ]
     },
     "execution_count": 70,
     "metadata": {},
     "output_type": "execute_result"
    },
    {
     "data": {
      "text/plain": [
       "array([[3, 7, 5],\n",
       "       [8, 4, 3],\n",
       "       [2, 4, 9]])"
      ]
     },
     "execution_count": 70,
     "metadata": {},
     "output_type": "execute_result"
    },
    {
     "data": {
      "text/plain": [
       "array([6, 3, 6])"
      ]
     },
     "execution_count": 70,
     "metadata": {},
     "output_type": "execute_result"
    }
   ],
   "source": [
    "A = np.array([[30,40,70],[80,20,10],[50,90,60]]) \n",
    "\n",
    "q =  50 # percentile 0-100 , 50 is the median\n",
    "np.percentile(A, q, axis=0)\n",
    "np.median(A,axis=0)\n",
    "\n",
    "\n",
    "# Raneg funcrion return (max - min)\n",
    "A = np.array([[3,7,5],[8,4,3],[2,4,9]]) \n",
    "A\n",
    "\n",
    "np.ptp(A, axis = 0) "
   ]
  },
  {
   "cell_type": "markdown",
   "metadata": {},
   "source": [
    "## Masked arrays\n",
    "\n",
    "\n",
    "\n",
    "* https://numpy.org/doc/stable/reference/maskedarray.generic.html\n",
    "\n",
    "The operations in a masked arrays only consider the mask elements. It is useful in image processing"
   ]
  },
  {
   "cell_type": "code",
   "execution_count": 31,
   "metadata": {},
   "outputs": [
    {
     "data": {
      "text/plain": [
       "masked_array(data=[--, --, 3.0, --, 5.0, --],\n",
       "             mask=[ True,  True, False,  True, False,  True],\n",
       "       fill_value=nan)"
      ]
     },
     "execution_count": 31,
     "metadata": {},
     "output_type": "execute_result"
    },
    {
     "name": "stdout",
     "output_type": "stream",
     "text": [
      "Show me dont tell me\n",
      "\n",
      "na mean 4.0 and mean 4.0 shoud match\n",
      "sum: 8.0 (Expected: 8)\n"
     ]
    },
    {
     "data": {
      "text/plain": [
       "masked_array(data=[--, --, 3.0, --, 5.0, --],\n",
       "             mask=[ True,  True, False,  True, False,  True],\n",
       "       fill_value=1e+20)"
      ]
     },
     "execution_count": 31,
     "metadata": {},
     "output_type": "execute_result"
    },
    {
     "name": "stdout",
     "output_type": "stream",
     "text": [
      "std: 1.0; expected: 1.0\n",
      "median: 4.0\n",
      "\n",
      "How to create\n",
      "[1.0 -- 3.0 4.0 --]\n",
      "[1.0 -- 3.0 4.0 --]\n",
      "\n",
      "Access and assign values\n",
      "[1.0 3.0 4.0]\n",
      "[-9999.0 -- -9999.0 -9999.0 --]\n",
      "\n",
      "Unmasking\n"
     ]
    },
    {
     "data": {
      "text/plain": [
       "masked_array(data=[--, --, 3.0, --, 5.0, --],\n",
       "             mask=[ True,  True, False,  True, False,  True],\n",
       "       fill_value=1e+20)"
      ]
     },
     "execution_count": 31,
     "metadata": {},
     "output_type": "execute_result"
    },
    {
     "data": {
      "text/plain": [
       "masked_array(data=[--, 2.0, 3.0, --, 5.0, --],\n",
       "             mask=[ True, False, False,  True, False,  True],\n",
       "       fill_value=1e+20)"
      ]
     },
     "execution_count": 31,
     "metadata": {},
     "output_type": "execute_result"
    }
   ],
   "source": [
    "# computes only consider the elements with mask value equal to zero\n",
    "# the other elements will be considered not a number but you can use -99999 as well\n",
    "x = np.ma.array([1., -1., 3., 4., 5., 6.], \n",
    "             mask=[1,1,0,1,0,1], \n",
    "             fill_value=np.nan)\n",
    "x\n",
    "\n",
    "print(\"Show me dont tell me\")\n",
    "print()\n",
    "print(f\"na mean {np.nanmean(x)} and mean {x.mean()} shoud match\")\n",
    "print(f\"sum: {x.sum()} (Expected: 8)\")\n",
    "\n",
    "x = np.ma.array([1., -1., 3., 4., 5., 6.], mask=[1,1,0,1,0,1])\n",
    "x\n",
    "\n",
    "print(f\"std: {x.std()}; expected: {np.std([3,5])}\")\n",
    "print(f\"median: {np.ma.median(x)}\")\n",
    "\n",
    "print()\n",
    "print(\"How to create\")\n",
    "# Create mask array where all values close to 1.e20 is masked\n",
    "z = np.ma.masked_values([1.0, 1e20, 3.0, 4.0, 1e20], 1e20)\n",
    "print(z)\n",
    "\n",
    "# \n",
    "z = np.ma.masked_greater([1.0, 11, 3.0, 4.0, 17], 10)\n",
    "print(z)\n",
    "\n",
    "print()\n",
    "print(\"Access and assign values\")\n",
    "\n",
    "# access only the valid ones\n",
    "print(z[~z.mask])\n",
    "\n",
    "# Change all valids ones\n",
    "z[~z.mask] = -9999\n",
    "print(z)\n",
    "\n",
    "\n",
    "# unmasking\n",
    "\n",
    "print()\n",
    "print(\"Unmasking\")\n",
    "\n",
    "x = np.ma.array([1., -1., 3., 4., 5., 6.], mask=[1,1,0,1,0,1])\n",
    "x\n",
    "\n",
    "# Unmasking one value\n",
    "x[1] = 2.0\n",
    "x\n"
   ]
  },
  {
   "cell_type": "code",
   "execution_count": null,
   "metadata": {},
   "outputs": [],
   "source": []
  }
 ],
 "metadata": {
  "kernelspec": {
   "display_name": "Python 3",
   "language": "python",
   "name": "python3"
  },
  "language_info": {
   "codemirror_mode": {
    "name": "ipython",
    "version": 3
   },
   "file_extension": ".py",
   "mimetype": "text/x-python",
   "name": "python",
   "nbconvert_exporter": "python",
   "pygments_lexer": "ipython3",
   "version": "3.8.3"
  },
  "toc": {
   "base_numbering": 1,
   "nav_menu": {},
   "number_sections": true,
   "sideBar": true,
   "skip_h1_title": false,
   "title_cell": "Table of Contents",
   "title_sidebar": "Contents",
   "toc_cell": false,
   "toc_position": {},
   "toc_section_display": true,
   "toc_window_display": false
  },
  "varInspector": {
   "cols": {
    "lenName": 16,
    "lenType": 16,
    "lenVar": 40
   },
   "kernels_config": {
    "python": {
     "delete_cmd_postfix": "",
     "delete_cmd_prefix": "del ",
     "library": "var_list.py",
     "varRefreshCmd": "print(var_dic_list())"
    },
    "r": {
     "delete_cmd_postfix": ") ",
     "delete_cmd_prefix": "rm(",
     "library": "var_list.r",
     "varRefreshCmd": "cat(var_dic_list()) "
    }
   },
   "types_to_exclude": [
    "module",
    "function",
    "builtin_function_or_method",
    "instance",
    "_Feature"
   ],
   "window_display": false
  }
 },
 "nbformat": 4,
 "nbformat_minor": 2
}
