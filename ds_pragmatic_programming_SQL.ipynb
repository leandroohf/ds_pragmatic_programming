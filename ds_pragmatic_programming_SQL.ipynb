{
 "cells": [
  {
   "cell_type": "markdown",
   "metadata": {},
   "source": [
    "# SQL Postgres n SQLITE\n",
    "\n",
    "* KPIs in sql\n",
    "\n",
    "somes refs:\n",
    "\n",
    "    * customer retention: https://blog.statsbot.co/customer-retention-analysis-93af9daee46b\n",
    "    * funnel analysis: https://blog.statsbot.co/sql-queries-for-funnel-analysis-35d5e456371d\n",
    "    \n",
    "        How many subscribe -> hoe many did audiction -> How many order an report\n",
    "    \n",
    "    * GAMES KPIs\n",
    "    \n",
    "        * https://applift.com/blog/user-retention\n",
    "        * https://medium.com/n3twork/game-analytics-overview-ea8f53ffdff1\n",
    "        * https://www.periscopedata.com/blog/how-to-calculate-cohort-retention-in-sql #A\n",
    "\n",
    "* windows functions\n",
    "* joins\n",
    "* Filters \n",
    "* Transactions #A very important\n",
    "* jaccard and trigrmas (at least postgres support that)\n",
    "\n",
    "* How to insert csv file in sqlite3 in summarize data without worry about memory issues\n"
   ]
  },
  {
   "cell_type": "code",
   "execution_count": 4,
   "metadata": {
    "ExecuteTime": {
     "end_time": "2019-04-26T17:39:21.932370Z",
     "start_time": "2019-04-26T17:39:20.476800Z"
    }
   },
   "outputs": [],
   "source": [
    "import numpy as np\n",
    "import pandas as pd\n",
    "\n",
    "from scipy import stats\n",
    "\n",
    "import matplotlib\n",
    "import matplotlib.pyplot as plt\n",
    "%matplotlib inline \n",
    "\n",
    "import IPython\n",
    "from IPython.core.interactiveshell import InteractiveShell\n",
    "InteractiveShell.ast_node_interactivity = \"all\"\n",
    "\n",
    "from sqlalchemy import create_engine\n",
    "import datetime as dt\n"
   ]
  },
  {
   "cell_type": "markdown",
   "metadata": {},
   "source": [
    "## SQLITE\n",
    "\n",
    "* Search how to run sql code in jupyter notebook cells\n",
    "* terminal common command\n",
    "* common SQL queries\n",
    "    * joins\n",
    "    * cross join (cartesian product)\n",
    "* windowing functions (time series) GOOD explanation"
   ]
  },
  {
   "cell_type": "markdown",
   "metadata": {},
   "source": [
    "### Code to process and add data to sqlite file\n",
    "\n",
    "\n",
    "If the data does not fit in memmory and it is not big data, an alternative is to load the data in sqlite and use sqlite to summarize the data. In the case you need median and qunatiles you can take a large sample that fits in memmory and use python to compute that, so you will have a good estimation of these statistics.\n",
    "\n",
    "refs: https://plot.ly/python/big-data-analytics-with-pandas-and-sqlite/"
   ]
  },
  {
   "cell_type": "code",
   "execution_count": 1,
   "metadata": {
    "ExecuteTime": {
     "end_time": "2019-04-26T17:36:47.986514Z",
     "start_time": "2019-04-26T17:36:47.577531Z"
    }
   },
   "outputs": [
    {
     "name": "stdout",
     "output_type": "stream",
     "text": [
      "2018-10-01 07:00:16 W3SVC1574643156 GILMOUR 10.0.1.50 GET /castingworkbook/directors/director_home.asp - 80 - 10.0.1.50 HTTP/1.1 Mozilla/5.0+(Macintosh;+Intel+Mac+OS+X+10_12_6)+AppleWebKit/605.1.15+(KHTML,+like+Gecko)+Version/11.1.2+Safari/605.1.15 http://www.castingworkbook.com/castingworkbook/directors/dmenu2.asp www.castingworkbook.com 200 0 0 16171 1539 375\r",
      "\r\n"
     ]
    }
   ],
   "source": [
    "!head -n 1 data/logs.log"
   ]
  },
  {
   "cell_type": "code",
   "execution_count": 5,
   "metadata": {
    "ExecuteTime": {
     "end_time": "2019-04-26T17:39:24.127399Z",
     "start_time": "2019-04-26T17:39:23.676585Z"
    }
   },
   "outputs": [
    {
     "name": "stdout",
     "output_type": "stream",
     "text": [
      "(3, 21)\n",
      "0 seconds: completed 3 rows\n",
      "(3, 21)\n",
      "0 seconds: completed 6 rows\n",
      "(3, 21)\n",
      "0 seconds: completed 9 rows\n",
      "(2, 21)\n",
      "0 seconds: completed 12 rows\n"
     ]
    }
   ],
   "source": [
    "disk_engine = create_engine('sqlite:///logs.db') \n",
    "\n",
    "chunksize = 3\n",
    "j = 0\n",
    "start = dt.datetime.now()\n",
    "\n",
    "file_name = 'data/logs.log'\n",
    "\n",
    "columns =  [ 'date', 'time', \n",
    "            'site', 'computer_name', 'server_ip', \n",
    "            'request_type', 'uri_stem', 'uri_query', 'port', \n",
    "            'user_name', 'remote_ip', 'cs_version', 'browser', 'referer', 'host',\n",
    "            'http_code', 'sub_status','win32_status',\n",
    "            # https://support.symantec.com/en_US/article.TECH243050.html\n",
    "            # cs-bytes: Number of bytes sent from client to server\n",
    "            # sc-bytes: Number of bytes sent from server to client\n",
    "            'sc_bytes','cs_bytes',\n",
    "            'loading_time' ]\n",
    "\n",
    "columns_to_drop = ['computer_name', 'uri_query', 'user_name', 'cs_version', \n",
    "                   'host', \n",
    "                   'sub_status','win32_status' ]\n",
    "\n",
    "for df in pd.read_csv(file_name, sep=' ',index_col=False, header=None, chunksize=chunksize, iterator=True, encoding='utf-8'):\n",
    "    \n",
    "    print(df.shape)\n",
    "    df.columns = columns\n",
    "     \n",
    "    # drop columns\n",
    "    for c in columns_to_drop:\n",
    "        df = df.drop(c, axis=1)\n",
    "  \n",
    "    # Do MORE processing in the columns\n",
    "\n",
    "    # Insert data\n",
    "    df.to_sql('log', disk_engine, if_exists='append')\n",
    "    \n",
    "    j+=1\n",
    "    print('{} seconds: completed {} rows'.format((dt.datetime.now() - start).seconds, j*chunksize))\n",
    "\n",
    "    #assert j <= 3, \"Break time\""
   ]
  },
  {
   "cell_type": "code",
   "execution_count": 8,
   "metadata": {
    "ExecuteTime": {
     "end_time": "2019-04-26T17:40:35.843425Z",
     "start_time": "2019-04-26T17:40:35.725564Z"
    }
   },
   "outputs": [
    {
     "name": "stdout",
     "output_type": "stream",
     "text": [
      "0|2018-10-01|07:00:16|W3SVC1574643156|10.0.1.50|GET|/castingworkbook/directors/director_home.asp|80|10.0.1.50|Mozilla/5.0+(Macintosh;+Intel+Mac+OS+X+10_12_6)+AppleWebKit/605.1.15+(KHTML,+like+Gecko)+Version/11.1.2+Safari/605.1.15|http://www.castingworkbook.com/castingworkbook/directors/dmenu2.asp|200|16171|1539|375\r\n",
      "1|2018-10-01|07:00:16|W3SVC1574643156|10.0.1.50|GET|/castingworkbook/newFeatures.asp|80|10.0.1.50|Mozilla/5.0+(Macintosh;+Intel+Mac+OS+X+10_12_6)+AppleWebKit/605.1.15+(KHTML,+like+Gecko)+Version/11.1.2+Safari/605.1.15|http://www.castingworkbook.com/castingworkbook/directors/director_home.asp|200|189|1545|15\r\n",
      "2|2018-10-01|07:00:18|W3SVC1574643156|10.0.1.50|GET|/castingworkbook/agents/shows.asp|80|10.0.1.50|Mozilla/5.0+(Macintosh;+Intel+Mac+OS+X+10_13_6)+AppleWebKit/605.1.15+(KHTML,+like+Gecko)+Version/12.0+Safari/605.1.15|http://www.castingworkbook.com/castingworkbook/agents/shows.asp?type=invitation|200|88306|1095|312\r\n"
     ]
    }
   ],
   "source": [
    "!ls\n",
    "!sqlite3 logs.db 'SELECT * FROM  log LIMIT 3;'"
   ]
  },
  {
   "cell_type": "markdown",
   "metadata": {},
   "source": [
    "## Postgresq\n",
    "\n",
    "* Search how to run sql code in jupyter notebook cells\n",
    "* terminal common command\n",
    "* common SQL queries\n",
    "    * joins\n",
    "    * cross join (cartesian product)\n",
    "    * find the name of the special join that allows you in  a subquery use keyword defined outside\n",
    "* KPIS (since is more likelly to use here and postgresql is more popular)\n",
    "* windowing functions (time series) GOOD explanation\n"
   ]
  },
  {
   "cell_type": "code",
   "execution_count": null,
   "metadata": {},
   "outputs": [],
   "source": []
  }
 ],
 "metadata": {
  "kernelspec": {
   "display_name": "Python 3",
   "language": "python",
   "name": "python3"
  },
  "language_info": {
   "codemirror_mode": {
    "name": "ipython",
    "version": 3
   },
   "file_extension": ".py",
   "mimetype": "text/x-python",
   "name": "python",
   "nbconvert_exporter": "python",
   "pygments_lexer": "ipython3",
   "version": "3.7.7"
  },
  "toc": {
   "base_numbering": 1,
   "nav_menu": {},
   "number_sections": true,
   "sideBar": true,
   "skip_h1_title": false,
   "title_cell": "Table of Contents",
   "title_sidebar": "Contents",
   "toc_cell": false,
   "toc_position": {},
   "toc_section_display": true,
   "toc_window_display": false
  },
  "varInspector": {
   "cols": {
    "lenName": 16,
    "lenType": 16,
    "lenVar": 40
   },
   "kernels_config": {
    "python": {
     "delete_cmd_postfix": "",
     "delete_cmd_prefix": "del ",
     "library": "var_list.py",
     "varRefreshCmd": "print(var_dic_list())"
    },
    "r": {
     "delete_cmd_postfix": ") ",
     "delete_cmd_prefix": "rm(",
     "library": "var_list.r",
     "varRefreshCmd": "cat(var_dic_list()) "
    }
   },
   "types_to_exclude": [
    "module",
    "function",
    "builtin_function_or_method",
    "instance",
    "_Feature"
   ],
   "window_display": false
  }
 },
 "nbformat": 4,
 "nbformat_minor": 2
}
