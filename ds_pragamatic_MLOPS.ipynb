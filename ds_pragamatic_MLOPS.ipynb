{
 "cells": [
  {
   "cell_type": "markdown",
   "metadata": {},
   "source": [
    "# MLOPS\n",
    "\n",
    "Snippet codes for deploy ML applications.\n"
   ]
  },
  {
   "cell_type": "markdown",
   "metadata": {},
   "source": [
    "## Best practices"
   ]
  },
  {
   "cell_type": "markdown",
   "metadata": {},
   "source": [
    "**TODO** Search more about good practices\n",
    "\n",
    "1. You need to change enviroment just change configuration files or enviroment variables and NOT code. The code should be the same running on developemwnt, stagibg or production\n",
    "\n",
    "1. Use enviroment variable\n",
    "    * credentials. You can add this envriroment variable in the .env file on your home\n",
    "    * databases or other resources addreess and etc\n",
    "\n",
    "1. Share nothing archicteture (for easy scaling)"
   ]
  },
  {
   "cell_type": "markdown",
   "metadata": {},
   "source": [
    "## Bash"
   ]
  },
  {
   "cell_type": "markdown",
   "metadata": {},
   "source": [
    "For quick documenattion\n",
    "\n",
    "\n",
    "```sh\n",
    "tldr tar\n",
    "\n",
    "```\n",
    "\n",
    "* emacs package howdoyou\n"
   ]
  },
  {
   "cell_type": "markdown",
   "metadata": {},
   "source": [
    "## AWS \n",
    "\n",
    "ref: udacity course material it is a goodreference"
   ]
  },
  {
   "cell_type": "markdown",
   "metadata": {},
   "source": [
    "**TODO**\n",
    "\n",
    "* List of main services what does it do. Waht is good for. Comomn mistakes and do not use it?\n",
    "\n",
    "    1. S3\n",
    "    1. RDS \n",
    "    1. Dynamodb\n",
    "    1. Redshift  <=== for caching. Most recent date is caching, then migrate to postgresql db old data\n",
    "    1. Kafka <== \n",
    "    1. EC2\n",
    "    1. ECR\n",
    "    1. EKS  <== \n",
    "    1. EMR  <===\n",
    "    1. ROUTE53 \n",
    "    1. VPC\n",
    "\n",
    "* Main boring tasks like:\n",
    "\n",
    "    * set IAM\n",
    "    * set group permission\n",
    "    * open port \n",
    "\n",
    "* Main terms\n",
    "\n",
    "    * region\n",
    "    * AZ\n",
    "    * VPC\n",
    "    * Install and set AWS CLI\n",
    "    \n",
    "* Analytics and ML\n",
    "\n",
    "    * Athena\n",
    "    * sagemaker"
   ]
  },
  {
   "cell_type": "markdown",
   "metadata": {},
   "source": [
    "### S3\n",
    "refs:\n",
    "* https://docs.aws.amazon.com/cli/latest/reference/s3/rm.html\n",
    "* https://stackoverflow.com/questions/51375531/aws-cli-s3-bucket-remove-object-with-date-condition"
   ]
  },
  {
   "cell_type": "markdown",
   "metadata": {},
   "source": [
    "Preview commands \n",
    "\n",
    "```sh\n",
    "aws s3 any_command --dryrun\n",
    "\n",
    "```\n",
    "\n",
    "Clean S3 bucket fastest way\n",
    "\n",
    "```sh\n",
    "aws s3 rm s3://bucket-dev --recursive\n",
    "\n",
    "# exclude pattern\n",
    "aws s3 rm s3://mybucket/ --recursive --exclude \"*.jpg\"\n",
    "\n",
    "```\n",
    "\n",
    "**Using python script**\n",
    "\n",
    "```python\n",
    "import boto3    \n",
    "s3 = boto3.resource('s3')\n",
    "bucket = s3.Bucket('my-bucket')\n",
    "# suggested by Jordon Philips \n",
    "bucket.objects.all().delete()\n",
    "```\n",
    "\n",
    "Useful commands\n",
    "```sh\n",
    "\n",
    "# list files in the buckets\n",
    "aws s3 ls s3://bucket-dev\n",
    "\n",
    "# delete key\n",
    "aws s3 rm s3://bucket-dev/test2.txt\n",
    "\n",
    "# delete all txt\n",
    "aws s3 rm s3://bucket-dev/test-folder/ --include \"*.txt\"\n",
    "\n",
    "# count number of files\n",
    "aws s3 ls --recursive s3://bucket-dev/ | wc -l\n",
    "```\n",
    "\n",
    "**delete multiple files based on pattern**\n",
    "<p style=\"color:red\"># BECAREFUL: THIS COMMAND DO NOT ASK TO DELETE BEFORE DELETE</p>\n",
    "\n",
    "```sh\n",
    "\n",
    "# 1) filter the files based on pattern match using grep\n",
    "aws s3 ls s3://bucket-dev/ | awk '{print $4}' | grep -E -i 00a5b462ef48280440ecc6af98133d77_leandro_test2\n",
    "\n",
    "\n",
    "# 2) Pass the output to xargs\n",
    "aws s3 ls s3://bucket-dev/ | awk '{print $4}' | grep -E -i 00a5b462ef48280440ecc6af98133d77_leandro_test2 | xargs -I% echo %_TEXTTTT\n",
    "\n",
    "\n",
    "# 3) Use xrags to run aws s3 rm key\n",
    "aws s3 ls s3://bucket-dev/ | awk '{print $4}' | grep -E -i 00a5b462ef48280440ecc6af98133d77_leandro_test2 | xargs -I% bash -c 'aws s3 rm s3://bucket-dev/%'\n",
    "\n",
    "```\n",
    "\n",
    "**delete mutliple files based on date condition**\n",
    "<p style=\"color:red\"># BECAREFUL: THIS COMMAND DO NOT ASK TO DELETE BEFORE DELETE</p>\n",
    "\n",
    "```sh\n",
    "\n",
    "# 1) count the number of files first\n",
    "aws s3 ls --recursive s3://bucket-dev/ | awk '$1 > \"2021-01-20\" && $1 < \"2021-02-01\" {print $4}'|  sort -n | wc -l\n",
    "\n",
    "# 2) Use xargs to delete. xrags explanation: -n1 mean only one arg per line -t means verbose\n",
    "aws s3 ls --recursive s3://bucket-dev/ | awk '$1 > \"2021-01-20\" && $1 < \"2021-02-01\" {print $4}'|  sort -n | xargs -I% bash -c 'aws s3 rm s3://bucket-dev/%'\n",
    "\n",
    "```\n"
   ]
  },
  {
   "cell_type": "markdown",
   "metadata": {
    "heading_collapsed": true
   },
   "source": [
    "## Docker"
   ]
  },
  {
   "cell_type": "markdown",
   "metadata": {
    "heading_collapsed": true,
    "hidden": true
   },
   "source": [
    "### Main terms\n",
    "\n",
    "Maybe add some FAQ or doubts\n"
   ]
  },
  {
   "cell_type": "markdown",
   "metadata": {
    "heading_collapsed": true,
    "hidden": true
   },
   "source": [
    "### docker\n",
    "\n",
    "What does he do?\n"
   ]
  },
  {
   "cell_type": "markdown",
   "metadata": {
    "heading_collapsed": true,
    "hidden": true
   },
   "source": [
    "### docker-compose \n",
    "\n",
    "\n",
    "What does he do?"
   ]
  },
  {
   "cell_type": "markdown",
   "metadata": {
    "heading_collapsed": true,
    "hidden": true
   },
   "source": [
    "### docker-machine \n",
    "\n",
    "\n",
    "What does he do?\n"
   ]
  },
  {
   "cell_type": "markdown",
   "metadata": {
    "heading_collapsed": true
   },
   "source": [
    "## Kuebernetes"
   ]
  },
  {
   "cell_type": "markdown",
   "metadata": {
    "hidden": true
   },
   "source": [
    "### Summary of main terms\n",
    "\n",
    "* pods \n",
    "\n",
    "* deployment \n",
    "\n",
    "* services\n"
   ]
  },
  {
   "cell_type": "markdown",
   "metadata": {
    "hidden": true
   },
   "source": [
    "### kubectl commands"
   ]
  },
  {
   "cell_type": "markdown",
   "metadata": {
    "hidden": true
   },
   "source": [
    "\n",
    "```bash\n",
    "\n",
    "# get info all services, replicas and deploymenst\n",
    "kubectl get all\n",
    "\n",
    "# get a list of all services running in the cluser\n",
    "kubectl get svc\n",
    "\n",
    "# describe service\n",
    "kubectl describe services my-flask-service\n",
    "\n",
    "# get info about pods\n",
    "kubectl get pods  -o wide --show-labels\n",
    "\n",
    "# get info about clusters nodes (nodes is different form pods)\n",
    "kubectl get nodes\n",
    "\n",
    "# \"ssh\" into a pod: kubectl exec -it <POD-NAME> /bin/sh\n",
    "kubectl exec -it my-flask-844778465d-q4vwr /bin/sh # run ps, top to inspect the pod env\n",
    "\n",
    "```\n",
    "\n"
   ]
  },
  {
   "cell_type": "markdown",
   "metadata": {
    "hidden": true
   },
   "source": [
    "### eksctl commands\n",
    "\n",
    "refs:\n",
    "* https://thanhtungvo.medium.com/eksctl-a-great-cli-tool-for-amazon-eks-36636e268d90\n",
    "* https://eksctl.io/introduction/\n",
    "\n",
    "\n",
    "<p style=\"color:red\">eksctl can RESTART EC2 INSTANCES AUTOMATIC. SO ALWAYS DELETE THE CLUSTER TO MAKE SURE NO INSTANCE WILL BE RUNNING ON AWS.</p>"
   ]
  },
  {
   "cell_type": "markdown",
   "metadata": {
    "hidden": true
   },
   "source": [
    "\n",
    "```bash\n",
    "\n",
    "# create cluster\n",
    "eksctl create cluster --name=cluster-5 --nodes-min=1 --nodes-max=2\n",
    "\n",
    "# get a list of clusters\n",
    "eksctl get clusters\n",
    "\n",
    "# delete cluster\n",
    "eksctl delete cluster --name=<name> [--region=<region>]\n",
    "\n",
    "# For ekstcl it is not automatic delete load balancer if there are any services in the clusters so you need to delete service by manual.\n",
    "kubectl get svc --all-namespaces\n",
    "kubectl delete svc service-name --namespace=[namesapce]\n",
    "\n",
    "\n",
    "\n",
    "# Aloow ssh access to a node\n",
    "eksctl create cluster --ssh-access --ssh-public-key=my_eks_node_id.pub\n",
    "# sshould see a msg:\n",
    "# importing SSH public key \"/home/<USER_NAME>/.ssh/id_rsa.pub\" as \"eksctl-xxx-nodegroup-ng-axxx-xx:xx:xx:xx:xx:xx:xx\"\n",
    "\n",
    "# now you can ssh with:\n",
    "ssh -i /home/<USER_NAME>/.ssh/id_rsa.pub ec2-user@ec2-xx-xx-xx-xx\n",
    "\n",
    "# or to use pre-existing EC2 key pair in us-east-1 region, \n",
    "eksctl create cluster --ssh-access --ssh-public-key=my_kubernetes_key --region=us-east-1\n",
    "\n",
    "```"
   ]
  },
  {
   "cell_type": "markdown",
   "metadata": {
    "hidden": true
   },
   "source": [
    "### Example simple flask app and Load Balancer kubernetes service\n",
    "\n",
    "\n",
    "> * You need AWS account ready\n",
    "> * You need AWS CLI already ready with credentials set\n"
   ]
  },
  {
   "cell_type": "markdown",
   "metadata": {
    "hidden": true
   },
   "source": [
    "#### Flask App"
   ]
  },
  {
   "cell_type": "markdown",
   "metadata": {
    "hidden": true
   },
   "source": [
    "##### Create virtual cluster on AWS"
   ]
  },
  {
   "cell_type": "markdown",
   "metadata": {
    "hidden": true
   },
   "source": [
    "The commmands takes about 5 to 10 minutes on AWS i order to get the cluster ready.\n",
    "\n",
    "```bash\n",
    "# Create a cluster with 2 nodes\n",
    "# Needs permission to create IAM role for the cluster\n",
    "eksctl create cluster \\\n",
    "       --name test-cluster \\\n",
    "       --region us-west-2 \\\n",
    "       --nodegroup-name linux-nodes \\\n",
    "       --node-type t2.micro \\\n",
    "       --nodes 2 # 2 work nodes\n",
    "\n",
    "# Or you can save the conf in yaml file and run\n",
    "eksctl create cluster -f cluster.yaml\n",
    "\n",
    "```"
   ]
  },
  {
   "cell_type": "markdown",
   "metadata": {
    "hidden": true
   },
   "source": [
    "Using yaml file: eks.yaml\n",
    "\n",
    "```yaml\n",
    "apiVersion: eksctl.io/v1alpha5\n",
    "kind: ClusterConfig\n",
    "metadata:\n",
    "  name: my-cluster\n",
    "  region: ap-southeast-1\n",
    "managedNodeGroups:\n",
    "  - name: job-manager\n",
    "    instanceType: t3a.micro\n",
    "    desiredCapacity: 2\n",
    "    minSize: 2\n",
    "    maxSize: 10\n",
    "    tags:\n",
    "      'Project': 'KubernetesNoob'\n",
    "```\n",
    "\n",
    "```bash\n",
    "\n",
    "# Or you can save the conf in yaml file and run\n",
    "eksctl create cluster -f cluster.yaml\n",
    "\n",
    "```"
   ]
  },
  {
   "cell_type": "markdown",
   "metadata": {
    "hidden": true
   },
   "source": [
    "You can inspect the cluster\n",
    "\n",
    "\n",
    "```bash\n",
    "# where kube save info about the cluster\n",
    "cat ~/.kube/config\n",
    "\n",
    "# you can run kubctl commands now\n",
    "kubectl get nodes\n",
    "\n",
    "# get namespace.\n",
    "# kubectl support many virtual clsuter under the same physical cluster\n",
    "kubectl get ns  \n",
    "kubectl get pod ## It is empty now\n",
    "\n",
    "\n",
    "# in case you want to delete\n",
    "# Cleanup malformed clusters\n",
    "eksctl delete cluster --region=us-west-2 --name=test-cluster\n",
    "```\n"
   ]
  },
  {
   "cell_type": "markdown",
   "metadata": {
    "hidden": true
   },
   "source": [
    "##### Push a dockerize app image to ECR"
   ]
  },
  {
   "cell_type": "markdown",
   "metadata": {
    "hidden": true
   },
   "source": [
    "1. **Build the dockerized app**\n",
    "\n",
    "```bash\n",
    "docker build -f Dockerfile -t my-flask-image:latest\n",
    "\n",
    "# see the image\n",
    "docker images\n",
    "\n",
    "# run the the dockerized app\n",
    "docker run -p 5001:5000 my-flask-image\n",
    "\n",
    "# In the case you want to run without docker\n",
    "# http://localhost:5000 \n",
    "python app/main.py\n",
    "```\n",
    "\n",
    "1. Create a new repo on ECR\n",
    "    1. pickup a name: my-flask\n",
    "    1. Look view push commands for help\n",
    "\n",
    "\n",
    "```bash\n",
    "export AWS_ACCOUNT_ID=\"44XXXXXXXX69\"\n",
    "```\n",
    "\n",
    "\n",
    "```bash\n",
    "# tag\n",
    "docker tag my-flask-image:latest ${AWS_ACCOUNT_ID}.dkr.ecr.us-west-2.amazonaws.com/my-flask:latest\n",
    "\n",
    "# get ECR authentication for docker client\n",
    "aws ecr get-login-password --region us-west-2 | docker login --username AWS --password-stdin ${AWS_ACCOUNT_ID}.dkr.ecr.us-west-2.amazonaws.com\n",
    "\n",
    "# push to ECR\n",
    "docker push ${AWS_ACCOUNT_ID}.dkr.ecr.us-west-2.amazonaws.com/my-flask:latest\n",
    "\n",
    "```"
   ]
  },
  {
   "cell_type": "markdown",
   "metadata": {
    "hidden": true
   },
   "source": [
    "##### Create kuberbetes Load Balancer service"
   ]
  },
  {
   "cell_type": "markdown",
   "metadata": {
    "hidden": true
   },
   "source": [
    "\n",
    "1. Create a Load Balnace service: Create the file: deployment.yaml (It has service and deployment kubectl configuration)\n",
    "    \n",
    "   * Expose the cluster PORT 8080 for external access\n",
    "   * Instanciate 2 pods in the eks cluster. replicas of the dockerized flask app \n",
    " \n",
    "```yaml\n",
    "apiVersion: v1\n",
    "kind: Service   # <= service config\n",
    "metadata:\n",
    "  name: my-flask-service\n",
    "spec:\n",
    "  selector:\n",
    "    app: my-flask\n",
    "  ports:\n",
    "  - protocol: \"TCP\"\n",
    "    port: 6000    # <= service expose port in the cluster\n",
    "    targetPort: 5000 # <== Target port. It port 6000 will be redirect to 5000\n",
    "  type: LoadBalancer  # <= service type\n",
    "---\n",
    "apiVersion: apps/v1\n",
    "kind: Deployment  # <= service config\n",
    "metadata:\n",
    "  name: my-flask\n",
    "spec:\n",
    "  selector:\n",
    "    matchLabels:\n",
    "      app: my-flask\n",
    "  replicas: 2  # <= We are creating 2 replicas of flask app\n",
    "  template:\n",
    "    metadata:\n",
    "      labels:\n",
    "        app: my-flask\n",
    "    spec:\n",
    "      containers:\n",
    "      - name: my-flask\n",
    "        image: ${AWS_ACCOUNT_ID}.dkr.ecr.us-west-2.amazonaws.com/my-flask:latest   # <= ECR URI\n",
    "        ports:\n",
    "        - containerPort: 5000   # <= opened port in the containers \n",
    "\n",
    "```\n",
    "\n",
    "\n",
    "Run the commands\n",
    "\n",
    "```bash\n",
    "\n",
    "kubectl apply -f deployment.yaml\n",
    "\n",
    "# get info about the deployment \n",
    "kubectl get deployments my-flask\n",
    "\n",
    "kubectl describe deployments my-flask\n",
    "\n",
    "kubectl get replicasets\n",
    "kubectl describe replicasets\n",
    "\n",
    "```\n"
   ]
  },
  {
   "cell_type": "markdown",
   "metadata": {
    "hidden": true
   },
   "source": [
    "#### Accessing the running container"
   ]
  },
  {
   "cell_type": "markdown",
   "metadata": {
    "hidden": true
   },
   "source": [
    "**From local you can use kubectl proxy**\n",
    "\n",
    "\n",
    "```bash\n",
    "kubectl proxy --port 8080\n",
    "\n",
    "# Get the API versions:\n",
    "curl http://localhost:8080/api/\n",
    "\n",
    "# Get list of pods\n",
    "curl http://localhost:8080/api/v1/namespaces/default/pods\n",
    "\n",
    "```\n",
    "\n",
    "http://localhost:8080/api/v1/namespaces/default/services/my-flask-service/proxy/uname\n",
    "\n",
    "\n",
    "> Every time you refresh you can see the Load Balancer calling different pod every time.\n",
    "\n"
   ]
  },
  {
   "cell_type": "markdown",
   "metadata": {
    "hidden": true
   },
   "source": [
    "**From external**\n",
    "\n",
    "1. Change the service expose port from 6000 to 8080. The port 6000 should NOT be opened on AWS.\n",
    "1. Delete the service and recreate it again\n",
    "\n",
    "\n",
    "```bash\n",
    "# delete the service\n",
    "kubectl delete svc  my-flask-service\n",
    "\n",
    "# recreate again the service\n",
    "kubectl apply -f deployment.yaml\n",
    "\n",
    "# Get info about the service\n",
    "kubectl describe services my-flask-service\n",
    "\n",
    "```\n",
    "Expect output of kubectl describe services \n",
    "\n",
    "\n",
    "```yaml\n",
    "Name:                     my-flask-service\n",
    "Namespace:                default\n",
    "Labels:                   <none>\n",
    "Annotations:              <none>\n",
    "Selector:                 app=my-flask\n",
    "Type:                     LoadBalancer\n",
    "IP Families:              <none>\n",
    "IP:                       <CLUSTER IP>\n",
    "IPs:                      <none>\n",
    "LoadBalancer Ingress:     <EXTERNAL IP or DNS>\n",
    "Port:                     <unset>  8080/TCP\n",
    "TargetPort:               5000/TCP\n",
    "NodePort:                 <unset>  31228/TCP\n",
    "Endpoints:                192.X.X.15X:5000,192.X.X.4X:5000\n",
    "Session Affinity:         None\n",
    "External Traffic Policy:  Cluster\n",
    "Events:\n",
    "  Type    Reason                Age   From                Message\n",
    "  ----    ------                ----  ----                -------\n",
    "  Normal  EnsuringLoadBalancer  42s   service-controller  Ensuring load balancer\n",
    "  Normal  EnsuredLoadBalancer   40s   service-controller  Ensured load balancer\n",
    "\n",
    "```\n",
    "\n",
    "Notes:\n",
    "\n",
    "* ```<EXTERNAL IP or DNS>``` : You should use this in the browser to access the swagger API of the app\n",
    "* Endpoints: Are the IP address of each POD replica in the cluster under this service\n",
    "\n",
    "http://```<EXTERNAL IP or DNS>```:8080/"
   ]
  },
  {
   "cell_type": "markdown",
   "metadata": {
    "hidden": true
   },
   "source": [
    "### Kubernetes dashboards"
   ]
  },
  {
   "cell_type": "markdown",
   "metadata": {},
   "source": [
    "## Jenkins "
   ]
  },
  {
   "cell_type": "code",
   "execution_count": null,
   "metadata": {},
   "outputs": [],
   "source": []
  }
 ],
 "metadata": {
  "kernelspec": {
   "display_name": "Python 3",
   "language": "python",
   "name": "python3"
  },
  "language_info": {
   "codemirror_mode": {
    "name": "ipython",
    "version": 3
   },
   "file_extension": ".py",
   "mimetype": "text/x-python",
   "name": "python",
   "nbconvert_exporter": "python",
   "pygments_lexer": "ipython3",
   "version": "3.8.3"
  },
  "toc": {
   "base_numbering": 1,
   "nav_menu": {},
   "number_sections": true,
   "sideBar": true,
   "skip_h1_title": true,
   "title_cell": "Table of Contents",
   "title_sidebar": "Contents",
   "toc_cell": false,
   "toc_position": {
    "height": "calc(100% - 180px)",
    "left": "10px",
    "top": "150px",
    "width": "369.594px"
   },
   "toc_section_display": true,
   "toc_window_display": true
  },
  "varInspector": {
   "cols": {
    "lenName": 16,
    "lenType": 16,
    "lenVar": 40
   },
   "kernels_config": {
    "python": {
     "delete_cmd_postfix": "",
     "delete_cmd_prefix": "del ",
     "library": "var_list.py",
     "varRefreshCmd": "print(var_dic_list())"
    },
    "r": {
     "delete_cmd_postfix": ") ",
     "delete_cmd_prefix": "rm(",
     "library": "var_list.r",
     "varRefreshCmd": "cat(var_dic_list()) "
    }
   },
   "types_to_exclude": [
    "module",
    "function",
    "builtin_function_or_method",
    "instance",
    "_Feature"
   ],
   "window_display": false
  }
 },
 "nbformat": 4,
 "nbformat_minor": 4
}
