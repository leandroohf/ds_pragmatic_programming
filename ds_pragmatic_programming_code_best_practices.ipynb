{
 "cells": [
  {
   "cell_type": "markdown",
   "metadata": {
    "ExecuteTime": {
     "end_time": "2018-09-11T18:09:18.303884Z",
     "start_time": "2018-09-11T18:09:18.300979Z"
    }
   },
   "source": [
    "# Data Science coding habits and useful tips\n",
    "\n",
    "Notes about how to organize better my analyses and code \n",
    "\n",
    "refs: \n",
    "* https://www.thoughtworks.com/insights/blog/coding-habits-data-scientists\n",
    "* https://github.com/zedr/clean-code-python\n"
   ]
  },
  {
   "cell_type": "code",
   "execution_count": 1,
   "metadata": {},
   "outputs": [],
   "source": [
    "import numpy as np\n",
    "import pandas as pd\n",
    "\n",
    "from scipy import stats\n",
    "\n",
    "import matplotlib\n",
    "import matplotlib.pyplot as plt\n",
    "%matplotlib inline \n",
    "\n",
    "import IPython\n",
    "from IPython.core.interactiveshell import InteractiveShell\n",
    "InteractiveShell.ast_node_interactivity = \"all\"\n"
   ]
  },
  {
   "cell_type": "code",
   "execution_count": 2,
   "metadata": {},
   "outputs": [
    {
     "name": "stdout",
     "output_type": "stream",
     "text": [
      "/home/leandroohf/Documents/leandro/ds_pragmatic_programming\n",
      "add_data.png\t\t     neuron_ANN.png\n",
      "baby1.jpeg\t\t     no_data_pipeline.png\n",
      "biasvariance.png\t     non-linear_and_linear_decision_edge.png\n",
      "data_frame.png\t\t     notebook_vs_code.png\n",
      "final_image.png\t\t     onehot.png\n",
      "hig_bias_low_variance.png    pathlib_cheatsheet_p1.png\n",
      "iris_petal_sepal.png\t     pivot-table-datasheet.png\n",
      "irr_error.png\t\t     refactor_notebooks.png\n",
      "layers.jpeg\t\t     resampling.png\n",
      "learning_rate2.png\t     smote.png\n",
      "learning_rate.png\t     split-apply-combine.png\n",
      "loss_learning_rate.png\t     tomek.png\n",
      "low_high_var.png\t     with_data_pipeline.png\n",
      "mandrill_colour.png\t     xfiles.jpeg\n",
      "minibatch_learning_rate.png\n"
     ]
    }
   ],
   "source": [
    "!pwd\n",
    "!ls images"
   ]
  },
  {
   "cell_type": "markdown",
   "metadata": {},
   "source": [
    "## Useful tips"
   ]
  },
  {
   "cell_type": "markdown",
   "metadata": {
    "heading_collapsed": true
   },
   "source": [
    "### Get start with few rows \n",
    "\n",
    "Work with small data for speedup things or run things local before move to a powerfull machine\n",
    "1. code the model\n",
    "1. dev cleaning data \n"
   ]
  },
  {
   "cell_type": "code",
   "execution_count": null,
   "metadata": {
    "hidden": true
   },
   "outputs": [],
   "source": [
    "df = pd.read_csv('data/FremontBridge.csv', index_col='Date', parse_dates=True, nrows=150)\n",
    "df.shape"
   ]
  },
  {
   "cell_type": "markdown",
   "metadata": {
    "heading_collapsed": true
   },
   "source": [
    "### Report progress for long processing\n",
    "\n",
    "https://medium.com/modern-nlp/10-great-ml-practices-for-python-developers-b089eefc18fc\n",
    "\n",
    "https://github.com/tqdm/tqdm\n",
    "\n",
    "tqdm also works in bash\n",
    "\n",
    "run in bash\n",
    "```sh\n",
    "seq 9999999 | tqdm --bytes | wc -l\n",
    "\n",
    "# compress folder with a lot of files\n",
    "tar -zcf - docs/ | tqdm --bytes --total `du -sb docs/ | cut -f1` > backup.tgz\n",
    " ```\n"
   ]
  },
  {
   "cell_type": "code",
   "execution_count": 5,
   "metadata": {
    "hidden": true
   },
   "outputs": [
    {
     "name": "stderr",
     "output_type": "stream",
     "text": [
      "100%|██████████| 4/4 [00:01<00:00,  3.97it/s]\n"
     ]
    }
   ],
   "source": [
    "from tqdm import tqdm, tnrange\n",
    "from time import sleep\n",
    "import time\n",
    "\n",
    "text = \"\"\n",
    "\n",
    "for char in tqdm([\"a\", \"b\", \"c\", \"d\"]):\n",
    "    time.sleep(0.25)\n",
    "    text = text + char"
   ]
  },
  {
   "cell_type": "code",
   "execution_count": 9,
   "metadata": {
    "hidden": true
   },
   "outputs": [
    {
     "data": {
      "application/vnd.jupyter.widget-view+json": {
       "model_id": "f57e3abd56b84d0a9bf9dca64e45f68e",
       "version_major": 2,
       "version_minor": 0
      },
      "text/plain": [
       "HBox(children=(IntProgress(value=0, description='1st loop', max=3, style=ProgressStyle(description_width='init…"
      ]
     },
     "metadata": {},
     "output_type": "display_data"
    },
    {
     "data": {
      "application/vnd.jupyter.widget-view+json": {
       "model_id": "a29a253240ec45b3a4a5dde431b4ea24",
       "version_major": 2,
       "version_minor": 0
      },
      "text/plain": [
       "HBox(children=(IntProgress(value=0, description='2nd loop', max=10, style=ProgressStyle(description_width='ini…"
      ]
     },
     "metadata": {},
     "output_type": "display_data"
    },
    {
     "name": "stdout",
     "output_type": "stream",
     "text": [
      "\n"
     ]
    },
    {
     "data": {
      "application/vnd.jupyter.widget-view+json": {
       "model_id": "aca4bf3ca396476d96ef9bfeeceba944",
       "version_major": 2,
       "version_minor": 0
      },
      "text/plain": [
       "HBox(children=(IntProgress(value=0, description='2nd loop', max=10, style=ProgressStyle(description_width='ini…"
      ]
     },
     "metadata": {},
     "output_type": "display_data"
    },
    {
     "name": "stdout",
     "output_type": "stream",
     "text": [
      "\n"
     ]
    },
    {
     "data": {
      "application/vnd.jupyter.widget-view+json": {
       "model_id": "d6b32d192c2445598f08221826755728",
       "version_major": 2,
       "version_minor": 0
      },
      "text/plain": [
       "HBox(children=(IntProgress(value=0, description='2nd loop', max=10, style=ProgressStyle(description_width='ini…"
      ]
     },
     "metadata": {},
     "output_type": "display_data"
    },
    {
     "name": "stdout",
     "output_type": "stream",
     "text": [
      "\n",
      "\n"
     ]
    }
   ],
   "source": [
    "for i in tnrange(3, desc='1st loop'):\n",
    "    for j in tnrange(10, desc='2nd loop'):\n",
    "        sleep(0.03)"
   ]
  },
  {
   "cell_type": "code",
   "execution_count": 10,
   "metadata": {
    "hidden": true
   },
   "outputs": [
    {
     "name": "stderr",
     "output_type": "stream",
     "text": [
      "/home/leandroohf/anaconda3/lib/python3.7/site-packages/tqdm/std.py:648: FutureWarning: The Panel class is removed from pandas. Accessing it from the top-level namespace will also be removed in the next version\n",
      "  from pandas import Panel\n"
     ]
    },
    {
     "data": {
      "text/plain": [
       "(56160, 2)"
      ]
     },
     "execution_count": 10,
     "metadata": {},
     "output_type": "execute_result"
    },
    {
     "data": {
      "text/html": [
       "<div>\n",
       "<style scoped>\n",
       "    .dataframe tbody tr th:only-of-type {\n",
       "        vertical-align: middle;\n",
       "    }\n",
       "\n",
       "    .dataframe tbody tr th {\n",
       "        vertical-align: top;\n",
       "    }\n",
       "\n",
       "    .dataframe thead th {\n",
       "        text-align: right;\n",
       "    }\n",
       "</style>\n",
       "<table border=\"1\" class=\"dataframe\">\n",
       "  <thead>\n",
       "    <tr style=\"text-align: right;\">\n",
       "      <th></th>\n",
       "      <th>Fremont Bridge East Sidewalk</th>\n",
       "      <th>Fremont Bridge West Sidewalk</th>\n",
       "    </tr>\n",
       "    <tr>\n",
       "      <th>Date</th>\n",
       "      <th></th>\n",
       "      <th></th>\n",
       "    </tr>\n",
       "  </thead>\n",
       "  <tbody>\n",
       "    <tr>\n",
       "      <td>2019-02-28 23:00:00</td>\n",
       "      <td>5.0</td>\n",
       "      <td>6.0</td>\n",
       "    </tr>\n",
       "    <tr>\n",
       "      <td>2019-02-28 22:00:00</td>\n",
       "      <td>4.0</td>\n",
       "      <td>27.0</td>\n",
       "    </tr>\n",
       "    <tr>\n",
       "      <td>2019-02-28 21:00:00</td>\n",
       "      <td>16.0</td>\n",
       "      <td>32.0</td>\n",
       "    </tr>\n",
       "    <tr>\n",
       "      <td>2019-02-28 20:00:00</td>\n",
       "      <td>16.0</td>\n",
       "      <td>50.0</td>\n",
       "    </tr>\n",
       "    <tr>\n",
       "      <td>2019-02-28 19:00:00</td>\n",
       "      <td>39.0</td>\n",
       "      <td>59.0</td>\n",
       "    </tr>\n",
       "  </tbody>\n",
       "</table>\n",
       "</div>"
      ],
      "text/plain": [
       "                     Fremont Bridge East Sidewalk  \\\n",
       "Date                                                \n",
       "2019-02-28 23:00:00                           5.0   \n",
       "2019-02-28 22:00:00                           4.0   \n",
       "2019-02-28 21:00:00                          16.0   \n",
       "2019-02-28 20:00:00                          16.0   \n",
       "2019-02-28 19:00:00                          39.0   \n",
       "\n",
       "                     Fremont Bridge West Sidewalk  \n",
       "Date                                               \n",
       "2019-02-28 23:00:00                           6.0  \n",
       "2019-02-28 22:00:00                          27.0  \n",
       "2019-02-28 21:00:00                          32.0  \n",
       "2019-02-28 20:00:00                          50.0  \n",
       "2019-02-28 19:00:00                          59.0  "
      ]
     },
     "execution_count": 10,
     "metadata": {},
     "output_type": "execute_result"
    },
    {
     "name": "stderr",
     "output_type": "stream",
     "text": [
      "100%|██████████| 56160/56160 [00:00<00:00, 1072290.11it/s]\n"
     ]
    }
   ],
   "source": [
    "# To activate tqdm in a notebook  !?\n",
    "tqdm.pandas()\n",
    "\n",
    "# read all data\n",
    "bikes = pd.read_csv('data/FremontBridge.csv', index_col='Date', parse_dates=True)\n",
    "\n",
    "bikes.shape\n",
    "\n",
    "bikes.head()\n",
    "\n",
    "bikes['col'] = bikes['Fremont Bridge East Sidewalk'].progress_apply(lambda x: x**2)"
   ]
  },
  {
   "cell_type": "markdown",
   "metadata": {
    "heading_collapsed": true
   },
   "source": [
    "### Set all seed for reproducibility\n"
   ]
  },
  {
   "cell_type": "code",
   "execution_count": 11,
   "metadata": {
    "hidden": true
   },
   "outputs": [],
   "source": [
    "def set_seed(args):\n",
    "    \n",
    "    random.seed(args.seed)\n",
    "    np.random.seed(args.seed)\n",
    "    tf.random.set_seed(seed)\n",
    "    \n",
    "    #torch.manual_seed(args.seed) \n",
    "#     if args.n_gpu > 0:\n",
    "#         torch.cuda.manual_seed_all(args.seed)"
   ]
  },
  {
   "cell_type": "markdown",
   "metadata": {},
   "source": [
    "### Do not leave machines running in the cloud. Save money\n",
    "\n",
    "Some of our experiments can run for hours. It's difficult to keep a track of it and shutdown the cloud instance when it's done. We need to shutdown in oreder to save money\n",
    "\n",
    "* Put this code at the end of long process to shutdown the machine after few minutes or 1 hour\n",
    "\n"
   ]
  },
  {
   "cell_type": "code",
   "execution_count": 13,
   "metadata": {},
   "outputs": [],
   "source": [
    "import os\n",
    "\n",
    "def _run_command(cmd):\n",
    "    \n",
    "    return os.system(cmd)\n",
    "    \n",
    "## TODO: Send me an email or slack message \n",
    "# slack: https://keestalkstech.com/2019/10/simple-python-code-to-send-message-to-slack-channel-without-packages/\n",
    "# https://julien.danjou.info/sending-emails-in-python-tutorial-code-examples/\n",
    "# https://www.freecodecamp.org/news/send-emails-using-code-4fcea9df63f/\n",
    "def shutdown(seconds=0, os='linux'):\n",
    "    \"\"\"Shutdown system after seconds given. Useful for shutting EC2 to save costs.\"\"\"\n",
    "    \n",
    "    if os == 'linux':\n",
    "    \n",
    "        run_command('sudo shutdown -h -t sec %s' % seconds)\n",
    "    \n",
    "    elif os == 'windows':\n",
    "        \n",
    "        run_command('shutdown -s -t %s' % seconds)"
   ]
  },
  {
   "cell_type": "markdown",
   "metadata": {
    "heading_collapsed": true
   },
   "source": [
    "### Create and save model and report \n",
    "\n",
    "This is so common that makes sense to have a code for taht\n"
   ]
  },
  {
   "cell_type": "code",
   "execution_count": 15,
   "metadata": {
    "hidden": true
   },
   "outputs": [],
   "source": [
    "import json\n",
    "import os\n",
    "\n",
    "## TODO: personalize this code from: https://medium.com/modern-nlp/10-great-ml-practices-for-python-developers-b089eefc18fc\n",
    "\n",
    "from sklearn.metrics import (accuracy_score, classification_report,\n",
    "                             confusion_matrix, f1_score, fbeta_score)\n",
    "\n",
    "def get_metrics(y, y_pred, beta=2, average_method='macro', y_encoder=None):\n",
    "    \n",
    "    if y_encoder:\n",
    "\n",
    "        y = y_encoder.inverse_transform(y)\n",
    "        y_pred = y_encoder.inverse_transform(y_pred)\n",
    "\n",
    "    return {\n",
    "        'accuracy': round(accuracy_score(y, y_pred), 4),\n",
    "        'f1_score_macro': round(f1_score(y, y_pred, average=average_method), 4),\n",
    "        'fbeta_score_macro': round(fbeta_score(y, y_pred, beta, average=average_method), 4),\n",
    "        'report': classification_report(y, y_pred, output_dict=True),\n",
    "        'report_csv': classification_report(y, y_pred, output_dict=False).replace('\\n','\\r\\n')\n",
    "    }\n",
    "\n",
    "\n",
    "# TODO:\n",
    "# you call before:\n",
    "# file_name = get_filename(fname, desc, author)\n",
    "# returns: 2020-04-uuid-author-descrition\n",
    "def save_metrics(metrics: dict, model_directory, file_name):\n",
    "    \n",
    "    path = os.path.join(model_directory, file_name + '_report.txt')\n",
    "    \n",
    "    classification_report_to_csv(metrics['report_csv'], path)\n",
    "    \n",
    "    metrics.pop('report_csv')\n",
    "    \n",
    "    path = os.path.join(model_directory, file_name + '_metrics.json')\n",
    "    \n",
    "    json.dump(metrics, open(path, 'w'), indent=4)"
   ]
  },
  {
   "cell_type": "markdown",
   "metadata": {},
   "source": [
    "## Jupyter notebook analyses workflow\n"
   ]
  },
  {
   "cell_type": "markdown",
   "metadata": {},
   "source": [
    "\n",
    "\n",
    "2 folders workflow for working with jupyter notebook as data scientist. Once you have a model refactors as soon as possible the code to put in dev/production environment. See images bellow.\n",
    "\n",
    "\n",
    "1. dev/ quick test your ideas (do worry too much about code QA )\n",
    "\n",
    "    * dev code should be fast so, do not worry too much about code quality\n",
    "    * keep notebooks short as posisible. Do not try to address many questions in one notebook  \n",
    "    \n",
    "1. report/notebook/presentation: \n",
    "\n",
    "    * keep only important results and move to report folder (publish) \n",
    "\n",
    "    * refactor important result (code quality matters in this phase) \n",
    "\n",
    "1. Notebooks conventions\n",
    "\n",
    "    * Notebooks contents \n",
    "\n",
    "        * top: What are the mains questions and goals. Do not try to answer many questions at once in a notebook\n",
    "        * top: Main conclusions and finds \n",
    "        * top: small plan what to try next \n",
    "\n",
    "    * Names: Ex: 2019-12-14-lhof-short_description.ipynb \n",
    "    * Try to keep notebooks short. **Large notebooks is hard to understand and mantain**.  \n",
    "\n",
    "```sh\n",
    "\n",
    "# search notebooks by dates \n",
    "ls 2019-12-1*.ipynb\n",
    "\n",
    "# search by authors\n",
    "ls 2019*-lhof-*.ipynb\n",
    "\n",
    "# search by keyword in description\n",
    "ls 2019*_keyword*.ipynb\n",
    "\n",
    "\n",
    "# search a keyword in jupyter notebooks contents\n",
    "grep --include=\\*.ipynb -rnw '.' -e \"lstm\"\n",
    "\n",
    "``` \n",
    "\n",
    "1. As soon as possible you have a model, move all the code from notebooks to implement an API or ETLS and etc \n",
    "\n",
    "    * Refactor again and pay attention on code quality. Error handle and etc. Try to follow coding best practices \n",
    "    "
   ]
  },
  {
   "cell_type": "markdown",
   "metadata": {},
   "source": [
    "<div style=\"clear:both\">\n",
    "<img src=\"images/notebook_vs_code.png\" style=\"float:left\" width=\"400\" align=\"left\"/> \n",
    "</div>\n",
    "\n",
    "<br><br><br><br>\n",
    "\n",
    "<br>\n",
    "\n",
    "<div style=\"clear:both\">\n",
    "<img src=\"images/refactor_notebooks.png\" style=\"float:left\" width=\"600\" align=\"left\"/>  \n",
    "</div>\n",
    "\n",
    "\n",
    "<br><br><br>\n",
    "\n",
    "<div style=\"clear:both\">\n"
   ]
  },
  {
   "cell_type": "markdown",
   "metadata": {},
   "source": [
    "## Notes about best coding practices in jupyter notebooks\n"
   ]
  },
  {
   "cell_type": "markdown",
   "metadata": {
    "heading_collapsed": true
   },
   "source": [
    "###  keep code clean\n"
   ]
  },
  {
   "cell_type": "markdown",
   "metadata": {
    "hidden": true
   },
   "source": [
    "\n",
    "    * Don't expose your internals (Keep implementation details hidden). function and class are good for that\n",
    "        * Ex: categorize_column, encode_label or split_train_n_test\n",
    "    * Avoid print statements \n",
    "        * Ex: even glorified print statements such as df.head(), df.describe(), df.plot()  \n",
    "\n",
    "    * Good variables name: Variable names should reveal intent\n",
    "\n",
    "\n",
    "```python\n",
    "loans = pd.read_csv('loans.csv')\n",
    "\n",
    "monthly_loans = loans.groupby(['month']).sum()\n",
    "monthly_loans_in_december = filter_loans(monthly_loans, month=12)\n",
    "\n",
    "```\n",
    "    \n",
    "    * Avoid comments  \n",
    "\n",
    "\n",
    "```python\n",
    "## BAD\n",
    "\n",
    "# Check to see if employee is eligible for full benefits\n",
    "if (employee.flags and HOURLY_FLAG) and (employee.age > 65):\n",
    "    # do something\n",
    "\n",
    "## Better\n",
    "if employee.isEligibleForBenefits():\n",
    "    # do something\n",
    "    \n",
    "```\n",
    "\n",
    "    * Avoid mental map\n",
    "\n",
    "```python\n",
    "\n",
    "# Bad\n",
    "seq = ('Austin', 'New York', 'San Francisco')\n",
    "\n",
    "for item in seq:\n",
    "    do_stuff()\n",
    "    do_some_other_stuff()\n",
    "    # ...\n",
    "    # Wait, what's `item` for again?\n",
    "    dispatch(item)\n",
    "\n",
    "# Good\n",
    "locations = ('Austin', 'New York', 'San Francisco')\n",
    "\n",
    "for location in locations:\n",
    "    do_stuff()\n",
    "    do_some_other_stuff()\n",
    "    # ...\n",
    "    dispatch(location)\n",
    "```\n"
   ]
  },
  {
   "cell_type": "markdown",
   "metadata": {
    "heading_collapsed": true
   },
   "source": [
    "### Use code abstracting (Functions and class)\n"
   ]
  },
  {
   "cell_type": "markdown",
   "metadata": {
    "hidden": true
   },
   "source": [
    "\n",
    "    * Use functions to keep code “DRY” (Don’t Repeat Yourself)\n",
    "    * Functions should do one thing\n",
    "    * functions name are verbs\n",
    "    * Fewer arguments (try to keep 2 or 3)\n",
    "\n",
    "```python\n",
    "def create_menu(title, body, button_text, cancellable):\n",
    "    # ...\n",
    "\n",
    "## Good\n",
    "class Menu:\n",
    "    def __init__(self, config: dict):\n",
    "        title = config[\"title\"]\n",
    "        body = config[\"body\"]\n",
    "        # ...\n",
    "\n",
    "menu = Menu(\n",
    "    {\n",
    "        \"title\": \"My Menu\",\n",
    "        \"body\": \"Something about my menu\",\n",
    "        \"button_text\": \"OK\",\n",
    "        \"cancellable\": False\n",
    "    }\n",
    ")\n",
    "\n",
    "## Also Good \n",
    "class MenuConfig:\n",
    "    \"\"\"A configuration for the Menu.\n",
    "\n",
    "    Attributes:\n",
    "        title: The title of the Menu.\n",
    "        body: The body of the Menu.\n",
    "        button_text: The text for the button label.\n",
    "        cancellable: Can it be cancelled?\n",
    "    \"\"\"\n",
    "    title: str\n",
    "    body: str\n",
    "    button_text: str\n",
    "    cancellable: bool = False\n",
    "\n",
    "\n",
    "def create_menu(config: MenuConfig):\n",
    "    title = config.title\n",
    "    body = config.body\n",
    "    # ...\n",
    "\n",
    "\n",
    "config = MenuConfig\n",
    "config.title = \"My delicious menu\"\n",
    "config.body = \"A description of the various items on the menu\"\n",
    "config.button_text = \"Order now!\"\n",
    "# The instance attribute overrides the default class attribute.\n",
    "config.cancellable = True\n",
    "\n",
    "create_menu(config)\n",
    " \n",
    "```\n",
    "\n",
    "    \n",
    "    * class names are Noums and methods verbs\n",
    "    \n",
    "    \n",
    "    * Use default arguments instead of short circuiting or conditionals\n",
    "    \n",
    "```python\n",
    "\n",
    "def create_micro_brewery(name):\n",
    "    name = \"Hipster Brew Co.\" if name is None else name\n",
    "    slug = hashlib.sha1(name.encode()).hexdigest()\n",
    "    # etc.\n",
    "    \n",
    "## Better\n",
    "def create_micro_brewery(name: str = \"Hipster Brew Co.\"):\n",
    "    slug = hashlib.sha1(name.encode()).hexdigest()\n",
    "    # etc.\n",
    "\n",
    "```\n",
    "    \n",
    "Gains because of the use of functions\n",
    "\n",
    "* Readability \n",
    "\n",
    "    * Is focusing what while reading code instead of how. \n",
    "\n",
    "* Tetability (not realy sure. Only make sense when developyn the backe end code or API) \n",
    "\n",
    "    * we can easily write a unit test for it. \n",
    "\n",
    "* Resuability\n",
    "</div>\n",
    "\n"
   ]
  },
  {
   "cell_type": "code",
   "execution_count": 6,
   "metadata": {
    "hidden": true
   },
   "outputs": [
    {
     "name": "stdout",
     "output_type": "stream",
     "text": [
      "<class 'pandas.core.frame.DataFrame'>\n",
      "RangeIndex: 830 entries, 0 to 829\n",
      "Data columns (total 7 columns):\n",
      "index           830 non-null int64\n",
      "date            830 non-null object\n",
      "duration        830 non-null float64\n",
      "item            830 non-null object\n",
      "month           830 non-null object\n",
      "network         830 non-null object\n",
      "network_type    830 non-null object\n",
      "dtypes: float64(1), int64(1), object(5)\n",
      "memory usage: 45.5+ KB\n"
     ]
    },
    {
     "data": {
      "text/html": [
       "<div>\n",
       "<style scoped>\n",
       "    .dataframe tbody tr th:only-of-type {\n",
       "        vertical-align: middle;\n",
       "    }\n",
       "\n",
       "    .dataframe tbody tr th {\n",
       "        vertical-align: top;\n",
       "    }\n",
       "\n",
       "    .dataframe thead th {\n",
       "        text-align: right;\n",
       "    }\n",
       "</style>\n",
       "<table border=\"1\" class=\"dataframe\">\n",
       "  <thead>\n",
       "    <tr style=\"text-align: right;\">\n",
       "      <th></th>\n",
       "      <th>index</th>\n",
       "      <th>date</th>\n",
       "      <th>duration</th>\n",
       "      <th>item</th>\n",
       "      <th>month</th>\n",
       "      <th>network</th>\n",
       "      <th>network_type</th>\n",
       "    </tr>\n",
       "  </thead>\n",
       "  <tbody>\n",
       "    <tr>\n",
       "      <td>0</td>\n",
       "      <td>0</td>\n",
       "      <td>15/10/14 06:58</td>\n",
       "      <td>34.429</td>\n",
       "      <td>data</td>\n",
       "      <td>2014-11</td>\n",
       "      <td>data</td>\n",
       "      <td>data</td>\n",
       "    </tr>\n",
       "    <tr>\n",
       "      <td>1</td>\n",
       "      <td>1</td>\n",
       "      <td>15/10/14 06:58</td>\n",
       "      <td>13.000</td>\n",
       "      <td>call</td>\n",
       "      <td>2014-11</td>\n",
       "      <td>Vodafone</td>\n",
       "      <td>mobile</td>\n",
       "    </tr>\n",
       "    <tr>\n",
       "      <td>2</td>\n",
       "      <td>2</td>\n",
       "      <td>15/10/14 14:46</td>\n",
       "      <td>23.000</td>\n",
       "      <td>call</td>\n",
       "      <td>2014-11</td>\n",
       "      <td>Meteor</td>\n",
       "      <td>mobile</td>\n",
       "    </tr>\n",
       "    <tr>\n",
       "      <td>3</td>\n",
       "      <td>3</td>\n",
       "      <td>15/10/14 14:48</td>\n",
       "      <td>4.000</td>\n",
       "      <td>call</td>\n",
       "      <td>2014-11</td>\n",
       "      <td>Tesco</td>\n",
       "      <td>mobile</td>\n",
       "    </tr>\n",
       "    <tr>\n",
       "      <td>4</td>\n",
       "      <td>4</td>\n",
       "      <td>15/10/14 17:27</td>\n",
       "      <td>4.000</td>\n",
       "      <td>call</td>\n",
       "      <td>2014-11</td>\n",
       "      <td>Tesco</td>\n",
       "      <td>mobile</td>\n",
       "    </tr>\n",
       "  </tbody>\n",
       "</table>\n",
       "</div>"
      ],
      "text/plain": [
       "   index            date  duration  item    month   network network_type\n",
       "0      0  15/10/14 06:58    34.429  data  2014-11      data         data\n",
       "1      1  15/10/14 06:58    13.000  call  2014-11  Vodafone       mobile\n",
       "2      2  15/10/14 14:46    23.000  call  2014-11    Meteor       mobile\n",
       "3      3  15/10/14 14:48     4.000  call  2014-11     Tesco       mobile\n",
       "4      4  15/10/14 17:27     4.000  call  2014-11     Tesco       mobile"
      ]
     },
     "execution_count": 6,
     "metadata": {},
     "output_type": "execute_result"
    }
   ],
   "source": [
    "data = pd.read_csv('./data/phone_data.csv')\n",
    "data.info()\n",
    "data.head()"
   ]
  },
  {
   "cell_type": "code",
   "execution_count": 7,
   "metadata": {
    "hidden": true
   },
   "outputs": [],
   "source": [
    "import utils \n",
    "import functools\n",
    "\n",
    "# # Shameless stolen from the comments of \n",
    "# # https://www.thoughtworks.com/insights/blog/coding-habits-data-scientists\n",
    "# def compose(*functions):\n",
    "    \n",
    "#     return functools.reduce(lambda f, g: lambda x: f(g(x)), functions, lambda x: x)\n",
    "\n",
    "# Examples of common functions\n",
    "# The implementation is only ilustrations\n",
    "\n",
    "def encode_column(df: pd.DataFrame, col_name: str):\n",
    "    \n",
    "    col_name_out = col_name + '_enc'\n",
    "    df[col_name_out] = df[col_name] + '_enc'\n",
    "    \n",
    "    \n",
    "    return df\n",
    "\n",
    "\n",
    "def add_categorical_column(df):\n",
    "    \n",
    "    df['cat'] = df['network']\n",
    "    \n",
    "    \n",
    "    return df\n",
    "\n",
    "def convert_to_minutes(df):\n",
    "    \n",
    "    df['duration'] = df['duration'] /60.00\n",
    "    \n",
    "    return df\n",
    "\n",
    "\n",
    "def split_features_and_labels(df):\n",
    "    \n",
    "    # XXX: You can use split_train form scikit learn.\n",
    "    # But the exampleas is enough to express the ideas\n",
    "    y = df['duration']\n",
    "    X = df.iloc[:, df.columns != 'duration']\n",
    "\n",
    "    \n",
    "    return X,y\n"
   ]
  },
  {
   "cell_type": "code",
   "execution_count": 8,
   "metadata": {
    "hidden": true
   },
   "outputs": [],
   "source": [
    "## Good example\n",
    "\n",
    "df = encode_column(data, col_name='item')\n",
    "df = add_categorical_column(df)\n",
    "df = convert_to_minutes(df)\n",
    "X,y = split_features_and_labels(df)\n",
    "\n",
    "## Better example\n",
    "prepare_data = utils.compose(utils.function_with_args(encode_column, col_name='item'),\n",
    "                       add_categorical_column,\n",
    "                       convert_to_minutes\n",
    "                      )\n",
    "\n",
    "data_pre = prepare_data(data)\n",
    "X, y = split_features_and_labels(data_pre)"
   ]
  },
  {
   "cell_type": "code",
   "execution_count": 9,
   "metadata": {
    "hidden": true
   },
   "outputs": [
    {
     "data": {
      "text/plain": [
       "(830, 8)"
      ]
     },
     "execution_count": 9,
     "metadata": {},
     "output_type": "execute_result"
    }
   ],
   "source": [
    "X.shape"
   ]
  },
  {
   "cell_type": "code",
   "execution_count": 26,
   "metadata": {
    "hidden": true
   },
   "outputs": [
    {
     "data": {
      "text/html": [
       "<div>\n",
       "<style scoped>\n",
       "    .dataframe tbody tr th:only-of-type {\n",
       "        vertical-align: middle;\n",
       "    }\n",
       "\n",
       "    .dataframe tbody tr th {\n",
       "        vertical-align: top;\n",
       "    }\n",
       "\n",
       "    .dataframe thead th {\n",
       "        text-align: right;\n",
       "    }\n",
       "</style>\n",
       "<table border=\"1\" class=\"dataframe\">\n",
       "  <thead>\n",
       "    <tr style=\"text-align: right;\">\n",
       "      <th></th>\n",
       "      <th>index</th>\n",
       "      <th>date</th>\n",
       "      <th>duration</th>\n",
       "      <th>item</th>\n",
       "      <th>month</th>\n",
       "      <th>network</th>\n",
       "      <th>network_type</th>\n",
       "      <th>item_enc</th>\n",
       "      <th>cat</th>\n",
       "    </tr>\n",
       "  </thead>\n",
       "  <tbody>\n",
       "    <tr>\n",
       "      <td>0</td>\n",
       "      <td>0</td>\n",
       "      <td>15/10/14 06:58</td>\n",
       "      <td>0.009564</td>\n",
       "      <td>data</td>\n",
       "      <td>2014-11</td>\n",
       "      <td>data</td>\n",
       "      <td>data</td>\n",
       "      <td>data_enc</td>\n",
       "      <td>data</td>\n",
       "    </tr>\n",
       "    <tr>\n",
       "      <td>1</td>\n",
       "      <td>1</td>\n",
       "      <td>15/10/14 06:58</td>\n",
       "      <td>0.003611</td>\n",
       "      <td>call</td>\n",
       "      <td>2014-11</td>\n",
       "      <td>Vodafone</td>\n",
       "      <td>mobile</td>\n",
       "      <td>call_enc</td>\n",
       "      <td>Vodafone</td>\n",
       "    </tr>\n",
       "    <tr>\n",
       "      <td>2</td>\n",
       "      <td>2</td>\n",
       "      <td>15/10/14 14:46</td>\n",
       "      <td>0.006389</td>\n",
       "      <td>call</td>\n",
       "      <td>2014-11</td>\n",
       "      <td>Meteor</td>\n",
       "      <td>mobile</td>\n",
       "      <td>call_enc</td>\n",
       "      <td>Meteor</td>\n",
       "    </tr>\n",
       "    <tr>\n",
       "      <td>3</td>\n",
       "      <td>3</td>\n",
       "      <td>15/10/14 14:48</td>\n",
       "      <td>0.001111</td>\n",
       "      <td>call</td>\n",
       "      <td>2014-11</td>\n",
       "      <td>Tesco</td>\n",
       "      <td>mobile</td>\n",
       "      <td>call_enc</td>\n",
       "      <td>Tesco</td>\n",
       "    </tr>\n",
       "    <tr>\n",
       "      <td>4</td>\n",
       "      <td>4</td>\n",
       "      <td>15/10/14 17:27</td>\n",
       "      <td>0.001111</td>\n",
       "      <td>call</td>\n",
       "      <td>2014-11</td>\n",
       "      <td>Tesco</td>\n",
       "      <td>mobile</td>\n",
       "      <td>call_enc</td>\n",
       "      <td>Tesco</td>\n",
       "    </tr>\n",
       "  </tbody>\n",
       "</table>\n",
       "</div>"
      ],
      "text/plain": [
       "   index            date  duration  item    month   network network_type  \\\n",
       "0      0  15/10/14 06:58  0.009564  data  2014-11      data         data   \n",
       "1      1  15/10/14 06:58  0.003611  call  2014-11  Vodafone       mobile   \n",
       "2      2  15/10/14 14:46  0.006389  call  2014-11    Meteor       mobile   \n",
       "3      3  15/10/14 14:48  0.001111  call  2014-11     Tesco       mobile   \n",
       "4      4  15/10/14 17:27  0.001111  call  2014-11     Tesco       mobile   \n",
       "\n",
       "   item_enc       cat  \n",
       "0  data_enc      data  \n",
       "1  call_enc  Vodafone  \n",
       "2  call_enc    Meteor  \n",
       "3  call_enc     Tesco  \n",
       "4  call_enc     Tesco  "
      ]
     },
     "execution_count": 26,
     "metadata": {},
     "output_type": "execute_result"
    },
    {
     "data": {
      "text/html": [
       "<div>\n",
       "<style scoped>\n",
       "    .dataframe tbody tr th:only-of-type {\n",
       "        vertical-align: middle;\n",
       "    }\n",
       "\n",
       "    .dataframe tbody tr th {\n",
       "        vertical-align: top;\n",
       "    }\n",
       "\n",
       "    .dataframe thead th {\n",
       "        text-align: right;\n",
       "    }\n",
       "</style>\n",
       "<table border=\"1\" class=\"dataframe\">\n",
       "  <thead>\n",
       "    <tr style=\"text-align: right;\">\n",
       "      <th></th>\n",
       "      <th>index</th>\n",
       "      <th>date</th>\n",
       "      <th>duration</th>\n",
       "      <th>item</th>\n",
       "      <th>month</th>\n",
       "      <th>network</th>\n",
       "      <th>network_type</th>\n",
       "      <th>item_enc</th>\n",
       "      <th>cat</th>\n",
       "    </tr>\n",
       "  </thead>\n",
       "  <tbody>\n",
       "    <tr>\n",
       "      <td>0</td>\n",
       "      <td>0</td>\n",
       "      <td>15/10/14 06:58</td>\n",
       "      <td>0.009564</td>\n",
       "      <td>data</td>\n",
       "      <td>2014-11</td>\n",
       "      <td>data</td>\n",
       "      <td>data</td>\n",
       "      <td>data_enc</td>\n",
       "      <td>data</td>\n",
       "    </tr>\n",
       "    <tr>\n",
       "      <td>1</td>\n",
       "      <td>1</td>\n",
       "      <td>15/10/14 06:58</td>\n",
       "      <td>0.003611</td>\n",
       "      <td>call</td>\n",
       "      <td>2014-11</td>\n",
       "      <td>Vodafone</td>\n",
       "      <td>mobile</td>\n",
       "      <td>call_enc</td>\n",
       "      <td>Vodafone</td>\n",
       "    </tr>\n",
       "    <tr>\n",
       "      <td>2</td>\n",
       "      <td>2</td>\n",
       "      <td>15/10/14 14:46</td>\n",
       "      <td>0.006389</td>\n",
       "      <td>call</td>\n",
       "      <td>2014-11</td>\n",
       "      <td>Meteor</td>\n",
       "      <td>mobile</td>\n",
       "      <td>call_enc</td>\n",
       "      <td>Meteor</td>\n",
       "    </tr>\n",
       "    <tr>\n",
       "      <td>3</td>\n",
       "      <td>3</td>\n",
       "      <td>15/10/14 14:48</td>\n",
       "      <td>0.001111</td>\n",
       "      <td>call</td>\n",
       "      <td>2014-11</td>\n",
       "      <td>Tesco</td>\n",
       "      <td>mobile</td>\n",
       "      <td>call_enc</td>\n",
       "      <td>Tesco</td>\n",
       "    </tr>\n",
       "    <tr>\n",
       "      <td>4</td>\n",
       "      <td>4</td>\n",
       "      <td>15/10/14 17:27</td>\n",
       "      <td>0.001111</td>\n",
       "      <td>call</td>\n",
       "      <td>2014-11</td>\n",
       "      <td>Tesco</td>\n",
       "      <td>mobile</td>\n",
       "      <td>call_enc</td>\n",
       "      <td>Tesco</td>\n",
       "    </tr>\n",
       "  </tbody>\n",
       "</table>\n",
       "</div>"
      ],
      "text/plain": [
       "   index            date  duration  item    month   network network_type  \\\n",
       "0      0  15/10/14 06:58  0.009564  data  2014-11      data         data   \n",
       "1      1  15/10/14 06:58  0.003611  call  2014-11  Vodafone       mobile   \n",
       "2      2  15/10/14 14:46  0.006389  call  2014-11    Meteor       mobile   \n",
       "3      3  15/10/14 14:48  0.001111  call  2014-11     Tesco       mobile   \n",
       "4      4  15/10/14 17:27  0.001111  call  2014-11     Tesco       mobile   \n",
       "\n",
       "   item_enc       cat  \n",
       "0  data_enc      data  \n",
       "1  call_enc  Vodafone  \n",
       "2  call_enc    Meteor  \n",
       "3  call_enc     Tesco  \n",
       "4  call_enc     Tesco  "
      ]
     },
     "execution_count": 26,
     "metadata": {},
     "output_type": "execute_result"
    },
    {
     "data": {
      "text/html": [
       "<div>\n",
       "<style scoped>\n",
       "    .dataframe tbody tr th:only-of-type {\n",
       "        vertical-align: middle;\n",
       "    }\n",
       "\n",
       "    .dataframe tbody tr th {\n",
       "        vertical-align: top;\n",
       "    }\n",
       "\n",
       "    .dataframe thead th {\n",
       "        text-align: right;\n",
       "    }\n",
       "</style>\n",
       "<table border=\"1\" class=\"dataframe\">\n",
       "  <thead>\n",
       "    <tr style=\"text-align: right;\">\n",
       "      <th></th>\n",
       "      <th>index</th>\n",
       "      <th>date</th>\n",
       "      <th>duration</th>\n",
       "      <th>item</th>\n",
       "      <th>month</th>\n",
       "      <th>network</th>\n",
       "      <th>network_type</th>\n",
       "      <th>item_enc</th>\n",
       "      <th>cat</th>\n",
       "    </tr>\n",
       "  </thead>\n",
       "  <tbody>\n",
       "    <tr>\n",
       "      <td>0</td>\n",
       "      <td>0</td>\n",
       "      <td>15/10/14 06:58</td>\n",
       "      <td>0.009564</td>\n",
       "      <td>data</td>\n",
       "      <td>2014-11</td>\n",
       "      <td>data</td>\n",
       "      <td>data</td>\n",
       "      <td>data_enc</td>\n",
       "      <td>data</td>\n",
       "    </tr>\n",
       "    <tr>\n",
       "      <td>1</td>\n",
       "      <td>1</td>\n",
       "      <td>15/10/14 06:58</td>\n",
       "      <td>0.003611</td>\n",
       "      <td>call</td>\n",
       "      <td>2014-11</td>\n",
       "      <td>Vodafone</td>\n",
       "      <td>mobile</td>\n",
       "      <td>call_enc</td>\n",
       "      <td>Vodafone</td>\n",
       "    </tr>\n",
       "    <tr>\n",
       "      <td>2</td>\n",
       "      <td>2</td>\n",
       "      <td>15/10/14 14:46</td>\n",
       "      <td>0.006389</td>\n",
       "      <td>call</td>\n",
       "      <td>2014-11</td>\n",
       "      <td>Meteor</td>\n",
       "      <td>mobile</td>\n",
       "      <td>call_enc</td>\n",
       "      <td>Meteor</td>\n",
       "    </tr>\n",
       "    <tr>\n",
       "      <td>3</td>\n",
       "      <td>3</td>\n",
       "      <td>15/10/14 14:48</td>\n",
       "      <td>0.001111</td>\n",
       "      <td>call</td>\n",
       "      <td>2014-11</td>\n",
       "      <td>Tesco</td>\n",
       "      <td>mobile</td>\n",
       "      <td>call_enc</td>\n",
       "      <td>Tesco</td>\n",
       "    </tr>\n",
       "    <tr>\n",
       "      <td>4</td>\n",
       "      <td>4</td>\n",
       "      <td>15/10/14 17:27</td>\n",
       "      <td>0.001111</td>\n",
       "      <td>call</td>\n",
       "      <td>2014-11</td>\n",
       "      <td>Tesco</td>\n",
       "      <td>mobile</td>\n",
       "      <td>call_enc</td>\n",
       "      <td>Tesco</td>\n",
       "    </tr>\n",
       "  </tbody>\n",
       "</table>\n",
       "</div>"
      ],
      "text/plain": [
       "   index            date  duration  item    month   network network_type  \\\n",
       "0      0  15/10/14 06:58  0.009564  data  2014-11      data         data   \n",
       "1      1  15/10/14 06:58  0.003611  call  2014-11  Vodafone       mobile   \n",
       "2      2  15/10/14 14:46  0.006389  call  2014-11    Meteor       mobile   \n",
       "3      3  15/10/14 14:48  0.001111  call  2014-11     Tesco       mobile   \n",
       "4      4  15/10/14 17:27  0.001111  call  2014-11     Tesco       mobile   \n",
       "\n",
       "   item_enc       cat  \n",
       "0  data_enc      data  \n",
       "1  call_enc  Vodafone  \n",
       "2  call_enc    Meteor  \n",
       "3  call_enc     Tesco  \n",
       "4  call_enc     Tesco  "
      ]
     },
     "execution_count": 26,
     "metadata": {},
     "output_type": "execute_result"
    }
   ],
   "source": [
    "data.head()\n",
    "\n",
    "data_pre.head()\n",
    "df.head()"
   ]
  },
  {
   "cell_type": "markdown",
   "metadata": {
    "heading_collapsed": true
   },
   "source": [
    "## Use chaining methods  and pipe (alternative to functioning programming )\n",
    "\n",
    "ref:\n",
    "* https://pandas.pydata.org/pandas-docs/stable/reference/api/pandas.DataFrame.pipe.html\n",
    "* https://towardsdatascience.com/the-unreasonable-effectiveness-of-method-chaining-in-pandas-15c2109e3c69\n"
   ]
  },
  {
   "cell_type": "code",
   "execution_count": null,
   "metadata": {
    "hidden": true
   },
   "outputs": [],
   "source": [
    "df = encode_column(data, col_name='item')\n",
    "df = add_categorical_column(df)\n",
    "df = convert_to_minutes(df)\n",
    "X,y = split_features_and_labels(df)"
   ]
  },
  {
   "cell_type": "code",
   "execution_count": 27,
   "metadata": {
    "hidden": true
   },
   "outputs": [],
   "source": [
    "# You need to comment the pipe lines to remove debbug code \n",
    "def csnap(df, fn=lambda x: x.shape, msg=None):\n",
    "    \"\"\" Custom Help function to print things in method chaining.\n",
    "        Returns back the df to further use in chaining.\n",
    "    \"\"\"\n",
    "    if msg:\n",
    "        print(msg)\n",
    "    display(fn(df))\n",
    "    return df\n",
    "\n",
    "\n",
    "def setcols(df, fn=lambda x: x.columns.map('_'.join), cols=None):\n",
    "    \"\"\"Sets the column of the data frame to the passed column list.\n",
    "    \"\"\"\n",
    "    if cols:\n",
    "        df.columns = cols\n",
    "    else:\n",
    "        df.columns = fn(df)\n",
    "    return df"
   ]
  },
  {
   "cell_type": "code",
   "execution_count": 47,
   "metadata": {
    "hidden": true
   },
   "outputs": [
    {
     "name": "stdout",
     "output_type": "stream",
     "text": [
      "My debug message.Inspecting shapes \n"
     ]
    },
    {
     "data": {
      "text/plain": [
       "(830, 9)"
      ]
     },
     "metadata": {},
     "output_type": "display_data"
    },
    {
     "data": {
      "text/plain": [
       "(830, 11)"
      ]
     },
     "metadata": {},
     "output_type": "display_data"
    },
    {
     "data": {
      "text/plain": [
       "(830, 11)"
      ]
     },
     "metadata": {},
     "output_type": "display_data"
    },
    {
     "name": "stdout",
     "output_type": "stream",
     "text": [
      "Inspecting 5 random rows\n"
     ]
    },
    {
     "data": {
      "text/html": [
       "<div>\n",
       "<style scoped>\n",
       "    .dataframe tbody tr th:only-of-type {\n",
       "        vertical-align: middle;\n",
       "    }\n",
       "\n",
       "    .dataframe tbody tr th {\n",
       "        vertical-align: top;\n",
       "    }\n",
       "\n",
       "    .dataframe thead th {\n",
       "        text-align: right;\n",
       "    }\n",
       "</style>\n",
       "<table border=\"1\" class=\"dataframe\">\n",
       "  <thead>\n",
       "    <tr style=\"text-align: right;\">\n",
       "      <th></th>\n",
       "      <th>index</th>\n",
       "      <th>date</th>\n",
       "      <th>item2</th>\n",
       "      <th>network</th>\n",
       "      <th>duration</th>\n",
       "      <th>duration2</th>\n",
       "    </tr>\n",
       "  </thead>\n",
       "  <tbody>\n",
       "    <tr>\n",
       "      <td>689</td>\n",
       "      <td>538</td>\n",
       "      <td>07/01/15 09:28</td>\n",
       "      <td>sms_enc</td>\n",
       "      <td>Vodafone</td>\n",
       "      <td>0.000278</td>\n",
       "      <td>0</td>\n",
       "    </tr>\n",
       "    <tr>\n",
       "      <td>534</td>\n",
       "      <td>800</td>\n",
       "      <td>02/03/15 14:53</td>\n",
       "      <td>call_enc</td>\n",
       "      <td>voicemail</td>\n",
       "      <td>0.000556</td>\n",
       "      <td>0</td>\n",
       "    </tr>\n",
       "    <tr>\n",
       "      <td>358</td>\n",
       "      <td>182</td>\n",
       "      <td>08/11/14 06:58</td>\n",
       "      <td>data_enc</td>\n",
       "      <td>data</td>\n",
       "      <td>0.009564</td>\n",
       "      <td>1</td>\n",
       "    </tr>\n",
       "    <tr>\n",
       "      <td>507</td>\n",
       "      <td>574</td>\n",
       "      <td>12/01/15 18:23</td>\n",
       "      <td>call_enc</td>\n",
       "      <td>Three</td>\n",
       "      <td>0.001111</td>\n",
       "      <td>0</td>\n",
       "    </tr>\n",
       "    <tr>\n",
       "      <td>419</td>\n",
       "      <td>695</td>\n",
       "      <td>06/02/15 18:39</td>\n",
       "      <td>call_enc</td>\n",
       "      <td>Three</td>\n",
       "      <td>0.006389</td>\n",
       "      <td>1</td>\n",
       "    </tr>\n",
       "  </tbody>\n",
       "</table>\n",
       "</div>"
      ],
      "text/plain": [
       "     index            date     item2    network  duration  duration2\n",
       "689    538  07/01/15 09:28   sms_enc   Vodafone  0.000278          0\n",
       "534    800  02/03/15 14:53  call_enc  voicemail  0.000556          0\n",
       "358    182  08/11/14 06:58  data_enc       data  0.009564          1\n",
       "507    574  12/01/15 18:23  call_enc      Three  0.001111          0\n",
       "419    695  06/02/15 18:39  call_enc      Three  0.006389          1"
      ]
     },
     "metadata": {},
     "output_type": "display_data"
    }
   ],
   "source": [
    "# Pretty cool\n",
    "data_pre = \\\n",
    "    (data.rename(columns={\"item\": \"item2\"})\n",
    "                .pipe(csnap,msg=\"My debug message.Inspecting shapes \") # debbug\n",
    "                .pipe(encode_column,col_name='item2')\n",
    "                # used to assign new columns to a DataFrame\n",
    "                .assign(item2=lambda r: r.item2 + '_enc') # encode_column(data, col_name='item')\n",
    "                # np.where Return elements chosen from x or y depending on condition. Lik inline if else for numpy arrays\n",
    "                .assign(duration2=lambda r: np.where(r.duration > 0.003611, 1, 0))\n",
    "                .pipe(csnap) # debbug\n",
    "                # Query the columns of a DataFrame with a boolean expression\n",
    "                #.query(\"item = call\")\n",
    "                .pipe(csnap) # debbug\n",
    "                .sort_values(\"duration\", ascending=False)\n",
    "                .reset_index(drop=True)\n",
    "                .loc[:, [\"index\", \"date\", \"item2\", \"network\", \"duration\",\"duration2\"]]\n",
    "                .pipe(csnap, lambda r: r.sample(5), msg=\"Inspecting 5 random rows\")\n",
    "    )"
   ]
  },
  {
   "cell_type": "code",
   "execution_count": 48,
   "metadata": {
    "hidden": true
   },
   "outputs": [
    {
     "data": {
      "text/plain": [
       "(830, 6)"
      ]
     },
     "execution_count": 48,
     "metadata": {},
     "output_type": "execute_result"
    },
    {
     "data": {
      "text/html": [
       "<div>\n",
       "<style scoped>\n",
       "    .dataframe tbody tr th:only-of-type {\n",
       "        vertical-align: middle;\n",
       "    }\n",
       "\n",
       "    .dataframe tbody tr th {\n",
       "        vertical-align: top;\n",
       "    }\n",
       "\n",
       "    .dataframe thead th {\n",
       "        text-align: right;\n",
       "    }\n",
       "</style>\n",
       "<table border=\"1\" class=\"dataframe\">\n",
       "  <thead>\n",
       "    <tr style=\"text-align: right;\">\n",
       "      <th></th>\n",
       "      <th>index</th>\n",
       "      <th>date</th>\n",
       "      <th>item2</th>\n",
       "      <th>network</th>\n",
       "      <th>duration</th>\n",
       "      <th>duration2</th>\n",
       "    </tr>\n",
       "  </thead>\n",
       "  <tbody>\n",
       "    <tr>\n",
       "      <td>0</td>\n",
       "      <td>816</td>\n",
       "      <td>04/03/15 12:29</td>\n",
       "      <td>call_enc</td>\n",
       "      <td>landline</td>\n",
       "      <td>2.924444</td>\n",
       "      <td>1</td>\n",
       "    </tr>\n",
       "    <tr>\n",
       "      <td>1</td>\n",
       "      <td>742</td>\n",
       "      <td>17/02/15 19:09</td>\n",
       "      <td>call_enc</td>\n",
       "      <td>Three</td>\n",
       "      <td>0.646667</td>\n",
       "      <td>1</td>\n",
       "    </tr>\n",
       "    <tr>\n",
       "      <td>2</td>\n",
       "      <td>252</td>\n",
       "      <td>19/11/14 18:56</td>\n",
       "      <td>call_enc</td>\n",
       "      <td>Three</td>\n",
       "      <td>0.588889</td>\n",
       "      <td>1</td>\n",
       "    </tr>\n",
       "    <tr>\n",
       "      <td>3</td>\n",
       "      <td>59</td>\n",
       "      <td>23/10/14 08:34</td>\n",
       "      <td>call_enc</td>\n",
       "      <td>landline</td>\n",
       "      <td>0.538889</td>\n",
       "      <td>1</td>\n",
       "    </tr>\n",
       "    <tr>\n",
       "      <td>4</td>\n",
       "      <td>648</td>\n",
       "      <td>25/01/15 16:55</td>\n",
       "      <td>call_enc</td>\n",
       "      <td>Three</td>\n",
       "      <td>0.517500</td>\n",
       "      <td>1</td>\n",
       "    </tr>\n",
       "    <tr>\n",
       "      <td>5</td>\n",
       "      <td>398</td>\n",
       "      <td>17/12/14 18:08</td>\n",
       "      <td>call_enc</td>\n",
       "      <td>Vodafone</td>\n",
       "      <td>0.516389</td>\n",
       "      <td>1</td>\n",
       "    </tr>\n",
       "    <tr>\n",
       "      <td>6</td>\n",
       "      <td>31</td>\n",
       "      <td>18/10/14 13:10</td>\n",
       "      <td>call_enc</td>\n",
       "      <td>Three</td>\n",
       "      <td>0.476111</td>\n",
       "      <td>1</td>\n",
       "    </tr>\n",
       "    <tr>\n",
       "      <td>7</td>\n",
       "      <td>809</td>\n",
       "      <td>03/03/15 14:34</td>\n",
       "      <td>call_enc</td>\n",
       "      <td>Vodafone</td>\n",
       "      <td>0.368056</td>\n",
       "      <td>1</td>\n",
       "    </tr>\n",
       "    <tr>\n",
       "      <td>8</td>\n",
       "      <td>548</td>\n",
       "      <td>08/01/15 20:31</td>\n",
       "      <td>call_enc</td>\n",
       "      <td>Three</td>\n",
       "      <td>0.346389</td>\n",
       "      <td>1</td>\n",
       "    </tr>\n",
       "    <tr>\n",
       "      <td>9</td>\n",
       "      <td>105</td>\n",
       "      <td>31/10/14 13:27</td>\n",
       "      <td>call_enc</td>\n",
       "      <td>Tesco</td>\n",
       "      <td>0.342778</td>\n",
       "      <td>1</td>\n",
       "    </tr>\n",
       "    <tr>\n",
       "      <td>10</td>\n",
       "      <td>171</td>\n",
       "      <td>07/11/14 09:33</td>\n",
       "      <td>call_enc</td>\n",
       "      <td>Vodafone</td>\n",
       "      <td>0.334722</td>\n",
       "      <td>1</td>\n",
       "    </tr>\n",
       "  </tbody>\n",
       "</table>\n",
       "</div>"
      ],
      "text/plain": [
       "    index            date     item2   network  duration  duration2\n",
       "0     816  04/03/15 12:29  call_enc  landline  2.924444          1\n",
       "1     742  17/02/15 19:09  call_enc     Three  0.646667          1\n",
       "2     252  19/11/14 18:56  call_enc     Three  0.588889          1\n",
       "3      59  23/10/14 08:34  call_enc  landline  0.538889          1\n",
       "4     648  25/01/15 16:55  call_enc     Three  0.517500          1\n",
       "5     398  17/12/14 18:08  call_enc  Vodafone  0.516389          1\n",
       "6      31  18/10/14 13:10  call_enc     Three  0.476111          1\n",
       "7     809  03/03/15 14:34  call_enc  Vodafone  0.368056          1\n",
       "8     548  08/01/15 20:31  call_enc     Three  0.346389          1\n",
       "9     105  31/10/14 13:27  call_enc     Tesco  0.342778          1\n",
       "10    171  07/11/14 09:33  call_enc  Vodafone  0.334722          1"
      ]
     },
     "execution_count": 48,
     "metadata": {},
     "output_type": "execute_result"
    }
   ],
   "source": [
    "data_pre.shape\n",
    "data_pre.head(11)"
   ]
  },
  {
   "cell_type": "markdown",
   "metadata": {
    "heading_collapsed": true
   },
   "source": [
    "## Logging chain pipes func for debuging"
   ]
  },
  {
   "cell_type": "code",
   "execution_count": 66,
   "metadata": {
    "hidden": true
   },
   "outputs": [],
   "source": [
    "import logging\n",
    "import sys\n",
    "\n",
    "logger = logging.getLogger()\n",
    "fhandler = logging.FileHandler(filename=\"mylog.log\", mode=\"a\")\n",
    "formatter = logging.Formatter(\n",
    "    \"%(asctime)s - %(name)s - %(levelname)s - %(message)s\"\n",
    ")\n",
    "fhandler.setFormatter(formatter)\n",
    "logger.addHandler(fhandler)\n",
    "logger.addHandler(logging.StreamHandler()) # Add stdout as well\n",
    "logger.setLevel(logging.DEBUG)\n",
    "\n",
    "# Using logging and the func below you can change logger level to INFO to avoid getting debug \n",
    "# information during production. Much easy than comment lines with cnap code\n",
    "def lsnap(df, fn=lambda x: x.shape, msg=None):\n",
    "    \"\"\" Custom Help function to print things in method chaining.\n",
    "        Returns back the df to further use in chaining.\n",
    "    \"\"\"\n",
    "    global logging\n",
    "    if msg:\n",
    "        print(msg)\n",
    "    logging.debug(f\"{fn(df)}\")\n",
    "    return df"
   ]
  },
  {
   "cell_type": "code",
   "execution_count": 67,
   "metadata": {
    "hidden": true
   },
   "outputs": [
    {
     "name": "stderr",
     "output_type": "stream",
     "text": [
      "   sepal length (cm)  sepal width (cm)  petal length (cm)  petal width (cm)\n",
      "0                5.1               3.5                1.4               0.2\n",
      "1                4.9               3.0                1.4               0.2\n",
      "2                4.7               3.2                1.3               0.2\n",
      "3                4.6               3.1                1.5               0.2\n",
      "4                5.0               3.6                1.4               0.2\n",
      "   sepal_length  sepal_width  petal_length  petal_width\n",
      "0           5.1          3.5           1.4          0.2\n",
      "1           4.9          3.0           1.4          0.2\n",
      "2           4.7          3.2           1.3          0.2\n",
      "3           4.6          3.1           1.5          0.2\n",
      "4           5.0          3.6           1.4          0.2\n"
     ]
    },
    {
     "name": "stdout",
     "output_type": "stream",
     "text": [
      "Before\n",
      "After\n"
     ]
    }
   ],
   "source": [
    "from sklearn.datasets import load_iris\n",
    "\n",
    "data = load_iris()\n",
    "iris = pd.DataFrame(data.data, columns=data.feature_names)\n",
    "\n",
    "\n",
    "iris_pre = \\\n",
    "(\n",
    "    iris.pipe(lsnap, lambda x: x.head(), msg=\"Before\")\n",
    "    .pipe(\n",
    "        setcols,\n",
    "        fn=lambda x: x.columns.str.lower()\n",
    "        .str.replace(r\"\\(cm\\)\", \"\")\n",
    "        .str.strip()\n",
    "        .str.replace(\" \", \"_\"),\n",
    "    )\n",
    "    .pipe(lsnap, lambda x: x.head(), msg=\"After\")\n",
    ")"
   ]
  },
  {
   "cell_type": "code",
   "execution_count": 68,
   "metadata": {
    "hidden": true
   },
   "outputs": [
    {
     "name": "stdout",
     "output_type": "stream",
     "text": [
      "2020-05-08 20:11:03,777 - root - DEBUG -    sepal length (cm)  sepal width (cm)  petal length (cm)  petal width (cm)\r\n",
      "0                5.1               3.5                1.4               0.2\r\n",
      "1                4.9               3.0                1.4               0.2\r\n",
      "2                4.7               3.2                1.3               0.2\r\n",
      "3                4.6               3.1                1.5               0.2\r\n",
      "4                5.0               3.6                1.4               0.2\r\n",
      "2020-05-08 20:11:03,777 - root - DEBUG -    sepal length (cm)  sepal width (cm)  petal length (cm)  petal width (cm)\r\n",
      "0                5.1               3.5                1.4               0.2\r\n",
      "1                4.9               3.0                1.4               0.2\r\n",
      "2                4.7               3.2                1.3               0.2\r\n",
      "3                4.6               3.1                1.5               0.2\r\n",
      "4                5.0               3.6                1.4               0.2\r\n",
      "2020-05-08 20:11:03,781 - root - DEBUG -    sepal_length  sepal_width  petal_length  petal_width\r\n",
      "0           5.1          3.5           1.4          0.2\r\n",
      "1           4.9          3.0           1.4          0.2\r\n",
      "2           4.7          3.2           1.3          0.2\r\n",
      "3           4.6          3.1           1.5          0.2\r\n",
      "4           5.0          3.6           1.4          0.2\r\n",
      "2020-05-08 20:11:03,781 - root - DEBUG -    sepal_length  sepal_width  petal_length  petal_width\r\n",
      "0           5.1          3.5           1.4          0.2\r\n",
      "1           4.9          3.0           1.4          0.2\r\n",
      "2           4.7          3.2           1.3          0.2\r\n",
      "3           4.6          3.1           1.5          0.2\r\n",
      "4           5.0          3.6           1.4          0.2\r\n"
     ]
    }
   ],
   "source": [
    "!cat mylog.log"
   ]
  },
  {
   "cell_type": "markdown",
   "metadata": {},
   "source": [
    "## ETL, Batches and APIs\n",
    "\n",
    "ref:\n",
    "* https://medium.com/bcggamma/data-science-python-best-practices-fdb16fdedf82\n",
    "* https://medium.com/bcggamma/welcome-to-the-big-leagues-b9038648054f"
   ]
  },
  {
   "cell_type": "markdown",
   "metadata": {},
   "source": [
    "### Convert you notebooks in python script \n"
   ]
  },
  {
   "cell_type": "markdown",
   "metadata": {},
   "source": [
    "\n",
    "* The model developed can be:\n",
    "    1. run as batch script \n",
    "    1. option to be imported and execute inside anoteh python script\n",
    "\n",
    "* Use docopt for build command line interfaces\n",
    "\n",
    "* It is good to have the ability to run the script with different condiguration file or parameters **WHITHOUT CHANGE CODE**. For condiguration see next sections\n",
    "\n",
    "\n",
    "Example: main.py \n",
    "\n",
    "```python\n",
    "#!/usr/bin/env python3\n",
    "\n",
    "\"\"\" Extract salient region of the image\n",
    "Usage:\n",
    "    main.py [options] <img> <out>\n",
    "\n",
    "Options:\n",
    "    --map-thr=N           Threshold value to be used in roi map. Default use otsu        [default: None]\n",
    "\n",
    "\"\"\"\n",
    "\n",
    "import os, sys\n",
    "import numpy as np\n",
    "import cv2\n",
    "\n",
    "from notebooks.utils import print_7_numbers \n",
    "\n",
    "from docopt import docopt\n",
    "import logging\n",
    "\n",
    "logging.basicConfig(level=logging.INFO)\n",
    "logger = logging.getLogger(__name__)\n",
    "\n",
    "def execute(img_path, out_path, thr=None):\n",
    "\n",
    "    logger.info(f'Reading image: {img_path}')\n",
    "      \n",
    "    pass \n",
    "\n",
    "if __name__ == '__main__':\n",
    "\n",
    "    args = docopt(__doc__, version='1.0')\n",
    "\n",
    "    img_path = args['<img>']\n",
    "    out_path = args['<out>']\n",
    "    thr = None if args['--map-thr'] == 'None' else int(args['--map-thr'])\n",
    "\n",
    "    execute(img_path, out_path, thr=thr)\n",
    "\n",
    "    logger.info(f'DONE!')\n",
    "```\n"
   ]
  },
  {
   "cell_type": "markdown",
   "metadata": {},
   "source": [
    "### Ensure portability by using environment variables\n"
   ]
  },
  {
   "cell_type": "markdown",
   "metadata": {},
   "source": [
    "* variables related to dev, staging and production enviroment shoud be enviroment variables\n",
    "\n",
    "This make easy portability and deployments\n",
    "\n",
    "* **db user and password should be enviroment variable**\n",
    "* To avoid type the paswword all the time or any env variable , put all env variables in a file \".env\" in your home folder\n",
    "\n",
    "Example: ~/.env\n",
    "\n",
    "```sh\n",
    "DB_HOST=localhost\n",
    "DB_USER=root\n",
    "DB_PASS=s1mpl3\n",
    "```"
   ]
  },
  {
   "cell_type": "markdown",
   "metadata": {},
   "source": [
    "### Configuration files \n"
   ]
  },
  {
   "cell_type": "markdown",
   "metadata": {},
   "source": [
    "Use yaml for configurations for **multi-languages projects**. Also when it is important to run the script using different configuration files  you just need to pass a new config2.yaml file as argument of the python script.\n",
    "\n",
    "This allow applications with more than one languages (voicedoubles utilizes dotnet, bash and python) utilize a single config.yaml file. \n",
    "\n",
    "**If your applications is not multi-language, write the only one config.py** Is simple and it is less files in the projects\n",
    "\n",
    "Example: config.yml\n",
    "```yaml\n",
    "base:\n",
    "  path:\n",
    "    data: \"/shared/mydata.csv\"\n",
    "    logs: \"logs\"\n",
    "    log_config: \"adv_ds_logging.yml\"\n",
    "  rf_params:\n",
    "    n_estimators: 400\n",
    "\n",
    "dev:\n",
    "  path_db: \"sqlite:////some_dir/dev.db\"\n",
    "  \n",
    "prod:\n",
    "  path_db: \"sqlite:////some_other_dir/prod.db\"\n",
    "```\n",
    "\n",
    "* box library can be an option: Allows cfg.base.path.data instead of cfg[\"base\"][\"path\"][\"data\"]\n",
    "\n",
    "\n",
    "```sh\n",
    "conda install -c conda-forge python-box\n",
    "```\n",
    "\n",
    "\n",
    "Ex: config.py that utilizes an yaml file\n",
    "```python\n",
    "\n",
    "import yaml\n",
    "from box import Box\n",
    "\n",
    "with open(\"config.yml\", \"r\") as ymlfile:\n",
    "     cfg = Box(yaml.safe_load(ymlfile))\n",
    "\n",
    "\n",
    "print(cfg.base.path.data)\n",
    "```\n",
    "\n",
    "In the python script you can do\n",
    "\n",
    "```python\n",
    "import pandas as pd\n",
    "from config import cfg\n",
    "\n",
    "df = pd.read_csv(cfg.base.path.data)\n",
    "\n",
    "```\n"
   ]
  },
  {
   "cell_type": "code",
   "execution_count": 8,
   "metadata": {},
   "outputs": [
    {
     "name": "stdout",
     "output_type": "stream",
     "text": [
      "prod path: main.csv and dev path: second.csv\n"
     ]
    }
   ],
   "source": [
    "# Example of single config.py (for only python applications)\n",
    "from box import Box\n",
    "\n",
    "CONFIG = {'prod': {'path': 'main.csv', 'usr': 'me'}, 'dev': {'path': 'second.csv', 'usr': 'you'}, 'n_est': 1}\n",
    "\n",
    "cfg = Box(CONFIG)\n",
    "\n",
    "print(f\"prod path: {cfg.prod.path} and dev path: {cfg.dev.path}\")"
   ]
  },
  {
   "cell_type": "markdown",
   "metadata": {},
   "source": [
    "## Better logging \n",
    "\n"
   ]
  },
  {
   "cell_type": "markdown",
   "metadata": {},
   "source": [
    "* use loggers for debug messages and not print statments anymore \n",
    "* use logger configuration yaml file\n",
    "* load the logger in the config.py file that reads config.yaml and reads also the log_config.yaml file \n",
    "\n",
    "```yaml\n",
    "\n",
    "version: 1\n",
    "# Set to False to get log messages from external packages you're using\n",
    "disable_existing_loggers: False\n",
    "\n",
    "# Formatters that are assigned to outputs (\"handlers\") below\n",
    "formatters:\n",
    "    simple:\n",
    "        format: \"%(asctime)s - %(name)s - %(levelname)s - %(message)s\"\n",
    "\n",
    "# Outputs, one or more of which can be assigned to loggers\n",
    "handlers:\n",
    "    console:\n",
    "        class: logging.StreamHandler\n",
    "        level: DEBUG\n",
    "        formatter: simple\n",
    "        stream: ext://sys.stdout\n",
    "\n",
    "    debug_file_handler:\n",
    "        class: logging.handlers.RotatingFileHandler\n",
    "        level: DEBUG\n",
    "        formatter: simple\n",
    "        filename: logs/debug.log\n",
    "        maxBytes: 20485760 # 20MB\n",
    "        backupCount: 10\n",
    "        encoding: utf8\n",
    "\n",
    "    info_file_handler:\n",
    "        # THIS MIGH DO ROTATION FILENAME FOR ME. FEATURE I WAS LOOKING FOR\n",
    "        class: logging.handlers.RotatingFileHandler \n",
    "        level: INFO\n",
    "        formatter: simple\n",
    "        filename: logs/info.log\n",
    "        maxBytes: 10485760 # 10MB\n",
    "        backupCount: 10\n",
    "        encoding: utf8\n",
    "\n",
    "# How is each logger handled? In particular, set external packages you're\n",
    "# using which spam the DEBUG, to log INFO and above (below, this is done \n",
    "# for the urllib3 and s3transfer loggers)\n",
    "\n",
    "## NOT SURE IF I UNDERSTADOO THIS NEED DOUBLE CHECK\n",
    "loggers:\n",
    "  urllib3:\n",
    "    level: INFO\n",
    "    handlers: [info_file_handler]\n",
    "\n",
    "  s3transfer:\n",
    "    level: INFO\n",
    "    handlers: [info_file_handler]\n",
    "    \n",
    "# The root logger\n",
    "root:\n",
    "  level: DEBUG\n",
    "  handlers: [console, debug_file_handler, info_file_handler]\n",
    "\n",
    "```\n",
    "\n",
    "config.py \n",
    "\n",
    "```python\n",
    "import os\n",
    "import logging.config\n",
    "\n",
    "import yaml\n",
    "from box import Box\n",
    "\n",
    "with open(\"config.yml\", \"r\") as ymlfile:\n",
    "     cfg = Box(yaml.safe_load(ymlfile))\n",
    "\n",
    "# setting logger\n",
    "os.makedirs(cfg.path.logs, exist_ok=True)\n",
    "\n",
    "if os.path.exists(cfg.path.log_config):\n",
    "    with open(cfg.path.log_config, \"r\") as ymlfile:\n",
    "        log_config = yaml.safe_load(ymlfile)\n",
    "\n",
    "    # Set up the logger configuration\n",
    "    logging.config.dictConfig(log_config)\n",
    "else:\n",
    "    raise FileNotFoundError(f\"Log yaml configuration file not found in {cfg.path.log_config}\")\n",
    "\n",
    "```\n",
    "\n",
    "\n"
   ]
  },
  {
   "cell_type": "code",
   "execution_count": null,
   "metadata": {},
   "outputs": [],
   "source": []
  }
 ],
 "metadata": {
  "kernelspec": {
   "display_name": "Python 3",
   "language": "python",
   "name": "python3"
  },
  "language_info": {
   "codemirror_mode": {
    "name": "ipython",
    "version": 3
   },
   "file_extension": ".py",
   "mimetype": "text/x-python",
   "name": "python",
   "nbconvert_exporter": "python",
   "pygments_lexer": "ipython3",
   "version": "3.7.7"
  }
 },
 "nbformat": 4,
 "nbformat_minor": 2
}
